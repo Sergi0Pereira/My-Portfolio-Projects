{
 "cells": [
  {
   "cell_type": "markdown",
   "metadata": {
    "application/vnd.databricks.v1+cell": {
     "cellMetadata": {
      "byteLimit": 2048000,
      "rowLimit": 10000
     },
     "inputWidgets": {},
     "nuid": "206e21a3-e4a3-4dd6-9c70-b047ec2209f8",
     "showTitle": false,
     "title": ""
    }
   },
   "source": [
    "# Football Data Analysis Project\n",
    "\n",
    "This project involves analyzing football data to gain insights into team performance and scoring patterns. The data includes information about matches, teams, goals, and season details.\n",
    "\n",
    "## Data Description\n",
    "\n",
    "The dataset consists of the following columns:\n",
    "\n",
    "- **Match_ID**: Unique identifier of the match.\n",
    "- **Div**: Division of the league in which the match took place.\n",
    "- **Season**: Season in which the match was played.\n",
    "- **Date**: Date of the match.\n",
    "- **HomeTeam**: Home team.\n",
    "- **AwayTeam**: Away team.\n",
    "- **FTHG**: Number of goals scored by the home team at the end of the match.\n",
    "- **FTAG**: Number of goals scored by the away team at the end of the match.\n",
    "- **FTR**: Final result of the match: 'H' (home team victory), 'A' (away team victory), or 'D' (draw).\n",
    "\n",
    "## Data Analysis Steps\n",
    "\n",
    "The analysis is performed using PySpark, a powerful data processing framework. Here are the key steps involved in the analysis:\n",
    "\n",
    "1. **Calculating Home Team Points**: \n",
    "   - Filter the matches to select those from Division \"D1\" and seasons between 2007 and 2016.\n",
    "   - Group the matches by HomeTeam and Season.\n",
    "   - Calculate the sum of points based on the match result (H, D, or A).\n",
    "   - Order the results by Season and points.\n",
    "\n",
    "2. **Calculating Away Team Points**: \n",
    "   - Filter the matches to select those from Division \"D1\" and seasons between 2007 and 2016.\n",
    "   - Group the matches by AwayTeam and Season.\n",
    "   - Calculate the sum of points based on the match result (H, D, or A).\n",
    "   - Order the results by Season and points.\n",
    "\n",
    "3. **Total Points Calculation**: \n",
    "   - Combine the home team points and away team points using the union operation to create a unified points table.\n",
    "\n",
    "4. **Classification of Teams**: \n",
    "   - Group the total points table by HomeTeam and Season.\n",
    "   - Calculate the sum of points for each team in each season.\n",
    "   - Order the results by Season and total points.\n",
    "\n",
    "5. **Adding Position Column**: \n",
    "   - Define a window partitioned by Season and ordered by total points.\n",
    "   - Add the \"Position\" column to the classification table using the row_number function over the window.\n",
    "   - Display the classification table, showing the team, season, total points, and position.\n",
    "\n",
    "6. **Selecting Winner Teams**: \n",
    "   - Add the \"row_number\" column to the classification table using the row_number function over the window.\n",
    "   - Filter the classification table to select the teams with the highest total points in each season (where row_number is equal to 1).\n",
    "   - Select the team, season, and total points columns.\n",
    "   - Drop the \"row_number\" column.\n",
    "   - Display the winners' table, showing the team, season, and total points.\n",
    "\n",
    "7. **Scoring Goals Analysis**:\n",
    "   - Calculate the home goals scored by each team in each season.\n",
    "   - Group the matches by HomeTeam and Season.\n",
    "   - Calculate the sum of FTHG (home goals).\n",
    "   - Order the results by home goals in descending order.\n",
    "   - Calculate the away goals scored by each team in each season.\n",
    "   - Group the matches by AwayTeam and Season.\n",
    "   - Calculate the sum of FTAG (away goals).\n",
    "   - Order the results by away goals in descending order.\n",
    "\n",
    "8. **Total Goals Calculation**:\n",
    "   - Join the home goals and away goals tables on the team and season columns using an inner join.\n",
    "   - Add the \"Total Goals\" column by summing the home goals and away goals.\n",
    "   - Display the\n",
    "\n",
    " results, showing the team, home goals, away goals, season, and total goals."
   ]
  },
  {
   "cell_type": "code",
   "execution_count": 0,
   "metadata": {
    "application/vnd.databricks.v1+cell": {
     "cellMetadata": {
      "byteLimit": 2048000,
      "rowLimit": 10000
     },
     "inputWidgets": {},
     "nuid": "efe6ad34-0f5e-4ede-bc29-27ede74f3636",
     "showTitle": false,
     "title": ""
    }
   },
   "outputs": [],
   "source": [
    "from pyspark.sql.functions import *\n",
    "from pyspark.sql import Window"
   ]
  },
  {
   "cell_type": "code",
   "execution_count": 0,
   "metadata": {
    "application/vnd.databricks.v1+cell": {
     "cellMetadata": {
      "byteLimit": 2048000,
      "rowLimit": 10000
     },
     "inputWidgets": {},
     "nuid": "76aa2293-6d98-429c-b2ab-ace2c8dff5a0",
     "showTitle": false,
     "title": ""
    }
   },
   "outputs": [],
   "source": [
    "# Load Data Function\n",
    "def loadDf(fileName):\n",
    "    dt = spark.read.format('delta').options(header='true').load(fileName)\n",
    "    return dt\n"
   ]
  },
  {
   "cell_type": "code",
   "execution_count": 0,
   "metadata": {
    "application/vnd.databricks.v1+cell": {
     "cellMetadata": {
      "byteLimit": 2048000,
      "rowLimit": 10000
     },
     "inputWidgets": {},
     "nuid": "9e6e2437-66b4-43bf-94ca-88390b4eabd3",
     "showTitle": false,
     "title": ""
    }
   },
   "outputs": [],
   "source": [
    "# Matches\n",
    "\n",
    "dtMatches = loadDf(\"dbfs:/user/hive/warehouse/matches\")\n",
    "\n",
    "# dtMatches.display()\n",
    "\n",
    "# Match_ID: Unique identifier of the match.\n",
    "# Div: Division of the league in which the game took place.\n",
    "# Season: Season in which the game was held.\n",
    "# Date: Date of the game.\n",
    "# HomeTeam: Home team.\n",
    "# AwayTeam: Away team.\n",
    "# FTHG: Number of goals scored by the home team (HomeTeam) at the end of the match.\n",
    "# FTAG: Number of goals scored by the away team (AwayTeam) at the end of the match.\n",
    "# FTR: Final result of the match. It can be 'H' (home team victory), 'A' (away team victory), or 'D' (draw).\n",
    "\n"
   ]
  },
  {
   "cell_type": "code",
   "execution_count": 0,
   "metadata": {
    "application/vnd.databricks.v1+cell": {
     "cellMetadata": {
      "byteLimit": 2048000,
      "implicitDf": true,
      "rowLimit": 10000
     },
     "inputWidgets": {},
     "nuid": "9ed4778c-bcdd-401c-a0af-db57101374aa",
     "showTitle": false,
     "title": ""
    }
   },
   "outputs": [],
   "source": [
    "# Filter matches where \"Div\" is \"D1\" and \"Season\" is between 2007 and 2016\n",
    "dtHomePoints = (\n",
    "    dtMatches\n",
    "    .filter((col(\"Div\") == \"D1\") & col(\"Season\").between(2007, 2016))\n",
    "    .groupBy(\"HomeTeam\", \"Season\")\n",
    "    .agg(\n",
    "        sum(when(col(\"FTR\") == \"H\", 3).when(col(\"FTR\") == \"D\", 1).otherwise(0)).alias(\"Points\")\n",
    "    )\n",
    "    .orderBy(\"Season\", desc(\"Points\"))\n",
    "    .select(\"HomeTeam\", \"Season\", \"Points\")\n",
    ")\n",
    "\n",
    "# Display dtHomePoints table\n",
    "display(dtHomePoints)\n",
    "\n"
   ]
  },
  {
   "cell_type": "code",
   "execution_count": 0,
   "metadata": {
    "application/vnd.databricks.v1+cell": {
     "cellMetadata": {
      "byteLimit": 2048000,
      "implicitDf": true,
      "rowLimit": 10000
     },
     "inputWidgets": {},
     "nuid": "57c8aba8-39c8-49c7-874a-a00367eff21f",
     "showTitle": false,
     "title": ""
    }
   },
   "outputs": [],
   "source": [
    "# Filter matches where \"Div\" is \"D1\" and \"Season\" is between 2007 and 2016\n",
    "dtAwayPoints = (\n",
    "    dtMatches\n",
    "    .filter((col(\"Div\") == \"D1\") & col(\"Season\").between(2007, 2016))\n",
    "    .groupBy(\"AwayTeam\", \"Season\")\n",
    "    .agg(\n",
    "        sum(when(col(\"FTR\") == \"A\", 3).when(col(\"FTR\") == \"D\", 1).otherwise(0)).alias(\"Points\")\n",
    "    )\n",
    "    .orderBy(\"Season\", desc(\"Points\"))\n",
    "    .select(\"AwayTeam\", \"Season\", \"Points\")\n",
    ")\n",
    "\n",
    "# Display dtAwayPoints table\n",
    "display(dtAwayPoints)\n",
    "\n"
   ]
  },
  {
   "cell_type": "code",
   "execution_count": 0,
   "metadata": {
    "application/vnd.databricks.v1+cell": {
     "cellMetadata": {
      "byteLimit": 2048000,
      "rowLimit": 10000
     },
     "inputWidgets": {},
     "nuid": "475e967c-c148-477a-bfdb-a9ae397809b5",
     "showTitle": false,
     "title": ""
    }
   },
   "outputs": [],
   "source": [
    "# Union of the all points made by HomeTeam and AwayTeam\n",
    "dtTotalPoints = dtHomePoints.unionAll(dtAwayPoints)\n",
    "\n",
    "# Group by \"HomeTeam\" and \"Season\", aggregate sum of \"Points\" as \"Total Points\"\n",
    "# Order by \"Season\" and \"Total Points\" in descending order\n",
    "# Select columns \"HomeTeam\" as \"Team\", \"Season\", and \"Total Points\"\n",
    "\n",
    "dtClassification = (\n",
    "    dtTotalPoints\n",
    "    .groupBy(\"HomeTeam\", \"Season\")\n",
    "    .agg(sum(\"Points\").alias(\"Total Points\"))\n",
    "    .orderBy(\"Season\", desc(\"Total Points\"))\n",
    "    .select(col(\"HomeTeam\").alias(\"Team\"), \"Season\", \"Total Points\")\n",
    ")\n",
    "\n",
    "# Display dtClassification table\n",
    "dtClassification.display()\n",
    "\n",
    "# Defines and order the partition window by \"Total Points\" and \"Season\"\n",
    "window = Window.partitionBy(\"Season\").orderBy(col(\"Total Points\").desc())\n",
    "\n",
    "# Adds the column \"row_number\" to dtClassification\n",
    "winnerDt = dtClassification.withColumn(\"row_number\", row_number().over(window))\n",
    "\n",
    "# Filters the Winners (where the registry of the line is equal to one)\n",
    "# Selects columns \"Team\", \"Season\", and \"Total Points\"\n",
    "# Drops the column \"row_number\"\n",
    "\n",
    "winnerDt = (\n",
    "    dtClassification\n",
    "    .withColumn(\"row_number\", row_number().over(window))\n",
    "    .filter(col(\"row_number\") == 1)\n",
    "    .select(\"Team\", \"Season\", \"Total Points\")\n",
    "    .drop(\"row_number\")\n",
    ")\n",
    "\n",
    "# Display winnerDt table without truncating column values\n",
    "winnerDt.display(truncate=False)\n"
   ]
  },
  {
   "cell_type": "code",
   "execution_count": 0,
   "metadata": {
    "application/vnd.databricks.v1+cell": {
     "cellMetadata": {
      "byteLimit": 2048000,
      "rowLimit": 10000
     },
     "inputWidgets": {},
     "nuid": "abdbfcef-8237-4727-a3ec-e8a8d7a3b322",
     "showTitle": false,
     "title": ""
    }
   },
   "outputs": [],
   "source": [
    "# Filter dtMatches for Div \"D1\", group by HomeTeam and Season, and calculate the sum of FTHG as \"Home Goals\"\n",
    "\n",
    "dtScoredGoalsHome = (\n",
    "    dtMatches\n",
    "    .filter(col(\"Div\") == \"D1\")\n",
    "    .groupBy(\"HomeTeam\", \"Season\")\n",
    "    .agg(\n",
    "        sum(col(\"FTHG\")).alias(\"Home Goals\"),\n",
    "    )\n",
    "    .select(\n",
    "        col(\"HomeTeam\").alias(\"Team\"),  # Rename HomeTeam column to Team\n",
    "        col(\"Home Goals\"),\n",
    "        col(\"Season\")\n",
    "    )\n",
    "    .orderBy(desc(\"Home Goals\"))  # Order by Home Goals in descending order\n",
    ")\n",
    "\n",
    "# Display dtScoredGoalsHome table\n",
    "dtScoredGoalsHome.display()\n"
   ]
  },
  {
   "cell_type": "code",
   "execution_count": 0,
   "metadata": {
    "application/vnd.databricks.v1+cell": {
     "cellMetadata": {
      "byteLimit": 2048000,
      "rowLimit": 10000
     },
     "inputWidgets": {},
     "nuid": "994d15ce-e960-451c-acc3-52969900fc02",
     "showTitle": false,
     "title": ""
    }
   },
   "outputs": [],
   "source": [
    "# Filter dtMatches for Div equal to \"D1\", group by \"AwayTeam\" and \"Season\", aggregate sum of \"FTAG\" as \"Away Goals\"\n",
    "# Select columns \"AwayTeam\" as \"Team\", \"Away Goals\", and alias \"Season\" as \"Season\"\n",
    "# Order by \"Away Goals\" in descending order\n",
    "\n",
    "dtScoredGoalsAway = (\n",
    "    dtMatches\n",
    "    .filter(col(\"Div\") == \"D1\")\n",
    "    .groupBy(\"AwayTeam\", \"Season\")\n",
    "    .agg(\n",
    "        sum(col(\"FTAG\")).alias(\"Away Goals\"),\n",
    "    )\n",
    "    .select(\n",
    "        col(\"AwayTeam\").alias(\"Team\"),\n",
    "        col(\"Away Goals\"),\n",
    "        col(\"Season\").alias(\"Season\")\n",
    "    )\n",
    "    .orderBy(desc(\"Away Goals\"))\n",
    ")\n",
    "\n",
    "# Display dtScoredGoalsAway table\n",
    "dtScoredGoalsAway.display()\n"
   ]
  },
  {
   "cell_type": "code",
   "execution_count": 0,
   "metadata": {
    "application/vnd.databricks.v1+cell": {
     "cellMetadata": {
      "byteLimit": 2048000,
      "rowLimit": 10000
     },
     "inputWidgets": {},
     "nuid": "09d8d651-4d88-445c-a8d7-382a5aede1eb",
     "showTitle": false,
     "title": ""
    }
   },
   "outputs": [],
   "source": [
    "# Filter dtScoredGoalsHome for Season not equal to 2017, select columns \"Team\", \"Home Goals\", \"Season\"\n",
    "# Join with dtScoredGoalsAway on columns \"Team\" and \"Season\" using inner join\n",
    "# Add a new column \"Total Goals\" by summing \"Home Goals\" and \"Away Goals\"\n",
    "\n",
    "dtScoredGoals = (\n",
    "    dtScoredGoalsHome\n",
    "    .filter(col(\"Season\") != 2017)\n",
    "    .select(\"Team\", \"Home Goals\", \"Season\")\n",
    "    .join(dtScoredGoalsAway, [\"Team\", \"Season\"], \"inner\")\n",
    "    .withColumn(\"Total Goals\", col(\"Home Goals\") + col(\"Away Goals\"))\n",
    ")\n",
    "\n",
    "# Display dtScoredGoals table\n",
    "dtScoredGoals.display()\n"
   ]
  },
  {
   "cell_type": "code",
   "execution_count": 0,
   "metadata": {
    "application/vnd.databricks.v1+cell": {
     "cellMetadata": {
      "byteLimit": 2048000,
      "rowLimit": 10000
     },
     "inputWidgets": {},
     "nuid": "f18a4810-bcd7-431c-8d52-761533d9d638",
     "showTitle": false,
     "title": ""
    }
   },
   "outputs": [],
   "source": [
    "# Defines and orders the partition window by the Total Points and Season\n",
    "window = Window.partitionBy(\"Season\").orderBy(col(\"Total Points\").desc())\n",
    "\n",
    "# Adds the Column \"Position\" to dtClassification\n",
    "dtClassification = dtClassification.withColumn(\"Position\", row_number().over(window))\n",
    "\n",
    "# Show the Position column\n",
    "dtClassification.display(truncate=True)\n",
    "\n",
    "# Joins dtScoredGoals with dtClassification and orders by Season and Total Points in descending order\n",
    "dtFinalTable = dtScoredGoals.join(dtClassification, [\"Team\", \"Season\"]).orderBy(\"Season\", desc(\"Total Points\"))\n",
    "\n",
    "# Selects all columns from dtFinalTable except 'Position'\n",
    "columns = [c for c in dtFinalTable.columns if c != 'Position']\n",
    "\n",
    "# Reorders the columns with 'Position' as the first column\n",
    "dtFinalTable = dtFinalTable.select(col('Position'), *columns)\n",
    "\n",
    "# Displays the final table\n",
    "dtFinalTable.display()\n"
   ]
  }
 ],
 "metadata": {
  "application/vnd.databricks.v1+notebook": {
   "dashboards": [],
   "language": "python",
   "notebookMetadata": {
    "mostRecentlyExecutedCommandWithImplicitDF": {
     "commandId": 1611676617070739,
     "dataframes": [
      "_sqldf"
     ]
    },
    "pythonIndentUnit": 4
   },
   "notebookName": "Germany Football",
   "widgets": {}
  }
 },
 "nbformat": 4,
 "nbformat_minor": 0
}

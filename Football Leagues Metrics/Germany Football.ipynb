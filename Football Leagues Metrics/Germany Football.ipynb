{
 "cells": [
  {
   "cell_type": "markdown",
   "metadata": {
    "application/vnd.databricks.v1+cell": {
     "cellMetadata": {
      "byteLimit": 2048000,
      "rowLimit": 10000
     },
     "inputWidgets": {},
     "nuid": "206e21a3-e4a3-4dd6-9c70-b047ec2209f8",
     "showTitle": false,
     "title": ""
    }
   },
   "source": [
    "# Football Data Analysis Project\n",
    "\n",
    "This project involves analyzing football data to gain insights into team performance and scoring patterns. The data includes information about matches, teams, goals, and season details.\n",
    "\n",
    "## Data Description\n",
    "\n",
    "The dataset consists of the following columns:\n",
    "\n",
    "- **Match_ID**: Unique identifier of the match.\n",
    "- **Div**: Division of the league in which the match took place.\n",
    "- **Season**: Season in which the match was played.\n",
    "- **Date**: Date of the match.\n",
    "- **HomeTeam**: Home team.\n",
    "- **AwayTeam**: Away team.\n",
    "- **FTHG**: Number of goals scored by the home team at the end of the match.\n",
    "- **FTAG**: Number of goals scored by the away team at the end of the match.\n",
    "- **FTR**: Final result of the match: 'H' (home team victory), 'A' (away team victory), or 'D' (draw).\n",
    "\n",
    "## Data Analysis Steps\n",
    "\n",
    "The analysis is performed using PySpark, a powerful data processing framework. Here are the key steps involved in the analysis:\n",
    "\n",
    "1. **Calculating Home Team Points**: \n",
    "   - Filter the matches to select those from Division \"D1\" and seasons between 2007 and 2016.\n",
    "   - Group the matches by HomeTeam and Season.\n",
    "   - Calculate the sum of points based on the match result (H, D, or A).\n",
    "   - Order the results by Season and points.\n",
    "\n",
    "2. **Calculating Away Team Points**: \n",
    "   - Filter the matches to select those from Division \"D1\" and seasons between 2007 and 2016.\n",
    "   - Group the matches by AwayTeam and Season.\n",
    "   - Calculate the sum of points based on the match result (H, D, or A).\n",
    "   - Order the results by Season and points.\n",
    "\n",
    "3. **Total Points Calculation**: \n",
    "   - Combine the home team points and away team points using the union operation to create a unified points table.\n",
    "\n",
    "4. **Classification of Teams**: \n",
    "   - Group the total points table by HomeTeam and Season.\n",
    "   - Calculate the sum of points for each team in each season.\n",
    "   - Order the results by Season and total points.\n",
    "\n",
    "5. **Adding Position Column**: \n",
    "   - Define a window partitioned by Season and ordered by total points.\n",
    "   - Add the \"Position\" column to the classification table using the row_number function over the window.\n",
    "   - Display the classification table, showing the team, season, total points, and position.\n",
    "\n",
    "6. **Selecting Winner Teams**: \n",
    "   - Add the \"row_number\" column to the classification table using the row_number function over the window.\n",
    "   - Filter the classification table to select the teams with the highest total points in each season (where row_number is equal to 1).\n",
    "   - Select the team, season, and total points columns.\n",
    "   - Drop the \"row_number\" column.\n",
    "   - Display the winners' table, showing the team, season, and total points.\n",
    "\n",
    "7. **Scoring Goals Analysis**:\n",
    "   - Calculate the home goals scored by each team in each season.\n",
    "   - Group the matches by HomeTeam and Season.\n",
    "   - Calculate the sum of FTHG (home goals).\n",
    "   - Order the results by home goals in descending order.\n",
    "   - Calculate the away goals scored by each team in each season.\n",
    "   - Group the matches by AwayTeam and Season.\n",
    "   - Calculate the sum of FTAG (away goals).\n",
    "   - Order the results by away goals in descending order.\n",
    "\n",
    "8. **Total Goals Calculation**:\n",
    "   - Join the home goals and away goals tables on the team and season columns using an inner join.\n",
    "   - Add the \"Total Goals\" column by summing the home goals and away goals.\n",
    "   - Display the\n",
    "\n",
    " results, showing the team, home goals, away goals, season, and total goals."
   ]
  },
  {
   "cell_type": "code",
   "execution_count": 0,
   "metadata": {
    "application/vnd.databricks.v1+cell": {
     "cellMetadata": {
      "byteLimit": 2048000,
      "rowLimit": 10000
     },
     "inputWidgets": {},
     "nuid": "efe6ad34-0f5e-4ede-bc29-27ede74f3636",
     "showTitle": false,
     "title": ""
    }
   },
   "outputs": [],
   "source": [
    "from pyspark.sql.functions import *\n",
    "from pyspark.sql import Window"
   ]
  },
  {
   "cell_type": "code",
   "execution_count": 0,
   "metadata": {
    "application/vnd.databricks.v1+cell": {
     "cellMetadata": {
      "byteLimit": 2048000,
      "rowLimit": 10000
     },
     "inputWidgets": {},
     "nuid": "76aa2293-6d98-429c-b2ab-ace2c8dff5a0",
     "showTitle": false,
     "title": ""
    }
   },
   "outputs": [],
   "source": [
    "# Load Data Function\n",
    "def loadDf(fileName):\n",
    "    dt = spark.read.format('delta').options(header='true').load(fileName)\n",
    "    return dt\n"
   ]
  },
  {
   "cell_type": "code",
   "execution_count": 0,
   "metadata": {
    "application/vnd.databricks.v1+cell": {
     "cellMetadata": {
      "byteLimit": 2048000,
      "rowLimit": 10000
     },
     "inputWidgets": {},
     "nuid": "9e6e2437-66b4-43bf-94ca-88390b4eabd3",
     "showTitle": false,
     "title": ""
    }
   },
   "outputs": [],
   "source": [
    "# Matches\n",
    "\n",
    "dtMatches = loadDf(\"dbfs:/user/hive/warehouse/matches\")\n",
    "\n",
    "# dtMatches.display()\n",
    "\n",
    "# Match_ID: Unique identifier of the match.\n",
    "# Div: Division of the league in which the game took place.\n",
    "# Season: Season in which the game was held.\n",
    "# Date: Date of the game.\n",
    "# HomeTeam: Home team.\n",
    "# AwayTeam: Away team.\n",
    "# FTHG: Number of goals scored by the home team (HomeTeam) at the end of the match.\n",
    "# FTAG: Number of goals scored by the away team (AwayTeam) at the end of the match.\n",
    "# FTR: Final result of the match. It can be 'H' (home team victory), 'A' (away team victory), or 'D' (draw).\n",
    "\n"
   ]
  },
  {
   "cell_type": "code",
   "execution_count": 0,
   "metadata": {
    "application/vnd.databricks.v1+cell": {
     "cellMetadata": {
      "byteLimit": 2048000,
      "implicitDf": true,
      "rowLimit": 10000
     },
     "inputWidgets": {},
     "nuid": "9ed4778c-bcdd-401c-a0af-db57101374aa",
     "showTitle": false,
     "title": ""
    }
   },
   "outputs": [
    {
     "output_type": "display_data",
     "data": {
      "text/html": [
       "<style scoped>\n",
       "  .table-result-container {\n",
       "    max-height: 300px;\n",
       "    overflow: auto;\n",
       "  }\n",
       "  table, th, td {\n",
       "    border: 1px solid black;\n",
       "    border-collapse: collapse;\n",
       "  }\n",
       "  th, td {\n",
       "    padding: 5px;\n",
       "  }\n",
       "  th {\n",
       "    text-align: left;\n",
       "  }\n",
       "</style><div class='table-result-container'><table class='table-result'><thead style='background-color: white'><tr><th>HomeTeam</th><th>Season</th><th>Points</th></tr></thead><tbody><tr><td>Bayern Munich</td><td>2007</td><td>41</td></tr><tr><td>Werder Bremen</td><td>2007</td><td>39</td></tr><tr><td>Stuttgart</td><td>2007</td><td>38</td></tr><tr><td>Schalke 04</td><td>2007</td><td>34</td></tr><tr><td>Hamburg</td><td>2007</td><td>32</td></tr><tr><td>Leverkusen</td><td>2007</td><td>31</td></tr><tr><td>Hertha</td><td>2007</td><td>30</td></tr><tr><td>Hannover</td><td>2007</td><td>29</td></tr><tr><td>Ein Frankfurt</td><td>2007</td><td>28</td></tr><tr><td>Wolfsburg</td><td>2007</td><td>27</td></tr><tr><td>Cottbus</td><td>2007</td><td>26</td></tr><tr><td>Dortmund</td><td>2007</td><td>26</td></tr><tr><td>Bielefeld</td><td>2007</td><td>25</td></tr><tr><td>Bochum</td><td>2007</td><td>24</td></tr><tr><td>Karlsruhe</td><td>2007</td><td>24</td></tr><tr><td>Nurnberg</td><td>2007</td><td>22</td></tr><tr><td>Hansa Rostock</td><td>2007</td><td>19</td></tr><tr><td>Duisburg</td><td>2007</td><td>12</td></tr><tr><td>Wolfsburg</td><td>2008</td><td>49</td></tr><tr><td>Hamburg</td><td>2008</td><td>41</td></tr><tr><td>Stuttgart</td><td>2008</td><td>39</td></tr><tr><td>Hertha</td><td>2008</td><td>39</td></tr><tr><td>Bayern Munich</td><td>2008</td><td>38</td></tr><tr><td>Werder Bremen</td><td>2008</td><td>34</td></tr><tr><td>Dortmund</td><td>2008</td><td>33</td></tr><tr><td>Hoffenheim</td><td>2008</td><td>32</td></tr><tr><td>Hannover</td><td>2008</td><td>31</td></tr><tr><td>Schalke 04</td><td>2008</td><td>30</td></tr><tr><td>Leverkusen</td><td>2008</td><td>23</td></tr><tr><td>Karlsruhe</td><td>2008</td><td>19</td></tr><tr><td>M'gladbach</td><td>2008</td><td>19</td></tr><tr><td>Bochum</td><td>2008</td><td>19</td></tr><tr><td>Cottbus</td><td>2008</td><td>19</td></tr><tr><td>Ein Frankfurt</td><td>2008</td><td>19</td></tr><tr><td>FC Koln</td><td>2008</td><td>17</td></tr><tr><td>Bielefeld</td><td>2008</td><td>14</td></tr><tr><td>Bayern Munich</td><td>2009</td><td>40</td></tr><tr><td>Leverkusen</td><td>2009</td><td>38</td></tr><tr><td>Schalke 04</td><td>2009</td><td>35</td></tr><tr><td>Dortmund</td><td>2009</td><td>34</td></tr><tr><td>Mainz</td><td>2009</td><td>33</td></tr><tr><td>Hamburg</td><td>2009</td><td>30</td></tr><tr><td>Werder Bremen</td><td>2009</td><td>30</td></tr><tr><td>Stuttgart</td><td>2009</td><td>29</td></tr><tr><td>M'gladbach</td><td>2009</td><td>29</td></tr><tr><td>Ein Frankfurt</td><td>2009</td><td>26</td></tr><tr><td>Wolfsburg</td><td>2009</td><td>23</td></tr><tr><td>Hoffenheim</td><td>2009</td><td>21</td></tr><tr><td>Nurnberg</td><td>2009</td><td>19</td></tr><tr><td>Hannover</td><td>2009</td><td>19</td></tr><tr><td>Freiburg</td><td>2009</td><td>19</td></tr><tr><td>FC Koln</td><td>2009</td><td>15</td></tr><tr><td>Bochum</td><td>2009</td><td>12</td></tr><tr><td>Hertha</td><td>2009</td><td>9</td></tr><tr><td>Bayern Munich</td><td>2010</td><td>41</td></tr><tr><td>Dortmund</td><td>2010</td><td>40</td></tr><tr><td>Hannover</td><td>2010</td><td>37</td></tr><tr><td>FC Koln</td><td>2010</td><td>35</td></tr><tr><td>Leverkusen</td><td>2010</td><td>32</td></tr><tr><td>Nurnberg</td><td>2010</td><td>29</td></tr><tr><td>Hoffenheim</td><td>2010</td><td>26</td></tr><tr><td>Freiburg</td><td>2010</td><td>26</td></tr><tr><td>Mainz</td><td>2010</td><td>26</td></tr><tr><td>Hamburg</td><td>2010</td><td>26</td></tr><tr><td>Kaiserslautern</td><td>2010</td><td>24</td></tr><tr><td>Schalke 04</td><td>2010</td><td>24</td></tr><tr><td>Werder Bremen</td><td>2010</td><td>24</td></tr><tr><td>Stuttgart</td><td>2010</td><td>23</td></tr><tr><td>Wolfsburg</td><td>2010</td><td>21</td></tr><tr><td>Ein Frankfurt</td><td>2010</td><td>19</td></tr><tr><td>M'gladbach</td><td>2010</td><td>18</td></tr><tr><td>St Pauli</td><td>2010</td><td>15</td></tr><tr><td>Dortmund</td><td>2011</td><td>44</td></tr><tr><td>Bayern Munich</td><td>2011</td><td>43</td></tr><tr><td>Schalke 04</td><td>2011</td><td>40</td></tr><tr><td>Hannover</td><td>2011</td><td>37</td></tr><tr><td>M'gladbach</td><td>2011</td><td>34</td></tr><tr><td>Stuttgart</td><td>2011</td><td>33</td></tr><tr><td>Wolfsburg</td><td>2011</td><td>32</td></tr><tr><td>Werder Bremen</td><td>2011</td><td>28</td></tr><tr><td>Leverkusen</td><td>2011</td><td>28</td></tr><tr><td>Augsburg</td><td>2011</td><td>25</td></tr><tr><td>Freiburg</td><td>2011</td><td>24</td></tr><tr><td>Mainz</td><td>2011</td><td>24</td></tr><tr><td>Nurnberg</td><td>2011</td><td>22</td></tr><tr><td>Hoffenheim</td><td>2011</td><td>21</td></tr><tr><td>FC Koln</td><td>2011</td><td>19</td></tr><tr><td>Hamburg</td><td>2011</td><td>16</td></tr><tr><td>Hertha</td><td>2011</td><td>15</td></tr><tr><td>Kaiserslautern</td><td>2011</td><td>11</td></tr><tr><td>Bayern Munich</td><td>2012</td><td>44</td></tr><tr><td>Leverkusen</td><td>2012</td><td>39</td></tr><tr><td>Schalke 04</td><td>2012</td><td>33</td></tr><tr><td>Dortmund</td><td>2012</td><td>33</td></tr><tr><td>Hannover</td><td>2012</td><td>32</td></tr><tr><td>Ein Frankfurt</td><td>2012</td><td>31</td></tr><tr><td>M'gladbach</td><td>2012</td><td>29</td></tr><tr><td>Freiburg</td><td>2012</td><td>28</td></tr><tr><td>Nurnberg</td><td>2012</td><td>27</td></tr><tr><td>Hamburg</td><td>2012</td><td>26</td></tr><tr><td>Mainz</td><td>2012</td><td>26</td></tr><tr><td>Fortuna Dusseldorf</td><td>2012</td><td>21</td></tr><tr><td>Werder Bremen</td><td>2012</td><td>20</td></tr><tr><td>Augsburg</td><td>2012</td><td>20</td></tr><tr><td>Hoffenheim</td><td>2012</td><td>19</td></tr><tr><td>Stuttgart</td><td>2012</td><td>19</td></tr><tr><td>Wolfsburg</td><td>2012</td><td>17</td></tr><tr><td>Greuther Furth</td><td>2012</td><td>4</td></tr><tr><td>Bayern Munich</td><td>2013</td><td>46</td></tr><tr><td>Schalke 04</td><td>2013</td><td>38</td></tr><tr><td>M'gladbach</td><td>2013</td><td>36</td></tr><tr><td>Wolfsburg</td><td>2013</td><td>36</td></tr><tr><td>Dortmund</td><td>2013</td><td>35</td></tr><tr><td>Leverkusen</td><td>2013</td><td>33</td></tr><tr><td>Mainz</td><td>2013</td><td>33</td></tr><tr><td>Augsburg</td><td>2013</td><td>30</td></tr><tr><td>Hannover</td><td>2013</td><td>29</td></tr><tr><td>Hoffenheim</td><td>2013</td><td>27</td></tr><tr><td>Werder Bremen</td><td>2013</td><td>24</td></tr><tr><td>Freiburg</td><td>2013</td><td>22</td></tr><tr><td>Hertha</td><td>2013</td><td>21</td></tr><tr><td>Ein Frankfurt</td><td>2013</td><td>20</td></tr><tr><td>Stuttgart</td><td>2013</td><td>19</td></tr><tr><td>Hamburg</td><td>2013</td><td>18</td></tr><tr><td>Braunschweig</td><td>2013</td><td>18</td></tr><tr><td>Nurnberg</td><td>2013</td><td>14</td></tr><tr><td>Bayern Munich</td><td>2014</td><td>43</td></tr><tr><td>Wolfsburg</td><td>2014</td><td>43</td></tr><tr><td>M'gladbach</td><td>2014</td><td>39</td></tr><tr><td>Leverkusen</td><td>2014</td><td>36</td></tr><tr><td>Schalke 04</td><td>2014</td><td>35</td></tr><tr><td>Ein Frankfurt</td><td>2014</td><td>32</td></tr><tr><td>Augsburg</td><td>2014</td><td>31</td></tr><tr><td>Hoffenheim</td><td>2014</td><td>30</td></tr><tr><td>Dortmund</td><td>2014</td><td>30</td></tr><tr><td>Werder Bremen</td><td>2014</td><td>28</td></tr><tr><td>Mainz</td><td>2014</td><td>24</td></tr><tr><td>Hamburg</td><td>2014</td><td>23</td></tr><tr><td>Hertha</td><td>2014</td><td>22</td></tr><tr><td>Hannover</td><td>2014</td><td>22</td></tr><tr><td>Freiburg</td><td>2014</td><td>21</td></tr><tr><td>FC Koln</td><td>2014</td><td>21</td></tr><tr><td>Stuttgart</td><td>2014</td><td>19</td></tr><tr><td>Paderborn</td><td>2014</td><td>18</td></tr><tr><td>Bayern Munich</td><td>2015</td><td>46</td></tr><tr><td>Dortmund</td><td>2015</td><td>45</td></tr><tr><td>M'gladbach</td><td>2015</td><td>40</td></tr><tr><td>Leverkusen</td><td>2015</td><td>33</td></tr><tr><td>Hertha</td><td>2015</td><td>32</td></tr><tr><td>Wolfsburg</td><td>2015</td><td>32</td></tr><tr><td>Schalke 04</td><td>2015</td><td>29</td></tr><tr><td>Mainz</td><td>2015</td><td>28</td></tr><tr><td>Ingolstadt</td><td>2015</td><td>26</td></tr><tr><td>Ein Frankfurt</td><td>2015</td><td>24</td></tr><tr><td>Hoffenheim</td><td>2015</td><td>24</td></tr><tr><td>FC Koln</td><td>2015</td><td>20</td></tr><tr><td>Werder Bremen</td><td>2015</td><td>20</td></tr><tr><td>Stuttgart</td><td>2015</td><td>19</td></tr><tr><td>Hamburg</td><td>2015</td><td>19</td></tr><tr><td>Augsburg</td><td>2015</td><td>15</td></tr><tr><td>Hannover</td><td>2015</td><td>12</td></tr><tr><td>Darmstadt</td><td>2015</td><td>12</td></tr><tr><td>Bayern Munich</td><td>2016</td><td>43</td></tr><tr><td>Dortmund</td><td>2016</td><td>43</td></tr><tr><td>Hoffenheim</td><td>2016</td><td>39</td></tr><tr><td>RB Leipzig</td><td>2016</td><td>38</td></tr><tr><td>Hertha</td><td>2016</td><td>37</td></tr><tr><td>FC Koln</td><td>2016</td><td>33</td></tr><tr><td>Freiburg</td><td>2016</td><td>32</td></tr><tr><td>Schalke 04</td><td>2016</td><td>29</td></tr><tr><td>Ein Frankfurt</td><td>2016</td><td>28</td></tr><tr><td>Hamburg</td><td>2016</td><td>28</td></tr><tr><td>M'gladbach</td><td>2016</td><td>26</td></tr><tr><td>Mainz</td><td>2016</td><td>25</td></tr><tr><td>Werder Bremen</td><td>2016</td><td>25</td></tr><tr><td>Augsburg</td><td>2016</td><td>21</td></tr><tr><td>Darmstadt</td><td>2016</td><td>21</td></tr><tr><td>Leverkusen</td><td>2016</td><td>21</td></tr><tr><td>Wolfsburg</td><td>2016</td><td>18</td></tr><tr><td>Ingolstadt</td><td>2016</td><td>17</td></tr></tbody></table></div>"
      ]
     },
     "metadata": {
      "application/vnd.databricks.v1+output": {
       "addedWidgets": {},
       "aggData": [],
       "aggError": "",
       "aggOverflow": false,
       "aggSchema": [],
       "aggSeriesLimitReached": false,
       "aggType": "",
       "arguments": {},
       "columnCustomDisplayInfos": {},
       "data": [
        [
         "Bayern Munich",
         2007,
         41
        ],
        [
         "Werder Bremen",
         2007,
         39
        ],
        [
         "Stuttgart",
         2007,
         38
        ],
        [
         "Schalke 04",
         2007,
         34
        ],
        [
         "Hamburg",
         2007,
         32
        ],
        [
         "Leverkusen",
         2007,
         31
        ],
        [
         "Hertha",
         2007,
         30
        ],
        [
         "Hannover",
         2007,
         29
        ],
        [
         "Ein Frankfurt",
         2007,
         28
        ],
        [
         "Wolfsburg",
         2007,
         27
        ],
        [
         "Cottbus",
         2007,
         26
        ],
        [
         "Dortmund",
         2007,
         26
        ],
        [
         "Bielefeld",
         2007,
         25
        ],
        [
         "Bochum",
         2007,
         24
        ],
        [
         "Karlsruhe",
         2007,
         24
        ],
        [
         "Nurnberg",
         2007,
         22
        ],
        [
         "Hansa Rostock",
         2007,
         19
        ],
        [
         "Duisburg",
         2007,
         12
        ],
        [
         "Wolfsburg",
         2008,
         49
        ],
        [
         "Hamburg",
         2008,
         41
        ],
        [
         "Stuttgart",
         2008,
         39
        ],
        [
         "Hertha",
         2008,
         39
        ],
        [
         "Bayern Munich",
         2008,
         38
        ],
        [
         "Werder Bremen",
         2008,
         34
        ],
        [
         "Dortmund",
         2008,
         33
        ],
        [
         "Hoffenheim",
         2008,
         32
        ],
        [
         "Hannover",
         2008,
         31
        ],
        [
         "Schalke 04",
         2008,
         30
        ],
        [
         "Leverkusen",
         2008,
         23
        ],
        [
         "Karlsruhe",
         2008,
         19
        ],
        [
         "M'gladbach",
         2008,
         19
        ],
        [
         "Bochum",
         2008,
         19
        ],
        [
         "Cottbus",
         2008,
         19
        ],
        [
         "Ein Frankfurt",
         2008,
         19
        ],
        [
         "FC Koln",
         2008,
         17
        ],
        [
         "Bielefeld",
         2008,
         14
        ],
        [
         "Bayern Munich",
         2009,
         40
        ],
        [
         "Leverkusen",
         2009,
         38
        ],
        [
         "Schalke 04",
         2009,
         35
        ],
        [
         "Dortmund",
         2009,
         34
        ],
        [
         "Mainz",
         2009,
         33
        ],
        [
         "Hamburg",
         2009,
         30
        ],
        [
         "Werder Bremen",
         2009,
         30
        ],
        [
         "Stuttgart",
         2009,
         29
        ],
        [
         "M'gladbach",
         2009,
         29
        ],
        [
         "Ein Frankfurt",
         2009,
         26
        ],
        [
         "Wolfsburg",
         2009,
         23
        ],
        [
         "Hoffenheim",
         2009,
         21
        ],
        [
         "Nurnberg",
         2009,
         19
        ],
        [
         "Hannover",
         2009,
         19
        ],
        [
         "Freiburg",
         2009,
         19
        ],
        [
         "FC Koln",
         2009,
         15
        ],
        [
         "Bochum",
         2009,
         12
        ],
        [
         "Hertha",
         2009,
         9
        ],
        [
         "Bayern Munich",
         2010,
         41
        ],
        [
         "Dortmund",
         2010,
         40
        ],
        [
         "Hannover",
         2010,
         37
        ],
        [
         "FC Koln",
         2010,
         35
        ],
        [
         "Leverkusen",
         2010,
         32
        ],
        [
         "Nurnberg",
         2010,
         29
        ],
        [
         "Hoffenheim",
         2010,
         26
        ],
        [
         "Freiburg",
         2010,
         26
        ],
        [
         "Mainz",
         2010,
         26
        ],
        [
         "Hamburg",
         2010,
         26
        ],
        [
         "Kaiserslautern",
         2010,
         24
        ],
        [
         "Schalke 04",
         2010,
         24
        ],
        [
         "Werder Bremen",
         2010,
         24
        ],
        [
         "Stuttgart",
         2010,
         23
        ],
        [
         "Wolfsburg",
         2010,
         21
        ],
        [
         "Ein Frankfurt",
         2010,
         19
        ],
        [
         "M'gladbach",
         2010,
         18
        ],
        [
         "St Pauli",
         2010,
         15
        ],
        [
         "Dortmund",
         2011,
         44
        ],
        [
         "Bayern Munich",
         2011,
         43
        ],
        [
         "Schalke 04",
         2011,
         40
        ],
        [
         "Hannover",
         2011,
         37
        ],
        [
         "M'gladbach",
         2011,
         34
        ],
        [
         "Stuttgart",
         2011,
         33
        ],
        [
         "Wolfsburg",
         2011,
         32
        ],
        [
         "Werder Bremen",
         2011,
         28
        ],
        [
         "Leverkusen",
         2011,
         28
        ],
        [
         "Augsburg",
         2011,
         25
        ],
        [
         "Freiburg",
         2011,
         24
        ],
        [
         "Mainz",
         2011,
         24
        ],
        [
         "Nurnberg",
         2011,
         22
        ],
        [
         "Hoffenheim",
         2011,
         21
        ],
        [
         "FC Koln",
         2011,
         19
        ],
        [
         "Hamburg",
         2011,
         16
        ],
        [
         "Hertha",
         2011,
         15
        ],
        [
         "Kaiserslautern",
         2011,
         11
        ],
        [
         "Bayern Munich",
         2012,
         44
        ],
        [
         "Leverkusen",
         2012,
         39
        ],
        [
         "Schalke 04",
         2012,
         33
        ],
        [
         "Dortmund",
         2012,
         33
        ],
        [
         "Hannover",
         2012,
         32
        ],
        [
         "Ein Frankfurt",
         2012,
         31
        ],
        [
         "M'gladbach",
         2012,
         29
        ],
        [
         "Freiburg",
         2012,
         28
        ],
        [
         "Nurnberg",
         2012,
         27
        ],
        [
         "Hamburg",
         2012,
         26
        ],
        [
         "Mainz",
         2012,
         26
        ],
        [
         "Fortuna Dusseldorf",
         2012,
         21
        ],
        [
         "Werder Bremen",
         2012,
         20
        ],
        [
         "Augsburg",
         2012,
         20
        ],
        [
         "Hoffenheim",
         2012,
         19
        ],
        [
         "Stuttgart",
         2012,
         19
        ],
        [
         "Wolfsburg",
         2012,
         17
        ],
        [
         "Greuther Furth",
         2012,
         4
        ],
        [
         "Bayern Munich",
         2013,
         46
        ],
        [
         "Schalke 04",
         2013,
         38
        ],
        [
         "M'gladbach",
         2013,
         36
        ],
        [
         "Wolfsburg",
         2013,
         36
        ],
        [
         "Dortmund",
         2013,
         35
        ],
        [
         "Leverkusen",
         2013,
         33
        ],
        [
         "Mainz",
         2013,
         33
        ],
        [
         "Augsburg",
         2013,
         30
        ],
        [
         "Hannover",
         2013,
         29
        ],
        [
         "Hoffenheim",
         2013,
         27
        ],
        [
         "Werder Bremen",
         2013,
         24
        ],
        [
         "Freiburg",
         2013,
         22
        ],
        [
         "Hertha",
         2013,
         21
        ],
        [
         "Ein Frankfurt",
         2013,
         20
        ],
        [
         "Stuttgart",
         2013,
         19
        ],
        [
         "Hamburg",
         2013,
         18
        ],
        [
         "Braunschweig",
         2013,
         18
        ],
        [
         "Nurnberg",
         2013,
         14
        ],
        [
         "Bayern Munich",
         2014,
         43
        ],
        [
         "Wolfsburg",
         2014,
         43
        ],
        [
         "M'gladbach",
         2014,
         39
        ],
        [
         "Leverkusen",
         2014,
         36
        ],
        [
         "Schalke 04",
         2014,
         35
        ],
        [
         "Ein Frankfurt",
         2014,
         32
        ],
        [
         "Augsburg",
         2014,
         31
        ],
        [
         "Hoffenheim",
         2014,
         30
        ],
        [
         "Dortmund",
         2014,
         30
        ],
        [
         "Werder Bremen",
         2014,
         28
        ],
        [
         "Mainz",
         2014,
         24
        ],
        [
         "Hamburg",
         2014,
         23
        ],
        [
         "Hertha",
         2014,
         22
        ],
        [
         "Hannover",
         2014,
         22
        ],
        [
         "Freiburg",
         2014,
         21
        ],
        [
         "FC Koln",
         2014,
         21
        ],
        [
         "Stuttgart",
         2014,
         19
        ],
        [
         "Paderborn",
         2014,
         18
        ],
        [
         "Bayern Munich",
         2015,
         46
        ],
        [
         "Dortmund",
         2015,
         45
        ],
        [
         "M'gladbach",
         2015,
         40
        ],
        [
         "Leverkusen",
         2015,
         33
        ],
        [
         "Hertha",
         2015,
         32
        ],
        [
         "Wolfsburg",
         2015,
         32
        ],
        [
         "Schalke 04",
         2015,
         29
        ],
        [
         "Mainz",
         2015,
         28
        ],
        [
         "Ingolstadt",
         2015,
         26
        ],
        [
         "Ein Frankfurt",
         2015,
         24
        ],
        [
         "Hoffenheim",
         2015,
         24
        ],
        [
         "FC Koln",
         2015,
         20
        ],
        [
         "Werder Bremen",
         2015,
         20
        ],
        [
         "Stuttgart",
         2015,
         19
        ],
        [
         "Hamburg",
         2015,
         19
        ],
        [
         "Augsburg",
         2015,
         15
        ],
        [
         "Hannover",
         2015,
         12
        ],
        [
         "Darmstadt",
         2015,
         12
        ],
        [
         "Bayern Munich",
         2016,
         43
        ],
        [
         "Dortmund",
         2016,
         43
        ],
        [
         "Hoffenheim",
         2016,
         39
        ],
        [
         "RB Leipzig",
         2016,
         38
        ],
        [
         "Hertha",
         2016,
         37
        ],
        [
         "FC Koln",
         2016,
         33
        ],
        [
         "Freiburg",
         2016,
         32
        ],
        [
         "Schalke 04",
         2016,
         29
        ],
        [
         "Ein Frankfurt",
         2016,
         28
        ],
        [
         "Hamburg",
         2016,
         28
        ],
        [
         "M'gladbach",
         2016,
         26
        ],
        [
         "Mainz",
         2016,
         25
        ],
        [
         "Werder Bremen",
         2016,
         25
        ],
        [
         "Augsburg",
         2016,
         21
        ],
        [
         "Darmstadt",
         2016,
         21
        ],
        [
         "Leverkusen",
         2016,
         21
        ],
        [
         "Wolfsburg",
         2016,
         18
        ],
        [
         "Ingolstadt",
         2016,
         17
        ]
       ],
       "datasetInfos": [],
       "dbfsResultPath": null,
       "isJsonSchema": true,
       "metadata": {},
       "overflow": false,
       "plotOptions": {
        "customPlotOptions": {},
        "displayType": "table",
        "pivotAggregation": null,
        "pivotColumns": null,
        "xColumns": null,
        "yColumns": null
       },
       "removedWidgets": [],
       "schema": [
        {
         "metadata": "{}",
         "name": "HomeTeam",
         "type": "\"string\""
        },
        {
         "metadata": "{}",
         "name": "Season",
         "type": "\"long\""
        },
        {
         "metadata": "{}",
         "name": "Points",
         "type": "\"long\""
        }
       ],
       "type": "table"
      }
     },
     "output_type": "display_data"
    }
   ],
   "source": [
    "# Filter matches where \"Div\" is \"D1\" and \"Season\" is between 2007 and 2016\n",
    "dtHomePoints = (\n",
    "    dtMatches\n",
    "    .filter((col(\"Div\") == \"D1\") & col(\"Season\").between(2007, 2016))\n",
    "    .groupBy(\"HomeTeam\", \"Season\")\n",
    "    .agg(\n",
    "        sum(when(col(\"FTR\") == \"H\", 3).when(col(\"FTR\") == \"D\", 1).otherwise(0)).alias(\"Points\")\n",
    "    )\n",
    "    .orderBy(\"Season\", desc(\"Points\"))\n",
    "    .select(\"HomeTeam\", \"Season\", \"Points\")\n",
    ")\n",
    "\n",
    "# Display dtHomePoints table\n",
    "display(dtHomePoints)\n",
    "\n"
   ]
  },
  {
   "cell_type": "code",
   "execution_count": 0,
   "metadata": {
    "application/vnd.databricks.v1+cell": {
     "cellMetadata": {
      "byteLimit": 2048000,
      "implicitDf": true,
      "rowLimit": 10000
     },
     "inputWidgets": {},
     "nuid": "57c8aba8-39c8-49c7-874a-a00367eff21f",
     "showTitle": false,
     "title": ""
    }
   },
   "outputs": [
    {
     "output_type": "display_data",
     "data": {
      "text/html": [
       "<style scoped>\n",
       "  .table-result-container {\n",
       "    max-height: 300px;\n",
       "    overflow: auto;\n",
       "  }\n",
       "  table, th, td {\n",
       "    border: 1px solid black;\n",
       "    border-collapse: collapse;\n",
       "  }\n",
       "  th, td {\n",
       "    padding: 5px;\n",
       "  }\n",
       "  th {\n",
       "    text-align: left;\n",
       "  }\n",
       "</style><div class='table-result-container'><table class='table-result'><thead style='background-color: white'><tr><th>AwayTeam</th><th>Season</th><th>Points</th></tr></thead><tbody><tr><td>Bayern Munich</td><td>2007</td><td>35</td></tr><tr><td>Schalke 04</td><td>2007</td><td>30</td></tr><tr><td>Werder Bremen</td><td>2007</td><td>27</td></tr><tr><td>Wolfsburg</td><td>2007</td><td>27</td></tr><tr><td>Hamburg</td><td>2007</td><td>22</td></tr><tr><td>Leverkusen</td><td>2007</td><td>20</td></tr><tr><td>Hannover</td><td>2007</td><td>20</td></tr><tr><td>Karlsruhe</td><td>2007</td><td>19</td></tr><tr><td>Ein Frankfurt</td><td>2007</td><td>18</td></tr><tr><td>Bochum</td><td>2007</td><td>17</td></tr><tr><td>Duisburg</td><td>2007</td><td>17</td></tr><tr><td>Dortmund</td><td>2007</td><td>14</td></tr><tr><td>Stuttgart</td><td>2007</td><td>14</td></tr><tr><td>Hertha</td><td>2007</td><td>14</td></tr><tr><td>Hansa Rostock</td><td>2007</td><td>11</td></tr><tr><td>Cottbus</td><td>2007</td><td>10</td></tr><tr><td>Bielefeld</td><td>2007</td><td>9</td></tr><tr><td>Nurnberg</td><td>2007</td><td>9</td></tr><tr><td>Bayern Munich</td><td>2008</td><td>29</td></tr><tr><td>Dortmund</td><td>2008</td><td>26</td></tr><tr><td>Leverkusen</td><td>2008</td><td>26</td></tr><tr><td>Stuttgart</td><td>2008</td><td>25</td></tr><tr><td>Hertha</td><td>2008</td><td>24</td></tr><tr><td>Hoffenheim</td><td>2008</td><td>23</td></tr><tr><td>FC Koln</td><td>2008</td><td>22</td></tr><tr><td>Wolfsburg</td><td>2008</td><td>20</td></tr><tr><td>Hamburg</td><td>2008</td><td>20</td></tr><tr><td>Schalke 04</td><td>2008</td><td>20</td></tr><tr><td>Bielefeld</td><td>2008</td><td>14</td></tr><tr><td>Ein Frankfurt</td><td>2008</td><td>14</td></tr><tr><td>Bochum</td><td>2008</td><td>13</td></tr><tr><td>M'gladbach</td><td>2008</td><td>12</td></tr><tr><td>Werder Bremen</td><td>2008</td><td>11</td></tr><tr><td>Cottbus</td><td>2008</td><td>11</td></tr><tr><td>Karlsruhe</td><td>2008</td><td>10</td></tr><tr><td>Hannover</td><td>2008</td><td>9</td></tr><tr><td>Werder Bremen</td><td>2009</td><td>31</td></tr><tr><td>Schalke 04</td><td>2009</td><td>30</td></tr><tr><td>Bayern Munich</td><td>2009</td><td>30</td></tr><tr><td>Wolfsburg</td><td>2009</td><td>27</td></tr><tr><td>Stuttgart</td><td>2009</td><td>26</td></tr><tr><td>Dortmund</td><td>2009</td><td>23</td></tr><tr><td>FC Koln</td><td>2009</td><td>23</td></tr><tr><td>Hamburg</td><td>2009</td><td>22</td></tr><tr><td>Leverkusen</td><td>2009</td><td>21</td></tr><tr><td>Hoffenheim</td><td>2009</td><td>21</td></tr><tr><td>Ein Frankfurt</td><td>2009</td><td>20</td></tr><tr><td>Bochum</td><td>2009</td><td>16</td></tr><tr><td>Freiburg</td><td>2009</td><td>16</td></tr><tr><td>Hertha</td><td>2009</td><td>15</td></tr><tr><td>Hannover</td><td>2009</td><td>14</td></tr><tr><td>Mainz</td><td>2009</td><td>14</td></tr><tr><td>Nurnberg</td><td>2009</td><td>12</td></tr><tr><td>M'gladbach</td><td>2009</td><td>10</td></tr><tr><td>Leverkusen</td><td>2010</td><td>36</td></tr><tr><td>Dortmund</td><td>2010</td><td>35</td></tr><tr><td>Mainz</td><td>2010</td><td>32</td></tr><tr><td>Bayern Munich</td><td>2010</td><td>24</td></tr><tr><td>Hannover</td><td>2010</td><td>23</td></tr><tr><td>Kaiserslautern</td><td>2010</td><td>22</td></tr><tr><td>Hamburg</td><td>2010</td><td>19</td></tr><tr><td>Stuttgart</td><td>2010</td><td>19</td></tr><tr><td>Freiburg</td><td>2010</td><td>18</td></tr><tr><td>M'gladbach</td><td>2010</td><td>18</td></tr><tr><td>Nurnberg</td><td>2010</td><td>18</td></tr><tr><td>Hoffenheim</td><td>2010</td><td>17</td></tr><tr><td>Wolfsburg</td><td>2010</td><td>17</td></tr><tr><td>Werder Bremen</td><td>2010</td><td>17</td></tr><tr><td>Schalke 04</td><td>2010</td><td>16</td></tr><tr><td>Ein Frankfurt</td><td>2010</td><td>15</td></tr><tr><td>St Pauli</td><td>2010</td><td>14</td></tr><tr><td>FC Koln</td><td>2010</td><td>9</td></tr><tr><td>Dortmund</td><td>2011</td><td>37</td></tr><tr><td>Bayern Munich</td><td>2011</td><td>30</td></tr><tr><td>Leverkusen</td><td>2011</td><td>26</td></tr><tr><td>M'gladbach</td><td>2011</td><td>26</td></tr><tr><td>Schalke 04</td><td>2011</td><td>24</td></tr><tr><td>Stuttgart</td><td>2011</td><td>20</td></tr><tr><td>Hoffenheim</td><td>2011</td><td>20</td></tr><tr><td>Nurnberg</td><td>2011</td><td>20</td></tr><tr><td>Hamburg</td><td>2011</td><td>20</td></tr><tr><td>Freiburg</td><td>2011</td><td>16</td></tr><tr><td>Hertha</td><td>2011</td><td>16</td></tr><tr><td>Mainz</td><td>2011</td><td>15</td></tr><tr><td>Werder Bremen</td><td>2011</td><td>14</td></tr><tr><td>Augsburg</td><td>2011</td><td>13</td></tr><tr><td>Kaiserslautern</td><td>2011</td><td>12</td></tr><tr><td>Wolfsburg</td><td>2011</td><td>12</td></tr><tr><td>FC Koln</td><td>2011</td><td>11</td></tr><tr><td>Hannover</td><td>2011</td><td>11</td></tr><tr><td>Bayern Munich</td><td>2012</td><td>47</td></tr><tr><td>Dortmund</td><td>2012</td><td>33</td></tr><tr><td>Leverkusen</td><td>2012</td><td>26</td></tr><tr><td>Wolfsburg</td><td>2012</td><td>26</td></tr><tr><td>Stuttgart</td><td>2012</td><td>24</td></tr><tr><td>Freiburg</td><td>2012</td><td>23</td></tr><tr><td>Schalke 04</td><td>2012</td><td>22</td></tr><tr><td>Hamburg</td><td>2012</td><td>22</td></tr><tr><td>Ein Frankfurt</td><td>2012</td><td>20</td></tr><tr><td>M'gladbach</td><td>2012</td><td>18</td></tr><tr><td>Greuther Furth</td><td>2012</td><td>17</td></tr><tr><td>Nurnberg</td><td>2012</td><td>17</td></tr><tr><td>Mainz</td><td>2012</td><td>16</td></tr><tr><td>Werder Bremen</td><td>2012</td><td>14</td></tr><tr><td>Hannover</td><td>2012</td><td>13</td></tr><tr><td>Augsburg</td><td>2012</td><td>13</td></tr><tr><td>Hoffenheim</td><td>2012</td><td>12</td></tr><tr><td>Fortuna Dusseldorf</td><td>2012</td><td>9</td></tr><tr><td>Bayern Munich</td><td>2013</td><td>44</td></tr><tr><td>Dortmund</td><td>2013</td><td>36</td></tr><tr><td>Leverkusen</td><td>2013</td><td>28</td></tr><tr><td>Schalke 04</td><td>2013</td><td>26</td></tr><tr><td>Wolfsburg</td><td>2013</td><td>24</td></tr><tr><td>Augsburg</td><td>2013</td><td>22</td></tr><tr><td>Hertha</td><td>2013</td><td>20</td></tr><tr><td>Mainz</td><td>2013</td><td>20</td></tr><tr><td>M'gladbach</td><td>2013</td><td>19</td></tr><tr><td>Hoffenheim</td><td>2013</td><td>17</td></tr><tr><td>Ein Frankfurt</td><td>2013</td><td>16</td></tr><tr><td>Werder Bremen</td><td>2013</td><td>15</td></tr><tr><td>Freiburg</td><td>2013</td><td>14</td></tr><tr><td>Hannover</td><td>2013</td><td>13</td></tr><tr><td>Stuttgart</td><td>2013</td><td>13</td></tr><tr><td>Nurnberg</td><td>2013</td><td>12</td></tr><tr><td>Hamburg</td><td>2013</td><td>9</td></tr><tr><td>Braunschweig</td><td>2013</td><td>7</td></tr><tr><td>Bayern Munich</td><td>2014</td><td>36</td></tr><tr><td>M'gladbach</td><td>2014</td><td>27</td></tr><tr><td>Wolfsburg</td><td>2014</td><td>26</td></tr><tr><td>Leverkusen</td><td>2014</td><td>25</td></tr><tr><td>FC Koln</td><td>2014</td><td>19</td></tr><tr><td>Augsburg</td><td>2014</td><td>18</td></tr><tr><td>Stuttgart</td><td>2014</td><td>17</td></tr><tr><td>Mainz</td><td>2014</td><td>16</td></tr><tr><td>Dortmund</td><td>2014</td><td>16</td></tr><tr><td>Werder Bremen</td><td>2014</td><td>15</td></tr><tr><td>Hannover</td><td>2014</td><td>15</td></tr><tr><td>Hoffenheim</td><td>2014</td><td>14</td></tr><tr><td>Freiburg</td><td>2014</td><td>13</td></tr><tr><td>Hertha</td><td>2014</td><td>13</td></tr><tr><td>Schalke 04</td><td>2014</td><td>13</td></tr><tr><td>Paderborn</td><td>2014</td><td>13</td></tr><tr><td>Hamburg</td><td>2014</td><td>12</td></tr><tr><td>Ein Frankfurt</td><td>2014</td><td>11</td></tr><tr><td>Bayern Munich</td><td>2015</td><td>42</td></tr><tr><td>Dortmund</td><td>2015</td><td>33</td></tr><tr><td>Leverkusen</td><td>2015</td><td>27</td></tr><tr><td>Darmstadt</td><td>2015</td><td>26</td></tr><tr><td>Augsburg</td><td>2015</td><td>23</td></tr><tr><td>FC Koln</td><td>2015</td><td>23</td></tr><tr><td>Schalke 04</td><td>2015</td><td>23</td></tr><tr><td>Mainz</td><td>2015</td><td>22</td></tr><tr><td>Hamburg</td><td>2015</td><td>22</td></tr><tr><td>Hertha</td><td>2015</td><td>18</td></tr><tr><td>Werder Bremen</td><td>2015</td><td>18</td></tr><tr><td>M'gladbach</td><td>2015</td><td>15</td></tr><tr><td>Stuttgart</td><td>2015</td><td>14</td></tr><tr><td>Ingolstadt</td><td>2015</td><td>14</td></tr><tr><td>Hannover</td><td>2015</td><td>13</td></tr><tr><td>Wolfsburg</td><td>2015</td><td>13</td></tr><tr><td>Hoffenheim</td><td>2015</td><td>13</td></tr><tr><td>Ein Frankfurt</td><td>2015</td><td>12</td></tr><tr><td>Bayern Munich</td><td>2016</td><td>39</td></tr><tr><td>RB Leipzig</td><td>2016</td><td>29</td></tr><tr><td>Hoffenheim</td><td>2016</td><td>23</td></tr><tr><td>Dortmund</td><td>2016</td><td>21</td></tr><tr><td>Leverkusen</td><td>2016</td><td>20</td></tr><tr><td>Werder Bremen</td><td>2016</td><td>20</td></tr><tr><td>M'gladbach</td><td>2016</td><td>19</td></tr><tr><td>Wolfsburg</td><td>2016</td><td>19</td></tr><tr><td>Augsburg</td><td>2016</td><td>17</td></tr><tr><td>FC Koln</td><td>2016</td><td>16</td></tr><tr><td>Freiburg</td><td>2016</td><td>16</td></tr><tr><td>Ingolstadt</td><td>2016</td><td>15</td></tr><tr><td>Ein Frankfurt</td><td>2016</td><td>14</td></tr><tr><td>Schalke 04</td><td>2016</td><td>14</td></tr><tr><td>Mainz</td><td>2016</td><td>12</td></tr><tr><td>Hertha</td><td>2016</td><td>12</td></tr><tr><td>Hamburg</td><td>2016</td><td>10</td></tr><tr><td>Darmstadt</td><td>2016</td><td>4</td></tr></tbody></table></div>"
      ]
     },
     "metadata": {
      "application/vnd.databricks.v1+output": {
       "addedWidgets": {},
       "aggData": [],
       "aggError": "",
       "aggOverflow": false,
       "aggSchema": [],
       "aggSeriesLimitReached": false,
       "aggType": "",
       "arguments": {},
       "columnCustomDisplayInfos": {},
       "data": [
        [
         "Bayern Munich",
         2007,
         35
        ],
        [
         "Schalke 04",
         2007,
         30
        ],
        [
         "Werder Bremen",
         2007,
         27
        ],
        [
         "Wolfsburg",
         2007,
         27
        ],
        [
         "Hamburg",
         2007,
         22
        ],
        [
         "Leverkusen",
         2007,
         20
        ],
        [
         "Hannover",
         2007,
         20
        ],
        [
         "Karlsruhe",
         2007,
         19
        ],
        [
         "Ein Frankfurt",
         2007,
         18
        ],
        [
         "Bochum",
         2007,
         17
        ],
        [
         "Duisburg",
         2007,
         17
        ],
        [
         "Dortmund",
         2007,
         14
        ],
        [
         "Stuttgart",
         2007,
         14
        ],
        [
         "Hertha",
         2007,
         14
        ],
        [
         "Hansa Rostock",
         2007,
         11
        ],
        [
         "Cottbus",
         2007,
         10
        ],
        [
         "Bielefeld",
         2007,
         9
        ],
        [
         "Nurnberg",
         2007,
         9
        ],
        [
         "Bayern Munich",
         2008,
         29
        ],
        [
         "Dortmund",
         2008,
         26
        ],
        [
         "Leverkusen",
         2008,
         26
        ],
        [
         "Stuttgart",
         2008,
         25
        ],
        [
         "Hertha",
         2008,
         24
        ],
        [
         "Hoffenheim",
         2008,
         23
        ],
        [
         "FC Koln",
         2008,
         22
        ],
        [
         "Wolfsburg",
         2008,
         20
        ],
        [
         "Hamburg",
         2008,
         20
        ],
        [
         "Schalke 04",
         2008,
         20
        ],
        [
         "Bielefeld",
         2008,
         14
        ],
        [
         "Ein Frankfurt",
         2008,
         14
        ],
        [
         "Bochum",
         2008,
         13
        ],
        [
         "M'gladbach",
         2008,
         12
        ],
        [
         "Werder Bremen",
         2008,
         11
        ],
        [
         "Cottbus",
         2008,
         11
        ],
        [
         "Karlsruhe",
         2008,
         10
        ],
        [
         "Hannover",
         2008,
         9
        ],
        [
         "Werder Bremen",
         2009,
         31
        ],
        [
         "Schalke 04",
         2009,
         30
        ],
        [
         "Bayern Munich",
         2009,
         30
        ],
        [
         "Wolfsburg",
         2009,
         27
        ],
        [
         "Stuttgart",
         2009,
         26
        ],
        [
         "Dortmund",
         2009,
         23
        ],
        [
         "FC Koln",
         2009,
         23
        ],
        [
         "Hamburg",
         2009,
         22
        ],
        [
         "Leverkusen",
         2009,
         21
        ],
        [
         "Hoffenheim",
         2009,
         21
        ],
        [
         "Ein Frankfurt",
         2009,
         20
        ],
        [
         "Bochum",
         2009,
         16
        ],
        [
         "Freiburg",
         2009,
         16
        ],
        [
         "Hertha",
         2009,
         15
        ],
        [
         "Hannover",
         2009,
         14
        ],
        [
         "Mainz",
         2009,
         14
        ],
        [
         "Nurnberg",
         2009,
         12
        ],
        [
         "M'gladbach",
         2009,
         10
        ],
        [
         "Leverkusen",
         2010,
         36
        ],
        [
         "Dortmund",
         2010,
         35
        ],
        [
         "Mainz",
         2010,
         32
        ],
        [
         "Bayern Munich",
         2010,
         24
        ],
        [
         "Hannover",
         2010,
         23
        ],
        [
         "Kaiserslautern",
         2010,
         22
        ],
        [
         "Hamburg",
         2010,
         19
        ],
        [
         "Stuttgart",
         2010,
         19
        ],
        [
         "Freiburg",
         2010,
         18
        ],
        [
         "M'gladbach",
         2010,
         18
        ],
        [
         "Nurnberg",
         2010,
         18
        ],
        [
         "Hoffenheim",
         2010,
         17
        ],
        [
         "Wolfsburg",
         2010,
         17
        ],
        [
         "Werder Bremen",
         2010,
         17
        ],
        [
         "Schalke 04",
         2010,
         16
        ],
        [
         "Ein Frankfurt",
         2010,
         15
        ],
        [
         "St Pauli",
         2010,
         14
        ],
        [
         "FC Koln",
         2010,
         9
        ],
        [
         "Dortmund",
         2011,
         37
        ],
        [
         "Bayern Munich",
         2011,
         30
        ],
        [
         "Leverkusen",
         2011,
         26
        ],
        [
         "M'gladbach",
         2011,
         26
        ],
        [
         "Schalke 04",
         2011,
         24
        ],
        [
         "Stuttgart",
         2011,
         20
        ],
        [
         "Hoffenheim",
         2011,
         20
        ],
        [
         "Nurnberg",
         2011,
         20
        ],
        [
         "Hamburg",
         2011,
         20
        ],
        [
         "Freiburg",
         2011,
         16
        ],
        [
         "Hertha",
         2011,
         16
        ],
        [
         "Mainz",
         2011,
         15
        ],
        [
         "Werder Bremen",
         2011,
         14
        ],
        [
         "Augsburg",
         2011,
         13
        ],
        [
         "Kaiserslautern",
         2011,
         12
        ],
        [
         "Wolfsburg",
         2011,
         12
        ],
        [
         "FC Koln",
         2011,
         11
        ],
        [
         "Hannover",
         2011,
         11
        ],
        [
         "Bayern Munich",
         2012,
         47
        ],
        [
         "Dortmund",
         2012,
         33
        ],
        [
         "Leverkusen",
         2012,
         26
        ],
        [
         "Wolfsburg",
         2012,
         26
        ],
        [
         "Stuttgart",
         2012,
         24
        ],
        [
         "Freiburg",
         2012,
         23
        ],
        [
         "Schalke 04",
         2012,
         22
        ],
        [
         "Hamburg",
         2012,
         22
        ],
        [
         "Ein Frankfurt",
         2012,
         20
        ],
        [
         "M'gladbach",
         2012,
         18
        ],
        [
         "Greuther Furth",
         2012,
         17
        ],
        [
         "Nurnberg",
         2012,
         17
        ],
        [
         "Mainz",
         2012,
         16
        ],
        [
         "Werder Bremen",
         2012,
         14
        ],
        [
         "Hannover",
         2012,
         13
        ],
        [
         "Augsburg",
         2012,
         13
        ],
        [
         "Hoffenheim",
         2012,
         12
        ],
        [
         "Fortuna Dusseldorf",
         2012,
         9
        ],
        [
         "Bayern Munich",
         2013,
         44
        ],
        [
         "Dortmund",
         2013,
         36
        ],
        [
         "Leverkusen",
         2013,
         28
        ],
        [
         "Schalke 04",
         2013,
         26
        ],
        [
         "Wolfsburg",
         2013,
         24
        ],
        [
         "Augsburg",
         2013,
         22
        ],
        [
         "Hertha",
         2013,
         20
        ],
        [
         "Mainz",
         2013,
         20
        ],
        [
         "M'gladbach",
         2013,
         19
        ],
        [
         "Hoffenheim",
         2013,
         17
        ],
        [
         "Ein Frankfurt",
         2013,
         16
        ],
        [
         "Werder Bremen",
         2013,
         15
        ],
        [
         "Freiburg",
         2013,
         14
        ],
        [
         "Hannover",
         2013,
         13
        ],
        [
         "Stuttgart",
         2013,
         13
        ],
        [
         "Nurnberg",
         2013,
         12
        ],
        [
         "Hamburg",
         2013,
         9
        ],
        [
         "Braunschweig",
         2013,
         7
        ],
        [
         "Bayern Munich",
         2014,
         36
        ],
        [
         "M'gladbach",
         2014,
         27
        ],
        [
         "Wolfsburg",
         2014,
         26
        ],
        [
         "Leverkusen",
         2014,
         25
        ],
        [
         "FC Koln",
         2014,
         19
        ],
        [
         "Augsburg",
         2014,
         18
        ],
        [
         "Stuttgart",
         2014,
         17
        ],
        [
         "Mainz",
         2014,
         16
        ],
        [
         "Dortmund",
         2014,
         16
        ],
        [
         "Werder Bremen",
         2014,
         15
        ],
        [
         "Hannover",
         2014,
         15
        ],
        [
         "Hoffenheim",
         2014,
         14
        ],
        [
         "Freiburg",
         2014,
         13
        ],
        [
         "Hertha",
         2014,
         13
        ],
        [
         "Schalke 04",
         2014,
         13
        ],
        [
         "Paderborn",
         2014,
         13
        ],
        [
         "Hamburg",
         2014,
         12
        ],
        [
         "Ein Frankfurt",
         2014,
         11
        ],
        [
         "Bayern Munich",
         2015,
         42
        ],
        [
         "Dortmund",
         2015,
         33
        ],
        [
         "Leverkusen",
         2015,
         27
        ],
        [
         "Darmstadt",
         2015,
         26
        ],
        [
         "Augsburg",
         2015,
         23
        ],
        [
         "FC Koln",
         2015,
         23
        ],
        [
         "Schalke 04",
         2015,
         23
        ],
        [
         "Mainz",
         2015,
         22
        ],
        [
         "Hamburg",
         2015,
         22
        ],
        [
         "Hertha",
         2015,
         18
        ],
        [
         "Werder Bremen",
         2015,
         18
        ],
        [
         "M'gladbach",
         2015,
         15
        ],
        [
         "Stuttgart",
         2015,
         14
        ],
        [
         "Ingolstadt",
         2015,
         14
        ],
        [
         "Hannover",
         2015,
         13
        ],
        [
         "Wolfsburg",
         2015,
         13
        ],
        [
         "Hoffenheim",
         2015,
         13
        ],
        [
         "Ein Frankfurt",
         2015,
         12
        ],
        [
         "Bayern Munich",
         2016,
         39
        ],
        [
         "RB Leipzig",
         2016,
         29
        ],
        [
         "Hoffenheim",
         2016,
         23
        ],
        [
         "Dortmund",
         2016,
         21
        ],
        [
         "Leverkusen",
         2016,
         20
        ],
        [
         "Werder Bremen",
         2016,
         20
        ],
        [
         "M'gladbach",
         2016,
         19
        ],
        [
         "Wolfsburg",
         2016,
         19
        ],
        [
         "Augsburg",
         2016,
         17
        ],
        [
         "FC Koln",
         2016,
         16
        ],
        [
         "Freiburg",
         2016,
         16
        ],
        [
         "Ingolstadt",
         2016,
         15
        ],
        [
         "Ein Frankfurt",
         2016,
         14
        ],
        [
         "Schalke 04",
         2016,
         14
        ],
        [
         "Mainz",
         2016,
         12
        ],
        [
         "Hertha",
         2016,
         12
        ],
        [
         "Hamburg",
         2016,
         10
        ],
        [
         "Darmstadt",
         2016,
         4
        ]
       ],
       "datasetInfos": [],
       "dbfsResultPath": null,
       "isJsonSchema": true,
       "metadata": {},
       "overflow": false,
       "plotOptions": {
        "customPlotOptions": {},
        "displayType": "table",
        "pivotAggregation": null,
        "pivotColumns": null,
        "xColumns": null,
        "yColumns": null
       },
       "removedWidgets": [],
       "schema": [
        {
         "metadata": "{}",
         "name": "AwayTeam",
         "type": "\"string\""
        },
        {
         "metadata": "{}",
         "name": "Season",
         "type": "\"long\""
        },
        {
         "metadata": "{}",
         "name": "Points",
         "type": "\"long\""
        }
       ],
       "type": "table"
      }
     },
     "output_type": "display_data"
    }
   ],
   "source": [
    "# Filter matches where \"Div\" is \"D1\" and \"Season\" is between 2007 and 2016\n",
    "dtAwayPoints = (\n",
    "    dtMatches\n",
    "    .filter((col(\"Div\") == \"D1\") & col(\"Season\").between(2007, 2016))\n",
    "    .groupBy(\"AwayTeam\", \"Season\")\n",
    "    .agg(\n",
    "        sum(when(col(\"FTR\") == \"A\", 3).when(col(\"FTR\") == \"D\", 1).otherwise(0)).alias(\"Points\")\n",
    "    )\n",
    "    .orderBy(\"Season\", desc(\"Points\"))\n",
    "    .select(\"AwayTeam\", \"Season\", \"Points\")\n",
    ")\n",
    "\n",
    "# Display dtAwayPoints table\n",
    "display(dtAwayPoints)\n",
    "\n"
   ]
  },
  {
   "cell_type": "code",
   "execution_count": 0,
   "metadata": {
    "application/vnd.databricks.v1+cell": {
     "cellMetadata": {
      "byteLimit": 2048000,
      "rowLimit": 10000
     },
     "inputWidgets": {},
     "nuid": "475e967c-c148-477a-bfdb-a9ae397809b5",
     "showTitle": false,
     "title": ""
    }
   },
   "outputs": [
    {
     "output_type": "display_data",
     "data": {
      "text/html": [
       "<style scoped>\n",
       "  .table-result-container {\n",
       "    max-height: 300px;\n",
       "    overflow: auto;\n",
       "  }\n",
       "  table, th, td {\n",
       "    border: 1px solid black;\n",
       "    border-collapse: collapse;\n",
       "  }\n",
       "  th, td {\n",
       "    padding: 5px;\n",
       "  }\n",
       "  th {\n",
       "    text-align: left;\n",
       "  }\n",
       "</style><div class='table-result-container'><table class='table-result'><thead style='background-color: white'><tr><th>Team</th><th>Season</th><th>Total Points</th></tr></thead><tbody><tr><td>Bayern Munich</td><td>2007</td><td>76</td></tr><tr><td>Werder Bremen</td><td>2007</td><td>66</td></tr><tr><td>Schalke 04</td><td>2007</td><td>64</td></tr><tr><td>Hamburg</td><td>2007</td><td>54</td></tr><tr><td>Wolfsburg</td><td>2007</td><td>54</td></tr><tr><td>Stuttgart</td><td>2007</td><td>52</td></tr><tr><td>Leverkusen</td><td>2007</td><td>51</td></tr><tr><td>Hannover</td><td>2007</td><td>49</td></tr><tr><td>Ein Frankfurt</td><td>2007</td><td>46</td></tr><tr><td>Hertha</td><td>2007</td><td>44</td></tr><tr><td>Karlsruhe</td><td>2007</td><td>43</td></tr><tr><td>Bochum</td><td>2007</td><td>41</td></tr><tr><td>Dortmund</td><td>2007</td><td>40</td></tr><tr><td>Cottbus</td><td>2007</td><td>36</td></tr><tr><td>Bielefeld</td><td>2007</td><td>34</td></tr><tr><td>Nurnberg</td><td>2007</td><td>31</td></tr><tr><td>Hansa Rostock</td><td>2007</td><td>30</td></tr><tr><td>Duisburg</td><td>2007</td><td>29</td></tr><tr><td>Wolfsburg</td><td>2008</td><td>69</td></tr><tr><td>Bayern Munich</td><td>2008</td><td>67</td></tr><tr><td>Stuttgart</td><td>2008</td><td>64</td></tr><tr><td>Hertha</td><td>2008</td><td>63</td></tr><tr><td>Hamburg</td><td>2008</td><td>61</td></tr><tr><td>Dortmund</td><td>2008</td><td>59</td></tr><tr><td>Hoffenheim</td><td>2008</td><td>55</td></tr><tr><td>Schalke 04</td><td>2008</td><td>50</td></tr><tr><td>Leverkusen</td><td>2008</td><td>49</td></tr><tr><td>Werder Bremen</td><td>2008</td><td>45</td></tr><tr><td>Hannover</td><td>2008</td><td>40</td></tr><tr><td>FC Koln</td><td>2008</td><td>39</td></tr><tr><td>Ein Frankfurt</td><td>2008</td><td>33</td></tr><tr><td>Bochum</td><td>2008</td><td>32</td></tr><tr><td>M'gladbach</td><td>2008</td><td>31</td></tr><tr><td>Cottbus</td><td>2008</td><td>30</td></tr><tr><td>Karlsruhe</td><td>2008</td><td>29</td></tr><tr><td>Bielefeld</td><td>2008</td><td>28</td></tr><tr><td>Bayern Munich</td><td>2009</td><td>70</td></tr><tr><td>Schalke 04</td><td>2009</td><td>65</td></tr><tr><td>Werder Bremen</td><td>2009</td><td>61</td></tr><tr><td>Leverkusen</td><td>2009</td><td>59</td></tr><tr><td>Dortmund</td><td>2009</td><td>57</td></tr><tr><td>Stuttgart</td><td>2009</td><td>55</td></tr><tr><td>Hamburg</td><td>2009</td><td>52</td></tr><tr><td>Wolfsburg</td><td>2009</td><td>50</td></tr><tr><td>Mainz</td><td>2009</td><td>47</td></tr><tr><td>Ein Frankfurt</td><td>2009</td><td>46</td></tr><tr><td>Hoffenheim</td><td>2009</td><td>42</td></tr><tr><td>M'gladbach</td><td>2009</td><td>39</td></tr><tr><td>FC Koln</td><td>2009</td><td>38</td></tr><tr><td>Freiburg</td><td>2009</td><td>35</td></tr><tr><td>Hannover</td><td>2009</td><td>33</td></tr><tr><td>Nurnberg</td><td>2009</td><td>31</td></tr><tr><td>Bochum</td><td>2009</td><td>28</td></tr><tr><td>Hertha</td><td>2009</td><td>24</td></tr><tr><td>Dortmund</td><td>2010</td><td>75</td></tr><tr><td>Leverkusen</td><td>2010</td><td>68</td></tr><tr><td>Bayern Munich</td><td>2010</td><td>65</td></tr><tr><td>Hannover</td><td>2010</td><td>60</td></tr><tr><td>Mainz</td><td>2010</td><td>58</td></tr><tr><td>Nurnberg</td><td>2010</td><td>47</td></tr><tr><td>Kaiserslautern</td><td>2010</td><td>46</td></tr><tr><td>Hamburg</td><td>2010</td><td>45</td></tr><tr><td>FC Koln</td><td>2010</td><td>44</td></tr><tr><td>Freiburg</td><td>2010</td><td>44</td></tr><tr><td>Hoffenheim</td><td>2010</td><td>43</td></tr><tr><td>Stuttgart</td><td>2010</td><td>42</td></tr><tr><td>Werder Bremen</td><td>2010</td><td>41</td></tr><tr><td>Schalke 04</td><td>2010</td><td>40</td></tr><tr><td>Wolfsburg</td><td>2010</td><td>38</td></tr><tr><td>M'gladbach</td><td>2010</td><td>36</td></tr><tr><td>Ein Frankfurt</td><td>2010</td><td>34</td></tr><tr><td>St Pauli</td><td>2010</td><td>29</td></tr><tr><td>Dortmund</td><td>2011</td><td>81</td></tr><tr><td>Bayern Munich</td><td>2011</td><td>73</td></tr><tr><td>Schalke 04</td><td>2011</td><td>64</td></tr><tr><td>M'gladbach</td><td>2011</td><td>60</td></tr><tr><td>Leverkusen</td><td>2011</td><td>54</td></tr><tr><td>Stuttgart</td><td>2011</td><td>53</td></tr><tr><td>Hannover</td><td>2011</td><td>48</td></tr><tr><td>Wolfsburg</td><td>2011</td><td>44</td></tr><tr><td>Werder Bremen</td><td>2011</td><td>42</td></tr><tr><td>Nurnberg</td><td>2011</td><td>42</td></tr><tr><td>Hoffenheim</td><td>2011</td><td>41</td></tr><tr><td>Freiburg</td><td>2011</td><td>40</td></tr><tr><td>Mainz</td><td>2011</td><td>39</td></tr><tr><td>Augsburg</td><td>2011</td><td>38</td></tr><tr><td>Hamburg</td><td>2011</td><td>36</td></tr><tr><td>Hertha</td><td>2011</td><td>31</td></tr><tr><td>FC Koln</td><td>2011</td><td>30</td></tr><tr><td>Kaiserslautern</td><td>2011</td><td>23</td></tr><tr><td>Bayern Munich</td><td>2012</td><td>91</td></tr><tr><td>Dortmund</td><td>2012</td><td>66</td></tr><tr><td>Leverkusen</td><td>2012</td><td>65</td></tr><tr><td>Schalke 04</td><td>2012</td><td>55</td></tr><tr><td>Freiburg</td><td>2012</td><td>51</td></tr><tr><td>Ein Frankfurt</td><td>2012</td><td>51</td></tr><tr><td>Hamburg</td><td>2012</td><td>48</td></tr><tr><td>M'gladbach</td><td>2012</td><td>47</td></tr><tr><td>Hannover</td><td>2012</td><td>45</td></tr><tr><td>Nurnberg</td><td>2012</td><td>44</td></tr><tr><td>Wolfsburg</td><td>2012</td><td>43</td></tr><tr><td>Stuttgart</td><td>2012</td><td>43</td></tr><tr><td>Mainz</td><td>2012</td><td>42</td></tr><tr><td>Werder Bremen</td><td>2012</td><td>34</td></tr><tr><td>Augsburg</td><td>2012</td><td>33</td></tr><tr><td>Hoffenheim</td><td>2012</td><td>31</td></tr><tr><td>Fortuna Dusseldorf</td><td>2012</td><td>30</td></tr><tr><td>Greuther Furth</td><td>2012</td><td>21</td></tr><tr><td>Bayern Munich</td><td>2013</td><td>90</td></tr><tr><td>Dortmund</td><td>2013</td><td>71</td></tr><tr><td>Schalke 04</td><td>2013</td><td>64</td></tr><tr><td>Leverkusen</td><td>2013</td><td>61</td></tr><tr><td>Wolfsburg</td><td>2013</td><td>60</td></tr><tr><td>M'gladbach</td><td>2013</td><td>55</td></tr><tr><td>Mainz</td><td>2013</td><td>53</td></tr><tr><td>Augsburg</td><td>2013</td><td>52</td></tr><tr><td>Hoffenheim</td><td>2013</td><td>44</td></tr><tr><td>Hannover</td><td>2013</td><td>42</td></tr><tr><td>Hertha</td><td>2013</td><td>41</td></tr><tr><td>Werder Bremen</td><td>2013</td><td>39</td></tr><tr><td>Freiburg</td><td>2013</td><td>36</td></tr><tr><td>Ein Frankfurt</td><td>2013</td><td>36</td></tr><tr><td>Stuttgart</td><td>2013</td><td>32</td></tr><tr><td>Hamburg</td><td>2013</td><td>27</td></tr><tr><td>Nurnberg</td><td>2013</td><td>26</td></tr><tr><td>Braunschweig</td><td>2013</td><td>25</td></tr><tr><td>Bayern Munich</td><td>2014</td><td>79</td></tr><tr><td>Wolfsburg</td><td>2014</td><td>69</td></tr><tr><td>M'gladbach</td><td>2014</td><td>66</td></tr><tr><td>Leverkusen</td><td>2014</td><td>61</td></tr><tr><td>Augsburg</td><td>2014</td><td>49</td></tr><tr><td>Schalke 04</td><td>2014</td><td>48</td></tr><tr><td>Dortmund</td><td>2014</td><td>46</td></tr><tr><td>Hoffenheim</td><td>2014</td><td>44</td></tr><tr><td>Ein Frankfurt</td><td>2014</td><td>43</td></tr><tr><td>Werder Bremen</td><td>2014</td><td>43</td></tr><tr><td>Mainz</td><td>2014</td><td>40</td></tr><tr><td>FC Koln</td><td>2014</td><td>40</td></tr><tr><td>Hannover</td><td>2014</td><td>37</td></tr><tr><td>Stuttgart</td><td>2014</td><td>36</td></tr><tr><td>Hertha</td><td>2014</td><td>35</td></tr><tr><td>Hamburg</td><td>2014</td><td>35</td></tr><tr><td>Freiburg</td><td>2014</td><td>34</td></tr><tr><td>Paderborn</td><td>2014</td><td>31</td></tr><tr><td>Bayern Munich</td><td>2015</td><td>88</td></tr><tr><td>Dortmund</td><td>2015</td><td>78</td></tr><tr><td>Leverkusen</td><td>2015</td><td>60</td></tr><tr><td>M'gladbach</td><td>2015</td><td>55</td></tr><tr><td>Schalke 04</td><td>2015</td><td>52</td></tr><tr><td>Mainz</td><td>2015</td><td>50</td></tr><tr><td>Hertha</td><td>2015</td><td>50</td></tr><tr><td>Wolfsburg</td><td>2015</td><td>45</td></tr><tr><td>FC Koln</td><td>2015</td><td>43</td></tr><tr><td>Hamburg</td><td>2015</td><td>41</td></tr><tr><td>Ingolstadt</td><td>2015</td><td>40</td></tr><tr><td>Augsburg</td><td>2015</td><td>38</td></tr><tr><td>Werder Bremen</td><td>2015</td><td>38</td></tr><tr><td>Darmstadt</td><td>2015</td><td>38</td></tr><tr><td>Hoffenheim</td><td>2015</td><td>37</td></tr><tr><td>Ein Frankfurt</td><td>2015</td><td>36</td></tr><tr><td>Stuttgart</td><td>2015</td><td>33</td></tr><tr><td>Hannover</td><td>2015</td><td>25</td></tr><tr><td>Bayern Munich</td><td>2016</td><td>82</td></tr><tr><td>RB Leipzig</td><td>2016</td><td>67</td></tr><tr><td>Dortmund</td><td>2016</td><td>64</td></tr><tr><td>Hoffenheim</td><td>2016</td><td>62</td></tr><tr><td>FC Koln</td><td>2016</td><td>49</td></tr><tr><td>Hertha</td><td>2016</td><td>49</td></tr><tr><td>Freiburg</td><td>2016</td><td>48</td></tr><tr><td>M'gladbach</td><td>2016</td><td>45</td></tr><tr><td>Werder Bremen</td><td>2016</td><td>45</td></tr><tr><td>Schalke 04</td><td>2016</td><td>43</td></tr><tr><td>Ein Frankfurt</td><td>2016</td><td>42</td></tr><tr><td>Leverkusen</td><td>2016</td><td>41</td></tr><tr><td>Augsburg</td><td>2016</td><td>38</td></tr><tr><td>Hamburg</td><td>2016</td><td>38</td></tr><tr><td>Mainz</td><td>2016</td><td>37</td></tr><tr><td>Wolfsburg</td><td>2016</td><td>37</td></tr><tr><td>Ingolstadt</td><td>2016</td><td>32</td></tr><tr><td>Darmstadt</td><td>2016</td><td>25</td></tr></tbody></table></div>"
      ]
     },
     "metadata": {
      "application/vnd.databricks.v1+output": {
       "addedWidgets": {},
       "aggData": [],
       "aggError": "",
       "aggOverflow": false,
       "aggSchema": [],
       "aggSeriesLimitReached": false,
       "aggType": "",
       "arguments": {},
       "columnCustomDisplayInfos": {},
       "data": [
        [
         "Bayern Munich",
         2007,
         76
        ],
        [
         "Werder Bremen",
         2007,
         66
        ],
        [
         "Schalke 04",
         2007,
         64
        ],
        [
         "Hamburg",
         2007,
         54
        ],
        [
         "Wolfsburg",
         2007,
         54
        ],
        [
         "Stuttgart",
         2007,
         52
        ],
        [
         "Leverkusen",
         2007,
         51
        ],
        [
         "Hannover",
         2007,
         49
        ],
        [
         "Ein Frankfurt",
         2007,
         46
        ],
        [
         "Hertha",
         2007,
         44
        ],
        [
         "Karlsruhe",
         2007,
         43
        ],
        [
         "Bochum",
         2007,
         41
        ],
        [
         "Dortmund",
         2007,
         40
        ],
        [
         "Cottbus",
         2007,
         36
        ],
        [
         "Bielefeld",
         2007,
         34
        ],
        [
         "Nurnberg",
         2007,
         31
        ],
        [
         "Hansa Rostock",
         2007,
         30
        ],
        [
         "Duisburg",
         2007,
         29
        ],
        [
         "Wolfsburg",
         2008,
         69
        ],
        [
         "Bayern Munich",
         2008,
         67
        ],
        [
         "Stuttgart",
         2008,
         64
        ],
        [
         "Hertha",
         2008,
         63
        ],
        [
         "Hamburg",
         2008,
         61
        ],
        [
         "Dortmund",
         2008,
         59
        ],
        [
         "Hoffenheim",
         2008,
         55
        ],
        [
         "Schalke 04",
         2008,
         50
        ],
        [
         "Leverkusen",
         2008,
         49
        ],
        [
         "Werder Bremen",
         2008,
         45
        ],
        [
         "Hannover",
         2008,
         40
        ],
        [
         "FC Koln",
         2008,
         39
        ],
        [
         "Ein Frankfurt",
         2008,
         33
        ],
        [
         "Bochum",
         2008,
         32
        ],
        [
         "M'gladbach",
         2008,
         31
        ],
        [
         "Cottbus",
         2008,
         30
        ],
        [
         "Karlsruhe",
         2008,
         29
        ],
        [
         "Bielefeld",
         2008,
         28
        ],
        [
         "Bayern Munich",
         2009,
         70
        ],
        [
         "Schalke 04",
         2009,
         65
        ],
        [
         "Werder Bremen",
         2009,
         61
        ],
        [
         "Leverkusen",
         2009,
         59
        ],
        [
         "Dortmund",
         2009,
         57
        ],
        [
         "Stuttgart",
         2009,
         55
        ],
        [
         "Hamburg",
         2009,
         52
        ],
        [
         "Wolfsburg",
         2009,
         50
        ],
        [
         "Mainz",
         2009,
         47
        ],
        [
         "Ein Frankfurt",
         2009,
         46
        ],
        [
         "Hoffenheim",
         2009,
         42
        ],
        [
         "M'gladbach",
         2009,
         39
        ],
        [
         "FC Koln",
         2009,
         38
        ],
        [
         "Freiburg",
         2009,
         35
        ],
        [
         "Hannover",
         2009,
         33
        ],
        [
         "Nurnberg",
         2009,
         31
        ],
        [
         "Bochum",
         2009,
         28
        ],
        [
         "Hertha",
         2009,
         24
        ],
        [
         "Dortmund",
         2010,
         75
        ],
        [
         "Leverkusen",
         2010,
         68
        ],
        [
         "Bayern Munich",
         2010,
         65
        ],
        [
         "Hannover",
         2010,
         60
        ],
        [
         "Mainz",
         2010,
         58
        ],
        [
         "Nurnberg",
         2010,
         47
        ],
        [
         "Kaiserslautern",
         2010,
         46
        ],
        [
         "Hamburg",
         2010,
         45
        ],
        [
         "FC Koln",
         2010,
         44
        ],
        [
         "Freiburg",
         2010,
         44
        ],
        [
         "Hoffenheim",
         2010,
         43
        ],
        [
         "Stuttgart",
         2010,
         42
        ],
        [
         "Werder Bremen",
         2010,
         41
        ],
        [
         "Schalke 04",
         2010,
         40
        ],
        [
         "Wolfsburg",
         2010,
         38
        ],
        [
         "M'gladbach",
         2010,
         36
        ],
        [
         "Ein Frankfurt",
         2010,
         34
        ],
        [
         "St Pauli",
         2010,
         29
        ],
        [
         "Dortmund",
         2011,
         81
        ],
        [
         "Bayern Munich",
         2011,
         73
        ],
        [
         "Schalke 04",
         2011,
         64
        ],
        [
         "M'gladbach",
         2011,
         60
        ],
        [
         "Leverkusen",
         2011,
         54
        ],
        [
         "Stuttgart",
         2011,
         53
        ],
        [
         "Hannover",
         2011,
         48
        ],
        [
         "Wolfsburg",
         2011,
         44
        ],
        [
         "Werder Bremen",
         2011,
         42
        ],
        [
         "Nurnberg",
         2011,
         42
        ],
        [
         "Hoffenheim",
         2011,
         41
        ],
        [
         "Freiburg",
         2011,
         40
        ],
        [
         "Mainz",
         2011,
         39
        ],
        [
         "Augsburg",
         2011,
         38
        ],
        [
         "Hamburg",
         2011,
         36
        ],
        [
         "Hertha",
         2011,
         31
        ],
        [
         "FC Koln",
         2011,
         30
        ],
        [
         "Kaiserslautern",
         2011,
         23
        ],
        [
         "Bayern Munich",
         2012,
         91
        ],
        [
         "Dortmund",
         2012,
         66
        ],
        [
         "Leverkusen",
         2012,
         65
        ],
        [
         "Schalke 04",
         2012,
         55
        ],
        [
         "Freiburg",
         2012,
         51
        ],
        [
         "Ein Frankfurt",
         2012,
         51
        ],
        [
         "Hamburg",
         2012,
         48
        ],
        [
         "M'gladbach",
         2012,
         47
        ],
        [
         "Hannover",
         2012,
         45
        ],
        [
         "Nurnberg",
         2012,
         44
        ],
        [
         "Wolfsburg",
         2012,
         43
        ],
        [
         "Stuttgart",
         2012,
         43
        ],
        [
         "Mainz",
         2012,
         42
        ],
        [
         "Werder Bremen",
         2012,
         34
        ],
        [
         "Augsburg",
         2012,
         33
        ],
        [
         "Hoffenheim",
         2012,
         31
        ],
        [
         "Fortuna Dusseldorf",
         2012,
         30
        ],
        [
         "Greuther Furth",
         2012,
         21
        ],
        [
         "Bayern Munich",
         2013,
         90
        ],
        [
         "Dortmund",
         2013,
         71
        ],
        [
         "Schalke 04",
         2013,
         64
        ],
        [
         "Leverkusen",
         2013,
         61
        ],
        [
         "Wolfsburg",
         2013,
         60
        ],
        [
         "M'gladbach",
         2013,
         55
        ],
        [
         "Mainz",
         2013,
         53
        ],
        [
         "Augsburg",
         2013,
         52
        ],
        [
         "Hoffenheim",
         2013,
         44
        ],
        [
         "Hannover",
         2013,
         42
        ],
        [
         "Hertha",
         2013,
         41
        ],
        [
         "Werder Bremen",
         2013,
         39
        ],
        [
         "Freiburg",
         2013,
         36
        ],
        [
         "Ein Frankfurt",
         2013,
         36
        ],
        [
         "Stuttgart",
         2013,
         32
        ],
        [
         "Hamburg",
         2013,
         27
        ],
        [
         "Nurnberg",
         2013,
         26
        ],
        [
         "Braunschweig",
         2013,
         25
        ],
        [
         "Bayern Munich",
         2014,
         79
        ],
        [
         "Wolfsburg",
         2014,
         69
        ],
        [
         "M'gladbach",
         2014,
         66
        ],
        [
         "Leverkusen",
         2014,
         61
        ],
        [
         "Augsburg",
         2014,
         49
        ],
        [
         "Schalke 04",
         2014,
         48
        ],
        [
         "Dortmund",
         2014,
         46
        ],
        [
         "Hoffenheim",
         2014,
         44
        ],
        [
         "Ein Frankfurt",
         2014,
         43
        ],
        [
         "Werder Bremen",
         2014,
         43
        ],
        [
         "Mainz",
         2014,
         40
        ],
        [
         "FC Koln",
         2014,
         40
        ],
        [
         "Hannover",
         2014,
         37
        ],
        [
         "Stuttgart",
         2014,
         36
        ],
        [
         "Hertha",
         2014,
         35
        ],
        [
         "Hamburg",
         2014,
         35
        ],
        [
         "Freiburg",
         2014,
         34
        ],
        [
         "Paderborn",
         2014,
         31
        ],
        [
         "Bayern Munich",
         2015,
         88
        ],
        [
         "Dortmund",
         2015,
         78
        ],
        [
         "Leverkusen",
         2015,
         60
        ],
        [
         "M'gladbach",
         2015,
         55
        ],
        [
         "Schalke 04",
         2015,
         52
        ],
        [
         "Mainz",
         2015,
         50
        ],
        [
         "Hertha",
         2015,
         50
        ],
        [
         "Wolfsburg",
         2015,
         45
        ],
        [
         "FC Koln",
         2015,
         43
        ],
        [
         "Hamburg",
         2015,
         41
        ],
        [
         "Ingolstadt",
         2015,
         40
        ],
        [
         "Augsburg",
         2015,
         38
        ],
        [
         "Werder Bremen",
         2015,
         38
        ],
        [
         "Darmstadt",
         2015,
         38
        ],
        [
         "Hoffenheim",
         2015,
         37
        ],
        [
         "Ein Frankfurt",
         2015,
         36
        ],
        [
         "Stuttgart",
         2015,
         33
        ],
        [
         "Hannover",
         2015,
         25
        ],
        [
         "Bayern Munich",
         2016,
         82
        ],
        [
         "RB Leipzig",
         2016,
         67
        ],
        [
         "Dortmund",
         2016,
         64
        ],
        [
         "Hoffenheim",
         2016,
         62
        ],
        [
         "FC Koln",
         2016,
         49
        ],
        [
         "Hertha",
         2016,
         49
        ],
        [
         "Freiburg",
         2016,
         48
        ],
        [
         "M'gladbach",
         2016,
         45
        ],
        [
         "Werder Bremen",
         2016,
         45
        ],
        [
         "Schalke 04",
         2016,
         43
        ],
        [
         "Ein Frankfurt",
         2016,
         42
        ],
        [
         "Leverkusen",
         2016,
         41
        ],
        [
         "Augsburg",
         2016,
         38
        ],
        [
         "Hamburg",
         2016,
         38
        ],
        [
         "Mainz",
         2016,
         37
        ],
        [
         "Wolfsburg",
         2016,
         37
        ],
        [
         "Ingolstadt",
         2016,
         32
        ],
        [
         "Darmstadt",
         2016,
         25
        ]
       ],
       "datasetInfos": [],
       "dbfsResultPath": null,
       "isJsonSchema": true,
       "metadata": {},
       "overflow": false,
       "plotOptions": {
        "customPlotOptions": {},
        "displayType": "table",
        "pivotAggregation": null,
        "pivotColumns": null,
        "xColumns": null,
        "yColumns": null
       },
       "removedWidgets": [],
       "schema": [
        {
         "metadata": "{}",
         "name": "Team",
         "type": "\"string\""
        },
        {
         "metadata": "{}",
         "name": "Season",
         "type": "\"long\""
        },
        {
         "metadata": "{}",
         "name": "Total Points",
         "type": "\"long\""
        }
       ],
       "type": "table"
      }
     },
     "output_type": "display_data"
    },
    {
     "output_type": "display_data",
     "data": {
      "text/html": [
       "<style scoped>\n",
       "  .table-result-container {\n",
       "    max-height: 300px;\n",
       "    overflow: auto;\n",
       "  }\n",
       "  table, th, td {\n",
       "    border: 1px solid black;\n",
       "    border-collapse: collapse;\n",
       "  }\n",
       "  th, td {\n",
       "    padding: 5px;\n",
       "  }\n",
       "  th {\n",
       "    text-align: left;\n",
       "  }\n",
       "</style><div class='table-result-container'><table class='table-result'><thead style='background-color: white'><tr><th>Team</th><th>Season</th><th>Total Points</th></tr></thead><tbody><tr><td>Bayern Munich</td><td>2007</td><td>76</td></tr><tr><td>Wolfsburg</td><td>2008</td><td>69</td></tr><tr><td>Bayern Munich</td><td>2009</td><td>70</td></tr><tr><td>Dortmund</td><td>2010</td><td>75</td></tr><tr><td>Dortmund</td><td>2011</td><td>81</td></tr><tr><td>Bayern Munich</td><td>2012</td><td>91</td></tr><tr><td>Bayern Munich</td><td>2013</td><td>90</td></tr><tr><td>Bayern Munich</td><td>2014</td><td>79</td></tr><tr><td>Bayern Munich</td><td>2015</td><td>88</td></tr><tr><td>Bayern Munich</td><td>2016</td><td>82</td></tr></tbody></table></div>"
      ]
     },
     "metadata": {
      "application/vnd.databricks.v1+output": {
       "addedWidgets": {},
       "aggData": [],
       "aggError": "",
       "aggOverflow": false,
       "aggSchema": [],
       "aggSeriesLimitReached": false,
       "aggType": "",
       "arguments": {},
       "columnCustomDisplayInfos": {},
       "data": [
        [
         "Bayern Munich",
         2007,
         76
        ],
        [
         "Wolfsburg",
         2008,
         69
        ],
        [
         "Bayern Munich",
         2009,
         70
        ],
        [
         "Dortmund",
         2010,
         75
        ],
        [
         "Dortmund",
         2011,
         81
        ],
        [
         "Bayern Munich",
         2012,
         91
        ],
        [
         "Bayern Munich",
         2013,
         90
        ],
        [
         "Bayern Munich",
         2014,
         79
        ],
        [
         "Bayern Munich",
         2015,
         88
        ],
        [
         "Bayern Munich",
         2016,
         82
        ]
       ],
       "datasetInfos": [],
       "dbfsResultPath": null,
       "isJsonSchema": true,
       "metadata": {},
       "overflow": false,
       "plotOptions": {
        "customPlotOptions": {},
        "displayType": "table",
        "pivotAggregation": null,
        "pivotColumns": null,
        "xColumns": null,
        "yColumns": null
       },
       "removedWidgets": [],
       "schema": [
        {
         "metadata": "{}",
         "name": "Team",
         "type": "\"string\""
        },
        {
         "metadata": "{}",
         "name": "Season",
         "type": "\"long\""
        },
        {
         "metadata": "{}",
         "name": "Total Points",
         "type": "\"long\""
        }
       ],
       "type": "table"
      }
     },
     "output_type": "display_data"
    }
   ],
   "source": [
    "# Union of the all points made by HomeTeam and AwayTeam\n",
    "dtTotalPoints = dtHomePoints.unionAll(dtAwayPoints)\n",
    "\n",
    "# Group by \"HomeTeam\" and \"Season\", aggregate sum of \"Points\" as \"Total Points\"\n",
    "# Order by \"Season\" and \"Total Points\" in descending order\n",
    "# Select columns \"HomeTeam\" as \"Team\", \"Season\", and \"Total Points\"\n",
    "\n",
    "dtClassification = (\n",
    "    dtTotalPoints\n",
    "    .groupBy(\"HomeTeam\", \"Season\")\n",
    "    .agg(sum(\"Points\").alias(\"Total Points\"))\n",
    "    .orderBy(\"Season\", desc(\"Total Points\"))\n",
    "    .select(col(\"HomeTeam\").alias(\"Team\"), \"Season\", \"Total Points\")\n",
    ")\n",
    "\n",
    "# Display dtClassification table\n",
    "dtClassification.display()\n",
    "\n",
    "# Defines and order the partition window by \"Total Points\" and \"Season\"\n",
    "window = Window.partitionBy(\"Season\").orderBy(col(\"Total Points\").desc())\n",
    "\n",
    "# Adds the column \"row_number\" to dtClassification\n",
    "winnerDt = dtClassification.withColumn(\"row_number\", row_number().over(window))\n",
    "\n",
    "# Filters the Winners (where the registry of the line is equal to one)\n",
    "# Selects columns \"Team\", \"Season\", and \"Total Points\"\n",
    "# Drops the column \"row_number\"\n",
    "\n",
    "winnerDt = (\n",
    "    dtClassification\n",
    "    .withColumn(\"row_number\", row_number().over(window))\n",
    "    .filter(col(\"row_number\") == 1)\n",
    "    .select(\"Team\", \"Season\", \"Total Points\")\n",
    "    .drop(\"row_number\")\n",
    ")\n",
    "\n",
    "# Display winnerDt table without truncating column values\n",
    "winnerDt.display(truncate=False)\n"
   ]
  },
  {
   "cell_type": "code",
   "execution_count": 0,
   "metadata": {
    "application/vnd.databricks.v1+cell": {
     "cellMetadata": {
      "byteLimit": 2048000,
      "rowLimit": 10000
     },
     "inputWidgets": {},
     "nuid": "abdbfcef-8237-4727-a3ec-e8a8d7a3b322",
     "showTitle": false,
     "title": ""
    }
   },
   "outputs": [
    {
     "output_type": "display_data",
     "data": {
      "text/html": [
       "<style scoped>\n",
       "  .table-result-container {\n",
       "    max-height: 300px;\n",
       "    overflow: auto;\n",
       "  }\n",
       "  table, th, td {\n",
       "    border: 1px solid black;\n",
       "    border-collapse: collapse;\n",
       "  }\n",
       "  th, td {\n",
       "    padding: 5px;\n",
       "  }\n",
       "  th {\n",
       "    text-align: left;\n",
       "  }\n",
       "</style><div class='table-result-container'><table class='table-result'><thead style='background-color: white'><tr><th>Team</th><th>Home Goals</th><th>Season</th></tr></thead><tbody><tr><td>Bayern Munich</td><td>56</td><td>2012</td></tr><tr><td>Bayern Munich</td><td>55</td><td>2016</td></tr><tr><td>Wolfsburg</td><td>51</td><td>2008</td></tr><tr><td>Bayern Munich</td><td>51</td><td>2015</td></tr><tr><td>Werder Bremen</td><td>50</td><td>2005</td></tr><tr><td>Bayern Munich</td><td>50</td><td>1999</td></tr><tr><td>Bayern Munich</td><td>49</td><td>2011</td></tr><tr><td>Dortmund</td><td>49</td><td>2015</td></tr><tr><td>Werder Bremen</td><td>48</td><td>2007</td></tr><tr><td>Bayern Munich</td><td>48</td><td>2010</td></tr><tr><td>Bayern Munich</td><td>48</td><td>2013</td></tr><tr><td>Bayern Munich</td><td>48</td><td>1998</td></tr><tr><td>Schalke 04</td><td>47</td><td>2011</td></tr><tr><td>Leverkusen</td><td>47</td><td>1996</td></tr><tr><td>Leverkusen</td><td>46</td><td>2001</td></tr><tr><td>Stuttgart</td><td>46</td><td>1996</td></tr><tr><td>Bayern Munich</td><td>46</td><td>2014</td></tr><tr><td>Bayern Munich</td><td>45</td><td>2008</td></tr><tr><td>Dortmund</td><td>45</td><td>1995</td></tr><tr><td>Werder Bremen</td><td>44</td><td>1994</td></tr><tr><td>Leverkusen</td><td>44</td><td>1999</td></tr><tr><td>Bayern Munich</td><td>44</td><td>1993</td></tr><tr><td>Dortmund</td><td>44</td><td>2011</td></tr><tr><td>Bayern Munich</td><td>44</td><td>2004</td></tr><tr><td>Hoffenheim</td><td>43</td><td>2013</td></tr><tr><td>Bayern Munich</td><td>43</td><td>2003</td></tr><tr><td>Werder Bremen</td><td>43</td><td>2008</td></tr><tr><td>Leverkusen</td><td>43</td><td>1997</td></tr><tr><td>Leverkusen</td><td>43</td><td>2003</td></tr><tr><td>Werder Bremen</td><td>42</td><td>2003</td></tr><tr><td>Leverkusen</td><td>42</td><td>2004</td></tr><tr><td>M'gladbach</td><td>42</td><td>2015</td></tr><tr><td>Bayern Munich</td><td>42</td><td>2001</td></tr><tr><td>Bayern Munich</td><td>42</td><td>2005</td></tr><tr><td>Dortmund</td><td>41</td><td>2016</td></tr><tr><td>Werder Bremen</td><td>41</td><td>1999</td></tr><tr><td>Dortmund</td><td>41</td><td>2013</td></tr><tr><td>Bayern Munich</td><td>41</td><td>2007</td></tr><tr><td>Dortmund</td><td>40</td><td>2012</td></tr><tr><td>Hertha</td><td>40</td><td>2001</td></tr><tr><td>Kaiserslautern</td><td>39</td><td>2001</td></tr><tr><td>Wolfsburg</td><td>39</td><td>2009</td></tr><tr><td>Dortmund</td><td>39</td><td>2003</td></tr><tr><td>Leverkusen</td><td>39</td><td>2014</td></tr><tr><td>Stuttgart</td><td>39</td><td>2007</td></tr><tr><td>Bayern Munich</td><td>39</td><td>2009</td></tr><tr><td>M'gladbach</td><td>38</td><td>2013</td></tr><tr><td>Freiburg</td><td>38</td><td>1994</td></tr><tr><td>Karlsruhe</td><td>38</td><td>1994</td></tr><tr><td>M'Gladbach</td><td>38</td><td>1993</td></tr><tr><td>Hertha</td><td>38</td><td>1998</td></tr><tr><td>Wolfsburg</td><td>38</td><td>2003</td></tr><tr><td>Wolfsburg</td><td>38</td><td>2000</td></tr><tr><td>Schalke 04</td><td>38</td><td>2001</td></tr><tr><td>Hertha</td><td>38</td><td>2000</td></tr><tr><td>Wolfsburg</td><td>38</td><td>2014</td></tr><tr><td>Dortmund</td><td>38</td><td>1996</td></tr><tr><td>Kaiserslautern</td><td>38</td><td>1993</td></tr><tr><td>M'gladbach</td><td>37</td><td>1994</td></tr><tr><td>Bayern Munich</td><td>37</td><td>1996</td></tr><tr><td>Leverkusen</td><td>37</td><td>2009</td></tr><tr><td>Bayern Munich</td><td>37</td><td>2000</td></tr><tr><td>Bayern Munich</td><td>37</td><td>2002</td></tr><tr><td>Wolfsburg</td><td>37</td><td>2013</td></tr><tr><td>Schalke 04</td><td>37</td><td>2013</td></tr><tr><td>Hamburg</td><td>37</td><td>1999</td></tr><tr><td>Ein Frankfurt</td><td>36</td><td>2014</td></tr><tr><td>Schalke 04</td><td>36</td><td>2000</td></tr><tr><td>Leverkusen</td><td>36</td><td>1993</td></tr><tr><td>Stuttgart</td><td>36</td><td>2011</td></tr><tr><td>Munich 1860</td><td>36</td><td>1999</td></tr><tr><td>Bayern Munich</td><td>36</td><td>1997</td></tr><tr><td>Dortmund</td><td>36</td><td>1997</td></tr><tr><td>Bochum</td><td>36</td><td>1996</td></tr><tr><td>Stuttgart</td><td>36</td><td>1994</td></tr><tr><td>Kaiserslautern</td><td>36</td><td>1997</td></tr><tr><td>Leverkusen</td><td>36</td><td>2012</td></tr><tr><td>Freiburg</td><td>36</td><td>2000</td></tr><tr><td>Leverkusen</td><td>35</td><td>2013</td></tr><tr><td>Schalke 04</td><td>35</td><td>2012</td></tr><tr><td>Dortmund</td><td>35</td><td>1994</td></tr><tr><td>Dortmund</td><td>35</td><td>2010</td></tr><tr><td>Dortmund</td><td>35</td><td>1998</td></tr><tr><td>Hoffenheim</td><td>35</td><td>2016</td></tr><tr><td>Wolfsburg</td><td>35</td><td>1998</td></tr><tr><td>FC Koln</td><td>35</td><td>1996</td></tr><tr><td>Hansa Rostock</td><td>35</td><td>1997</td></tr><tr><td>Bayern Munich</td><td>35</td><td>1995</td></tr><tr><td>RB Leipzig</td><td>35</td><td>2016</td></tr><tr><td>Wolfsburg</td><td>35</td><td>2004</td></tr><tr><td>Hertha</td><td>35</td><td>2002</td></tr><tr><td>Hamburg</td><td>35</td><td>2001</td></tr><tr><td>Dortmund</td><td>35</td><td>1993</td></tr><tr><td>M'gladbach</td><td>34</td><td>1996</td></tr><tr><td>FC Koln</td><td>34</td><td>1997</td></tr><tr><td>Dortmund</td><td>34</td><td>2000</td></tr><tr><td>Munich 1860</td><td>34</td><td>1996</td></tr><tr><td>Hansa Rostock</td><td>34</td><td>2003</td></tr><tr><td>Stuttgart</td><td>34</td><td>2008</td></tr><tr><td>Wolfsburg</td><td>34</td><td>2001</td></tr><tr><td>Dortmund</td><td>34</td><td>2008</td></tr><tr><td>Hertha</td><td>34</td><td>2004</td></tr><tr><td>Stuttgart</td><td>34</td><td>2004</td></tr><tr><td>Hannover</td><td>34</td><td>2012</td></tr><tr><td>Werder Bremen</td><td>34</td><td>2002</td></tr><tr><td>Werder Bremen</td><td>34</td><td>2009</td></tr><tr><td>Werder Bremen</td><td>33</td><td>2006</td></tr><tr><td>Leverkusen</td><td>33</td><td>2010</td></tr><tr><td>Werder Bremen</td><td>33</td><td>2000</td></tr><tr><td>Hamburg</td><td>33</td><td>2003</td></tr><tr><td>FC Koln</td><td>33</td><td>2000</td></tr><tr><td>Kaiserslautern</td><td>33</td><td>1998</td></tr><tr><td>Werder Bremen</td><td>33</td><td>2004</td></tr><tr><td>Schalke 04</td><td>33</td><td>2004</td></tr><tr><td>Stuttgart</td><td>33</td><td>2010</td></tr><tr><td>Leverkusen</td><td>33</td><td>1998</td></tr><tr><td>Hamburg</td><td>33</td><td>2000</td></tr><tr><td>Bayern Munich</td><td>32</td><td>1994</td></tr><tr><td>Kaiserslautern</td><td>32</td><td>1994</td></tr><tr><td>Leverkusen</td><td>32</td><td>2007</td></tr><tr><td>Freiburg</td><td>32</td><td>2003</td></tr><tr><td>M'gladbach</td><td>32</td><td>2014</td></tr><tr><td>Bochum</td><td>32</td><td>2007</td></tr><tr><td>Hannover</td><td>32</td><td>2007</td></tr><tr><td>Wolfsburg</td><td>32</td><td>2015</td></tr><tr><td>Karlsruhe</td><td>32</td><td>1996</td></tr><tr><td>Hannover</td><td>32</td><td>2010</td></tr><tr><td>Duisburg</td><td>32</td><td>1998</td></tr><tr><td>Schalke 04</td><td>32</td><td>2005</td></tr><tr><td>Ein Frankfurt</td><td>32</td><td>2012</td></tr><tr><td>FC Koln</td><td>31</td><td>1994</td></tr><tr><td>Werder Bremen</td><td>31</td><td>2011</td></tr><tr><td>Wattenscheid</td><td>31</td><td>1993</td></tr><tr><td>Dortmund</td><td>31</td><td>2002</td></tr><tr><td>Mainz</td><td>31</td><td>2005</td></tr><tr><td>Munich 1860</td><td>31</td><td>2001</td></tr><tr><td>M'gladbach</td><td>31</td><td>2002</td></tr><tr><td>Hannover</td><td>31</td><td>2008</td></tr><tr><td>Hoffenheim</td><td>31</td><td>2014</td></tr><tr><td>Stuttgart</td><td>31</td><td>2000</td></tr><tr><td>Kaiserslautern</td><td>31</td><td>1999</td></tr><tr><td>Leverkusen</td><td>31</td><td>2008</td></tr><tr><td>Nurnberg</td><td>31</td><td>2005</td></tr><tr><td>Hamburg</td><td>31</td><td>1993</td></tr><tr><td>Leverkusen</td><td>31</td><td>1994</td></tr><tr><td>Dortmund</td><td>31</td><td>2001</td></tr><tr><td>Hannover</td><td>31</td><td>2011</td></tr><tr><td>Leverkusen</td><td>31</td><td>2015</td></tr><tr><td>Munich 1860</td><td>31</td><td>1995</td></tr><tr><td>Stuttgart</td><td>31</td><td>1993</td></tr><tr><td>Werder Bremen</td><td>31</td><td>1993</td></tr><tr><td>Hamburg</td><td>30</td><td>2007</td></tr><tr><td>Mainz</td><td>30</td><td>2016</td></tr><tr><td>Hertha</td><td>30</td><td>2005</td></tr><tr><td>Hoffenheim</td><td>30</td><td>2008</td></tr><tr><td>FC Koln</td><td>30</td><td>2010</td></tr><tr><td>Hamburg</td><td>30</td><td>2002</td></tr><tr><td>Bochum</td><td>30</td><td>2003</td></tr><tr><td>Hansa Rostock</td><td>30</td><td>1998</td></tr><tr><td>Leverkusen</td><td>30</td><td>2000</td></tr><tr><td>Stuttgart</td><td>30</td><td>2002</td></tr><tr><td>Schalke 04</td><td>30</td><td>2006</td></tr><tr><td>Leverkusen</td><td>30</td><td>2005</td></tr><tr><td>Stuttgart</td><td>30</td><td>2006</td></tr><tr><td>Bochum</td><td>30</td><td>2004</td></tr><tr><td>Ein Frankfurt</td><td>29</td><td>1995</td></tr><tr><td>FC Koln</td><td>29</td><td>2016</td></tr><tr><td>Bielefeld</td><td>29</td><td>2006</td></tr><tr><td>Dortmund</td><td>29</td><td>2007</td></tr><tr><td>Schalke 04</td><td>29</td><td>2009</td></tr><tr><td>Freiburg</td><td>29</td><td>1993</td></tr><tr><td>Freiburg</td><td>29</td><td>1999</td></tr><tr><td>M'gladbach</td><td>29</td><td>2011</td></tr><tr><td>Schalke 04</td><td>29</td><td>2016</td></tr><tr><td>Stuttgart</td><td>29</td><td>2003</td></tr><tr><td>Wolfsburg</td><td>29</td><td>2011</td></tr><tr><td>Bayern Munich</td><td>29</td><td>2006</td></tr><tr><td>Werder Bremen</td><td>29</td><td>2001</td></tr><tr><td>Hamburg</td><td>29</td><td>1995</td></tr><tr><td>Ein Frankfurt</td><td>29</td><td>1993</td></tr><tr><td>M'gladbach</td><td>29</td><td>1995</td></tr><tr><td>Bielefeld</td><td>29</td><td>1997</td></tr><tr><td>Karlsruhe</td><td>29</td><td>1993</td></tr><tr><td>Dortmund</td><td>29</td><td>2009</td></tr><tr><td>Hertha</td><td>29</td><td>2008</td></tr><tr><td>Wolfsburg</td><td>29</td><td>1999</td></tr><tr><td>Ein Frankfurt</td><td>29</td><td>1999</td></tr><tr><td>Hamburg</td><td>29</td><td>2010</td></tr><tr><td>Schalke 04</td><td>29</td><td>2007</td></tr><tr><td>Stuttgart</td><td>29</td><td>1995</td></tr><tr><td>Hertha</td><td>29</td><td>2006</td></tr><tr><td>Schalke 04</td><td>28</td><td>1995</td></tr><tr><td>Hertha</td><td>28</td><td>2016</td></tr><tr><td>Ein Frankfurt</td><td>28</td><td>1994</td></tr><tr><td>Hoffenheim</td><td>28</td><td>2010</td></tr><tr><td>Leverkusen</td><td>28</td><td>2011</td></tr><tr><td>Wolfsburg</td><td>28</td><td>2007</td></tr><tr><td>Stuttgart</td><td>28</td><td>2009</td></tr><tr><td>Augsburg</td><td>28</td><td>2014</td></tr><tr><td>Schalke 04</td><td>28</td><td>1994</td></tr><tr><td>Stuttgart</td><td>28</td><td>2013</td></tr><tr><td>Munich 1860</td><td>28</td><td>1998</td></tr><tr><td>Leverkusen</td><td>28</td><td>2006</td></tr><tr><td>Hamburg</td><td>28</td><td>1996</td></tr><tr><td>Mainz</td><td>28</td><td>2004</td></tr><tr><td>Karlsruhe</td><td>28</td><td>1995</td></tr><tr><td>Nurnberg</td><td>28</td><td>2010</td></tr><tr><td>Schalke 04</td><td>28</td><td>2003</td></tr><tr><td>Hannover</td><td>28</td><td>2002</td></tr><tr><td>Mainz</td><td>28</td><td>2013</td></tr><tr><td>Schalke 04</td><td>28</td><td>2015</td></tr><tr><td>Werder Bremen</td><td>28</td><td>2016</td></tr><tr><td>Aachen</td><td>28</td><td>2006</td></tr><tr><td>M'gladbach</td><td>27</td><td>2012</td></tr><tr><td>Hannover</td><td>27</td><td>2003</td></tr><tr><td>Mainz</td><td>27</td><td>2014</td></tr><tr><td>Mainz</td><td>27</td><td>2011</td></tr><tr><td>Hannover</td><td>27</td><td>2009</td></tr><tr><td>Wolfsburg</td><td>27</td><td>2010</td></tr><tr><td>Leverkusen</td><td>27</td><td>2002</td></tr><tr><td>Augsburg</td><td>27</td><td>2013</td></tr><tr><td>Hannover</td><td>27</td><td>2013</td></tr><tr><td>Werder Bremen</td><td>27</td><td>1996</td></tr><tr><td>Stuttgart</td><td>27</td><td>1997</td></tr><tr><td>Hamburg</td><td>27</td><td>2008</td></tr><tr><td>Hannover</td><td>27</td><td>2005</td></tr><tr><td>Werder Bremen</td><td>27</td><td>2015</td></tr><tr><td>Werder Bremen</td><td>27</td><td>1997</td></tr><tr><td>M'gladbach</td><td>27</td><td>2005</td></tr><tr><td>Cottbus</td><td>27</td><td>2000</td></tr><tr><td>Hamburg</td><td>27</td><td>2004</td></tr><tr><td>Leverkusen</td><td>27</td><td>2016</td></tr><tr><td>Cottbus</td><td>27</td><td>2001</td></tr><tr><td>M'gladbach</td><td>27</td><td>1997</td></tr><tr><td>Ein Frankfurt</td><td>26</td><td>1998</td></tr><tr><td>Kaiserslautern</td><td>26</td><td>2005</td></tr><tr><td>M'gladbach</td><td>26</td><td>2004</td></tr><tr><td>Ein Frankfurt</td><td>26</td><td>2000</td></tr><tr><td>M'gladbach</td><td>26</td><td>2016</td></tr><tr><td>Wolfsburg</td><td>26</td><td>2002</td></tr><tr><td>Werder Bremen</td><td>26</td><td>2010</td></tr><tr><td>Uerdingen</td><td>26</td><td>1995</td></tr><tr><td>Nurnberg</td><td>26</td><td>2006</td></tr><tr><td>M'gladbach</td><td>26</td><td>2010</td></tr><tr><td>Hertha</td><td>26</td><td>2003</td></tr><tr><td>Schalke 04</td><td>26</td><td>2014</td></tr><tr><td>Bochum</td><td>26</td><td>2002</td></tr><tr><td>Hamburg</td><td>26</td><td>2005</td></tr><tr><td>Munich 1860</td><td>26</td><td>1994</td></tr><tr><td>Ein Frankfurt</td><td>26</td><td>2008</td></tr><tr><td>Karlsruhe</td><td>26</td><td>1997</td></tr><tr><td>Schalke 04</td><td>26</td><td>2008</td></tr><tr><td>Dortmund</td><td>26</td><td>2014</td></tr><tr><td>Hoffenheim</td><td>26</td><td>2009</td></tr><tr><td>Ein Frankfurt</td><td>25</td><td>2003</td></tr><tr><td>Stuttgart</td><td>25</td><td>1998</td></tr><tr><td>Cottbus</td><td>25</td><td>2007</td></tr><tr><td>Hamburg</td><td>25</td><td>1998</td></tr><tr><td>Werder Bremen</td><td>25</td><td>2014</td></tr><tr><td>Kaiserslautern</td><td>25</td><td>2010</td></tr><tr><td>FC Koln</td><td>25</td><td>1993</td></tr><tr><td>Hansa Rostock</td><td>25</td><td>1999</td></tr><tr><td>Freiburg</td><td>25</td><td>2013</td></tr><tr><td>Duisburg</td><td>25</td><td>1996</td></tr><tr><td>Freiburg</td><td>25</td><td>2001</td></tr><tr><td>Ein Frankfurt</td><td>25</td><td>2009</td></tr><tr><td>Kaiserslautern</td><td>25</td><td>2003</td></tr><tr><td>M'gladbach</td><td>25</td><td>2009</td></tr><tr><td>Nurnberg</td><td>25</td><td>2004</td></tr><tr><td>M'gladbach</td><td>25</td><td>1998</td></tr><tr><td>Hertha</td><td>25</td><td>1997</td></tr><tr><td>Stuttgart</td><td>25</td><td>2001</td></tr><tr><td>Freiburg</td><td>25</td><td>2012</td></tr><tr><td>Nurnberg</td><td>25</td><td>1993</td></tr><tr><td>Hamburg</td><td>25</td><td>2009</td></tr><tr><td>Freiburg</td><td>24</td><td>2011</td></tr><tr><td>Ein Frankfurt</td><td>24</td><td>2005</td></tr><tr><td>Munich 1860</td><td>24</td><td>1997</td></tr><tr><td>Schalke 04</td><td>24</td><td>2010</td></tr><tr><td>St Pauli</td><td>24</td><td>1995</td></tr><tr><td>Ein Frankfurt</td><td>24</td><td>2016</td></tr><tr><td>Hertha</td><td>24</td><td>2015</td></tr><tr><td>Schalke 04</td><td>24</td><td>1997</td></tr><tr><td>Hamburg</td><td>24</td><td>2013</td></tr><tr><td>Fortuna Dusseldorf</td><td>24</td><td>2012</td></tr><tr><td>Fortuna Dusseldorf</td><td>24</td><td>1995</td></tr><tr><td>Hamburg</td><td>24</td><td>1994</td></tr><tr><td>Dortmund</td><td>24</td><td>2004</td></tr><tr><td>Freiburg</td><td>24</td><td>2010</td></tr><tr><td>FC Koln</td><td>24</td><td>2005</td></tr><tr><td>Kaiserslautern</td><td>24</td><td>2000</td></tr><tr><td>St Pauli</td><td>24</td><td>1996</td></tr><tr><td>Ein Frankfurt</td><td>24</td><td>2007</td></tr><tr><td>Nurnberg</td><td>24</td><td>2012</td></tr><tr><td>Werder Bremen</td><td>23</td><td>2012</td></tr><tr><td>Schalke 04</td><td>23</td><td>1993</td></tr><tr><td>Hertha</td><td>23</td><td>1999</td></tr><tr><td>Hansa Rostock</td><td>23</td><td>1995</td></tr><tr><td>M'gladbach</td><td>23</td><td>2008</td></tr><tr><td>Mainz</td><td>23</td><td>2015</td></tr><tr><td>Uerdingen</td><td>23</td><td>1994</td></tr><tr><td>Dortmund</td><td>23</td><td>2005</td></tr><tr><td>Karlsruhe</td><td>23</td><td>2007</td></tr><tr><td>Schalke 04</td><td>23</td><td>2002</td></tr><tr><td>Kaiserslautern</td><td>23</td><td>2002</td></tr><tr><td>Bochum</td><td>23</td><td>2008</td></tr><tr><td>Freiburg</td><td>23</td><td>1996</td></tr><tr><td>Munich 1860</td><td>23</td><td>2000</td></tr><tr><td>Bochum</td><td>23</td><td>2006</td></tr><tr><td>Nurnberg</td><td>23</td><td>1998</td></tr><tr><td>Bielefeld</td><td>23</td><td>1996</td></tr><tr><td>Bielefeld</td><td>23</td><td>2002</td></tr><tr><td>Freiburg</td><td>23</td><td>2016</td></tr><tr><td>Werder Bremen</td><td>23</td><td>1998</td></tr><tr><td>Hannover</td><td>23</td><td>2006</td></tr><tr><td>Bochum</td><td>23</td><td>1997</td></tr><tr><td>FC Koln</td><td>22</td><td>2003</td></tr><tr><td>Augsburg</td><td>22</td><td>2016</td></tr><tr><td>Stuttgart</td><td>22</td><td>2015</td></tr><tr><td>Ein Frankfurt</td><td>22</td><td>2015</td></tr><tr><td>Hamburg</td><td>22</td><td>2006</td></tr><tr><td>Mainz</td><td>22</td><td>2012</td></tr><tr><td>Munich 1860</td><td>22</td><td>2002</td></tr><tr><td>Ingolstadt</td><td>22</td><td>2015</td></tr><tr><td>Stuttgart</td><td>22</td><td>1999</td></tr><tr><td>Mainz</td><td>22</td><td>2010</td></tr><tr><td>Bielefeld</td><td>22</td><td>1999</td></tr><tr><td>Hoffenheim</td><td>22</td><td>2015</td></tr><tr><td>Hansa Rostock</td><td>22</td><td>2000</td></tr><tr><td>Mainz</td><td>22</td><td>2009</td></tr><tr><td>Nurnberg</td><td>22</td><td>2011</td></tr><tr><td>Wolfsburg</td><td>22</td><td>2006</td></tr><tr><td>Werder Bremen</td><td>22</td><td>1995</td></tr><tr><td>Ein Frankfurt</td><td>22</td><td>2013</td></tr><tr><td>Unterhaching</td><td>22</td><td>1999</td></tr><tr><td>Ulm</td><td>22</td><td>1999</td></tr><tr><td>Bielefeld</td><td>21</td><td>2007</td></tr><tr><td>Freiburg</td><td>21</td><td>2014</td></tr><tr><td>Bielefeld</td><td>21</td><td>2004</td></tr><tr><td>Schalke 04</td><td>21</td><td>1999</td></tr><tr><td>St Pauli</td><td>21</td><td>2010</td></tr><tr><td>Dortmund</td><td>21</td><td>1999</td></tr><tr><td>M'gladbach</td><td>21</td><td>2003</td></tr><tr><td>Ein Frankfurt</td><td>21</td><td>2006</td></tr><tr><td>Ingolstadt</td><td>21</td><td>2016</td></tr><tr><td>Unterhaching</td><td>21</td><td>2000</td></tr><tr><td>Cottbus</td><td>21</td><td>2006</td></tr><tr><td>Hannover</td><td>21</td><td>2004</td></tr><tr><td>Werder Bremen</td><td>21</td><td>2013</td></tr><tr><td>Hoffenheim</td><td>21</td><td>2012</td></tr><tr><td>Nurnberg</td><td>21</td><td>2007</td></tr><tr><td>Duisburg</td><td>21</td><td>1997</td></tr><tr><td>Bochum</td><td>21</td><td>1994</td></tr><tr><td>Hannover</td><td>21</td><td>2014</td></tr><tr><td>Hamburg</td><td>21</td><td>2016</td></tr><tr><td>Wolfsburg</td><td>21</td><td>2012</td></tr><tr><td>Hoffenheim</td><td>21</td><td>2011</td></tr><tr><td>Nurnberg</td><td>21</td><td>2001</td></tr><tr><td>Hertha</td><td>21</td><td>2007</td></tr><tr><td>Bochum</td><td>21</td><td>1998</td></tr><tr><td>M'gladbach</td><td>21</td><td>2001</td></tr><tr><td>Duisburg</td><td>21</td><td>1993</td></tr><tr><td>Paderborn</td><td>21</td><td>2014</td></tr><tr><td>Mainz</td><td>20</td><td>2006</td></tr><tr><td>Hansa Rostock</td><td>20</td><td>2001</td></tr><tr><td>Hamburg</td><td>20</td><td>2015</td></tr><tr><td>Hamburg</td><td>20</td><td>1997</td></tr><tr><td>Bochum</td><td>20</td><td>2000</td></tr><tr><td>Augsburg</td><td>20</td><td>2011</td></tr><tr><td>FC Koln</td><td>20</td><td>2011</td></tr><tr><td>Dresden</td><td>20</td><td>1993</td></tr><tr><td>Hertha</td><td>20</td><td>2013</td></tr><tr><td>Kaiserslautern</td><td>20</td><td>2004</td></tr><tr><td>Stuttgart</td><td>20</td><td>2012</td></tr><tr><td>RB Leipzig</td><td>20</td><td>1993</td></tr><tr><td>Hansa Rostock</td><td>20</td><td>2002</td></tr><tr><td>Schalke 04</td><td>20</td><td>1998</td></tr><tr><td>Hansa Rostock</td><td>20</td><td>1996</td></tr><tr><td>Duisburg</td><td>20</td><td>1999</td></tr><tr><td>Kaiserslautern</td><td>19</td><td>1995</td></tr><tr><td>St Pauli</td><td>19</td><td>2001</td></tr><tr><td>Hertha</td><td>19</td><td>2011</td></tr><tr><td>Dortmund</td><td>19</td><td>2006</td></tr><tr><td>Cottbus</td><td>19</td><td>2008</td></tr><tr><td>Schalke 04</td><td>19</td><td>1996</td></tr><tr><td>Augsburg</td><td>19</td><td>2012</td></tr><tr><td>Hamburg</td><td>19</td><td>2011</td></tr><tr><td>Duisburg</td><td>19</td><td>2007</td></tr><tr><td>Duisburg</td><td>19</td><td>1994</td></tr><tr><td>Augsburg</td><td>18</td><td>2015</td></tr><tr><td>Nurnberg</td><td>18</td><td>2009</td></tr><tr><td>Stuttgart</td><td>18</td><td>2005</td></tr><tr><td>Freiburg</td><td>18</td><td>2004</td></tr><tr><td>Karlsruhe</td><td>18</td><td>2008</td></tr><tr><td>Hamburg</td><td>18</td><td>2012</td></tr><tr><td>Bochum</td><td>18</td><td>2009</td></tr><tr><td>FC Koln</td><td>18</td><td>1995</td></tr><tr><td>Darmstadt</td><td>18</td><td>2016</td></tr><tr><td>FC Koln</td><td>18</td><td>2009</td></tr><tr><td>Braunschweig</td><td>18</td><td>2013</td></tr><tr><td>Bielefeld</td><td>18</td><td>2005</td></tr><tr><td>Stuttgart</td><td>18</td><td>2014</td></tr><tr><td>FC Koln</td><td>18</td><td>2014</td></tr><tr><td>Dresden</td><td>17</td><td>1994</td></tr><tr><td>Wolfsburg</td><td>17</td><td>1997</td></tr><tr><td>Freiburg</td><td>17</td><td>1995</td></tr><tr><td>Hansa Rostock</td><td>17</td><td>2007</td></tr><tr><td>Freiburg</td><td>17</td><td>1998</td></tr><tr><td>Duisburg</td><td>17</td><td>2005</td></tr><tr><td>Fortuna Dusseldorf</td><td>17</td><td>1996</td></tr><tr><td>Hertha</td><td>17</td><td>2014</td></tr><tr><td>Hansa Rostock</td><td>17</td><td>2004</td></tr><tr><td>Cottbus</td><td>17</td><td>2002</td></tr><tr><td>Nurnberg</td><td>16</td><td>2013</td></tr><tr><td>Munich 1860</td><td>16</td><td>2003</td></tr><tr><td>Leverkusen</td><td>16</td><td>1995</td></tr><tr><td>Wolfsburg</td><td>16</td><td>2005</td></tr><tr><td>Bielefeld</td><td>16</td><td>2008</td></tr><tr><td>FC Koln</td><td>16</td><td>2015</td></tr><tr><td>FC Koln</td><td>16</td><td>2001</td></tr><tr><td>Nurnberg</td><td>16</td><td>2002</td></tr><tr><td>Hamburg</td><td>16</td><td>2014</td></tr><tr><td>Wolfsburg</td><td>15</td><td>2016</td></tr><tr><td>M'gladbach</td><td>15</td><td>2006</td></tr><tr><td>Hannover</td><td>15</td><td>2015</td></tr><tr><td>Darmstadt</td><td>15</td><td>2015</td></tr><tr><td>FC Koln</td><td>14</td><td>2008</td></tr><tr><td>Freiburg</td><td>14</td><td>2009</td></tr><tr><td>Ein Frankfurt</td><td>13</td><td>2010</td></tr><tr><td>Kaiserslautern</td><td>12</td><td>2011</td></tr><tr><td>Hertha</td><td>10</td><td>2009</td></tr><tr><td>Greuther Furth</td><td>10</td><td>2012</td></tr><tr><td>Augsburg</td><td>-17</td><td>2017</td></tr><tr><td>Stuttgart</td><td>-17</td><td>2017</td></tr><tr><td>Wolfsburg</td><td>-17</td><td>2017</td></tr><tr><td>Ein Frankfurt</td><td>-17</td><td>2017</td></tr><tr><td>Dortmund</td><td>-17</td><td>2017</td></tr><tr><td>Bayern Munich</td><td>-17</td><td>2017</td></tr><tr><td>Schalke 04</td><td>-17</td><td>2017</td></tr><tr><td>RB Leipzig</td><td>-17</td><td>2017</td></tr><tr><td>Hannover</td><td>-17</td><td>2017</td></tr><tr><td>Hamburg</td><td>-17</td><td>2017</td></tr><tr><td>Leverkusen</td><td>-17</td><td>2017</td></tr><tr><td>Werder Bremen</td><td>-17</td><td>2017</td></tr><tr><td>FC Koln</td><td>-17</td><td>2017</td></tr><tr><td>Hoffenheim</td><td>-17</td><td>2017</td></tr><tr><td>Freiburg</td><td>-17</td><td>2017</td></tr><tr><td>Mainz</td><td>-17</td><td>2017</td></tr><tr><td>Hertha</td><td>-17</td><td>2017</td></tr><tr><td>M'gladbach</td><td>-17</td><td>2017</td></tr></tbody></table></div>"
      ]
     },
     "metadata": {
      "application/vnd.databricks.v1+output": {
       "addedWidgets": {},
       "aggData": [],
       "aggError": "",
       "aggOverflow": false,
       "aggSchema": [],
       "aggSeriesLimitReached": false,
       "aggType": "",
       "arguments": {},
       "columnCustomDisplayInfos": {},
       "data": [
        [
         "Bayern Munich",
         56,
         2012
        ],
        [
         "Bayern Munich",
         55,
         2016
        ],
        [
         "Wolfsburg",
         51,
         2008
        ],
        [
         "Bayern Munich",
         51,
         2015
        ],
        [
         "Werder Bremen",
         50,
         2005
        ],
        [
         "Bayern Munich",
         50,
         1999
        ],
        [
         "Bayern Munich",
         49,
         2011
        ],
        [
         "Dortmund",
         49,
         2015
        ],
        [
         "Werder Bremen",
         48,
         2007
        ],
        [
         "Bayern Munich",
         48,
         2010
        ],
        [
         "Bayern Munich",
         48,
         2013
        ],
        [
         "Bayern Munich",
         48,
         1998
        ],
        [
         "Schalke 04",
         47,
         2011
        ],
        [
         "Leverkusen",
         47,
         1996
        ],
        [
         "Leverkusen",
         46,
         2001
        ],
        [
         "Stuttgart",
         46,
         1996
        ],
        [
         "Bayern Munich",
         46,
         2014
        ],
        [
         "Bayern Munich",
         45,
         2008
        ],
        [
         "Dortmund",
         45,
         1995
        ],
        [
         "Werder Bremen",
         44,
         1994
        ],
        [
         "Leverkusen",
         44,
         1999
        ],
        [
         "Bayern Munich",
         44,
         1993
        ],
        [
         "Dortmund",
         44,
         2011
        ],
        [
         "Bayern Munich",
         44,
         2004
        ],
        [
         "Hoffenheim",
         43,
         2013
        ],
        [
         "Bayern Munich",
         43,
         2003
        ],
        [
         "Werder Bremen",
         43,
         2008
        ],
        [
         "Leverkusen",
         43,
         1997
        ],
        [
         "Leverkusen",
         43,
         2003
        ],
        [
         "Werder Bremen",
         42,
         2003
        ],
        [
         "Leverkusen",
         42,
         2004
        ],
        [
         "M'gladbach",
         42,
         2015
        ],
        [
         "Bayern Munich",
         42,
         2001
        ],
        [
         "Bayern Munich",
         42,
         2005
        ],
        [
         "Dortmund",
         41,
         2016
        ],
        [
         "Werder Bremen",
         41,
         1999
        ],
        [
         "Dortmund",
         41,
         2013
        ],
        [
         "Bayern Munich",
         41,
         2007
        ],
        [
         "Dortmund",
         40,
         2012
        ],
        [
         "Hertha",
         40,
         2001
        ],
        [
         "Kaiserslautern",
         39,
         2001
        ],
        [
         "Wolfsburg",
         39,
         2009
        ],
        [
         "Dortmund",
         39,
         2003
        ],
        [
         "Leverkusen",
         39,
         2014
        ],
        [
         "Stuttgart",
         39,
         2007
        ],
        [
         "Bayern Munich",
         39,
         2009
        ],
        [
         "M'gladbach",
         38,
         2013
        ],
        [
         "Freiburg",
         38,
         1994
        ],
        [
         "Karlsruhe",
         38,
         1994
        ],
        [
         "M'Gladbach",
         38,
         1993
        ],
        [
         "Hertha",
         38,
         1998
        ],
        [
         "Wolfsburg",
         38,
         2003
        ],
        [
         "Wolfsburg",
         38,
         2000
        ],
        [
         "Schalke 04",
         38,
         2001
        ],
        [
         "Hertha",
         38,
         2000
        ],
        [
         "Wolfsburg",
         38,
         2014
        ],
        [
         "Dortmund",
         38,
         1996
        ],
        [
         "Kaiserslautern",
         38,
         1993
        ],
        [
         "M'gladbach",
         37,
         1994
        ],
        [
         "Bayern Munich",
         37,
         1996
        ],
        [
         "Leverkusen",
         37,
         2009
        ],
        [
         "Bayern Munich",
         37,
         2000
        ],
        [
         "Bayern Munich",
         37,
         2002
        ],
        [
         "Wolfsburg",
         37,
         2013
        ],
        [
         "Schalke 04",
         37,
         2013
        ],
        [
         "Hamburg",
         37,
         1999
        ],
        [
         "Ein Frankfurt",
         36,
         2014
        ],
        [
         "Schalke 04",
         36,
         2000
        ],
        [
         "Leverkusen",
         36,
         1993
        ],
        [
         "Stuttgart",
         36,
         2011
        ],
        [
         "Munich 1860",
         36,
         1999
        ],
        [
         "Bayern Munich",
         36,
         1997
        ],
        [
         "Dortmund",
         36,
         1997
        ],
        [
         "Bochum",
         36,
         1996
        ],
        [
         "Stuttgart",
         36,
         1994
        ],
        [
         "Kaiserslautern",
         36,
         1997
        ],
        [
         "Leverkusen",
         36,
         2012
        ],
        [
         "Freiburg",
         36,
         2000
        ],
        [
         "Leverkusen",
         35,
         2013
        ],
        [
         "Schalke 04",
         35,
         2012
        ],
        [
         "Dortmund",
         35,
         1994
        ],
        [
         "Dortmund",
         35,
         2010
        ],
        [
         "Dortmund",
         35,
         1998
        ],
        [
         "Hoffenheim",
         35,
         2016
        ],
        [
         "Wolfsburg",
         35,
         1998
        ],
        [
         "FC Koln",
         35,
         1996
        ],
        [
         "Hansa Rostock",
         35,
         1997
        ],
        [
         "Bayern Munich",
         35,
         1995
        ],
        [
         "RB Leipzig",
         35,
         2016
        ],
        [
         "Wolfsburg",
         35,
         2004
        ],
        [
         "Hertha",
         35,
         2002
        ],
        [
         "Hamburg",
         35,
         2001
        ],
        [
         "Dortmund",
         35,
         1993
        ],
        [
         "M'gladbach",
         34,
         1996
        ],
        [
         "FC Koln",
         34,
         1997
        ],
        [
         "Dortmund",
         34,
         2000
        ],
        [
         "Munich 1860",
         34,
         1996
        ],
        [
         "Hansa Rostock",
         34,
         2003
        ],
        [
         "Stuttgart",
         34,
         2008
        ],
        [
         "Wolfsburg",
         34,
         2001
        ],
        [
         "Dortmund",
         34,
         2008
        ],
        [
         "Hertha",
         34,
         2004
        ],
        [
         "Stuttgart",
         34,
         2004
        ],
        [
         "Hannover",
         34,
         2012
        ],
        [
         "Werder Bremen",
         34,
         2002
        ],
        [
         "Werder Bremen",
         34,
         2009
        ],
        [
         "Werder Bremen",
         33,
         2006
        ],
        [
         "Leverkusen",
         33,
         2010
        ],
        [
         "Werder Bremen",
         33,
         2000
        ],
        [
         "Hamburg",
         33,
         2003
        ],
        [
         "FC Koln",
         33,
         2000
        ],
        [
         "Kaiserslautern",
         33,
         1998
        ],
        [
         "Werder Bremen",
         33,
         2004
        ],
        [
         "Schalke 04",
         33,
         2004
        ],
        [
         "Stuttgart",
         33,
         2010
        ],
        [
         "Leverkusen",
         33,
         1998
        ],
        [
         "Hamburg",
         33,
         2000
        ],
        [
         "Bayern Munich",
         32,
         1994
        ],
        [
         "Kaiserslautern",
         32,
         1994
        ],
        [
         "Leverkusen",
         32,
         2007
        ],
        [
         "Freiburg",
         32,
         2003
        ],
        [
         "M'gladbach",
         32,
         2014
        ],
        [
         "Bochum",
         32,
         2007
        ],
        [
         "Hannover",
         32,
         2007
        ],
        [
         "Wolfsburg",
         32,
         2015
        ],
        [
         "Karlsruhe",
         32,
         1996
        ],
        [
         "Hannover",
         32,
         2010
        ],
        [
         "Duisburg",
         32,
         1998
        ],
        [
         "Schalke 04",
         32,
         2005
        ],
        [
         "Ein Frankfurt",
         32,
         2012
        ],
        [
         "FC Koln",
         31,
         1994
        ],
        [
         "Werder Bremen",
         31,
         2011
        ],
        [
         "Wattenscheid",
         31,
         1993
        ],
        [
         "Dortmund",
         31,
         2002
        ],
        [
         "Mainz",
         31,
         2005
        ],
        [
         "Munich 1860",
         31,
         2001
        ],
        [
         "M'gladbach",
         31,
         2002
        ],
        [
         "Hannover",
         31,
         2008
        ],
        [
         "Hoffenheim",
         31,
         2014
        ],
        [
         "Stuttgart",
         31,
         2000
        ],
        [
         "Kaiserslautern",
         31,
         1999
        ],
        [
         "Leverkusen",
         31,
         2008
        ],
        [
         "Nurnberg",
         31,
         2005
        ],
        [
         "Hamburg",
         31,
         1993
        ],
        [
         "Leverkusen",
         31,
         1994
        ],
        [
         "Dortmund",
         31,
         2001
        ],
        [
         "Hannover",
         31,
         2011
        ],
        [
         "Leverkusen",
         31,
         2015
        ],
        [
         "Munich 1860",
         31,
         1995
        ],
        [
         "Stuttgart",
         31,
         1993
        ],
        [
         "Werder Bremen",
         31,
         1993
        ],
        [
         "Hamburg",
         30,
         2007
        ],
        [
         "Mainz",
         30,
         2016
        ],
        [
         "Hertha",
         30,
         2005
        ],
        [
         "Hoffenheim",
         30,
         2008
        ],
        [
         "FC Koln",
         30,
         2010
        ],
        [
         "Hamburg",
         30,
         2002
        ],
        [
         "Bochum",
         30,
         2003
        ],
        [
         "Hansa Rostock",
         30,
         1998
        ],
        [
         "Leverkusen",
         30,
         2000
        ],
        [
         "Stuttgart",
         30,
         2002
        ],
        [
         "Schalke 04",
         30,
         2006
        ],
        [
         "Leverkusen",
         30,
         2005
        ],
        [
         "Stuttgart",
         30,
         2006
        ],
        [
         "Bochum",
         30,
         2004
        ],
        [
         "Ein Frankfurt",
         29,
         1995
        ],
        [
         "FC Koln",
         29,
         2016
        ],
        [
         "Bielefeld",
         29,
         2006
        ],
        [
         "Dortmund",
         29,
         2007
        ],
        [
         "Schalke 04",
         29,
         2009
        ],
        [
         "Freiburg",
         29,
         1993
        ],
        [
         "Freiburg",
         29,
         1999
        ],
        [
         "M'gladbach",
         29,
         2011
        ],
        [
         "Schalke 04",
         29,
         2016
        ],
        [
         "Stuttgart",
         29,
         2003
        ],
        [
         "Wolfsburg",
         29,
         2011
        ],
        [
         "Bayern Munich",
         29,
         2006
        ],
        [
         "Werder Bremen",
         29,
         2001
        ],
        [
         "Hamburg",
         29,
         1995
        ],
        [
         "Ein Frankfurt",
         29,
         1993
        ],
        [
         "M'gladbach",
         29,
         1995
        ],
        [
         "Bielefeld",
         29,
         1997
        ],
        [
         "Karlsruhe",
         29,
         1993
        ],
        [
         "Dortmund",
         29,
         2009
        ],
        [
         "Hertha",
         29,
         2008
        ],
        [
         "Wolfsburg",
         29,
         1999
        ],
        [
         "Ein Frankfurt",
         29,
         1999
        ],
        [
         "Hamburg",
         29,
         2010
        ],
        [
         "Schalke 04",
         29,
         2007
        ],
        [
         "Stuttgart",
         29,
         1995
        ],
        [
         "Hertha",
         29,
         2006
        ],
        [
         "Schalke 04",
         28,
         1995
        ],
        [
         "Hertha",
         28,
         2016
        ],
        [
         "Ein Frankfurt",
         28,
         1994
        ],
        [
         "Hoffenheim",
         28,
         2010
        ],
        [
         "Leverkusen",
         28,
         2011
        ],
        [
         "Wolfsburg",
         28,
         2007
        ],
        [
         "Stuttgart",
         28,
         2009
        ],
        [
         "Augsburg",
         28,
         2014
        ],
        [
         "Schalke 04",
         28,
         1994
        ],
        [
         "Stuttgart",
         28,
         2013
        ],
        [
         "Munich 1860",
         28,
         1998
        ],
        [
         "Leverkusen",
         28,
         2006
        ],
        [
         "Hamburg",
         28,
         1996
        ],
        [
         "Mainz",
         28,
         2004
        ],
        [
         "Karlsruhe",
         28,
         1995
        ],
        [
         "Nurnberg",
         28,
         2010
        ],
        [
         "Schalke 04",
         28,
         2003
        ],
        [
         "Hannover",
         28,
         2002
        ],
        [
         "Mainz",
         28,
         2013
        ],
        [
         "Schalke 04",
         28,
         2015
        ],
        [
         "Werder Bremen",
         28,
         2016
        ],
        [
         "Aachen",
         28,
         2006
        ],
        [
         "M'gladbach",
         27,
         2012
        ],
        [
         "Hannover",
         27,
         2003
        ],
        [
         "Mainz",
         27,
         2014
        ],
        [
         "Mainz",
         27,
         2011
        ],
        [
         "Hannover",
         27,
         2009
        ],
        [
         "Wolfsburg",
         27,
         2010
        ],
        [
         "Leverkusen",
         27,
         2002
        ],
        [
         "Augsburg",
         27,
         2013
        ],
        [
         "Hannover",
         27,
         2013
        ],
        [
         "Werder Bremen",
         27,
         1996
        ],
        [
         "Stuttgart",
         27,
         1997
        ],
        [
         "Hamburg",
         27,
         2008
        ],
        [
         "Hannover",
         27,
         2005
        ],
        [
         "Werder Bremen",
         27,
         2015
        ],
        [
         "Werder Bremen",
         27,
         1997
        ],
        [
         "M'gladbach",
         27,
         2005
        ],
        [
         "Cottbus",
         27,
         2000
        ],
        [
         "Hamburg",
         27,
         2004
        ],
        [
         "Leverkusen",
         27,
         2016
        ],
        [
         "Cottbus",
         27,
         2001
        ],
        [
         "M'gladbach",
         27,
         1997
        ],
        [
         "Ein Frankfurt",
         26,
         1998
        ],
        [
         "Kaiserslautern",
         26,
         2005
        ],
        [
         "M'gladbach",
         26,
         2004
        ],
        [
         "Ein Frankfurt",
         26,
         2000
        ],
        [
         "M'gladbach",
         26,
         2016
        ],
        [
         "Wolfsburg",
         26,
         2002
        ],
        [
         "Werder Bremen",
         26,
         2010
        ],
        [
         "Uerdingen",
         26,
         1995
        ],
        [
         "Nurnberg",
         26,
         2006
        ],
        [
         "M'gladbach",
         26,
         2010
        ],
        [
         "Hertha",
         26,
         2003
        ],
        [
         "Schalke 04",
         26,
         2014
        ],
        [
         "Bochum",
         26,
         2002
        ],
        [
         "Hamburg",
         26,
         2005
        ],
        [
         "Munich 1860",
         26,
         1994
        ],
        [
         "Ein Frankfurt",
         26,
         2008
        ],
        [
         "Karlsruhe",
         26,
         1997
        ],
        [
         "Schalke 04",
         26,
         2008
        ],
        [
         "Dortmund",
         26,
         2014
        ],
        [
         "Hoffenheim",
         26,
         2009
        ],
        [
         "Ein Frankfurt",
         25,
         2003
        ],
        [
         "Stuttgart",
         25,
         1998
        ],
        [
         "Cottbus",
         25,
         2007
        ],
        [
         "Hamburg",
         25,
         1998
        ],
        [
         "Werder Bremen",
         25,
         2014
        ],
        [
         "Kaiserslautern",
         25,
         2010
        ],
        [
         "FC Koln",
         25,
         1993
        ],
        [
         "Hansa Rostock",
         25,
         1999
        ],
        [
         "Freiburg",
         25,
         2013
        ],
        [
         "Duisburg",
         25,
         1996
        ],
        [
         "Freiburg",
         25,
         2001
        ],
        [
         "Ein Frankfurt",
         25,
         2009
        ],
        [
         "Kaiserslautern",
         25,
         2003
        ],
        [
         "M'gladbach",
         25,
         2009
        ],
        [
         "Nurnberg",
         25,
         2004
        ],
        [
         "M'gladbach",
         25,
         1998
        ],
        [
         "Hertha",
         25,
         1997
        ],
        [
         "Stuttgart",
         25,
         2001
        ],
        [
         "Freiburg",
         25,
         2012
        ],
        [
         "Nurnberg",
         25,
         1993
        ],
        [
         "Hamburg",
         25,
         2009
        ],
        [
         "Freiburg",
         24,
         2011
        ],
        [
         "Ein Frankfurt",
         24,
         2005
        ],
        [
         "Munich 1860",
         24,
         1997
        ],
        [
         "Schalke 04",
         24,
         2010
        ],
        [
         "St Pauli",
         24,
         1995
        ],
        [
         "Ein Frankfurt",
         24,
         2016
        ],
        [
         "Hertha",
         24,
         2015
        ],
        [
         "Schalke 04",
         24,
         1997
        ],
        [
         "Hamburg",
         24,
         2013
        ],
        [
         "Fortuna Dusseldorf",
         24,
         2012
        ],
        [
         "Fortuna Dusseldorf",
         24,
         1995
        ],
        [
         "Hamburg",
         24,
         1994
        ],
        [
         "Dortmund",
         24,
         2004
        ],
        [
         "Freiburg",
         24,
         2010
        ],
        [
         "FC Koln",
         24,
         2005
        ],
        [
         "Kaiserslautern",
         24,
         2000
        ],
        [
         "St Pauli",
         24,
         1996
        ],
        [
         "Ein Frankfurt",
         24,
         2007
        ],
        [
         "Nurnberg",
         24,
         2012
        ],
        [
         "Werder Bremen",
         23,
         2012
        ],
        [
         "Schalke 04",
         23,
         1993
        ],
        [
         "Hertha",
         23,
         1999
        ],
        [
         "Hansa Rostock",
         23,
         1995
        ],
        [
         "M'gladbach",
         23,
         2008
        ],
        [
         "Mainz",
         23,
         2015
        ],
        [
         "Uerdingen",
         23,
         1994
        ],
        [
         "Dortmund",
         23,
         2005
        ],
        [
         "Karlsruhe",
         23,
         2007
        ],
        [
         "Schalke 04",
         23,
         2002
        ],
        [
         "Kaiserslautern",
         23,
         2002
        ],
        [
         "Bochum",
         23,
         2008
        ],
        [
         "Freiburg",
         23,
         1996
        ],
        [
         "Munich 1860",
         23,
         2000
        ],
        [
         "Bochum",
         23,
         2006
        ],
        [
         "Nurnberg",
         23,
         1998
        ],
        [
         "Bielefeld",
         23,
         1996
        ],
        [
         "Bielefeld",
         23,
         2002
        ],
        [
         "Freiburg",
         23,
         2016
        ],
        [
         "Werder Bremen",
         23,
         1998
        ],
        [
         "Hannover",
         23,
         2006
        ],
        [
         "Bochum",
         23,
         1997
        ],
        [
         "FC Koln",
         22,
         2003
        ],
        [
         "Augsburg",
         22,
         2016
        ],
        [
         "Stuttgart",
         22,
         2015
        ],
        [
         "Ein Frankfurt",
         22,
         2015
        ],
        [
         "Hamburg",
         22,
         2006
        ],
        [
         "Mainz",
         22,
         2012
        ],
        [
         "Munich 1860",
         22,
         2002
        ],
        [
         "Ingolstadt",
         22,
         2015
        ],
        [
         "Stuttgart",
         22,
         1999
        ],
        [
         "Mainz",
         22,
         2010
        ],
        [
         "Bielefeld",
         22,
         1999
        ],
        [
         "Hoffenheim",
         22,
         2015
        ],
        [
         "Hansa Rostock",
         22,
         2000
        ],
        [
         "Mainz",
         22,
         2009
        ],
        [
         "Nurnberg",
         22,
         2011
        ],
        [
         "Wolfsburg",
         22,
         2006
        ],
        [
         "Werder Bremen",
         22,
         1995
        ],
        [
         "Ein Frankfurt",
         22,
         2013
        ],
        [
         "Unterhaching",
         22,
         1999
        ],
        [
         "Ulm",
         22,
         1999
        ],
        [
         "Bielefeld",
         21,
         2007
        ],
        [
         "Freiburg",
         21,
         2014
        ],
        [
         "Bielefeld",
         21,
         2004
        ],
        [
         "Schalke 04",
         21,
         1999
        ],
        [
         "St Pauli",
         21,
         2010
        ],
        [
         "Dortmund",
         21,
         1999
        ],
        [
         "M'gladbach",
         21,
         2003
        ],
        [
         "Ein Frankfurt",
         21,
         2006
        ],
        [
         "Ingolstadt",
         21,
         2016
        ],
        [
         "Unterhaching",
         21,
         2000
        ],
        [
         "Cottbus",
         21,
         2006
        ],
        [
         "Hannover",
         21,
         2004
        ],
        [
         "Werder Bremen",
         21,
         2013
        ],
        [
         "Hoffenheim",
         21,
         2012
        ],
        [
         "Nurnberg",
         21,
         2007
        ],
        [
         "Duisburg",
         21,
         1997
        ],
        [
         "Bochum",
         21,
         1994
        ],
        [
         "Hannover",
         21,
         2014
        ],
        [
         "Hamburg",
         21,
         2016
        ],
        [
         "Wolfsburg",
         21,
         2012
        ],
        [
         "Hoffenheim",
         21,
         2011
        ],
        [
         "Nurnberg",
         21,
         2001
        ],
        [
         "Hertha",
         21,
         2007
        ],
        [
         "Bochum",
         21,
         1998
        ],
        [
         "M'gladbach",
         21,
         2001
        ],
        [
         "Duisburg",
         21,
         1993
        ],
        [
         "Paderborn",
         21,
         2014
        ],
        [
         "Mainz",
         20,
         2006
        ],
        [
         "Hansa Rostock",
         20,
         2001
        ],
        [
         "Hamburg",
         20,
         2015
        ],
        [
         "Hamburg",
         20,
         1997
        ],
        [
         "Bochum",
         20,
         2000
        ],
        [
         "Augsburg",
         20,
         2011
        ],
        [
         "FC Koln",
         20,
         2011
        ],
        [
         "Dresden",
         20,
         1993
        ],
        [
         "Hertha",
         20,
         2013
        ],
        [
         "Kaiserslautern",
         20,
         2004
        ],
        [
         "Stuttgart",
         20,
         2012
        ],
        [
         "RB Leipzig",
         20,
         1993
        ],
        [
         "Hansa Rostock",
         20,
         2002
        ],
        [
         "Schalke 04",
         20,
         1998
        ],
        [
         "Hansa Rostock",
         20,
         1996
        ],
        [
         "Duisburg",
         20,
         1999
        ],
        [
         "Kaiserslautern",
         19,
         1995
        ],
        [
         "St Pauli",
         19,
         2001
        ],
        [
         "Hertha",
         19,
         2011
        ],
        [
         "Dortmund",
         19,
         2006
        ],
        [
         "Cottbus",
         19,
         2008
        ],
        [
         "Schalke 04",
         19,
         1996
        ],
        [
         "Augsburg",
         19,
         2012
        ],
        [
         "Hamburg",
         19,
         2011
        ],
        [
         "Duisburg",
         19,
         2007
        ],
        [
         "Duisburg",
         19,
         1994
        ],
        [
         "Augsburg",
         18,
         2015
        ],
        [
         "Nurnberg",
         18,
         2009
        ],
        [
         "Stuttgart",
         18,
         2005
        ],
        [
         "Freiburg",
         18,
         2004
        ],
        [
         "Karlsruhe",
         18,
         2008
        ],
        [
         "Hamburg",
         18,
         2012
        ],
        [
         "Bochum",
         18,
         2009
        ],
        [
         "FC Koln",
         18,
         1995
        ],
        [
         "Darmstadt",
         18,
         2016
        ],
        [
         "FC Koln",
         18,
         2009
        ],
        [
         "Braunschweig",
         18,
         2013
        ],
        [
         "Bielefeld",
         18,
         2005
        ],
        [
         "Stuttgart",
         18,
         2014
        ],
        [
         "FC Koln",
         18,
         2014
        ],
        [
         "Dresden",
         17,
         1994
        ],
        [
         "Wolfsburg",
         17,
         1997
        ],
        [
         "Freiburg",
         17,
         1995
        ],
        [
         "Hansa Rostock",
         17,
         2007
        ],
        [
         "Freiburg",
         17,
         1998
        ],
        [
         "Duisburg",
         17,
         2005
        ],
        [
         "Fortuna Dusseldorf",
         17,
         1996
        ],
        [
         "Hertha",
         17,
         2014
        ],
        [
         "Hansa Rostock",
         17,
         2004
        ],
        [
         "Cottbus",
         17,
         2002
        ],
        [
         "Nurnberg",
         16,
         2013
        ],
        [
         "Munich 1860",
         16,
         2003
        ],
        [
         "Leverkusen",
         16,
         1995
        ],
        [
         "Wolfsburg",
         16,
         2005
        ],
        [
         "Bielefeld",
         16,
         2008
        ],
        [
         "FC Koln",
         16,
         2015
        ],
        [
         "FC Koln",
         16,
         2001
        ],
        [
         "Nurnberg",
         16,
         2002
        ],
        [
         "Hamburg",
         16,
         2014
        ],
        [
         "Wolfsburg",
         15,
         2016
        ],
        [
         "M'gladbach",
         15,
         2006
        ],
        [
         "Hannover",
         15,
         2015
        ],
        [
         "Darmstadt",
         15,
         2015
        ],
        [
         "FC Koln",
         14,
         2008
        ],
        [
         "Freiburg",
         14,
         2009
        ],
        [
         "Ein Frankfurt",
         13,
         2010
        ],
        [
         "Kaiserslautern",
         12,
         2011
        ],
        [
         "Hertha",
         10,
         2009
        ],
        [
         "Greuther Furth",
         10,
         2012
        ],
        [
         "Augsburg",
         -17,
         2017
        ],
        [
         "Stuttgart",
         -17,
         2017
        ],
        [
         "Wolfsburg",
         -17,
         2017
        ],
        [
         "Ein Frankfurt",
         -17,
         2017
        ],
        [
         "Dortmund",
         -17,
         2017
        ],
        [
         "Bayern Munich",
         -17,
         2017
        ],
        [
         "Schalke 04",
         -17,
         2017
        ],
        [
         "RB Leipzig",
         -17,
         2017
        ],
        [
         "Hannover",
         -17,
         2017
        ],
        [
         "Hamburg",
         -17,
         2017
        ],
        [
         "Leverkusen",
         -17,
         2017
        ],
        [
         "Werder Bremen",
         -17,
         2017
        ],
        [
         "FC Koln",
         -17,
         2017
        ],
        [
         "Hoffenheim",
         -17,
         2017
        ],
        [
         "Freiburg",
         -17,
         2017
        ],
        [
         "Mainz",
         -17,
         2017
        ],
        [
         "Hertha",
         -17,
         2017
        ],
        [
         "M'gladbach",
         -17,
         2017
        ]
       ],
       "datasetInfos": [],
       "dbfsResultPath": null,
       "isJsonSchema": true,
       "metadata": {},
       "overflow": false,
       "plotOptions": {
        "customPlotOptions": {},
        "displayType": "table",
        "pivotAggregation": null,
        "pivotColumns": null,
        "xColumns": null,
        "yColumns": null
       },
       "removedWidgets": [],
       "schema": [
        {
         "metadata": "{}",
         "name": "Team",
         "type": "\"string\""
        },
        {
         "metadata": "{}",
         "name": "Home Goals",
         "type": "\"long\""
        },
        {
         "metadata": "{}",
         "name": "Season",
         "type": "\"long\""
        }
       ],
       "type": "table"
      }
     },
     "output_type": "display_data"
    }
   ],
   "source": [
    "# Filter dtMatches for Div \"D1\", group by HomeTeam and Season, and calculate the sum of FTHG as \"Home Goals\"\n",
    "\n",
    "dtScoredGoalsHome = (\n",
    "    dtMatches\n",
    "    .filter(col(\"Div\") == \"D1\")\n",
    "    .groupBy(\"HomeTeam\", \"Season\")\n",
    "    .agg(\n",
    "        sum(col(\"FTHG\")).alias(\"Home Goals\"),\n",
    "    )\n",
    "    .select(\n",
    "        col(\"HomeTeam\").alias(\"Team\"),  # Rename HomeTeam column to Team\n",
    "        col(\"Home Goals\"),\n",
    "        col(\"Season\")\n",
    "    )\n",
    "    .orderBy(desc(\"Home Goals\"))  # Order by Home Goals in descending order\n",
    ")\n",
    "\n",
    "# Display dtScoredGoalsHome table\n",
    "dtScoredGoalsHome.display()\n"
   ]
  },
  {
   "cell_type": "code",
   "execution_count": 0,
   "metadata": {
    "application/vnd.databricks.v1+cell": {
     "cellMetadata": {
      "byteLimit": 2048000,
      "rowLimit": 10000
     },
     "inputWidgets": {},
     "nuid": "994d15ce-e960-451c-acc3-52969900fc02",
     "showTitle": false,
     "title": ""
    }
   },
   "outputs": [
    {
     "output_type": "display_data",
     "data": {
      "text/html": [
       "<style scoped>\n",
       "  .table-result-container {\n",
       "    max-height: 300px;\n",
       "    overflow: auto;\n",
       "  }\n",
       "  table, th, td {\n",
       "    border: 1px solid black;\n",
       "    border-collapse: collapse;\n",
       "  }\n",
       "  th, td {\n",
       "    padding: 5px;\n",
       "  }\n",
       "  th {\n",
       "    text-align: left;\n",
       "  }\n",
       "</style><div class='table-result-container'><table class='table-result'><thead style='background-color: white'><tr><th>Team</th><th>Away Goals</th><th>Season</th></tr></thead><tbody><tr><td>Bayern Munich</td><td>46</td><td>2013</td></tr><tr><td>Werder Bremen</td><td>43</td><td>2006</td></tr><tr><td>Bayern Munich</td><td>42</td><td>2012</td></tr><tr><td>Dortmund</td><td>41</td><td>2012</td></tr><tr><td>Dortmund</td><td>39</td><td>2013</td></tr><tr><td>Werder Bremen</td><td>37</td><td>2003</td></tr><tr><td>Werder Bremen</td><td>37</td><td>2009</td></tr><tr><td>Dortmund</td><td>36</td><td>2011</td></tr><tr><td>Werder Bremen</td><td>35</td><td>2004</td></tr><tr><td>Bayern Munich</td><td>34</td><td>2016</td></tr><tr><td>Bayern Munich</td><td>34</td><td>2014</td></tr><tr><td>Leverkusen</td><td>34</td><td>2005</td></tr><tr><td>Wolfsburg</td><td>34</td><td>2014</td></tr><tr><td>Bayern Munich</td><td>33</td><td>2010</td></tr><tr><td>Hoffenheim</td><td>33</td><td>2008</td></tr><tr><td>Bayern Munich</td><td>33</td><td>1997</td></tr><tr><td>Dortmund</td><td>33</td><td>2015</td></tr><tr><td>Bayern Munich</td><td>33</td><td>2002</td></tr><tr><td>Bayern Munich</td><td>33</td><td>2009</td></tr><tr><td>Werder Bremen</td><td>33</td><td>2016</td></tr><tr><td>Dortmund</td><td>32</td><td>1994</td></tr><tr><td>Stuttgart</td><td>32</td><td>1996</td></tr><tr><td>Dortmund</td><td>32</td><td>2010</td></tr><tr><td>Leverkusen</td><td>31</td><td>2001</td></tr><tr><td>Bayern Munich</td><td>31</td><td>1996</td></tr><tr><td>Leverkusen</td><td>31</td><td>2010</td></tr><tr><td>Dortmund</td><td>31</td><td>2016</td></tr><tr><td>Bayern Munich</td><td>31</td><td>1995</td></tr><tr><td>RB Leipzig</td><td>31</td><td>2016</td></tr><tr><td>Leverkusen</td><td>31</td><td>1994</td></tr><tr><td>Dortmund</td><td>31</td><td>2001</td></tr><tr><td>Stuttgart</td><td>31</td><td>2006</td></tr><tr><td>Dortmund</td><td>31</td><td>1995</td></tr><tr><td>Hamburg</td><td>31</td><td>2009</td></tr><tr><td>Bayern Munich</td><td>31</td><td>2004</td></tr><tr><td>Leverkusen</td><td>30</td><td>1999</td></tr><tr><td>Wolfsburg</td><td>30</td><td>2007</td></tr><tr><td>Nurnberg</td><td>30</td><td>2004</td></tr><tr><td>Mainz</td><td>30</td><td>2010</td></tr><tr><td>Stuttgart</td><td>30</td><td>1995</td></tr><tr><td>Leverkusen</td><td>30</td><td>2003</td></tr><tr><td>M'gladbach</td><td>29</td><td>1994</td></tr><tr><td>Hoffenheim</td><td>29</td><td>2013</td></tr><tr><td>Wolfsburg</td><td>29</td><td>2008</td></tr><tr><td>Schalke 04</td><td>29</td><td>2000</td></tr><tr><td>Stuttgart</td><td>29</td><td>2008</td></tr><tr><td>Werder Bremen</td><td>29</td><td>2005</td></tr><tr><td>Hoffenheim</td><td>29</td><td>2016</td></tr><tr><td>Bayern Munich</td><td>29</td><td>2015</td></tr><tr><td>Bochum</td><td>29</td><td>2002</td></tr><tr><td>Leverkusen</td><td>29</td><td>2012</td></tr><tr><td>Bayern Munich</td><td>28</td><td>2011</td></tr><tr><td>Freiburg</td><td>28</td><td>1994</td></tr><tr><td>Dortmund</td><td>28</td><td>2000</td></tr><tr><td>Munich 1860</td><td>28</td><td>2001</td></tr><tr><td>Stuttgart</td><td>28</td><td>2015</td></tr><tr><td>Leverkusen</td><td>28</td><td>2009</td></tr><tr><td>Stuttgart</td><td>28</td><td>1997</td></tr><tr><td>Bayern Munich</td><td>28</td><td>1998</td></tr><tr><td>Ein Frankfurt</td><td>28</td><td>1993</td></tr><tr><td>Leverkusen</td><td>28</td><td>2008</td></tr><tr><td>Hamburg</td><td>28</td><td>2004</td></tr><tr><td>Leverkusen</td><td>28</td><td>1998</td></tr><tr><td>Werder Bremen</td><td>27</td><td>2007</td></tr><tr><td>Werder Bremen</td><td>27</td><td>2012</td></tr><tr><td>M'Gladbach</td><td>27</td><td>1993</td></tr><tr><td>Bayern Munich</td><td>27</td><td>2003</td></tr><tr><td>Schalke 04</td><td>27</td><td>2011</td></tr><tr><td>Stuttgart</td><td>27</td><td>2011</td></tr><tr><td>Hamburg</td><td>27</td><td>2013</td></tr><tr><td>FC Koln</td><td>27</td><td>1996</td></tr><tr><td>Bochum</td><td>27</td><td>2003</td></tr><tr><td>Hamburg</td><td>27</td><td>2005</td></tr><tr><td>Kaiserslautern</td><td>27</td><td>1997</td></tr><tr><td>Bayern Munich</td><td>27</td><td>2007</td></tr><tr><td>Stuttgart</td><td>27</td><td>2010</td></tr><tr><td>M'gladbach</td><td>27</td><td>1997</td></tr><tr><td>Kaiserslautern</td><td>26</td><td>1994</td></tr><tr><td>Werder Bremen</td><td>26</td><td>1994</td></tr><tr><td>FC Koln</td><td>26</td><td>2000</td></tr><tr><td>Bayern Munich</td><td>26</td><td>2008</td></tr><tr><td>Dortmund</td><td>26</td><td>2008</td></tr><tr><td>Werder Bremen</td><td>26</td><td>1996</td></tr><tr><td>Bayern Munich</td><td>26</td><td>2006</td></tr><tr><td>Wolfsburg</td><td>26</td><td>2013</td></tr><tr><td>Bochum</td><td>26</td><td>2006</td></tr><tr><td>Hannover</td><td>26</td><td>2012</td></tr><tr><td>Wolfsburg</td><td>26</td><td>2012</td></tr><tr><td>Leverkusen</td><td>26</td><td>2006</td></tr><tr><td>Schalke 04</td><td>26</td><td>2013</td></tr><tr><td>Hamburg</td><td>26</td><td>1999</td></tr><tr><td>Schalke 04</td><td>26</td><td>2007</td></tr><tr><td>Kaiserslautern</td><td>26</td><td>1993</td></tr><tr><td>Leverkusen</td><td>26</td><td>2016</td></tr><tr><td>Leverkusen</td><td>25</td><td>2013</td></tr><tr><td>Leverkusen</td><td>25</td><td>2007</td></tr><tr><td>Werder Bremen</td><td>25</td><td>2014</td></tr><tr><td>M'gladbach</td><td>25</td><td>2015</td></tr><tr><td>Freiburg</td><td>25</td><td>1993</td></tr><tr><td>Ein Frankfurt</td><td>25</td><td>2006</td></tr><tr><td>Bayern Munich</td><td>25</td><td>2000</td></tr><tr><td>Bayern Munich</td><td>25</td><td>2005</td></tr><tr><td>Hertha</td><td>25</td><td>2004</td></tr><tr><td>Werder Bremen</td><td>25</td><td>2001</td></tr><tr><td>Wolfsburg</td><td>25</td><td>2009</td></tr><tr><td>FC Koln</td><td>25</td><td>2005</td></tr><tr><td>Dortmund</td><td>25</td><td>2009</td></tr><tr><td>Kaiserslautern</td><td>25</td><td>2000</td></tr><tr><td>Karlsruhe</td><td>25</td><td>1995</td></tr><tr><td>Dortmund</td><td>25</td><td>1996</td></tr><tr><td>Leverkusen</td><td>25</td><td>2015</td></tr><tr><td>Hamburg</td><td>25</td><td>2000</td></tr><tr><td>Augsburg</td><td>24</td><td>2015</td></tr><tr><td>Hansa Rostock</td><td>24</td><td>1995</td></tr><tr><td>Hamburg</td><td>24</td><td>2012</td></tr><tr><td>Leverkusen</td><td>24</td><td>2011</td></tr><tr><td>Leverkusen</td><td>24</td><td>1993</td></tr><tr><td>Schalke 04</td><td>24</td><td>2009</td></tr><tr><td>FC Koln</td><td>24</td><td>1993</td></tr><tr><td>Bayern Munich</td><td>24</td><td>1993</td></tr><tr><td>Hertha</td><td>24</td><td>2009</td></tr><tr><td>Leverkusen</td><td>24</td><td>2000</td></tr><tr><td>Werder Bremen</td><td>24</td><td>1999</td></tr><tr><td>Stuttgart</td><td>24</td><td>2014</td></tr><tr><td>Mainz</td><td>24</td><td>2013</td></tr><tr><td>FC Koln</td><td>23</td><td>1994</td></tr><tr><td>Bayern Munich</td><td>23</td><td>1994</td></tr><tr><td>Schalke 04</td><td>23</td><td>2012</td></tr><tr><td>Leverkusen</td><td>23</td><td>2004</td></tr><tr><td>Kaiserslautern</td><td>23</td><td>2010</td></tr><tr><td>Bayern Munich</td><td>23</td><td>1999</td></tr><tr><td>Mainz</td><td>23</td><td>2015</td></tr><tr><td>Wolfsburg</td><td>23</td><td>2001</td></tr><tr><td>Stuttgart</td><td>23</td><td>2009</td></tr><tr><td>Bayern Munich</td><td>23</td><td>2001</td></tr><tr><td>Kaiserslautern</td><td>23</td><td>2001</td></tr><tr><td>Stuttgart</td><td>23</td><td>2003</td></tr><tr><td>Werder Bremen</td><td>23</td><td>2015</td></tr><tr><td>Hamburg</td><td>23</td><td>1995</td></tr><tr><td>Schalke 04</td><td>23</td><td>2002</td></tr><tr><td>Dortmund</td><td>23</td><td>2004</td></tr><tr><td>Kaiserslautern</td><td>23</td><td>1999</td></tr><tr><td>M'gladbach</td><td>23</td><td>1995</td></tr><tr><td>Stuttgart</td><td>23</td><td>2002</td></tr><tr><td>Schalke 04</td><td>23</td><td>2006</td></tr><tr><td>Kaiserslautern</td><td>23</td><td>2004</td></tr><tr><td>Karlsruhe</td><td>23</td><td>1996</td></tr><tr><td>Bielefeld</td><td>23</td><td>1996</td></tr><tr><td>Leverkusen</td><td>23</td><td>2014</td></tr><tr><td>Schalke 04</td><td>23</td><td>2004</td></tr><tr><td>Leverkusen</td><td>23</td><td>1997</td></tr><tr><td>Darmstadt</td><td>23</td><td>2015</td></tr><tr><td>Schalke 04</td><td>23</td><td>2015</td></tr><tr><td>FC Koln</td><td>22</td><td>2016</td></tr><tr><td>Hannover</td><td>22</td><td>2003</td></tr><tr><td>Munich 1860</td><td>22</td><td>1996</td></tr><tr><td>Hamburg</td><td>22</td><td>1998</td></tr><tr><td>Hertha</td><td>22</td><td>2005</td></tr><tr><td>Hoffenheim</td><td>22</td><td>2010</td></tr><tr><td>FC Koln</td><td>22</td><td>2015</td></tr><tr><td>Ein Frankfurt</td><td>22</td><td>2009</td></tr><tr><td>Dortmund</td><td>22</td><td>2005</td></tr><tr><td>Hamburg</td><td>22</td><td>2008</td></tr><tr><td>Hannover</td><td>22</td><td>2007</td></tr><tr><td>Munich 1860</td><td>22</td><td>2002</td></tr><tr><td>Dortmund</td><td>22</td><td>2006</td></tr><tr><td>Duisburg</td><td>22</td><td>1997</td></tr><tr><td>Stuttgart</td><td>22</td><td>1999</td></tr><tr><td>Wolfsburg</td><td>22</td><td>2000</td></tr><tr><td>M'gladbach</td><td>22</td><td>2010</td></tr><tr><td>Bochum</td><td>22</td><td>1994</td></tr><tr><td>Stuttgart</td><td>22</td><td>2001</td></tr><tr><td>Wolfsburg</td><td>22</td><td>1999</td></tr><tr><td>Mainz</td><td>22</td><td>2004</td></tr><tr><td>Leverkusen</td><td>22</td><td>1996</td></tr><tr><td>Karlsruhe</td><td>22</td><td>1997</td></tr><tr><td>M'gladbach</td><td>21</td><td>2013</td></tr><tr><td>Freiburg</td><td>21</td><td>2011</td></tr><tr><td>Nurnberg</td><td>21</td><td>2013</td></tr><tr><td>Wolfsburg</td><td>21</td><td>1997</td></tr><tr><td>Schalke 04</td><td>21</td><td>1999</td></tr><tr><td>Kaiserslautern</td><td>21</td><td>2005</td></tr><tr><td>Hansa Rostock</td><td>21</td><td>2003</td></tr><tr><td>FC Koln</td><td>21</td><td>2008</td></tr><tr><td>Dortmund</td><td>21</td><td>2007</td></tr><tr><td>M'gladbach</td><td>21</td><td>2014</td></tr><tr><td>Leverkusen</td><td>21</td><td>1995</td></tr><tr><td>Hertha</td><td>21</td><td>1998</td></tr><tr><td>Werder Bremen</td><td>21</td><td>2008</td></tr><tr><td>Freiburg</td><td>21</td><td>2009</td></tr><tr><td>Werder Bremen</td><td>21</td><td>2013</td></tr><tr><td>Hamburg</td><td>21</td><td>2006</td></tr><tr><td>Hoffenheim</td><td>21</td><td>2012</td></tr><tr><td>Dortmund</td><td>21</td><td>1997</td></tr><tr><td>Werder Bremen</td><td>21</td><td>2010</td></tr><tr><td>Stuttgart</td><td>21</td><td>2013</td></tr><tr><td>Munich 1860</td><td>21</td><td>1998</td></tr><tr><td>Schalke 04</td><td>21</td><td>2003</td></tr><tr><td>Hertha</td><td>21</td><td>2001</td></tr><tr><td>Schalke 04</td><td>21</td><td>2008</td></tr><tr><td>Dortmund</td><td>21</td><td>2014</td></tr><tr><td>Schalke 04</td><td>21</td><td>1998</td></tr><tr><td>Munich 1860</td><td>21</td><td>1995</td></tr><tr><td>Hertha</td><td>21</td><td>2006</td></tr><tr><td>Dortmund</td><td>20</td><td>2002</td></tr><tr><td>Ein Frankfurt</td><td>20</td><td>2014</td></tr><tr><td>Mainz</td><td>20</td><td>2011</td></tr><tr><td>Dortmund</td><td>20</td><td>1999</td></tr><tr><td>Werder Bremen</td><td>20</td><td>2000</td></tr><tr><td>Leverkusen</td><td>20</td><td>2002</td></tr><tr><td>M'gladbach</td><td>20</td><td>2011</td></tr><tr><td>Augsburg</td><td>20</td><td>2013</td></tr><tr><td>Hamburg</td><td>20</td><td>2015</td></tr><tr><td>Mainz</td><td>20</td><td>2012</td></tr><tr><td>Stuttgart</td><td>20</td><td>2004</td></tr><tr><td>Freiburg</td><td>20</td><td>1996</td></tr><tr><td>Dortmund</td><td>20</td><td>2003</td></tr><tr><td>Schalke 04</td><td>20</td><td>1994</td></tr><tr><td>Munich 1860</td><td>20</td><td>2000</td></tr><tr><td>Hertha</td><td>20</td><td>2013</td></tr><tr><td>Hoffenheim</td><td>20</td><td>2011</td></tr><tr><td>Hertha</td><td>20</td><td>2000</td></tr><tr><td>Freiburg</td><td>20</td><td>2012</td></tr><tr><td>M'gladbach</td><td>20</td><td>2001</td></tr><tr><td>Duisburg</td><td>20</td><td>1993</td></tr><tr><td>Stuttgart</td><td>20</td><td>1993</td></tr><tr><td>Werder Bremen</td><td>20</td><td>1993</td></tr><tr><td>Stuttgart</td><td>19</td><td>2005</td></tr><tr><td>Munich 1860</td><td>19</td><td>1997</td></tr><tr><td>M'gladbach</td><td>19</td><td>2003</td></tr><tr><td>M'gladbach</td><td>19</td><td>2016</td></tr><tr><td>St Pauli</td><td>19</td><td>1995</td></tr><tr><td>Wolfsburg</td><td>19</td><td>2016</td></tr><tr><td>Freiburg</td><td>19</td><td>1998</td></tr><tr><td>Hansa Rostock</td><td>19</td><td>1999</td></tr><tr><td>Wolfsburg</td><td>19</td><td>1998</td></tr><tr><td>Hertha</td><td>19</td><td>2011</td></tr><tr><td>Munich 1860</td><td>19</td><td>1999</td></tr><tr><td>Duisburg</td><td>19</td><td>1996</td></tr><tr><td>Hannover</td><td>19</td><td>2013</td></tr><tr><td>Hansa Rostock</td><td>19</td><td>1997</td></tr><tr><td>Hamburg</td><td>19</td><td>1994</td></tr><tr><td>Hansa Rostock</td><td>19</td><td>1998</td></tr><tr><td>FC Koln</td><td>19</td><td>2011</td></tr><tr><td>Hertha</td><td>19</td><td>2014</td></tr><tr><td>Hannover</td><td>19</td><td>2014</td></tr><tr><td>Hertha</td><td>19</td><td>2008</td></tr><tr><td>Freiburg</td><td>19</td><td>2016</td></tr><tr><td>Nurnberg</td><td>19</td><td>2010</td></tr><tr><td>Bochum</td><td>19</td><td>1998</td></tr><tr><td>Hannover</td><td>19</td><td>2002</td></tr><tr><td>Ein Frankfurt</td><td>19</td><td>2007</td></tr><tr><td>M'gladbach</td><td>18</td><td>2012</td></tr><tr><td>Ein Frankfurt</td><td>18</td><td>1998</td></tr><tr><td>Werder Bremen</td><td>18</td><td>2011</td></tr><tr><td>Mainz</td><td>18</td><td>2014</td></tr><tr><td>Ein Frankfurt</td><td>18</td><td>2005</td></tr><tr><td>Bielefeld</td><td>18</td><td>2006</td></tr><tr><td>Hertha</td><td>18</td><td>2015</td></tr><tr><td>Hannover</td><td>18</td><td>2008</td></tr><tr><td>St Pauli</td><td>18</td><td>2001</td></tr><tr><td>Hoffenheim</td><td>18</td><td>2014</td></tr><tr><td>Freiburg</td><td>18</td><td>2013</td></tr><tr><td>Hamburg</td><td>18</td><td>1997</td></tr><tr><td>Wolfsburg</td><td>18</td><td>2011</td></tr><tr><td>M'gladbach</td><td>18</td><td>2009</td></tr><tr><td>Wolfsburg</td><td>18</td><td>2003</td></tr><tr><td>Bochum</td><td>18</td><td>1996</td></tr><tr><td>Ein Frankfurt</td><td>18</td><td>2010</td></tr><tr><td>Nurnberg</td><td>18</td><td>2005</td></tr><tr><td>Bielefeld</td><td>18</td><td>1999</td></tr><tr><td>Hamburg</td><td>18</td><td>1996</td></tr><tr><td>Kaiserslautern</td><td>18</td><td>1998</td></tr><tr><td>Freiburg</td><td>18</td><td>2000</td></tr><tr><td>Werder Bremen</td><td>18</td><td>1998</td></tr><tr><td>Stuttgart</td><td>18</td><td>2007</td></tr><tr><td>Hertha</td><td>18</td><td>2007</td></tr><tr><td>Ein Frankfurt</td><td>18</td><td>2013</td></tr><tr><td>Hannover</td><td>18</td><td>2006</td></tr><tr><td>Unterhaching</td><td>18</td><td>1999</td></tr><tr><td>Bochum</td><td>18</td><td>1997</td></tr><tr><td>Hoffenheim</td><td>18</td><td>2009</td></tr><tr><td>Aachen</td><td>18</td><td>2006</td></tr><tr><td>Hamburg</td><td>17</td><td>2007</td></tr><tr><td>Schalke 04</td><td>17</td><td>1995</td></tr><tr><td>Wattenscheid</td><td>17</td><td>1993</td></tr><tr><td>Wolfsburg</td><td>17</td><td>2005</td></tr><tr><td>Duisburg</td><td>17</td><td>2005</td></tr><tr><td>Cottbus</td><td>17</td><td>2006</td></tr><tr><td>FC Koln</td><td>17</td><td>2010</td></tr><tr><td>Kaiserslautern</td><td>17</td><td>2002</td></tr><tr><td>Freiburg</td><td>17</td><td>2010</td></tr><tr><td>Hertha</td><td>17</td><td>2002</td></tr><tr><td>Nurnberg</td><td>17</td><td>2006</td></tr><tr><td>Karlsruhe</td><td>17</td><td>1993</td></tr><tr><td>Nurnberg</td><td>17</td><td>1998</td></tr><tr><td>Nurnberg</td><td>17</td><td>2002</td></tr><tr><td>Hoffenheim</td><td>17</td><td>2015</td></tr><tr><td>Stuttgart</td><td>17</td><td>2012</td></tr><tr><td>Hamburg</td><td>17</td><td>1993</td></tr><tr><td>Hannover</td><td>17</td><td>2010</td></tr><tr><td>Cottbus</td><td>17</td><td>2002</td></tr><tr><td>Werder Bremen</td><td>17</td><td>1995</td></tr><tr><td>Hamburg</td><td>17</td><td>2010</td></tr><tr><td>Bochum</td><td>17</td><td>2004</td></tr><tr><td>Werder Bremen</td><td>17</td><td>2002</td></tr><tr><td>Duisburg</td><td>17</td><td>2007</td></tr><tr><td>Duisburg</td><td>17</td><td>1999</td></tr><tr><td>Ein Frankfurt</td><td>17</td><td>2012</td></tr><tr><td>Dresden</td><td>16</td><td>1994</td></tr><tr><td>Bielefeld</td><td>16</td><td>2004</td></tr><tr><td>Stuttgart</td><td>16</td><td>1998</td></tr><tr><td>Hertha</td><td>16</td><td>1999</td></tr><tr><td>Munich 1860</td><td>16</td><td>2003</td></tr><tr><td>Hannover</td><td>16</td><td>2009</td></tr><tr><td>Wolfsburg</td><td>16</td><td>2010</td></tr><tr><td>Bochum</td><td>16</td><td>2007</td></tr><tr><td>M'gladbach</td><td>16</td><td>2008</td></tr><tr><td>Freiburg</td><td>16</td><td>1999</td></tr><tr><td>Schalke 04</td><td>16</td><td>2016</td></tr><tr><td>Hamburg</td><td>16</td><td>2002</td></tr><tr><td>Greuther Furth</td><td>16</td><td>2012</td></tr><tr><td>Hannover</td><td>16</td><td>2005</td></tr><tr><td>Werder Bremen</td><td>16</td><td>1997</td></tr><tr><td>Dusseldorf</td><td>16</td><td>1995</td></tr><tr><td>Bochum</td><td>16</td><td>2008</td></tr><tr><td>Hannover</td><td>16</td><td>2015</td></tr><tr><td>Augsburg</td><td>16</td><td>2011</td></tr><tr><td>M'gladbach</td><td>16</td><td>1998</td></tr><tr><td>Hertha</td><td>16</td><td>1997</td></tr><tr><td>Hertha</td><td>16</td><td>2003</td></tr><tr><td>Schalke 04</td><td>16</td><td>2014</td></tr><tr><td>Stuttgart</td><td>16</td><td>1994</td></tr><tr><td>Hamburg</td><td>16</td><td>2001</td></tr><tr><td>Schalke 04</td><td>16</td><td>1996</td></tr><tr><td>Nurnberg</td><td>16</td><td>2011</td></tr><tr><td>Nurnberg</td><td>16</td><td>1993</td></tr><tr><td>Hamburg</td><td>16</td><td>2011</td></tr><tr><td>Duisburg</td><td>16</td><td>1998</td></tr><tr><td>FC Koln</td><td>16</td><td>2014</td></tr><tr><td>Freiburg</td><td>15</td><td>2014</td></tr><tr><td>FC Koln</td><td>15</td><td>1997</td></tr><tr><td>Schalke 04</td><td>15</td><td>1993</td></tr><tr><td>Hertha</td><td>15</td><td>2016</td></tr><tr><td>Hansa Rostock</td><td>15</td><td>2001</td></tr><tr><td>Mainz</td><td>15</td><td>2005</td></tr><tr><td>Ein Frankfurt</td><td>15</td><td>2000</td></tr><tr><td>Bochum</td><td>15</td><td>2009</td></tr><tr><td>FC Koln</td><td>15</td><td>1995</td></tr><tr><td>Ingolstadt</td><td>15</td><td>2016</td></tr><tr><td>Augsburg</td><td>15</td><td>2014</td></tr><tr><td>Fortuna Dusseldorf</td><td>15</td><td>2012</td></tr><tr><td>Karlsruhe</td><td>15</td><td>2007</td></tr><tr><td>M'gladbach</td><td>15</td><td>2005</td></tr><tr><td>Wolfsburg</td><td>15</td><td>2015</td></tr><tr><td>FC Koln</td><td>15</td><td>2009</td></tr><tr><td>Munich 1860</td><td>15</td><td>1994</td></tr><tr><td>Hansa Rostock</td><td>15</td><td>2002</td></tr><tr><td>Wolfsburg</td><td>15</td><td>2006</td></tr><tr><td>Hansa Rostock</td><td>15</td><td>1996</td></tr><tr><td>Schalke 04</td><td>15</td><td>2005</td></tr><tr><td>Nurnberg</td><td>15</td><td>2012</td></tr><tr><td>Ein Frankfurt</td><td>14</td><td>1995</td></tr><tr><td>Bielefeld</td><td>14</td><td>2007</td></tr><tr><td>Nurnberg</td><td>14</td><td>2009</td></tr><tr><td>Mainz</td><td>14</td><td>2016</td></tr><tr><td>Mainz</td><td>14</td><td>2006</td></tr><tr><td>St Pauli</td><td>14</td><td>2010</td></tr><tr><td>Schalke 04</td><td>14</td><td>2010</td></tr><tr><td>Hamburg</td><td>14</td><td>2003</td></tr><tr><td>Unterhaching</td><td>14</td><td>2000</td></tr><tr><td>Schalke 04</td><td>14</td><td>1997</td></tr><tr><td>Uerdingen</td><td>14</td><td>1994</td></tr><tr><td>Kaiserslautern</td><td>14</td><td>2003</td></tr><tr><td>Nurnberg</td><td>14</td><td>2007</td></tr><tr><td>Bielefeld</td><td>14</td><td>1997</td></tr><tr><td>Wolfsburg</td><td>14</td><td>2004</td></tr><tr><td>Schalke 04</td><td>14</td><td>2001</td></tr><tr><td>Hansa Rostock</td><td>14</td><td>2004</td></tr><tr><td>Bielefeld</td><td>14</td><td>2005</td></tr><tr><td>Mainz</td><td>14</td><td>2009</td></tr><tr><td>Dortmund</td><td>14</td><td>1993</td></tr><tr><td>Augsburg</td><td>14</td><td>2012</td></tr><tr><td>Ulm</td><td>14</td><td>1999</td></tr><tr><td>Freiburg</td><td>13</td><td>1995</td></tr><tr><td>Ein Frankfurt</td><td>13</td><td>1994</td></tr><tr><td>Augsburg</td><td>13</td><td>2016</td></tr><tr><td>Karlsruhe</td><td>13</td><td>1994</td></tr><tr><td>Hansa Rostock</td><td>13</td><td>2007</td></tr><tr><td>Bielefeld</td><td>13</td><td>2008</td></tr><tr><td>Dortmund</td><td>13</td><td>1998</td></tr><tr><td>Hannover</td><td>13</td><td>2004</td></tr><tr><td>Wolfsburg</td><td>13</td><td>2002</td></tr><tr><td>Dresden</td><td>13</td><td>1993</td></tr><tr><td>Nurnberg</td><td>13</td><td>2001</td></tr><tr><td>Ein Frankfurt</td><td>13</td><td>1999</td></tr><tr><td>Ein Frankfurt</td><td>13</td><td>2008</td></tr><tr><td>M'gladbach</td><td>12</td><td>1996</td></tr><tr><td>Kaiserslautern</td><td>12</td><td>1995</td></tr><tr><td>Freiburg</td><td>12</td><td>2004</td></tr><tr><td>Kaiserslautern</td><td>12</td><td>2011</td></tr><tr><td>Karlsruhe</td><td>12</td><td>2008</td></tr><tr><td>M'gladbach</td><td>12</td><td>2002</td></tr><tr><td>Ein Frankfurt</td><td>12</td><td>2015</td></tr><tr><td>Ein Frankfurt</td><td>12</td><td>2016</td></tr><tr><td>Freiburg</td><td>12</td><td>2001</td></tr><tr><td>Hamburg</td><td>12</td><td>2016</td></tr><tr><td>Hansa Rostock</td><td>12</td><td>2000</td></tr><tr><td>Bielefeld</td><td>12</td><td>2002</td></tr><tr><td>RB Leipzig</td><td>12</td><td>1993</td></tr><tr><td>Duisburg</td><td>12</td><td>1994</td></tr><tr><td>Ein Frankfurt</td><td>11</td><td>2003</td></tr><tr><td>Ingolstadt</td><td>11</td><td>2015</td></tr><tr><td>Stuttgart</td><td>11</td><td>2000</td></tr><tr><td>Cottbus</td><td>11</td><td>2000</td></tr><tr><td>Cottbus</td><td>11</td><td>2008</td></tr><tr><td>Braunschweig</td><td>11</td><td>2013</td></tr><tr><td>Cottbus</td><td>10</td><td>2007</td></tr><tr><td>Freiburg</td><td>10</td><td>2003</td></tr><tr><td>FC Koln</td><td>10</td><td>2003</td></tr><tr><td>Darmstadt</td><td>10</td><td>2016</td></tr><tr><td>Bochum</td><td>10</td><td>2000</td></tr><tr><td>FC Koln</td><td>10</td><td>2001</td></tr><tr><td>Hannover</td><td>10</td><td>2011</td></tr><tr><td>Paderborn</td><td>10</td><td>2014</td></tr><tr><td>M'gladbach</td><td>9</td><td>2004</td></tr><tr><td>Dusseldorf</td><td>9</td><td>1996</td></tr><tr><td>Hamburg</td><td>9</td><td>2014</td></tr><tr><td>Cottbus</td><td>9</td><td>2001</td></tr><tr><td>M'gladbach</td><td>8</td><td>2006</td></tr><tr><td>St Pauli</td><td>8</td><td>1996</td></tr><tr><td>Uerdingen</td><td>7</td><td>1995</td></tr><tr><td>Augsburg</td><td>-17</td><td>2017</td></tr><tr><td>Stuttgart</td><td>-17</td><td>2017</td></tr><tr><td>Wolfsburg</td><td>-17</td><td>2017</td></tr><tr><td>Ein Frankfurt</td><td>-17</td><td>2017</td></tr><tr><td>Dortmund</td><td>-17</td><td>2017</td></tr><tr><td>Bayern Munich</td><td>-17</td><td>2017</td></tr><tr><td>Schalke 04</td><td>-17</td><td>2017</td></tr><tr><td>RB Leipzig</td><td>-17</td><td>2017</td></tr><tr><td>Hannover</td><td>-17</td><td>2017</td></tr><tr><td>Hamburg</td><td>-17</td><td>2017</td></tr><tr><td>Leverkusen</td><td>-17</td><td>2017</td></tr><tr><td>Werder Bremen</td><td>-17</td><td>2017</td></tr><tr><td>FC Koln</td><td>-17</td><td>2017</td></tr><tr><td>Hoffenheim</td><td>-17</td><td>2017</td></tr><tr><td>Freiburg</td><td>-17</td><td>2017</td></tr><tr><td>Mainz</td><td>-17</td><td>2017</td></tr><tr><td>Hertha</td><td>-17</td><td>2017</td></tr><tr><td>M'gladbach</td><td>-17</td><td>2017</td></tr></tbody></table></div>"
      ]
     },
     "metadata": {
      "application/vnd.databricks.v1+output": {
       "addedWidgets": {},
       "aggData": [],
       "aggError": "",
       "aggOverflow": false,
       "aggSchema": [],
       "aggSeriesLimitReached": false,
       "aggType": "",
       "arguments": {},
       "columnCustomDisplayInfos": {},
       "data": [
        [
         "Bayern Munich",
         46,
         2013
        ],
        [
         "Werder Bremen",
         43,
         2006
        ],
        [
         "Bayern Munich",
         42,
         2012
        ],
        [
         "Dortmund",
         41,
         2012
        ],
        [
         "Dortmund",
         39,
         2013
        ],
        [
         "Werder Bremen",
         37,
         2003
        ],
        [
         "Werder Bremen",
         37,
         2009
        ],
        [
         "Dortmund",
         36,
         2011
        ],
        [
         "Werder Bremen",
         35,
         2004
        ],
        [
         "Bayern Munich",
         34,
         2016
        ],
        [
         "Bayern Munich",
         34,
         2014
        ],
        [
         "Leverkusen",
         34,
         2005
        ],
        [
         "Wolfsburg",
         34,
         2014
        ],
        [
         "Bayern Munich",
         33,
         2010
        ],
        [
         "Hoffenheim",
         33,
         2008
        ],
        [
         "Bayern Munich",
         33,
         1997
        ],
        [
         "Dortmund",
         33,
         2015
        ],
        [
         "Bayern Munich",
         33,
         2002
        ],
        [
         "Bayern Munich",
         33,
         2009
        ],
        [
         "Werder Bremen",
         33,
         2016
        ],
        [
         "Dortmund",
         32,
         1994
        ],
        [
         "Stuttgart",
         32,
         1996
        ],
        [
         "Dortmund",
         32,
         2010
        ],
        [
         "Leverkusen",
         31,
         2001
        ],
        [
         "Bayern Munich",
         31,
         1996
        ],
        [
         "Leverkusen",
         31,
         2010
        ],
        [
         "Dortmund",
         31,
         2016
        ],
        [
         "Bayern Munich",
         31,
         1995
        ],
        [
         "RB Leipzig",
         31,
         2016
        ],
        [
         "Leverkusen",
         31,
         1994
        ],
        [
         "Dortmund",
         31,
         2001
        ],
        [
         "Stuttgart",
         31,
         2006
        ],
        [
         "Dortmund",
         31,
         1995
        ],
        [
         "Hamburg",
         31,
         2009
        ],
        [
         "Bayern Munich",
         31,
         2004
        ],
        [
         "Leverkusen",
         30,
         1999
        ],
        [
         "Wolfsburg",
         30,
         2007
        ],
        [
         "Nurnberg",
         30,
         2004
        ],
        [
         "Mainz",
         30,
         2010
        ],
        [
         "Stuttgart",
         30,
         1995
        ],
        [
         "Leverkusen",
         30,
         2003
        ],
        [
         "M'gladbach",
         29,
         1994
        ],
        [
         "Hoffenheim",
         29,
         2013
        ],
        [
         "Wolfsburg",
         29,
         2008
        ],
        [
         "Schalke 04",
         29,
         2000
        ],
        [
         "Stuttgart",
         29,
         2008
        ],
        [
         "Werder Bremen",
         29,
         2005
        ],
        [
         "Hoffenheim",
         29,
         2016
        ],
        [
         "Bayern Munich",
         29,
         2015
        ],
        [
         "Bochum",
         29,
         2002
        ],
        [
         "Leverkusen",
         29,
         2012
        ],
        [
         "Bayern Munich",
         28,
         2011
        ],
        [
         "Freiburg",
         28,
         1994
        ],
        [
         "Dortmund",
         28,
         2000
        ],
        [
         "Munich 1860",
         28,
         2001
        ],
        [
         "Stuttgart",
         28,
         2015
        ],
        [
         "Leverkusen",
         28,
         2009
        ],
        [
         "Stuttgart",
         28,
         1997
        ],
        [
         "Bayern Munich",
         28,
         1998
        ],
        [
         "Ein Frankfurt",
         28,
         1993
        ],
        [
         "Leverkusen",
         28,
         2008
        ],
        [
         "Hamburg",
         28,
         2004
        ],
        [
         "Leverkusen",
         28,
         1998
        ],
        [
         "Werder Bremen",
         27,
         2007
        ],
        [
         "Werder Bremen",
         27,
         2012
        ],
        [
         "M'Gladbach",
         27,
         1993
        ],
        [
         "Bayern Munich",
         27,
         2003
        ],
        [
         "Schalke 04",
         27,
         2011
        ],
        [
         "Stuttgart",
         27,
         2011
        ],
        [
         "Hamburg",
         27,
         2013
        ],
        [
         "FC Koln",
         27,
         1996
        ],
        [
         "Bochum",
         27,
         2003
        ],
        [
         "Hamburg",
         27,
         2005
        ],
        [
         "Kaiserslautern",
         27,
         1997
        ],
        [
         "Bayern Munich",
         27,
         2007
        ],
        [
         "Stuttgart",
         27,
         2010
        ],
        [
         "M'gladbach",
         27,
         1997
        ],
        [
         "Kaiserslautern",
         26,
         1994
        ],
        [
         "Werder Bremen",
         26,
         1994
        ],
        [
         "FC Koln",
         26,
         2000
        ],
        [
         "Bayern Munich",
         26,
         2008
        ],
        [
         "Dortmund",
         26,
         2008
        ],
        [
         "Werder Bremen",
         26,
         1996
        ],
        [
         "Bayern Munich",
         26,
         2006
        ],
        [
         "Wolfsburg",
         26,
         2013
        ],
        [
         "Bochum",
         26,
         2006
        ],
        [
         "Hannover",
         26,
         2012
        ],
        [
         "Wolfsburg",
         26,
         2012
        ],
        [
         "Leverkusen",
         26,
         2006
        ],
        [
         "Schalke 04",
         26,
         2013
        ],
        [
         "Hamburg",
         26,
         1999
        ],
        [
         "Schalke 04",
         26,
         2007
        ],
        [
         "Kaiserslautern",
         26,
         1993
        ],
        [
         "Leverkusen",
         26,
         2016
        ],
        [
         "Leverkusen",
         25,
         2013
        ],
        [
         "Leverkusen",
         25,
         2007
        ],
        [
         "Werder Bremen",
         25,
         2014
        ],
        [
         "M'gladbach",
         25,
         2015
        ],
        [
         "Freiburg",
         25,
         1993
        ],
        [
         "Ein Frankfurt",
         25,
         2006
        ],
        [
         "Bayern Munich",
         25,
         2000
        ],
        [
         "Bayern Munich",
         25,
         2005
        ],
        [
         "Hertha",
         25,
         2004
        ],
        [
         "Werder Bremen",
         25,
         2001
        ],
        [
         "Wolfsburg",
         25,
         2009
        ],
        [
         "FC Koln",
         25,
         2005
        ],
        [
         "Dortmund",
         25,
         2009
        ],
        [
         "Kaiserslautern",
         25,
         2000
        ],
        [
         "Karlsruhe",
         25,
         1995
        ],
        [
         "Dortmund",
         25,
         1996
        ],
        [
         "Leverkusen",
         25,
         2015
        ],
        [
         "Hamburg",
         25,
         2000
        ],
        [
         "Augsburg",
         24,
         2015
        ],
        [
         "Hansa Rostock",
         24,
         1995
        ],
        [
         "Hamburg",
         24,
         2012
        ],
        [
         "Leverkusen",
         24,
         2011
        ],
        [
         "Leverkusen",
         24,
         1993
        ],
        [
         "Schalke 04",
         24,
         2009
        ],
        [
         "FC Koln",
         24,
         1993
        ],
        [
         "Bayern Munich",
         24,
         1993
        ],
        [
         "Hertha",
         24,
         2009
        ],
        [
         "Leverkusen",
         24,
         2000
        ],
        [
         "Werder Bremen",
         24,
         1999
        ],
        [
         "Stuttgart",
         24,
         2014
        ],
        [
         "Mainz",
         24,
         2013
        ],
        [
         "FC Koln",
         23,
         1994
        ],
        [
         "Bayern Munich",
         23,
         1994
        ],
        [
         "Schalke 04",
         23,
         2012
        ],
        [
         "Leverkusen",
         23,
         2004
        ],
        [
         "Kaiserslautern",
         23,
         2010
        ],
        [
         "Bayern Munich",
         23,
         1999
        ],
        [
         "Mainz",
         23,
         2015
        ],
        [
         "Wolfsburg",
         23,
         2001
        ],
        [
         "Stuttgart",
         23,
         2009
        ],
        [
         "Bayern Munich",
         23,
         2001
        ],
        [
         "Kaiserslautern",
         23,
         2001
        ],
        [
         "Stuttgart",
         23,
         2003
        ],
        [
         "Werder Bremen",
         23,
         2015
        ],
        [
         "Hamburg",
         23,
         1995
        ],
        [
         "Schalke 04",
         23,
         2002
        ],
        [
         "Dortmund",
         23,
         2004
        ],
        [
         "Kaiserslautern",
         23,
         1999
        ],
        [
         "M'gladbach",
         23,
         1995
        ],
        [
         "Stuttgart",
         23,
         2002
        ],
        [
         "Schalke 04",
         23,
         2006
        ],
        [
         "Kaiserslautern",
         23,
         2004
        ],
        [
         "Karlsruhe",
         23,
         1996
        ],
        [
         "Bielefeld",
         23,
         1996
        ],
        [
         "Leverkusen",
         23,
         2014
        ],
        [
         "Schalke 04",
         23,
         2004
        ],
        [
         "Leverkusen",
         23,
         1997
        ],
        [
         "Darmstadt",
         23,
         2015
        ],
        [
         "Schalke 04",
         23,
         2015
        ],
        [
         "FC Koln",
         22,
         2016
        ],
        [
         "Hannover",
         22,
         2003
        ],
        [
         "Munich 1860",
         22,
         1996
        ],
        [
         "Hamburg",
         22,
         1998
        ],
        [
         "Hertha",
         22,
         2005
        ],
        [
         "Hoffenheim",
         22,
         2010
        ],
        [
         "FC Koln",
         22,
         2015
        ],
        [
         "Ein Frankfurt",
         22,
         2009
        ],
        [
         "Dortmund",
         22,
         2005
        ],
        [
         "Hamburg",
         22,
         2008
        ],
        [
         "Hannover",
         22,
         2007
        ],
        [
         "Munich 1860",
         22,
         2002
        ],
        [
         "Dortmund",
         22,
         2006
        ],
        [
         "Duisburg",
         22,
         1997
        ],
        [
         "Stuttgart",
         22,
         1999
        ],
        [
         "Wolfsburg",
         22,
         2000
        ],
        [
         "M'gladbach",
         22,
         2010
        ],
        [
         "Bochum",
         22,
         1994
        ],
        [
         "Stuttgart",
         22,
         2001
        ],
        [
         "Wolfsburg",
         22,
         1999
        ],
        [
         "Mainz",
         22,
         2004
        ],
        [
         "Leverkusen",
         22,
         1996
        ],
        [
         "Karlsruhe",
         22,
         1997
        ],
        [
         "M'gladbach",
         21,
         2013
        ],
        [
         "Freiburg",
         21,
         2011
        ],
        [
         "Nurnberg",
         21,
         2013
        ],
        [
         "Wolfsburg",
         21,
         1997
        ],
        [
         "Schalke 04",
         21,
         1999
        ],
        [
         "Kaiserslautern",
         21,
         2005
        ],
        [
         "Hansa Rostock",
         21,
         2003
        ],
        [
         "FC Koln",
         21,
         2008
        ],
        [
         "Dortmund",
         21,
         2007
        ],
        [
         "M'gladbach",
         21,
         2014
        ],
        [
         "Leverkusen",
         21,
         1995
        ],
        [
         "Hertha",
         21,
         1998
        ],
        [
         "Werder Bremen",
         21,
         2008
        ],
        [
         "Freiburg",
         21,
         2009
        ],
        [
         "Werder Bremen",
         21,
         2013
        ],
        [
         "Hamburg",
         21,
         2006
        ],
        [
         "Hoffenheim",
         21,
         2012
        ],
        [
         "Dortmund",
         21,
         1997
        ],
        [
         "Werder Bremen",
         21,
         2010
        ],
        [
         "Stuttgart",
         21,
         2013
        ],
        [
         "Munich 1860",
         21,
         1998
        ],
        [
         "Schalke 04",
         21,
         2003
        ],
        [
         "Hertha",
         21,
         2001
        ],
        [
         "Schalke 04",
         21,
         2008
        ],
        [
         "Dortmund",
         21,
         2014
        ],
        [
         "Schalke 04",
         21,
         1998
        ],
        [
         "Munich 1860",
         21,
         1995
        ],
        [
         "Hertha",
         21,
         2006
        ],
        [
         "Dortmund",
         20,
         2002
        ],
        [
         "Ein Frankfurt",
         20,
         2014
        ],
        [
         "Mainz",
         20,
         2011
        ],
        [
         "Dortmund",
         20,
         1999
        ],
        [
         "Werder Bremen",
         20,
         2000
        ],
        [
         "Leverkusen",
         20,
         2002
        ],
        [
         "M'gladbach",
         20,
         2011
        ],
        [
         "Augsburg",
         20,
         2013
        ],
        [
         "Hamburg",
         20,
         2015
        ],
        [
         "Mainz",
         20,
         2012
        ],
        [
         "Stuttgart",
         20,
         2004
        ],
        [
         "Freiburg",
         20,
         1996
        ],
        [
         "Dortmund",
         20,
         2003
        ],
        [
         "Schalke 04",
         20,
         1994
        ],
        [
         "Munich 1860",
         20,
         2000
        ],
        [
         "Hertha",
         20,
         2013
        ],
        [
         "Hoffenheim",
         20,
         2011
        ],
        [
         "Hertha",
         20,
         2000
        ],
        [
         "Freiburg",
         20,
         2012
        ],
        [
         "M'gladbach",
         20,
         2001
        ],
        [
         "Duisburg",
         20,
         1993
        ],
        [
         "Stuttgart",
         20,
         1993
        ],
        [
         "Werder Bremen",
         20,
         1993
        ],
        [
         "Stuttgart",
         19,
         2005
        ],
        [
         "Munich 1860",
         19,
         1997
        ],
        [
         "M'gladbach",
         19,
         2003
        ],
        [
         "M'gladbach",
         19,
         2016
        ],
        [
         "St Pauli",
         19,
         1995
        ],
        [
         "Wolfsburg",
         19,
         2016
        ],
        [
         "Freiburg",
         19,
         1998
        ],
        [
         "Hansa Rostock",
         19,
         1999
        ],
        [
         "Wolfsburg",
         19,
         1998
        ],
        [
         "Hertha",
         19,
         2011
        ],
        [
         "Munich 1860",
         19,
         1999
        ],
        [
         "Duisburg",
         19,
         1996
        ],
        [
         "Hannover",
         19,
         2013
        ],
        [
         "Hansa Rostock",
         19,
         1997
        ],
        [
         "Hamburg",
         19,
         1994
        ],
        [
         "Hansa Rostock",
         19,
         1998
        ],
        [
         "FC Koln",
         19,
         2011
        ],
        [
         "Hertha",
         19,
         2014
        ],
        [
         "Hannover",
         19,
         2014
        ],
        [
         "Hertha",
         19,
         2008
        ],
        [
         "Freiburg",
         19,
         2016
        ],
        [
         "Nurnberg",
         19,
         2010
        ],
        [
         "Bochum",
         19,
         1998
        ],
        [
         "Hannover",
         19,
         2002
        ],
        [
         "Ein Frankfurt",
         19,
         2007
        ],
        [
         "M'gladbach",
         18,
         2012
        ],
        [
         "Ein Frankfurt",
         18,
         1998
        ],
        [
         "Werder Bremen",
         18,
         2011
        ],
        [
         "Mainz",
         18,
         2014
        ],
        [
         "Ein Frankfurt",
         18,
         2005
        ],
        [
         "Bielefeld",
         18,
         2006
        ],
        [
         "Hertha",
         18,
         2015
        ],
        [
         "Hannover",
         18,
         2008
        ],
        [
         "St Pauli",
         18,
         2001
        ],
        [
         "Hoffenheim",
         18,
         2014
        ],
        [
         "Freiburg",
         18,
         2013
        ],
        [
         "Hamburg",
         18,
         1997
        ],
        [
         "Wolfsburg",
         18,
         2011
        ],
        [
         "M'gladbach",
         18,
         2009
        ],
        [
         "Wolfsburg",
         18,
         2003
        ],
        [
         "Bochum",
         18,
         1996
        ],
        [
         "Ein Frankfurt",
         18,
         2010
        ],
        [
         "Nurnberg",
         18,
         2005
        ],
        [
         "Bielefeld",
         18,
         1999
        ],
        [
         "Hamburg",
         18,
         1996
        ],
        [
         "Kaiserslautern",
         18,
         1998
        ],
        [
         "Freiburg",
         18,
         2000
        ],
        [
         "Werder Bremen",
         18,
         1998
        ],
        [
         "Stuttgart",
         18,
         2007
        ],
        [
         "Hertha",
         18,
         2007
        ],
        [
         "Ein Frankfurt",
         18,
         2013
        ],
        [
         "Hannover",
         18,
         2006
        ],
        [
         "Unterhaching",
         18,
         1999
        ],
        [
         "Bochum",
         18,
         1997
        ],
        [
         "Hoffenheim",
         18,
         2009
        ],
        [
         "Aachen",
         18,
         2006
        ],
        [
         "Hamburg",
         17,
         2007
        ],
        [
         "Schalke 04",
         17,
         1995
        ],
        [
         "Wattenscheid",
         17,
         1993
        ],
        [
         "Wolfsburg",
         17,
         2005
        ],
        [
         "Duisburg",
         17,
         2005
        ],
        [
         "Cottbus",
         17,
         2006
        ],
        [
         "FC Koln",
         17,
         2010
        ],
        [
         "Kaiserslautern",
         17,
         2002
        ],
        [
         "Freiburg",
         17,
         2010
        ],
        [
         "Hertha",
         17,
         2002
        ],
        [
         "Nurnberg",
         17,
         2006
        ],
        [
         "Karlsruhe",
         17,
         1993
        ],
        [
         "Nurnberg",
         17,
         1998
        ],
        [
         "Nurnberg",
         17,
         2002
        ],
        [
         "Hoffenheim",
         17,
         2015
        ],
        [
         "Stuttgart",
         17,
         2012
        ],
        [
         "Hamburg",
         17,
         1993
        ],
        [
         "Hannover",
         17,
         2010
        ],
        [
         "Cottbus",
         17,
         2002
        ],
        [
         "Werder Bremen",
         17,
         1995
        ],
        [
         "Hamburg",
         17,
         2010
        ],
        [
         "Bochum",
         17,
         2004
        ],
        [
         "Werder Bremen",
         17,
         2002
        ],
        [
         "Duisburg",
         17,
         2007
        ],
        [
         "Duisburg",
         17,
         1999
        ],
        [
         "Ein Frankfurt",
         17,
         2012
        ],
        [
         "Dresden",
         16,
         1994
        ],
        [
         "Bielefeld",
         16,
         2004
        ],
        [
         "Stuttgart",
         16,
         1998
        ],
        [
         "Hertha",
         16,
         1999
        ],
        [
         "Munich 1860",
         16,
         2003
        ],
        [
         "Hannover",
         16,
         2009
        ],
        [
         "Wolfsburg",
         16,
         2010
        ],
        [
         "Bochum",
         16,
         2007
        ],
        [
         "M'gladbach",
         16,
         2008
        ],
        [
         "Freiburg",
         16,
         1999
        ],
        [
         "Schalke 04",
         16,
         2016
        ],
        [
         "Hamburg",
         16,
         2002
        ],
        [
         "Greuther Furth",
         16,
         2012
        ],
        [
         "Hannover",
         16,
         2005
        ],
        [
         "Werder Bremen",
         16,
         1997
        ],
        [
         "Dusseldorf",
         16,
         1995
        ],
        [
         "Bochum",
         16,
         2008
        ],
        [
         "Hannover",
         16,
         2015
        ],
        [
         "Augsburg",
         16,
         2011
        ],
        [
         "M'gladbach",
         16,
         1998
        ],
        [
         "Hertha",
         16,
         1997
        ],
        [
         "Hertha",
         16,
         2003
        ],
        [
         "Schalke 04",
         16,
         2014
        ],
        [
         "Stuttgart",
         16,
         1994
        ],
        [
         "Hamburg",
         16,
         2001
        ],
        [
         "Schalke 04",
         16,
         1996
        ],
        [
         "Nurnberg",
         16,
         2011
        ],
        [
         "Nurnberg",
         16,
         1993
        ],
        [
         "Hamburg",
         16,
         2011
        ],
        [
         "Duisburg",
         16,
         1998
        ],
        [
         "FC Koln",
         16,
         2014
        ],
        [
         "Freiburg",
         15,
         2014
        ],
        [
         "FC Koln",
         15,
         1997
        ],
        [
         "Schalke 04",
         15,
         1993
        ],
        [
         "Hertha",
         15,
         2016
        ],
        [
         "Hansa Rostock",
         15,
         2001
        ],
        [
         "Mainz",
         15,
         2005
        ],
        [
         "Ein Frankfurt",
         15,
         2000
        ],
        [
         "Bochum",
         15,
         2009
        ],
        [
         "FC Koln",
         15,
         1995
        ],
        [
         "Ingolstadt",
         15,
         2016
        ],
        [
         "Augsburg",
         15,
         2014
        ],
        [
         "Fortuna Dusseldorf",
         15,
         2012
        ],
        [
         "Karlsruhe",
         15,
         2007
        ],
        [
         "M'gladbach",
         15,
         2005
        ],
        [
         "Wolfsburg",
         15,
         2015
        ],
        [
         "FC Koln",
         15,
         2009
        ],
        [
         "Munich 1860",
         15,
         1994
        ],
        [
         "Hansa Rostock",
         15,
         2002
        ],
        [
         "Wolfsburg",
         15,
         2006
        ],
        [
         "Hansa Rostock",
         15,
         1996
        ],
        [
         "Schalke 04",
         15,
         2005
        ],
        [
         "Nurnberg",
         15,
         2012
        ],
        [
         "Ein Frankfurt",
         14,
         1995
        ],
        [
         "Bielefeld",
         14,
         2007
        ],
        [
         "Nurnberg",
         14,
         2009
        ],
        [
         "Mainz",
         14,
         2016
        ],
        [
         "Mainz",
         14,
         2006
        ],
        [
         "St Pauli",
         14,
         2010
        ],
        [
         "Schalke 04",
         14,
         2010
        ],
        [
         "Hamburg",
         14,
         2003
        ],
        [
         "Unterhaching",
         14,
         2000
        ],
        [
         "Schalke 04",
         14,
         1997
        ],
        [
         "Uerdingen",
         14,
         1994
        ],
        [
         "Kaiserslautern",
         14,
         2003
        ],
        [
         "Nurnberg",
         14,
         2007
        ],
        [
         "Bielefeld",
         14,
         1997
        ],
        [
         "Wolfsburg",
         14,
         2004
        ],
        [
         "Schalke 04",
         14,
         2001
        ],
        [
         "Hansa Rostock",
         14,
         2004
        ],
        [
         "Bielefeld",
         14,
         2005
        ],
        [
         "Mainz",
         14,
         2009
        ],
        [
         "Dortmund",
         14,
         1993
        ],
        [
         "Augsburg",
         14,
         2012
        ],
        [
         "Ulm",
         14,
         1999
        ],
        [
         "Freiburg",
         13,
         1995
        ],
        [
         "Ein Frankfurt",
         13,
         1994
        ],
        [
         "Augsburg",
         13,
         2016
        ],
        [
         "Karlsruhe",
         13,
         1994
        ],
        [
         "Hansa Rostock",
         13,
         2007
        ],
        [
         "Bielefeld",
         13,
         2008
        ],
        [
         "Dortmund",
         13,
         1998
        ],
        [
         "Hannover",
         13,
         2004
        ],
        [
         "Wolfsburg",
         13,
         2002
        ],
        [
         "Dresden",
         13,
         1993
        ],
        [
         "Nurnberg",
         13,
         2001
        ],
        [
         "Ein Frankfurt",
         13,
         1999
        ],
        [
         "Ein Frankfurt",
         13,
         2008
        ],
        [
         "M'gladbach",
         12,
         1996
        ],
        [
         "Kaiserslautern",
         12,
         1995
        ],
        [
         "Freiburg",
         12,
         2004
        ],
        [
         "Kaiserslautern",
         12,
         2011
        ],
        [
         "Karlsruhe",
         12,
         2008
        ],
        [
         "M'gladbach",
         12,
         2002
        ],
        [
         "Ein Frankfurt",
         12,
         2015
        ],
        [
         "Ein Frankfurt",
         12,
         2016
        ],
        [
         "Freiburg",
         12,
         2001
        ],
        [
         "Hamburg",
         12,
         2016
        ],
        [
         "Hansa Rostock",
         12,
         2000
        ],
        [
         "Bielefeld",
         12,
         2002
        ],
        [
         "RB Leipzig",
         12,
         1993
        ],
        [
         "Duisburg",
         12,
         1994
        ],
        [
         "Ein Frankfurt",
         11,
         2003
        ],
        [
         "Ingolstadt",
         11,
         2015
        ],
        [
         "Stuttgart",
         11,
         2000
        ],
        [
         "Cottbus",
         11,
         2000
        ],
        [
         "Cottbus",
         11,
         2008
        ],
        [
         "Braunschweig",
         11,
         2013
        ],
        [
         "Cottbus",
         10,
         2007
        ],
        [
         "Freiburg",
         10,
         2003
        ],
        [
         "FC Koln",
         10,
         2003
        ],
        [
         "Darmstadt",
         10,
         2016
        ],
        [
         "Bochum",
         10,
         2000
        ],
        [
         "FC Koln",
         10,
         2001
        ],
        [
         "Hannover",
         10,
         2011
        ],
        [
         "Paderborn",
         10,
         2014
        ],
        [
         "M'gladbach",
         9,
         2004
        ],
        [
         "Dusseldorf",
         9,
         1996
        ],
        [
         "Hamburg",
         9,
         2014
        ],
        [
         "Cottbus",
         9,
         2001
        ],
        [
         "M'gladbach",
         8,
         2006
        ],
        [
         "St Pauli",
         8,
         1996
        ],
        [
         "Uerdingen",
         7,
         1995
        ],
        [
         "Augsburg",
         -17,
         2017
        ],
        [
         "Stuttgart",
         -17,
         2017
        ],
        [
         "Wolfsburg",
         -17,
         2017
        ],
        [
         "Ein Frankfurt",
         -17,
         2017
        ],
        [
         "Dortmund",
         -17,
         2017
        ],
        [
         "Bayern Munich",
         -17,
         2017
        ],
        [
         "Schalke 04",
         -17,
         2017
        ],
        [
         "RB Leipzig",
         -17,
         2017
        ],
        [
         "Hannover",
         -17,
         2017
        ],
        [
         "Hamburg",
         -17,
         2017
        ],
        [
         "Leverkusen",
         -17,
         2017
        ],
        [
         "Werder Bremen",
         -17,
         2017
        ],
        [
         "FC Koln",
         -17,
         2017
        ],
        [
         "Hoffenheim",
         -17,
         2017
        ],
        [
         "Freiburg",
         -17,
         2017
        ],
        [
         "Mainz",
         -17,
         2017
        ],
        [
         "Hertha",
         -17,
         2017
        ],
        [
         "M'gladbach",
         -17,
         2017
        ]
       ],
       "datasetInfos": [],
       "dbfsResultPath": null,
       "isJsonSchema": true,
       "metadata": {},
       "overflow": false,
       "plotOptions": {
        "customPlotOptions": {},
        "displayType": "table",
        "pivotAggregation": null,
        "pivotColumns": null,
        "xColumns": null,
        "yColumns": null
       },
       "removedWidgets": [],
       "schema": [
        {
         "metadata": "{}",
         "name": "Team",
         "type": "\"string\""
        },
        {
         "metadata": "{}",
         "name": "Away Goals",
         "type": "\"long\""
        },
        {
         "metadata": "{}",
         "name": "Season",
         "type": "\"long\""
        }
       ],
       "type": "table"
      }
     },
     "output_type": "display_data"
    }
   ],
   "source": [
    "# Filter dtMatches for Div equal to \"D1\", group by \"AwayTeam\" and \"Season\", aggregate sum of \"FTAG\" as \"Away Goals\"\n",
    "# Select columns \"AwayTeam\" as \"Team\", \"Away Goals\", and alias \"Season\" as \"Season\"\n",
    "# Order by \"Away Goals\" in descending order\n",
    "\n",
    "dtScoredGoalsAway = (\n",
    "    dtMatches\n",
    "    .filter(col(\"Div\") == \"D1\")\n",
    "    .groupBy(\"AwayTeam\", \"Season\")\n",
    "    .agg(\n",
    "        sum(col(\"FTAG\")).alias(\"Away Goals\"),\n",
    "    )\n",
    "    .select(\n",
    "        col(\"AwayTeam\").alias(\"Team\"),\n",
    "        col(\"Away Goals\"),\n",
    "        col(\"Season\").alias(\"Season\")\n",
    "    )\n",
    "    .orderBy(desc(\"Away Goals\"))\n",
    ")\n",
    "\n",
    "# Display dtScoredGoalsAway table\n",
    "dtScoredGoalsAway.display()\n"
   ]
  },
  {
   "cell_type": "code",
   "execution_count": 0,
   "metadata": {
    "application/vnd.databricks.v1+cell": {
     "cellMetadata": {
      "byteLimit": 2048000,
      "rowLimit": 10000
     },
     "inputWidgets": {},
     "nuid": "09d8d651-4d88-445c-a8d7-382a5aede1eb",
     "showTitle": false,
     "title": ""
    }
   },
   "outputs": [
    {
     "output_type": "display_data",
     "data": {
      "text/html": [
       "<style scoped>\n",
       "  .table-result-container {\n",
       "    max-height: 300px;\n",
       "    overflow: auto;\n",
       "  }\n",
       "  table, th, td {\n",
       "    border: 1px solid black;\n",
       "    border-collapse: collapse;\n",
       "  }\n",
       "  th, td {\n",
       "    padding: 5px;\n",
       "  }\n",
       "  th {\n",
       "    text-align: left;\n",
       "  }\n",
       "</style><div class='table-result-container'><table class='table-result'><thead style='background-color: white'><tr><th>Team</th><th>Season</th><th>Home Goals</th><th>Away Goals</th><th>Total Goals</th></tr></thead><tbody><tr><td>M'gladbach</td><td>1996</td><td>34</td><td>12</td><td>46</td></tr><tr><td>Bayern Munich</td><td>2011</td><td>49</td><td>28</td><td>77</td></tr><tr><td>Ein Frankfurt</td><td>1995</td><td>29</td><td>14</td><td>43</td></tr><tr><td>M'gladbach</td><td>2013</td><td>38</td><td>21</td><td>59</td></tr><tr><td>FC Koln</td><td>1994</td><td>31</td><td>23</td><td>54</td></tr><tr><td>Werder Bremen</td><td>2003</td><td>42</td><td>37</td><td>79</td></tr><tr><td>Augsburg</td><td>2015</td><td>18</td><td>24</td><td>42</td></tr><tr><td>M'gladbach</td><td>1994</td><td>37</td><td>29</td><td>66</td></tr><tr><td>M'gladbach</td><td>2012</td><td>27</td><td>18</td><td>45</td></tr><tr><td>Bielefeld</td><td>2007</td><td>21</td><td>14</td><td>35</td></tr><tr><td>Bayern Munich</td><td>1994</td><td>32</td><td>23</td><td>55</td></tr><tr><td>Dresden</td><td>1994</td><td>17</td><td>16</td><td>33</td></tr><tr><td>Leverkusen</td><td>2001</td><td>46</td><td>31</td><td>77</td></tr><tr><td>Ein Frankfurt</td><td>2003</td><td>25</td><td>11</td><td>36</td></tr><tr><td>Werder Bremen</td><td>2007</td><td>48</td><td>27</td><td>75</td></tr><tr><td>Kaiserslautern</td><td>1994</td><td>32</td><td>26</td><td>58</td></tr><tr><td>Ein Frankfurt</td><td>1998</td><td>26</td><td>18</td><td>44</td></tr><tr><td>Werder Bremen</td><td>2011</td><td>31</td><td>18</td><td>49</td></tr><tr><td>Freiburg</td><td>2014</td><td>21</td><td>15</td><td>36</td></tr><tr><td>Hamburg</td><td>2007</td><td>30</td><td>17</td><td>47</td></tr><tr><td>Werder Bremen</td><td>1994</td><td>44</td><td>26</td><td>70</td></tr><tr><td>Schalke 04</td><td>1995</td><td>28</td><td>17</td><td>45</td></tr><tr><td>Freiburg</td><td>2011</td><td>24</td><td>21</td><td>45</td></tr><tr><td>FC Koln</td><td>1997</td><td>34</td><td>15</td><td>49</td></tr><tr><td>FC Koln</td><td>2016</td><td>29</td><td>22</td><td>51</td></tr><tr><td>Wattenscheid</td><td>1993</td><td>31</td><td>17</td><td>48</td></tr><tr><td>Hannover</td><td>2003</td><td>27</td><td>22</td><td>49</td></tr><tr><td>Nurnberg</td><td>2013</td><td>16</td><td>21</td><td>37</td></tr><tr><td>Bayern Munich</td><td>1996</td><td>37</td><td>31</td><td>68</td></tr><tr><td>Dortmund</td><td>2002</td><td>31</td><td>20</td><td>51</td></tr><tr><td>Hoffenheim</td><td>2013</td><td>43</td><td>29</td><td>72</td></tr><tr><td>Leverkusen</td><td>2013</td><td>35</td><td>25</td><td>60</td></tr><tr><td>Bayern Munich</td><td>2016</td><td>55</td><td>34</td><td>89</td></tr><tr><td>Bielefeld</td><td>2004</td><td>21</td><td>16</td><td>37</td></tr><tr><td>Ein Frankfurt</td><td>2014</td><td>36</td><td>20</td><td>56</td></tr><tr><td>Freiburg</td><td>1994</td><td>38</td><td>28</td><td>66</td></tr><tr><td>Wolfsburg</td><td>1997</td><td>17</td><td>21</td><td>38</td></tr><tr><td>Dortmund</td><td>2000</td><td>34</td><td>28</td><td>62</td></tr><tr><td>Nurnberg</td><td>2009</td><td>18</td><td>14</td><td>32</td></tr><tr><td>Mainz</td><td>2016</td><td>30</td><td>14</td><td>44</td></tr><tr><td>Stuttgart</td><td>2005</td><td>18</td><td>19</td><td>37</td></tr><tr><td>Wolfsburg</td><td>2008</td><td>51</td><td>29</td><td>80</td></tr><tr><td>Stuttgart</td><td>1998</td><td>25</td><td>16</td><td>41</td></tr><tr><td>Werder Bremen</td><td>2012</td><td>23</td><td>27</td><td>50</td></tr><tr><td>Schalke 04</td><td>1999</td><td>21</td><td>21</td><td>42</td></tr><tr><td>Schalke 04</td><td>1993</td><td>23</td><td>15</td><td>38</td></tr><tr><td>Schalke 04</td><td>2012</td><td>35</td><td>23</td><td>58</td></tr><tr><td>Mainz</td><td>2014</td><td>27</td><td>18</td><td>45</td></tr><tr><td>Cottbus</td><td>2007</td><td>25</td><td>10</td><td>35</td></tr><tr><td>Leverkusen</td><td>2007</td><td>32</td><td>25</td><td>57</td></tr><tr><td>Munich 1860</td><td>1996</td><td>34</td><td>22</td><td>56</td></tr><tr><td>Kaiserslautern</td><td>1995</td><td>19</td><td>12</td><td>31</td></tr><tr><td>Mainz</td><td>2006</td><td>20</td><td>14</td><td>34</td></tr><tr><td>Leverkusen</td><td>1999</td><td>44</td><td>30</td><td>74</td></tr><tr><td>Bayern Munich</td><td>2010</td><td>48</td><td>33</td><td>81</td></tr><tr><td>Hamburg</td><td>1998</td><td>25</td><td>22</td><td>47</td></tr><tr><td>Werder Bremen</td><td>2006</td><td>33</td><td>43</td><td>76</td></tr><tr><td>Freiburg</td><td>2004</td><td>18</td><td>12</td><td>30</td></tr><tr><td>Leverkusen</td><td>2010</td><td>33</td><td>31</td><td>64</td></tr><tr><td>Mainz</td><td>2011</td><td>27</td><td>20</td><td>47</td></tr><tr><td>Hertha</td><td>2016</td><td>28</td><td>15</td><td>43</td></tr><tr><td>St Pauli</td><td>2010</td><td>21</td><td>14</td><td>35</td></tr><tr><td>Freiburg</td><td>1995</td><td>17</td><td>13</td><td>30</td></tr><tr><td>Dortmund</td><td>1999</td><td>21</td><td>20</td><td>41</td></tr><tr><td>Kaiserslautern</td><td>2005</td><td>26</td><td>21</td><td>47</td></tr><tr><td>Hertha</td><td>1999</td><td>23</td><td>16</td><td>39</td></tr><tr><td>Hansa Rostock</td><td>2003</td><td>34</td><td>21</td><td>55</td></tr><tr><td>Ein Frankfurt</td><td>2005</td><td>24</td><td>18</td><td>42</td></tr><tr><td>Hertha</td><td>2005</td><td>30</td><td>22</td><td>52</td></tr><tr><td>Freiburg</td><td>2003</td><td>32</td><td>10</td><td>42</td></tr><tr><td>FC Koln</td><td>2003</td><td>22</td><td>10</td><td>32</td></tr><tr><td>Kaiserslautern</td><td>2011</td><td>12</td><td>12</td><td>24</td></tr><tr><td>Hansa Rostock</td><td>1995</td><td>23</td><td>24</td><td>47</td></tr><tr><td>Bielefeld</td><td>2006</td><td>29</td><td>18</td><td>47</td></tr><tr><td>Ein Frankfurt</td><td>1994</td><td>28</td><td>13</td><td>41</td></tr><tr><td>Munich 1860</td><td>2003</td><td>16</td><td>16</td><td>32</td></tr><tr><td>Werder Bremen</td><td>2014</td><td>25</td><td>25</td><td>50</td></tr><tr><td>Augsburg</td><td>2016</td><td>22</td><td>13</td><td>35</td></tr><tr><td>Werder Bremen</td><td>2000</td><td>33</td><td>20</td><td>53</td></tr><tr><td>Hansa Rostock</td><td>2001</td><td>20</td><td>15</td><td>35</td></tr><tr><td>Karlsruhe</td><td>2008</td><td>18</td><td>12</td><td>30</td></tr><tr><td>Karlsruhe</td><td>1994</td><td>38</td><td>13</td><td>51</td></tr><tr><td>FC Koln</td><td>2008</td><td>14</td><td>21</td><td>35</td></tr><tr><td>Dortmund</td><td>1994</td><td>35</td><td>32</td><td>67</td></tr><tr><td>Hoffenheim</td><td>2010</td><td>28</td><td>22</td><td>50</td></tr><tr><td>Hamburg</td><td>2012</td><td>18</td><td>24</td><td>42</td></tr><tr><td>Hannover</td><td>2009</td><td>27</td><td>16</td><td>43</td></tr><tr><td>Mainz</td><td>2005</td><td>31</td><td>15</td><td>46</td></tr><tr><td>Stuttgart</td><td>1996</td><td>46</td><td>32</td><td>78</td></tr><tr><td>M'gladbach</td><td>2004</td><td>26</td><td>9</td><td>35</td></tr><tr><td>Dortmund</td><td>2007</td><td>29</td><td>21</td><td>50</td></tr><tr><td>Munich 1860</td><td>2001</td><td>31</td><td>28</td><td>59</td></tr><tr><td>Ein Frankfurt</td><td>2000</td><td>26</td><td>15</td><td>41</td></tr><tr><td>Leverkusen</td><td>2004</td><td>42</td><td>23</td><td>65</td></tr><tr><td>M'gladbach</td><td>2014</td><td>32</td><td>21</td><td>53</td></tr><tr><td>M'gladbach</td><td>2015</td><td>42</td><td>25</td><td>67</td></tr><tr><td>Kaiserslautern</td><td>2010</td><td>25</td><td>23</td><td>48</td></tr><tr><td>Dortmund</td><td>2016</td><td>41</td><td>31</td><td>72</td></tr><tr><td>Schalke 04</td><td>2000</td><td>36</td><td>29</td><td>65</td></tr><tr><td>Leverkusen</td><td>2011</td><td>28</td><td>24</td><td>52</td></tr><tr><td>Stuttgart</td><td>2008</td><td>34</td><td>29</td><td>63</td></tr><tr><td>Leverkusen</td><td>1993</td><td>36</td><td>24</td><td>60</td></tr><tr><td>Munich 1860</td><td>1997</td><td>24</td><td>19</td><td>43</td></tr><tr><td>Leverkusen</td><td>1995</td><td>16</td><td>21</td><td>37</td></tr><tr><td>M'gladbach</td><td>2002</td><td>31</td><td>12</td><td>43</td></tr><tr><td>M'gladbach</td><td>2003</td><td>21</td><td>19</td><td>40</td></tr><tr><td>Schalke 04</td><td>2010</td><td>24</td><td>14</td><td>38</td></tr><tr><td>Dortmund</td><td>2010</td><td>35</td><td>32</td><td>67</td></tr><tr><td>Stuttgart</td><td>2015</td><td>22</td><td>28</td><td>50</td></tr><tr><td>Bayern Munich</td><td>2014</td><td>46</td><td>34</td><td>80</td></tr><tr><td>Hamburg</td><td>2003</td><td>33</td><td>14</td><td>47</td></tr><tr><td>Wolfsburg</td><td>2010</td><td>27</td><td>16</td><td>43</td></tr><tr><td>M'gladbach</td><td>2016</td><td>26</td><td>19</td><td>45</td></tr><tr><td>Schalke 04</td><td>2009</td><td>29</td><td>24</td><td>53</td></tr><tr><td>Bochum</td><td>2007</td><td>32</td><td>16</td><td>48</td></tr><tr><td>Freiburg</td><td>1993</td><td>29</td><td>25</td><td>54</td></tr><tr><td>Leverkusen</td><td>2009</td><td>37</td><td>28</td><td>65</td></tr><tr><td>Werder Bremen</td><td>2005</td><td>50</td><td>29</td><td>79</td></tr><tr><td>Hoffenheim</td><td>2008</td><td>30</td><td>33</td><td>63</td></tr><tr><td>FC Koln</td><td>1993</td><td>25</td><td>24</td><td>49</td></tr><tr><td>St Pauli</td><td>1995</td><td>24</td><td>19</td><td>43</td></tr><tr><td>Bayern Munich</td><td>1999</td><td>50</td><td>23</td><td>73</td></tr><tr><td>M'Gladbach</td><td>1993</td><td>38</td><td>27</td><td>65</td></tr><tr><td>Ein Frankfurt</td><td>2006</td><td>21</td><td>25</td><td>46</td></tr><tr><td>Bochum</td><td>2009</td><td>18</td><td>15</td><td>33</td></tr><tr><td>Wolfsburg</td><td>2016</td><td>15</td><td>19</td><td>34</td></tr><tr><td>Hansa Rostock</td><td>2007</td><td>17</td><td>13</td><td>30</td></tr><tr><td>Freiburg</td><td>1998</td><td>17</td><td>19</td><td>36</td></tr><tr><td>FC Koln</td><td>1995</td><td>18</td><td>15</td><td>33</td></tr><tr><td>Wolfsburg</td><td>2005</td><td>16</td><td>17</td><td>33</td></tr><tr><td>M'gladbach</td><td>2008</td><td>23</td><td>16</td><td>39</td></tr><tr><td>Bielefeld</td><td>2008</td><td>16</td><td>13</td><td>29</td></tr><tr><td>Hansa Rostock</td><td>1999</td><td>25</td><td>19</td><td>44</td></tr><tr><td>Mainz</td><td>2015</td><td>23</td><td>23</td><td>46</td></tr><tr><td>Hertha</td><td>1998</td><td>38</td><td>21</td><td>59</td></tr><tr><td>Dortmund</td><td>1998</td><td>35</td><td>13</td><td>48</td></tr><tr><td>Ein Frankfurt</td><td>2015</td><td>22</td><td>12</td><td>34</td></tr><tr><td>Ein Frankfurt</td><td>2016</td><td>24</td><td>12</td><td>36</td></tr><tr><td>Wolfsburg</td><td>2007</td><td>28</td><td>30</td><td>58</td></tr><tr><td>Hertha</td><td>2015</td><td>24</td><td>18</td><td>42</td></tr><tr><td>Hannover</td><td>2008</td><td>31</td><td>18</td><td>49</td></tr><tr><td>FC Koln</td><td>2000</td><td>33</td><td>26</td><td>59</td></tr><tr><td>Leverkusen</td><td>2002</td><td>27</td><td>20</td><td>47</td></tr><tr><td>Ingolstadt</td><td>2016</td><td>21</td><td>15</td><td>36</td></tr><tr><td>Bayern Munich</td><td>2000</td><td>37</td><td>25</td><td>62</td></tr><tr><td>Bayern Munich</td><td>2003</td><td>43</td><td>27</td><td>70</td></tr><tr><td>Bayern Munich</td><td>1993</td><td>44</td><td>24</td><td>68</td></tr><tr><td>Wolfsburg</td><td>2001</td><td>34</td><td>23</td><td>57</td></tr><tr><td>Duisburg</td><td>2005</td><td>17</td><td>17</td><td>34</td></tr><tr><td>Freiburg</td><td>1999</td><td>29</td><td>16</td><td>45</td></tr><tr><td>M'gladbach</td><td>2011</td><td>29</td><td>20</td><td>49</td></tr><tr><td>Schalke 04</td><td>2011</td><td>47</td><td>27</td><td>74</td></tr><tr><td>Bayern Munich</td><td>2013</td><td>48</td><td>46</td><td>94</td></tr><tr><td>Stuttgart</td><td>2009</td><td>28</td><td>23</td><td>51</td></tr><tr><td>Schalke 04</td><td>2016</td><td>29</td><td>16</td><td>45</td></tr><tr><td>Unterhaching</td><td>2000</td><td>21</td><td>14</td><td>35</td></tr><tr><td>St Pauli</td><td>2001</td><td>19</td><td>18</td><td>37</td></tr><tr><td>Hoffenheim</td><td>2014</td><td>31</td><td>18</td><td>49</td></tr><tr><td>Cottbus</td><td>2006</td><td>21</td><td>17</td><td>38</td></tr><tr><td>Werder Bremen</td><td>2008</td><td>43</td><td>21</td><td>64</td></tr><tr><td>Freiburg</td><td>2009</td><td>14</td><td>21</td><td>35</td></tr><tr><td>Stuttgart</td><td>2011</td><td>36</td><td>27</td><td>63</td></tr><tr><td>Freiburg</td><td>2013</td><td>25</td><td>18</td><td>43</td></tr><tr><td>Hoffenheim</td><td>2016</td><td>35</td><td>29</td><td>64</td></tr><tr><td>Schalke 04</td><td>1997</td><td>24</td><td>14</td><td>38</td></tr><tr><td>Wolfsburg</td><td>1998</td><td>35</td><td>19</td><td>54</td></tr><tr><td>Bayern Munich</td><td>2001</td><td>42</td><td>23</td><td>65</td></tr><tr><td>Kaiserslautern</td><td>2001</td><td>39</td><td>23</td><td>62</td></tr><tr><td>Hertha</td><td>2011</td><td>19</td><td>19</td><td>38</td></tr><tr><td>Stuttgart</td><td>2003</td><td>29</td><td>23</td><td>52</td></tr><tr><td>Hannover</td><td>2004</td><td>21</td><td>13</td><td>34</td></tr><tr><td>Munich 1860</td><td>1999</td><td>36</td><td>19</td><td>55</td></tr><tr><td>Bayern Munich</td><td>2008</td><td>45</td><td>26</td><td>71</td></tr><tr><td>Werder Bremen</td><td>2013</td><td>21</td><td>21</td><td>42</td></tr><tr><td>Hamburg</td><td>2006</td><td>22</td><td>21</td><td>43</td></tr><tr><td>Duisburg</td><td>1996</td><td>25</td><td>19</td><td>44</td></tr><tr><td>Hoffenheim</td><td>2012</td><td>21</td><td>21</td><td>42</td></tr><tr><td>Augsburg</td><td>2013</td><td>27</td><td>20</td><td>47</td></tr><tr><td>Uerdingen</td><td>1994</td><td>23</td><td>14</td><td>37</td></tr><tr><td>Hamburg</td><td>2015</td><td>20</td><td>20</td><td>40</td></tr><tr><td>Dortmund</td><td>2008</td><td>34</td><td>26</td><td>60</td></tr><tr><td>Hamburg</td><td>1997</td><td>20</td><td>18</td><td>38</td></tr><tr><td>Bayern Munich</td><td>2005</td><td>42</td><td>25</td><td>67</td></tr><tr><td>M'gladbach</td><td>2006</td><td>15</td><td>8</td><td>23</td></tr><tr><td>Freiburg</td><td>2001</td><td>25</td><td>12</td><td>37</td></tr><tr><td>Wolfsburg</td><td>2011</td><td>29</td><td>18</td><td>47</td></tr><tr><td>Bayern Munich</td><td>1997</td><td>36</td><td>33</td><td>69</td></tr><tr><td>Hertha</td><td>2009</td><td>10</td><td>24</td><td>34</td></tr><tr><td>FC Koln</td><td>2010</td><td>30</td><td>17</td><td>47</td></tr><tr><td>Dortmund</td><td>1997</td><td>36</td><td>21</td><td>57</td></tr><tr><td>Ein Frankfurt</td><td>2009</td><td>25</td><td>22</td><td>47</td></tr><tr><td>FC Koln</td><td>2015</td><td>16</td><td>22</td><td>38</td></tr><tr><td>Hannover</td><td>2013</td><td>27</td><td>19</td><td>46</td></tr><tr><td>Werder Bremen</td><td>1996</td><td>27</td><td>26</td><td>53</td></tr><tr><td>Hamburg</td><td>2013</td><td>24</td><td>27</td><td>51</td></tr><tr><td>Dortmund</td><td>2015</td><td>49</td><td>33</td><td>82</td></tr><tr><td>Mainz</td><td>2012</td><td>22</td><td>20</td><td>42</td></tr><tr><td>Stuttgart</td><td>1997</td><td>27</td><td>28</td><td>55</td></tr><tr><td>Augsburg</td><td>2014</td><td>28</td><td>15</td><td>43</td></tr><tr><td>Fortuna Dusseldorf</td><td>2012</td><td>24</td><td>15</td><td>39</td></tr><tr><td>Darmstadt</td><td>2016</td><td>18</td><td>10</td><td>28</td></tr><tr><td>Bayern Munich</td><td>2006</td><td>29</td><td>26</td><td>55</td></tr><tr><td>Hertha</td><td>2004</td><td>34</td><td>25</td><td>59</td></tr><tr><td>Stuttgart</td><td>2004</td><td>34</td><td>20</td><td>54</td></tr><tr><td>Dortmund</td><td>2005</td><td>23</td><td>22</td><td>45</td></tr><tr><td>Hamburg</td><td>2008</td><td>27</td><td>22</td><td>49</td></tr><tr><td>Karlsruhe</td><td>2007</td><td>23</td><td>15</td><td>38</td></tr><tr><td>FC Koln</td><td>1996</td><td>35</td><td>27</td><td>62</td></tr><tr><td>Hansa Rostock</td><td>1997</td><td>35</td><td>19</td><td>54</td></tr><tr><td>Hamburg</td><td>2002</td><td>30</td><td>16</td><td>46</td></tr><tr><td>Kaiserslautern</td><td>2003</td><td>25</td><td>14</td><td>39</td></tr><tr><td>Greuther Furth</td><td>2012</td><td>10</td><td>16</td><td>26</td></tr><tr><td>Hannover</td><td>2007</td><td>32</td><td>22</td><td>54</td></tr><tr><td>Bayern Munich</td><td>2002</td><td>37</td><td>33</td><td>70</td></tr><tr><td>Hannover</td><td>2005</td><td>27</td><td>16</td><td>43</td></tr><tr><td>Nurnberg</td><td>2007</td><td>21</td><td>14</td><td>35</td></tr><tr><td>Bochum</td><td>2000</td><td>20</td><td>10</td><td>30</td></tr><tr><td>Werder Bremen</td><td>2001</td><td>29</td><td>25</td><td>54</td></tr><tr><td>Werder Bremen</td><td>2015</td><td>27</td><td>23</td><td>50</td></tr><tr><td>Munich 1860</td><td>2002</td><td>22</td><td>22</td><td>44</td></tr><tr><td>Dortmund</td><td>2006</td><td>19</td><td>22</td><td>41</td></tr><tr><td>Hamburg</td><td>1995</td><td>29</td><td>23</td><td>52</td></tr><tr><td>Hamburg</td><td>1994</td><td>24</td><td>19</td><td>43</td></tr><tr><td>Bayern Munich</td><td>1995</td><td>35</td><td>31</td><td>66</td></tr><tr><td>Werder Bremen</td><td>1997</td><td>27</td><td>16</td><td>43</td></tr><tr><td>Schalke 04</td><td>2002</td><td>23</td><td>23</td><td>46</td></tr><tr><td>Kaiserslautern</td><td>2002</td><td>23</td><td>17</td><td>40</td></tr><tr><td>Bochum</td><td>2003</td><td>30</td><td>27</td><td>57</td></tr><tr><td>Bayern Munich</td><td>1998</td><td>48</td><td>28</td><td>76</td></tr><tr><td>Ingolstadt</td><td>2015</td><td>22</td><td>11</td><td>33</td></tr><tr><td>Dortmund</td><td>2004</td><td>24</td><td>23</td><td>47</td></tr><tr><td>Wolfsburg</td><td>2013</td><td>37</td><td>26</td><td>63</td></tr><tr><td>Stuttgart</td><td>2000</td><td>31</td><td>11</td><td>42</td></tr><tr><td>M'gladbach</td><td>2009</td><td>25</td><td>18</td><td>43</td></tr><tr><td>M'gladbach</td><td>2005</td><td>27</td><td>15</td><td>42</td></tr><tr><td>Bochum</td><td>2008</td><td>23</td><td>16</td><td>39</td></tr><tr><td>Nurnberg</td><td>2004</td><td>25</td><td>30</td><td>55</td></tr><tr><td>RB Leipzig</td><td>2016</td><td>35</td><td>31</td><td>66</td></tr><tr><td>Freiburg</td><td>2010</td><td>24</td><td>17</td><td>41</td></tr><tr><td>Hannover</td><td>2015</td><td>15</td><td>16</td><td>31</td></tr><tr><td>Bayern Munich</td><td>2015</td><td>51</td><td>29</td><td>80</td></tr><tr><td>Cottbus</td><td>2000</td><td>27</td><td>11</td><td>38</td></tr><tr><td>Ein Frankfurt</td><td>1993</td><td>29</td><td>28</td><td>57</td></tr><tr><td>Duisburg</td><td>1997</td><td>21</td><td>22</td><td>43</td></tr><tr><td>Wolfsburg</td><td>2009</td><td>39</td><td>25</td><td>64</td></tr><tr><td>FC Koln</td><td>2001</td><td>16</td><td>10</td><td>26</td></tr><tr><td>Wolfsburg</td><td>2002</td><td>26</td><td>13</td><td>39</td></tr><tr><td>Augsburg</td><td>2011</td><td>20</td><td>16</td><td>36</td></tr><tr><td>Werder Bremen</td><td>2010</td><td>26</td><td>21</td><td>47</td></tr><tr><td>Freiburg</td><td>1996</td><td>23</td><td>20</td><td>43</td></tr><tr><td>Hansa Rostock</td><td>1998</td><td>30</td><td>19</td><td>49</td></tr><tr><td>Kaiserslautern</td><td>1999</td><td>31</td><td>23</td><td>54</td></tr><tr><td>Dortmund</td><td>2003</td><td>39</td><td>20</td><td>59</td></tr><tr><td>Uerdingen</td><td>1995</td><td>26</td><td>7</td><td>33</td></tr><tr><td>Leverkusen</td><td>2008</td><td>31</td><td>28</td><td>59</td></tr><tr><td>M'gladbach</td><td>1995</td><td>29</td><td>23</td><td>52</td></tr><tr><td>Bielefeld</td><td>1997</td><td>29</td><td>14</td><td>43</td></tr><tr><td>Stuttgart</td><td>1999</td><td>22</td><td>22</td><td>44</td></tr><tr><td>Schalke 04</td><td>1994</td><td>28</td><td>20</td><td>48</td></tr><tr><td>Stuttgart</td><td>2013</td><td>28</td><td>21</td><td>49</td></tr><tr><td>Leverkusen</td><td>2000</td><td>30</td><td>24</td><td>54</td></tr><tr><td>Wolfsburg</td><td>2003</td><td>38</td><td>18</td><td>56</td></tr><tr><td>Cottbus</td><td>2008</td><td>19</td><td>11</td><td>30</td></tr><tr><td>Wolfsburg</td><td>2000</td><td>38</td><td>22</td><td>60</td></tr><tr><td>Stuttgart</td><td>2002</td><td>30</td><td>23</td><td>53</td></tr><tr><td>FC Koln</td><td>2011</td><td>20</td><td>19</td><td>39</td></tr><tr><td>Hertha</td><td>2014</td><td>17</td><td>19</td><td>36</td></tr><tr><td>Munich 1860</td><td>2000</td><td>23</td><td>20</td><td>43</td></tr><tr><td>Werder Bremen</td><td>1999</td><td>41</td><td>24</td><td>65</td></tr><tr><td>Munich 1860</td><td>1998</td><td>28</td><td>21</td><td>49</td></tr><tr><td>Bochum</td><td>1996</td><td>36</td><td>18</td><td>54</td></tr><tr><td>Wolfsburg</td><td>2004</td><td>35</td><td>14</td><td>49</td></tr><tr><td>Hertha</td><td>2002</td><td>35</td><td>17</td><td>52</td></tr><tr><td>Bochum</td><td>2006</td><td>23</td><td>26</td><td>49</td></tr><tr><td>FC Koln</td><td>2005</td><td>24</td><td>25</td><td>49</td></tr><tr><td>Nurnberg</td><td>2006</td><td>26</td><td>17</td><td>43</td></tr><tr><td>Dresden</td><td>1993</td><td>20</td><td>13</td><td>33</td></tr><tr><td>M'gladbach</td><td>2010</td><td>26</td><td>22</td><td>48</td></tr><tr><td>Dortmund</td><td>2013</td><td>41</td><td>39</td><td>80</td></tr><tr><td>Karlsruhe</td><td>1993</td><td>29</td><td>17</td><td>46</td></tr><tr><td>Schalke 04</td><td>2001</td><td>38</td><td>14</td><td>52</td></tr><tr><td>Bochum</td><td>1994</td><td>21</td><td>22</td><td>43</td></tr><tr><td>M'gladbach</td><td>1998</td><td>25</td><td>16</td><td>41</td></tr><tr><td>Mainz</td><td>2010</td><td>22</td><td>30</td><td>52</td></tr><tr><td>Dortmund</td><td>2011</td><td>44</td><td>36</td><td>80</td></tr><tr><td>Hertha</td><td>1997</td><td>25</td><td>16</td><td>41</td></tr><tr><td>Dortmund</td><td>2009</td><td>29</td><td>25</td><td>54</td></tr><tr><td>Hannover</td><td>2014</td><td>21</td><td>19</td><td>40</td></tr><tr><td>Hamburg</td><td>2016</td><td>21</td><td>12</td><td>33</td></tr><tr><td>Stuttgart</td><td>2001</td><td>25</td><td>22</td><td>47</td></tr><tr><td>Hertha</td><td>2003</td><td>26</td><td>16</td><td>42</td></tr><tr><td>Hannover</td><td>2012</td><td>34</td><td>26</td><td>60</td></tr><tr><td>Schalke 04</td><td>2006</td><td>30</td><td>23</td><td>53</td></tr><tr><td>Dortmund</td><td>2012</td><td>40</td><td>41</td><td>81</td></tr><tr><td>Hertha</td><td>2013</td><td>20</td><td>20</td><td>40</td></tr><tr><td>Schalke 04</td><td>2014</td><td>26</td><td>16</td><td>42</td></tr><tr><td>Wolfsburg</td><td>2015</td><td>32</td><td>15</td><td>47</td></tr><tr><td>Bochum</td><td>2002</td><td>26</td><td>29</td><td>55</td></tr><tr><td>Ein Frankfurt</td><td>2010</td><td>13</td><td>18</td><td>31</td></tr><tr><td>Nurnberg</td><td>2005</td><td>31</td><td>18</td><td>49</td></tr><tr><td>Nurnberg</td><td>1998</td><td>23</td><td>17</td><td>40</td></tr><tr><td>FC Koln</td><td>2009</td><td>18</td><td>15</td><td>33</td></tr><tr><td>Hamburg</td><td>2005</td><td>26</td><td>27</td><td>53</td></tr><tr><td>Stuttgart</td><td>1994</td><td>36</td><td>16</td><td>52</td></tr><tr><td>Kaiserslautern</td><td>1997</td><td>36</td><td>27</td><td>63</td></tr><tr><td>Bielefeld</td><td>1999</td><td>22</td><td>18</td><td>40</td></tr><tr><td>Bayern Munich</td><td>2012</td><td>56</td><td>42</td><td>98</td></tr><tr><td>Hamburg</td><td>2001</td><td>35</td><td>16</td><td>51</td></tr><tr><td>Hertha</td><td>2008</td><td>29</td><td>19</td><td>48</td></tr><tr><td>Wolfsburg</td><td>1999</td><td>29</td><td>22</td><td>51</td></tr><tr><td>Kaiserslautern</td><td>2004</td><td>20</td><td>23</td><td>43</td></tr><tr><td>Schalke 04</td><td>1996</td><td>19</td><td>16</td><td>35</td></tr><tr><td>Nurnberg</td><td>2002</td><td>16</td><td>17</td><td>33</td></tr><tr><td>Hansa Rostock</td><td>2004</td><td>17</td><td>14</td><td>31</td></tr><tr><td>Leverkusen</td><td>2012</td><td>36</td><td>29</td><td>65</td></tr><tr><td>Hoffenheim</td><td>2015</td><td>22</td><td>17</td><td>39</td></tr><tr><td>Karlsruhe</td><td>1996</td><td>32</td><td>23</td><td>55</td></tr><tr><td>Kaiserslautern</td><td>2000</td><td>24</td><td>25</td><td>49</td></tr><tr><td>Wolfsburg</td><td>2012</td><td>21</td><td>26</td><td>47</td></tr><tr><td>Braunschweig</td><td>2013</td><td>18</td><td>11</td><td>29</td></tr><tr><td>Bielefeld</td><td>2005</td><td>18</td><td>14</td><td>32</td></tr><tr><td>Hansa Rostock</td><td>2000</td><td>22</td><td>12</td><td>34</td></tr><tr><td>Hoffenheim</td><td>2011</td><td>21</td><td>20</td><td>41</td></tr><tr><td>Leverkusen</td><td>2006</td><td>28</td><td>26</td><td>54</td></tr><tr><td>Bielefeld</td><td>1996</td><td>23</td><td>23</td><td>46</td></tr><tr><td>Hamburg</td><td>1996</td><td>28</td><td>18</td><td>46</td></tr><tr><td>Mainz</td><td>2009</td><td>22</td><td>14</td><td>36</td></tr><tr><td>Nurnberg</td><td>2011</td><td>22</td><td>16</td><td>38</td></tr><tr><td>Stuttgart</td><td>2012</td><td>20</td><td>17</td><td>37</td></tr><tr><td>Mainz</td><td>2004</td><td>28</td><td>22</td><td>50</td></tr><tr><td>Hamburg</td><td>1993</td><td>31</td><td>17</td><td>48</td></tr><tr><td>Leverkusen</td><td>1994</td><td>31</td><td>31</td><td>62</td></tr><tr><td>Stuttgart</td><td>2014</td><td>18</td><td>24</td><td>42</td></tr><tr><td>Munich 1860</td><td>1994</td><td>26</td><td>15</td><td>41</td></tr><tr><td>Dortmund</td><td>2001</td><td>31</td><td>31</td><td>62</td></tr><tr><td>Kaiserslautern</td><td>1998</td><td>33</td><td>18</td><td>51</td></tr><tr><td>Nurnberg</td><td>2001</td><td>21</td><td>13</td><td>34</td></tr><tr><td>Hannover</td><td>2010</td><td>32</td><td>17</td><td>49</td></tr><tr><td>Bielefeld</td><td>2002</td><td>23</td><td>12</td><td>35</td></tr><tr><td>Hertha</td><td>2000</td><td>38</td><td>20</td><td>58</td></tr><tr><td>Leverkusen</td><td>1996</td><td>47</td><td>22</td><td>69</td></tr><tr><td>Freiburg</td><td>2016</td><td>23</td><td>19</td><td>42</td></tr><tr><td>Karlsruhe</td><td>1995</td><td>28</td><td>25</td><td>53</td></tr><tr><td>St Pauli</td><td>1996</td><td>24</td><td>8</td><td>32</td></tr><tr><td>Freiburg</td><td>2000</td><td>36</td><td>18</td><td>54</td></tr><tr><td>Werder Bremen</td><td>1998</td><td>23</td><td>18</td><td>41</td></tr><tr><td>Hannover</td><td>2011</td><td>31</td><td>10</td><td>41</td></tr><tr><td>Leverkusen</td><td>2014</td><td>39</td><td>23</td><td>62</td></tr><tr><td>RB Leipzig</td><td>1993</td><td>20</td><td>12</td><td>32</td></tr><tr><td>Nurnberg</td><td>2010</td><td>28</td><td>19</td><td>47</td></tr><tr><td>Ein Frankfurt</td><td>1999</td><td>29</td><td>13</td><td>42</td></tr><tr><td>Hansa Rostock</td><td>2002</td><td>20</td><td>15</td><td>35</td></tr><tr><td>Dortmund</td><td>1993</td><td>35</td><td>14</td><td>49</td></tr><tr><td>Cottbus</td><td>2002</td><td>17</td><td>17</td><td>34</td></tr><tr><td>Stuttgart</td><td>2007</td><td>39</td><td>18</td><td>57</td></tr><tr><td>Freiburg</td><td>2012</td><td>25</td><td>20</td><td>45</td></tr><tr><td>Wolfsburg</td><td>2006</td><td>22</td><td>15</td><td>37</td></tr><tr><td>Hertha</td><td>2007</td><td>21</td><td>18</td><td>39</td></tr><tr><td>Werder Bremen</td><td>2004</td><td>33</td><td>35</td><td>68</td></tr><tr><td>Werder Bremen</td><td>1995</td><td>22</td><td>17</td><td>39</td></tr><tr><td>Hamburg</td><td>2004</td><td>27</td><td>28</td><td>55</td></tr><tr><td>Hamburg</td><td>2010</td><td>29</td><td>17</td><td>46</td></tr><tr><td>Ein Frankfurt</td><td>2013</td><td>22</td><td>18</td><td>40</td></tr><tr><td>Leverkusen</td><td>2005</td><td>30</td><td>34</td><td>64</td></tr><tr><td>Stuttgart</td><td>2006</td><td>30</td><td>31</td><td>61</td></tr><tr><td>Ein Frankfurt</td><td>2008</td><td>26</td><td>13</td><td>39</td></tr><tr><td>Karlsruhe</td><td>1997</td><td>26</td><td>22</td><td>48</td></tr><tr><td>Bayern Munich</td><td>2009</td><td>39</td><td>33</td><td>72</td></tr><tr><td>Hannover</td><td>2006</td><td>23</td><td>18</td><td>41</td></tr><tr><td>Schalke 04</td><td>2003</td><td>28</td><td>21</td><td>49</td></tr><tr><td>Augsburg</td><td>2012</td><td>19</td><td>14</td><td>33</td></tr><tr><td>Dortmund</td><td>1995</td><td>45</td><td>31</td><td>76</td></tr><tr><td>Hertha</td><td>2001</td><td>40</td><td>21</td><td>61</td></tr><tr><td>Wolfsburg</td><td>2014</td><td>38</td><td>34</td><td>72</td></tr><tr><td>Schalke 04</td><td>2008</td><td>26</td><td>21</td><td>47</td></tr><tr><td>Bochum</td><td>1998</td><td>21</td><td>19</td><td>40</td></tr><tr><td>M'gladbach</td><td>2001</td><td>21</td><td>20</td><td>41</td></tr><tr><td>Schalke 04</td><td>2004</td><td>33</td><td>23</td><td>56</td></tr><tr><td>Hamburg</td><td>2014</td><td>16</td><td>9</td><td>25</td></tr><tr><td>Schalke 04</td><td>2013</td><td>37</td><td>26</td><td>63</td></tr><tr><td>Dortmund</td><td>2014</td><td>26</td><td>21</td><td>47</td></tr><tr><td>Nurnberg</td><td>1993</td><td>25</td><td>16</td><td>41</td></tr><tr><td>Dortmund</td><td>1996</td><td>38</td><td>25</td><td>63</td></tr><tr><td>Schalke 04</td><td>1998</td><td>20</td><td>21</td><td>41</td></tr><tr><td>Bayern Munich</td><td>2007</td><td>41</td><td>27</td><td>68</td></tr><tr><td>Unterhaching</td><td>1999</td><td>22</td><td>18</td><td>40</td></tr><tr><td>Hamburg</td><td>1999</td><td>37</td><td>26</td><td>63</td></tr><tr><td>Leverkusen</td><td>2015</td><td>31</td><td>25</td><td>56</td></tr><tr><td>Hannover</td><td>2002</td><td>28</td><td>19</td><td>47</td></tr><tr><td>Schalke 04</td><td>2007</td><td>29</td><td>26</td><td>55</td></tr><tr><td>Munich 1860</td><td>1995</td><td>31</td><td>21</td><td>52</td></tr><tr><td>Leverkusen</td><td>1997</td><td>43</td><td>23</td><td>66</td></tr><tr><td>Kaiserslautern</td><td>1993</td><td>38</td><td>26</td><td>64</td></tr><tr><td>Bochum</td><td>2004</td><td>30</td><td>17</td><td>47</td></tr><tr><td>Duisburg</td><td>1993</td><td>21</td><td>20</td><td>41</td></tr><tr><td>Werder Bremen</td><td>2002</td><td>34</td><td>17</td><td>51</td></tr><tr><td>Leverkusen</td><td>2016</td><td>27</td><td>26</td><td>53</td></tr><tr><td>Stuttgart</td><td>1995</td><td>29</td><td>30</td><td>59</td></tr><tr><td>Hamburg</td><td>2011</td><td>19</td><td>16</td><td>35</td></tr><tr><td>Cottbus</td><td>2001</td><td>27</td><td>9</td><td>36</td></tr><tr><td>Mainz</td><td>2013</td><td>28</td><td>24</td><td>52</td></tr><tr><td>Darmstadt</td><td>2015</td><td>15</td><td>23</td><td>38</td></tr><tr><td>Duisburg</td><td>1998</td><td>32</td><td>16</td><td>48</td></tr><tr><td>Stuttgart</td><td>1993</td><td>31</td><td>20</td><td>51</td></tr><tr><td>Paderborn</td><td>2014</td><td>21</td><td>10</td><td>31</td></tr><tr><td>Hansa Rostock</td><td>1996</td><td>20</td><td>15</td><td>35</td></tr><tr><td>Hertha</td><td>2006</td><td>29</td><td>21</td><td>50</td></tr><tr><td>Leverkusen</td><td>2003</td><td>43</td><td>30</td><td>73</td></tr><tr><td>Hamburg</td><td>2009</td><td>25</td><td>31</td><td>56</td></tr><tr><td>Duisburg</td><td>2007</td><td>19</td><td>17</td><td>36</td></tr><tr><td>Bochum</td><td>1997</td><td>23</td><td>18</td><td>41</td></tr><tr><td>Schalke 04</td><td>2015</td><td>28</td><td>23</td><td>51</td></tr><tr><td>Ulm</td><td>1999</td><td>22</td><td>14</td><td>36</td></tr><tr><td>Ein Frankfurt</td><td>2007</td><td>24</td><td>19</td><td>43</td></tr><tr><td>Duisburg</td><td>1999</td><td>20</td><td>17</td><td>37</td></tr><tr><td>FC Koln</td><td>2014</td><td>18</td><td>16</td><td>34</td></tr><tr><td>Werder Bremen</td><td>2016</td><td>28</td><td>33</td><td>61</td></tr><tr><td>Stuttgart</td><td>2010</td><td>33</td><td>27</td><td>60</td></tr><tr><td>Schalke 04</td><td>2005</td><td>32</td><td>15</td><td>47</td></tr><tr><td>M'gladbach</td><td>1997</td><td>27</td><td>27</td><td>54</td></tr><tr><td>Leverkusen</td><td>1998</td><td>33</td><td>28</td><td>61</td></tr><tr><td>Hamburg</td><td>2000</td><td>33</td><td>25</td><td>58</td></tr><tr><td>Hoffenheim</td><td>2009</td><td>26</td><td>18</td><td>44</td></tr><tr><td>Ein Frankfurt</td><td>2012</td><td>32</td><td>17</td><td>49</td></tr><tr><td>Werder Bremen</td><td>1993</td><td>31</td><td>20</td><td>51</td></tr><tr><td>Duisburg</td><td>1994</td><td>19</td><td>12</td><td>31</td></tr><tr><td>Bayern Munich</td><td>2004</td><td>44</td><td>31</td><td>75</td></tr><tr><td>Werder Bremen</td><td>2009</td><td>34</td><td>37</td><td>71</td></tr><tr><td>Nurnberg</td><td>2012</td><td>24</td><td>15</td><td>39</td></tr><tr><td>Aachen</td><td>2006</td><td>28</td><td>18</td><td>46</td></tr></tbody></table></div>"
      ]
     },
     "metadata": {
      "application/vnd.databricks.v1+output": {
       "addedWidgets": {},
       "aggData": [],
       "aggError": "",
       "aggOverflow": false,
       "aggSchema": [],
       "aggSeriesLimitReached": false,
       "aggType": "",
       "arguments": {},
       "columnCustomDisplayInfos": {},
       "data": [
        [
         "M'gladbach",
         1996,
         34,
         12,
         46
        ],
        [
         "Bayern Munich",
         2011,
         49,
         28,
         77
        ],
        [
         "Ein Frankfurt",
         1995,
         29,
         14,
         43
        ],
        [
         "M'gladbach",
         2013,
         38,
         21,
         59
        ],
        [
         "FC Koln",
         1994,
         31,
         23,
         54
        ],
        [
         "Werder Bremen",
         2003,
         42,
         37,
         79
        ],
        [
         "Augsburg",
         2015,
         18,
         24,
         42
        ],
        [
         "M'gladbach",
         1994,
         37,
         29,
         66
        ],
        [
         "M'gladbach",
         2012,
         27,
         18,
         45
        ],
        [
         "Bielefeld",
         2007,
         21,
         14,
         35
        ],
        [
         "Bayern Munich",
         1994,
         32,
         23,
         55
        ],
        [
         "Dresden",
         1994,
         17,
         16,
         33
        ],
        [
         "Leverkusen",
         2001,
         46,
         31,
         77
        ],
        [
         "Ein Frankfurt",
         2003,
         25,
         11,
         36
        ],
        [
         "Werder Bremen",
         2007,
         48,
         27,
         75
        ],
        [
         "Kaiserslautern",
         1994,
         32,
         26,
         58
        ],
        [
         "Ein Frankfurt",
         1998,
         26,
         18,
         44
        ],
        [
         "Werder Bremen",
         2011,
         31,
         18,
         49
        ],
        [
         "Freiburg",
         2014,
         21,
         15,
         36
        ],
        [
         "Hamburg",
         2007,
         30,
         17,
         47
        ],
        [
         "Werder Bremen",
         1994,
         44,
         26,
         70
        ],
        [
         "Schalke 04",
         1995,
         28,
         17,
         45
        ],
        [
         "Freiburg",
         2011,
         24,
         21,
         45
        ],
        [
         "FC Koln",
         1997,
         34,
         15,
         49
        ],
        [
         "FC Koln",
         2016,
         29,
         22,
         51
        ],
        [
         "Wattenscheid",
         1993,
         31,
         17,
         48
        ],
        [
         "Hannover",
         2003,
         27,
         22,
         49
        ],
        [
         "Nurnberg",
         2013,
         16,
         21,
         37
        ],
        [
         "Bayern Munich",
         1996,
         37,
         31,
         68
        ],
        [
         "Dortmund",
         2002,
         31,
         20,
         51
        ],
        [
         "Hoffenheim",
         2013,
         43,
         29,
         72
        ],
        [
         "Leverkusen",
         2013,
         35,
         25,
         60
        ],
        [
         "Bayern Munich",
         2016,
         55,
         34,
         89
        ],
        [
         "Bielefeld",
         2004,
         21,
         16,
         37
        ],
        [
         "Ein Frankfurt",
         2014,
         36,
         20,
         56
        ],
        [
         "Freiburg",
         1994,
         38,
         28,
         66
        ],
        [
         "Wolfsburg",
         1997,
         17,
         21,
         38
        ],
        [
         "Dortmund",
         2000,
         34,
         28,
         62
        ],
        [
         "Nurnberg",
         2009,
         18,
         14,
         32
        ],
        [
         "Mainz",
         2016,
         30,
         14,
         44
        ],
        [
         "Stuttgart",
         2005,
         18,
         19,
         37
        ],
        [
         "Wolfsburg",
         2008,
         51,
         29,
         80
        ],
        [
         "Stuttgart",
         1998,
         25,
         16,
         41
        ],
        [
         "Werder Bremen",
         2012,
         23,
         27,
         50
        ],
        [
         "Schalke 04",
         1999,
         21,
         21,
         42
        ],
        [
         "Schalke 04",
         1993,
         23,
         15,
         38
        ],
        [
         "Schalke 04",
         2012,
         35,
         23,
         58
        ],
        [
         "Mainz",
         2014,
         27,
         18,
         45
        ],
        [
         "Cottbus",
         2007,
         25,
         10,
         35
        ],
        [
         "Leverkusen",
         2007,
         32,
         25,
         57
        ],
        [
         "Munich 1860",
         1996,
         34,
         22,
         56
        ],
        [
         "Kaiserslautern",
         1995,
         19,
         12,
         31
        ],
        [
         "Mainz",
         2006,
         20,
         14,
         34
        ],
        [
         "Leverkusen",
         1999,
         44,
         30,
         74
        ],
        [
         "Bayern Munich",
         2010,
         48,
         33,
         81
        ],
        [
         "Hamburg",
         1998,
         25,
         22,
         47
        ],
        [
         "Werder Bremen",
         2006,
         33,
         43,
         76
        ],
        [
         "Freiburg",
         2004,
         18,
         12,
         30
        ],
        [
         "Leverkusen",
         2010,
         33,
         31,
         64
        ],
        [
         "Mainz",
         2011,
         27,
         20,
         47
        ],
        [
         "Hertha",
         2016,
         28,
         15,
         43
        ],
        [
         "St Pauli",
         2010,
         21,
         14,
         35
        ],
        [
         "Freiburg",
         1995,
         17,
         13,
         30
        ],
        [
         "Dortmund",
         1999,
         21,
         20,
         41
        ],
        [
         "Kaiserslautern",
         2005,
         26,
         21,
         47
        ],
        [
         "Hertha",
         1999,
         23,
         16,
         39
        ],
        [
         "Hansa Rostock",
         2003,
         34,
         21,
         55
        ],
        [
         "Ein Frankfurt",
         2005,
         24,
         18,
         42
        ],
        [
         "Hertha",
         2005,
         30,
         22,
         52
        ],
        [
         "Freiburg",
         2003,
         32,
         10,
         42
        ],
        [
         "FC Koln",
         2003,
         22,
         10,
         32
        ],
        [
         "Kaiserslautern",
         2011,
         12,
         12,
         24
        ],
        [
         "Hansa Rostock",
         1995,
         23,
         24,
         47
        ],
        [
         "Bielefeld",
         2006,
         29,
         18,
         47
        ],
        [
         "Ein Frankfurt",
         1994,
         28,
         13,
         41
        ],
        [
         "Munich 1860",
         2003,
         16,
         16,
         32
        ],
        [
         "Werder Bremen",
         2014,
         25,
         25,
         50
        ],
        [
         "Augsburg",
         2016,
         22,
         13,
         35
        ],
        [
         "Werder Bremen",
         2000,
         33,
         20,
         53
        ],
        [
         "Hansa Rostock",
         2001,
         20,
         15,
         35
        ],
        [
         "Karlsruhe",
         2008,
         18,
         12,
         30
        ],
        [
         "Karlsruhe",
         1994,
         38,
         13,
         51
        ],
        [
         "FC Koln",
         2008,
         14,
         21,
         35
        ],
        [
         "Dortmund",
         1994,
         35,
         32,
         67
        ],
        [
         "Hoffenheim",
         2010,
         28,
         22,
         50
        ],
        [
         "Hamburg",
         2012,
         18,
         24,
         42
        ],
        [
         "Hannover",
         2009,
         27,
         16,
         43
        ],
        [
         "Mainz",
         2005,
         31,
         15,
         46
        ],
        [
         "Stuttgart",
         1996,
         46,
         32,
         78
        ],
        [
         "M'gladbach",
         2004,
         26,
         9,
         35
        ],
        [
         "Dortmund",
         2007,
         29,
         21,
         50
        ],
        [
         "Munich 1860",
         2001,
         31,
         28,
         59
        ],
        [
         "Ein Frankfurt",
         2000,
         26,
         15,
         41
        ],
        [
         "Leverkusen",
         2004,
         42,
         23,
         65
        ],
        [
         "M'gladbach",
         2014,
         32,
         21,
         53
        ],
        [
         "M'gladbach",
         2015,
         42,
         25,
         67
        ],
        [
         "Kaiserslautern",
         2010,
         25,
         23,
         48
        ],
        [
         "Dortmund",
         2016,
         41,
         31,
         72
        ],
        [
         "Schalke 04",
         2000,
         36,
         29,
         65
        ],
        [
         "Leverkusen",
         2011,
         28,
         24,
         52
        ],
        [
         "Stuttgart",
         2008,
         34,
         29,
         63
        ],
        [
         "Leverkusen",
         1993,
         36,
         24,
         60
        ],
        [
         "Munich 1860",
         1997,
         24,
         19,
         43
        ],
        [
         "Leverkusen",
         1995,
         16,
         21,
         37
        ],
        [
         "M'gladbach",
         2002,
         31,
         12,
         43
        ],
        [
         "M'gladbach",
         2003,
         21,
         19,
         40
        ],
        [
         "Schalke 04",
         2010,
         24,
         14,
         38
        ],
        [
         "Dortmund",
         2010,
         35,
         32,
         67
        ],
        [
         "Stuttgart",
         2015,
         22,
         28,
         50
        ],
        [
         "Bayern Munich",
         2014,
         46,
         34,
         80
        ],
        [
         "Hamburg",
         2003,
         33,
         14,
         47
        ],
        [
         "Wolfsburg",
         2010,
         27,
         16,
         43
        ],
        [
         "M'gladbach",
         2016,
         26,
         19,
         45
        ],
        [
         "Schalke 04",
         2009,
         29,
         24,
         53
        ],
        [
         "Bochum",
         2007,
         32,
         16,
         48
        ],
        [
         "Freiburg",
         1993,
         29,
         25,
         54
        ],
        [
         "Leverkusen",
         2009,
         37,
         28,
         65
        ],
        [
         "Werder Bremen",
         2005,
         50,
         29,
         79
        ],
        [
         "Hoffenheim",
         2008,
         30,
         33,
         63
        ],
        [
         "FC Koln",
         1993,
         25,
         24,
         49
        ],
        [
         "St Pauli",
         1995,
         24,
         19,
         43
        ],
        [
         "Bayern Munich",
         1999,
         50,
         23,
         73
        ],
        [
         "M'Gladbach",
         1993,
         38,
         27,
         65
        ],
        [
         "Ein Frankfurt",
         2006,
         21,
         25,
         46
        ],
        [
         "Bochum",
         2009,
         18,
         15,
         33
        ],
        [
         "Wolfsburg",
         2016,
         15,
         19,
         34
        ],
        [
         "Hansa Rostock",
         2007,
         17,
         13,
         30
        ],
        [
         "Freiburg",
         1998,
         17,
         19,
         36
        ],
        [
         "FC Koln",
         1995,
         18,
         15,
         33
        ],
        [
         "Wolfsburg",
         2005,
         16,
         17,
         33
        ],
        [
         "M'gladbach",
         2008,
         23,
         16,
         39
        ],
        [
         "Bielefeld",
         2008,
         16,
         13,
         29
        ],
        [
         "Hansa Rostock",
         1999,
         25,
         19,
         44
        ],
        [
         "Mainz",
         2015,
         23,
         23,
         46
        ],
        [
         "Hertha",
         1998,
         38,
         21,
         59
        ],
        [
         "Dortmund",
         1998,
         35,
         13,
         48
        ],
        [
         "Ein Frankfurt",
         2015,
         22,
         12,
         34
        ],
        [
         "Ein Frankfurt",
         2016,
         24,
         12,
         36
        ],
        [
         "Wolfsburg",
         2007,
         28,
         30,
         58
        ],
        [
         "Hertha",
         2015,
         24,
         18,
         42
        ],
        [
         "Hannover",
         2008,
         31,
         18,
         49
        ],
        [
         "FC Koln",
         2000,
         33,
         26,
         59
        ],
        [
         "Leverkusen",
         2002,
         27,
         20,
         47
        ],
        [
         "Ingolstadt",
         2016,
         21,
         15,
         36
        ],
        [
         "Bayern Munich",
         2000,
         37,
         25,
         62
        ],
        [
         "Bayern Munich",
         2003,
         43,
         27,
         70
        ],
        [
         "Bayern Munich",
         1993,
         44,
         24,
         68
        ],
        [
         "Wolfsburg",
         2001,
         34,
         23,
         57
        ],
        [
         "Duisburg",
         2005,
         17,
         17,
         34
        ],
        [
         "Freiburg",
         1999,
         29,
         16,
         45
        ],
        [
         "M'gladbach",
         2011,
         29,
         20,
         49
        ],
        [
         "Schalke 04",
         2011,
         47,
         27,
         74
        ],
        [
         "Bayern Munich",
         2013,
         48,
         46,
         94
        ],
        [
         "Stuttgart",
         2009,
         28,
         23,
         51
        ],
        [
         "Schalke 04",
         2016,
         29,
         16,
         45
        ],
        [
         "Unterhaching",
         2000,
         21,
         14,
         35
        ],
        [
         "St Pauli",
         2001,
         19,
         18,
         37
        ],
        [
         "Hoffenheim",
         2014,
         31,
         18,
         49
        ],
        [
         "Cottbus",
         2006,
         21,
         17,
         38
        ],
        [
         "Werder Bremen",
         2008,
         43,
         21,
         64
        ],
        [
         "Freiburg",
         2009,
         14,
         21,
         35
        ],
        [
         "Stuttgart",
         2011,
         36,
         27,
         63
        ],
        [
         "Freiburg",
         2013,
         25,
         18,
         43
        ],
        [
         "Hoffenheim",
         2016,
         35,
         29,
         64
        ],
        [
         "Schalke 04",
         1997,
         24,
         14,
         38
        ],
        [
         "Wolfsburg",
         1998,
         35,
         19,
         54
        ],
        [
         "Bayern Munich",
         2001,
         42,
         23,
         65
        ],
        [
         "Kaiserslautern",
         2001,
         39,
         23,
         62
        ],
        [
         "Hertha",
         2011,
         19,
         19,
         38
        ],
        [
         "Stuttgart",
         2003,
         29,
         23,
         52
        ],
        [
         "Hannover",
         2004,
         21,
         13,
         34
        ],
        [
         "Munich 1860",
         1999,
         36,
         19,
         55
        ],
        [
         "Bayern Munich",
         2008,
         45,
         26,
         71
        ],
        [
         "Werder Bremen",
         2013,
         21,
         21,
         42
        ],
        [
         "Hamburg",
         2006,
         22,
         21,
         43
        ],
        [
         "Duisburg",
         1996,
         25,
         19,
         44
        ],
        [
         "Hoffenheim",
         2012,
         21,
         21,
         42
        ],
        [
         "Augsburg",
         2013,
         27,
         20,
         47
        ],
        [
         "Uerdingen",
         1994,
         23,
         14,
         37
        ],
        [
         "Hamburg",
         2015,
         20,
         20,
         40
        ],
        [
         "Dortmund",
         2008,
         34,
         26,
         60
        ],
        [
         "Hamburg",
         1997,
         20,
         18,
         38
        ],
        [
         "Bayern Munich",
         2005,
         42,
         25,
         67
        ],
        [
         "M'gladbach",
         2006,
         15,
         8,
         23
        ],
        [
         "Freiburg",
         2001,
         25,
         12,
         37
        ],
        [
         "Wolfsburg",
         2011,
         29,
         18,
         47
        ],
        [
         "Bayern Munich",
         1997,
         36,
         33,
         69
        ],
        [
         "Hertha",
         2009,
         10,
         24,
         34
        ],
        [
         "FC Koln",
         2010,
         30,
         17,
         47
        ],
        [
         "Dortmund",
         1997,
         36,
         21,
         57
        ],
        [
         "Ein Frankfurt",
         2009,
         25,
         22,
         47
        ],
        [
         "FC Koln",
         2015,
         16,
         22,
         38
        ],
        [
         "Hannover",
         2013,
         27,
         19,
         46
        ],
        [
         "Werder Bremen",
         1996,
         27,
         26,
         53
        ],
        [
         "Hamburg",
         2013,
         24,
         27,
         51
        ],
        [
         "Dortmund",
         2015,
         49,
         33,
         82
        ],
        [
         "Mainz",
         2012,
         22,
         20,
         42
        ],
        [
         "Stuttgart",
         1997,
         27,
         28,
         55
        ],
        [
         "Augsburg",
         2014,
         28,
         15,
         43
        ],
        [
         "Fortuna Dusseldorf",
         2012,
         24,
         15,
         39
        ],
        [
         "Darmstadt",
         2016,
         18,
         10,
         28
        ],
        [
         "Bayern Munich",
         2006,
         29,
         26,
         55
        ],
        [
         "Hertha",
         2004,
         34,
         25,
         59
        ],
        [
         "Stuttgart",
         2004,
         34,
         20,
         54
        ],
        [
         "Dortmund",
         2005,
         23,
         22,
         45
        ],
        [
         "Hamburg",
         2008,
         27,
         22,
         49
        ],
        [
         "Karlsruhe",
         2007,
         23,
         15,
         38
        ],
        [
         "FC Koln",
         1996,
         35,
         27,
         62
        ],
        [
         "Hansa Rostock",
         1997,
         35,
         19,
         54
        ],
        [
         "Hamburg",
         2002,
         30,
         16,
         46
        ],
        [
         "Kaiserslautern",
         2003,
         25,
         14,
         39
        ],
        [
         "Greuther Furth",
         2012,
         10,
         16,
         26
        ],
        [
         "Hannover",
         2007,
         32,
         22,
         54
        ],
        [
         "Bayern Munich",
         2002,
         37,
         33,
         70
        ],
        [
         "Hannover",
         2005,
         27,
         16,
         43
        ],
        [
         "Nurnberg",
         2007,
         21,
         14,
         35
        ],
        [
         "Bochum",
         2000,
         20,
         10,
         30
        ],
        [
         "Werder Bremen",
         2001,
         29,
         25,
         54
        ],
        [
         "Werder Bremen",
         2015,
         27,
         23,
         50
        ],
        [
         "Munich 1860",
         2002,
         22,
         22,
         44
        ],
        [
         "Dortmund",
         2006,
         19,
         22,
         41
        ],
        [
         "Hamburg",
         1995,
         29,
         23,
         52
        ],
        [
         "Hamburg",
         1994,
         24,
         19,
         43
        ],
        [
         "Bayern Munich",
         1995,
         35,
         31,
         66
        ],
        [
         "Werder Bremen",
         1997,
         27,
         16,
         43
        ],
        [
         "Schalke 04",
         2002,
         23,
         23,
         46
        ],
        [
         "Kaiserslautern",
         2002,
         23,
         17,
         40
        ],
        [
         "Bochum",
         2003,
         30,
         27,
         57
        ],
        [
         "Bayern Munich",
         1998,
         48,
         28,
         76
        ],
        [
         "Ingolstadt",
         2015,
         22,
         11,
         33
        ],
        [
         "Dortmund",
         2004,
         24,
         23,
         47
        ],
        [
         "Wolfsburg",
         2013,
         37,
         26,
         63
        ],
        [
         "Stuttgart",
         2000,
         31,
         11,
         42
        ],
        [
         "M'gladbach",
         2009,
         25,
         18,
         43
        ],
        [
         "M'gladbach",
         2005,
         27,
         15,
         42
        ],
        [
         "Bochum",
         2008,
         23,
         16,
         39
        ],
        [
         "Nurnberg",
         2004,
         25,
         30,
         55
        ],
        [
         "RB Leipzig",
         2016,
         35,
         31,
         66
        ],
        [
         "Freiburg",
         2010,
         24,
         17,
         41
        ],
        [
         "Hannover",
         2015,
         15,
         16,
         31
        ],
        [
         "Bayern Munich",
         2015,
         51,
         29,
         80
        ],
        [
         "Cottbus",
         2000,
         27,
         11,
         38
        ],
        [
         "Ein Frankfurt",
         1993,
         29,
         28,
         57
        ],
        [
         "Duisburg",
         1997,
         21,
         22,
         43
        ],
        [
         "Wolfsburg",
         2009,
         39,
         25,
         64
        ],
        [
         "FC Koln",
         2001,
         16,
         10,
         26
        ],
        [
         "Wolfsburg",
         2002,
         26,
         13,
         39
        ],
        [
         "Augsburg",
         2011,
         20,
         16,
         36
        ],
        [
         "Werder Bremen",
         2010,
         26,
         21,
         47
        ],
        [
         "Freiburg",
         1996,
         23,
         20,
         43
        ],
        [
         "Hansa Rostock",
         1998,
         30,
         19,
         49
        ],
        [
         "Kaiserslautern",
         1999,
         31,
         23,
         54
        ],
        [
         "Dortmund",
         2003,
         39,
         20,
         59
        ],
        [
         "Uerdingen",
         1995,
         26,
         7,
         33
        ],
        [
         "Leverkusen",
         2008,
         31,
         28,
         59
        ],
        [
         "M'gladbach",
         1995,
         29,
         23,
         52
        ],
        [
         "Bielefeld",
         1997,
         29,
         14,
         43
        ],
        [
         "Stuttgart",
         1999,
         22,
         22,
         44
        ],
        [
         "Schalke 04",
         1994,
         28,
         20,
         48
        ],
        [
         "Stuttgart",
         2013,
         28,
         21,
         49
        ],
        [
         "Leverkusen",
         2000,
         30,
         24,
         54
        ],
        [
         "Wolfsburg",
         2003,
         38,
         18,
         56
        ],
        [
         "Cottbus",
         2008,
         19,
         11,
         30
        ],
        [
         "Wolfsburg",
         2000,
         38,
         22,
         60
        ],
        [
         "Stuttgart",
         2002,
         30,
         23,
         53
        ],
        [
         "FC Koln",
         2011,
         20,
         19,
         39
        ],
        [
         "Hertha",
         2014,
         17,
         19,
         36
        ],
        [
         "Munich 1860",
         2000,
         23,
         20,
         43
        ],
        [
         "Werder Bremen",
         1999,
         41,
         24,
         65
        ],
        [
         "Munich 1860",
         1998,
         28,
         21,
         49
        ],
        [
         "Bochum",
         1996,
         36,
         18,
         54
        ],
        [
         "Wolfsburg",
         2004,
         35,
         14,
         49
        ],
        [
         "Hertha",
         2002,
         35,
         17,
         52
        ],
        [
         "Bochum",
         2006,
         23,
         26,
         49
        ],
        [
         "FC Koln",
         2005,
         24,
         25,
         49
        ],
        [
         "Nurnberg",
         2006,
         26,
         17,
         43
        ],
        [
         "Dresden",
         1993,
         20,
         13,
         33
        ],
        [
         "M'gladbach",
         2010,
         26,
         22,
         48
        ],
        [
         "Dortmund",
         2013,
         41,
         39,
         80
        ],
        [
         "Karlsruhe",
         1993,
         29,
         17,
         46
        ],
        [
         "Schalke 04",
         2001,
         38,
         14,
         52
        ],
        [
         "Bochum",
         1994,
         21,
         22,
         43
        ],
        [
         "M'gladbach",
         1998,
         25,
         16,
         41
        ],
        [
         "Mainz",
         2010,
         22,
         30,
         52
        ],
        [
         "Dortmund",
         2011,
         44,
         36,
         80
        ],
        [
         "Hertha",
         1997,
         25,
         16,
         41
        ],
        [
         "Dortmund",
         2009,
         29,
         25,
         54
        ],
        [
         "Hannover",
         2014,
         21,
         19,
         40
        ],
        [
         "Hamburg",
         2016,
         21,
         12,
         33
        ],
        [
         "Stuttgart",
         2001,
         25,
         22,
         47
        ],
        [
         "Hertha",
         2003,
         26,
         16,
         42
        ],
        [
         "Hannover",
         2012,
         34,
         26,
         60
        ],
        [
         "Schalke 04",
         2006,
         30,
         23,
         53
        ],
        [
         "Dortmund",
         2012,
         40,
         41,
         81
        ],
        [
         "Hertha",
         2013,
         20,
         20,
         40
        ],
        [
         "Schalke 04",
         2014,
         26,
         16,
         42
        ],
        [
         "Wolfsburg",
         2015,
         32,
         15,
         47
        ],
        [
         "Bochum",
         2002,
         26,
         29,
         55
        ],
        [
         "Ein Frankfurt",
         2010,
         13,
         18,
         31
        ],
        [
         "Nurnberg",
         2005,
         31,
         18,
         49
        ],
        [
         "Nurnberg",
         1998,
         23,
         17,
         40
        ],
        [
         "FC Koln",
         2009,
         18,
         15,
         33
        ],
        [
         "Hamburg",
         2005,
         26,
         27,
         53
        ],
        [
         "Stuttgart",
         1994,
         36,
         16,
         52
        ],
        [
         "Kaiserslautern",
         1997,
         36,
         27,
         63
        ],
        [
         "Bielefeld",
         1999,
         22,
         18,
         40
        ],
        [
         "Bayern Munich",
         2012,
         56,
         42,
         98
        ],
        [
         "Hamburg",
         2001,
         35,
         16,
         51
        ],
        [
         "Hertha",
         2008,
         29,
         19,
         48
        ],
        [
         "Wolfsburg",
         1999,
         29,
         22,
         51
        ],
        [
         "Kaiserslautern",
         2004,
         20,
         23,
         43
        ],
        [
         "Schalke 04",
         1996,
         19,
         16,
         35
        ],
        [
         "Nurnberg",
         2002,
         16,
         17,
         33
        ],
        [
         "Hansa Rostock",
         2004,
         17,
         14,
         31
        ],
        [
         "Leverkusen",
         2012,
         36,
         29,
         65
        ],
        [
         "Hoffenheim",
         2015,
         22,
         17,
         39
        ],
        [
         "Karlsruhe",
         1996,
         32,
         23,
         55
        ],
        [
         "Kaiserslautern",
         2000,
         24,
         25,
         49
        ],
        [
         "Wolfsburg",
         2012,
         21,
         26,
         47
        ],
        [
         "Braunschweig",
         2013,
         18,
         11,
         29
        ],
        [
         "Bielefeld",
         2005,
         18,
         14,
         32
        ],
        [
         "Hansa Rostock",
         2000,
         22,
         12,
         34
        ],
        [
         "Hoffenheim",
         2011,
         21,
         20,
         41
        ],
        [
         "Leverkusen",
         2006,
         28,
         26,
         54
        ],
        [
         "Bielefeld",
         1996,
         23,
         23,
         46
        ],
        [
         "Hamburg",
         1996,
         28,
         18,
         46
        ],
        [
         "Mainz",
         2009,
         22,
         14,
         36
        ],
        [
         "Nurnberg",
         2011,
         22,
         16,
         38
        ],
        [
         "Stuttgart",
         2012,
         20,
         17,
         37
        ],
        [
         "Mainz",
         2004,
         28,
         22,
         50
        ],
        [
         "Hamburg",
         1993,
         31,
         17,
         48
        ],
        [
         "Leverkusen",
         1994,
         31,
         31,
         62
        ],
        [
         "Stuttgart",
         2014,
         18,
         24,
         42
        ],
        [
         "Munich 1860",
         1994,
         26,
         15,
         41
        ],
        [
         "Dortmund",
         2001,
         31,
         31,
         62
        ],
        [
         "Kaiserslautern",
         1998,
         33,
         18,
         51
        ],
        [
         "Nurnberg",
         2001,
         21,
         13,
         34
        ],
        [
         "Hannover",
         2010,
         32,
         17,
         49
        ],
        [
         "Bielefeld",
         2002,
         23,
         12,
         35
        ],
        [
         "Hertha",
         2000,
         38,
         20,
         58
        ],
        [
         "Leverkusen",
         1996,
         47,
         22,
         69
        ],
        [
         "Freiburg",
         2016,
         23,
         19,
         42
        ],
        [
         "Karlsruhe",
         1995,
         28,
         25,
         53
        ],
        [
         "St Pauli",
         1996,
         24,
         8,
         32
        ],
        [
         "Freiburg",
         2000,
         36,
         18,
         54
        ],
        [
         "Werder Bremen",
         1998,
         23,
         18,
         41
        ],
        [
         "Hannover",
         2011,
         31,
         10,
         41
        ],
        [
         "Leverkusen",
         2014,
         39,
         23,
         62
        ],
        [
         "RB Leipzig",
         1993,
         20,
         12,
         32
        ],
        [
         "Nurnberg",
         2010,
         28,
         19,
         47
        ],
        [
         "Ein Frankfurt",
         1999,
         29,
         13,
         42
        ],
        [
         "Hansa Rostock",
         2002,
         20,
         15,
         35
        ],
        [
         "Dortmund",
         1993,
         35,
         14,
         49
        ],
        [
         "Cottbus",
         2002,
         17,
         17,
         34
        ],
        [
         "Stuttgart",
         2007,
         39,
         18,
         57
        ],
        [
         "Freiburg",
         2012,
         25,
         20,
         45
        ],
        [
         "Wolfsburg",
         2006,
         22,
         15,
         37
        ],
        [
         "Hertha",
         2007,
         21,
         18,
         39
        ],
        [
         "Werder Bremen",
         2004,
         33,
         35,
         68
        ],
        [
         "Werder Bremen",
         1995,
         22,
         17,
         39
        ],
        [
         "Hamburg",
         2004,
         27,
         28,
         55
        ],
        [
         "Hamburg",
         2010,
         29,
         17,
         46
        ],
        [
         "Ein Frankfurt",
         2013,
         22,
         18,
         40
        ],
        [
         "Leverkusen",
         2005,
         30,
         34,
         64
        ],
        [
         "Stuttgart",
         2006,
         30,
         31,
         61
        ],
        [
         "Ein Frankfurt",
         2008,
         26,
         13,
         39
        ],
        [
         "Karlsruhe",
         1997,
         26,
         22,
         48
        ],
        [
         "Bayern Munich",
         2009,
         39,
         33,
         72
        ],
        [
         "Hannover",
         2006,
         23,
         18,
         41
        ],
        [
         "Schalke 04",
         2003,
         28,
         21,
         49
        ],
        [
         "Augsburg",
         2012,
         19,
         14,
         33
        ],
        [
         "Dortmund",
         1995,
         45,
         31,
         76
        ],
        [
         "Hertha",
         2001,
         40,
         21,
         61
        ],
        [
         "Wolfsburg",
         2014,
         38,
         34,
         72
        ],
        [
         "Schalke 04",
         2008,
         26,
         21,
         47
        ],
        [
         "Bochum",
         1998,
         21,
         19,
         40
        ],
        [
         "M'gladbach",
         2001,
         21,
         20,
         41
        ],
        [
         "Schalke 04",
         2004,
         33,
         23,
         56
        ],
        [
         "Hamburg",
         2014,
         16,
         9,
         25
        ],
        [
         "Schalke 04",
         2013,
         37,
         26,
         63
        ],
        [
         "Dortmund",
         2014,
         26,
         21,
         47
        ],
        [
         "Nurnberg",
         1993,
         25,
         16,
         41
        ],
        [
         "Dortmund",
         1996,
         38,
         25,
         63
        ],
        [
         "Schalke 04",
         1998,
         20,
         21,
         41
        ],
        [
         "Bayern Munich",
         2007,
         41,
         27,
         68
        ],
        [
         "Unterhaching",
         1999,
         22,
         18,
         40
        ],
        [
         "Hamburg",
         1999,
         37,
         26,
         63
        ],
        [
         "Leverkusen",
         2015,
         31,
         25,
         56
        ],
        [
         "Hannover",
         2002,
         28,
         19,
         47
        ],
        [
         "Schalke 04",
         2007,
         29,
         26,
         55
        ],
        [
         "Munich 1860",
         1995,
         31,
         21,
         52
        ],
        [
         "Leverkusen",
         1997,
         43,
         23,
         66
        ],
        [
         "Kaiserslautern",
         1993,
         38,
         26,
         64
        ],
        [
         "Bochum",
         2004,
         30,
         17,
         47
        ],
        [
         "Duisburg",
         1993,
         21,
         20,
         41
        ],
        [
         "Werder Bremen",
         2002,
         34,
         17,
         51
        ],
        [
         "Leverkusen",
         2016,
         27,
         26,
         53
        ],
        [
         "Stuttgart",
         1995,
         29,
         30,
         59
        ],
        [
         "Hamburg",
         2011,
         19,
         16,
         35
        ],
        [
         "Cottbus",
         2001,
         27,
         9,
         36
        ],
        [
         "Mainz",
         2013,
         28,
         24,
         52
        ],
        [
         "Darmstadt",
         2015,
         15,
         23,
         38
        ],
        [
         "Duisburg",
         1998,
         32,
         16,
         48
        ],
        [
         "Stuttgart",
         1993,
         31,
         20,
         51
        ],
        [
         "Paderborn",
         2014,
         21,
         10,
         31
        ],
        [
         "Hansa Rostock",
         1996,
         20,
         15,
         35
        ],
        [
         "Hertha",
         2006,
         29,
         21,
         50
        ],
        [
         "Leverkusen",
         2003,
         43,
         30,
         73
        ],
        [
         "Hamburg",
         2009,
         25,
         31,
         56
        ],
        [
         "Duisburg",
         2007,
         19,
         17,
         36
        ],
        [
         "Bochum",
         1997,
         23,
         18,
         41
        ],
        [
         "Schalke 04",
         2015,
         28,
         23,
         51
        ],
        [
         "Ulm",
         1999,
         22,
         14,
         36
        ],
        [
         "Ein Frankfurt",
         2007,
         24,
         19,
         43
        ],
        [
         "Duisburg",
         1999,
         20,
         17,
         37
        ],
        [
         "FC Koln",
         2014,
         18,
         16,
         34
        ],
        [
         "Werder Bremen",
         2016,
         28,
         33,
         61
        ],
        [
         "Stuttgart",
         2010,
         33,
         27,
         60
        ],
        [
         "Schalke 04",
         2005,
         32,
         15,
         47
        ],
        [
         "M'gladbach",
         1997,
         27,
         27,
         54
        ],
        [
         "Leverkusen",
         1998,
         33,
         28,
         61
        ],
        [
         "Hamburg",
         2000,
         33,
         25,
         58
        ],
        [
         "Hoffenheim",
         2009,
         26,
         18,
         44
        ],
        [
         "Ein Frankfurt",
         2012,
         32,
         17,
         49
        ],
        [
         "Werder Bremen",
         1993,
         31,
         20,
         51
        ],
        [
         "Duisburg",
         1994,
         19,
         12,
         31
        ],
        [
         "Bayern Munich",
         2004,
         44,
         31,
         75
        ],
        [
         "Werder Bremen",
         2009,
         34,
         37,
         71
        ],
        [
         "Nurnberg",
         2012,
         24,
         15,
         39
        ],
        [
         "Aachen",
         2006,
         28,
         18,
         46
        ]
       ],
       "datasetInfos": [],
       "dbfsResultPath": null,
       "isJsonSchema": true,
       "metadata": {},
       "overflow": false,
       "plotOptions": {
        "customPlotOptions": {},
        "displayType": "table",
        "pivotAggregation": null,
        "pivotColumns": null,
        "xColumns": null,
        "yColumns": null
       },
       "removedWidgets": [],
       "schema": [
        {
         "metadata": "{}",
         "name": "Team",
         "type": "\"string\""
        },
        {
         "metadata": "{}",
         "name": "Season",
         "type": "\"long\""
        },
        {
         "metadata": "{}",
         "name": "Home Goals",
         "type": "\"long\""
        },
        {
         "metadata": "{}",
         "name": "Away Goals",
         "type": "\"long\""
        },
        {
         "metadata": "{}",
         "name": "Total Goals",
         "type": "\"long\""
        }
       ],
       "type": "table"
      }
     },
     "output_type": "display_data"
    }
   ],
   "source": [
    "# Filter dtScoredGoalsHome for Season not equal to 2017, select columns \"Team\", \"Home Goals\", \"Season\"\n",
    "# Join with dtScoredGoalsAway on columns \"Team\" and \"Season\" using inner join\n",
    "# Add a new column \"Total Goals\" by summing \"Home Goals\" and \"Away Goals\"\n",
    "\n",
    "dtScoredGoals = (\n",
    "    dtScoredGoalsHome\n",
    "    .filter(col(\"Season\") != 2017)\n",
    "    .select(\"Team\", \"Home Goals\", \"Season\")\n",
    "    .join(dtScoredGoalsAway, [\"Team\", \"Season\"], \"inner\")\n",
    "    .withColumn(\"Total Goals\", col(\"Home Goals\") + col(\"Away Goals\"))\n",
    ")\n",
    "\n",
    "# Display dtScoredGoals table\n",
    "dtScoredGoals.display()\n"
   ]
  },
  {
   "cell_type": "code",
   "execution_count": 0,
   "metadata": {
    "application/vnd.databricks.v1+cell": {
     "cellMetadata": {
      "byteLimit": 2048000,
      "rowLimit": 10000
     },
     "inputWidgets": {},
     "nuid": "f18a4810-bcd7-431c-8d52-761533d9d638",
     "showTitle": false,
     "title": ""
    }
   },
   "outputs": [
    {
     "output_type": "display_data",
     "data": {
      "text/html": [
       "<style scoped>\n",
       "  .table-result-container {\n",
       "    max-height: 300px;\n",
       "    overflow: auto;\n",
       "  }\n",
       "  table, th, td {\n",
       "    border: 1px solid black;\n",
       "    border-collapse: collapse;\n",
       "  }\n",
       "  th, td {\n",
       "    padding: 5px;\n",
       "  }\n",
       "  th {\n",
       "    text-align: left;\n",
       "  }\n",
       "</style><div class='table-result-container'><table class='table-result'><thead style='background-color: white'><tr><th>Team</th><th>Season</th><th>Total Points</th><th>Position</th></tr></thead><tbody><tr><td>Bayern Munich</td><td>2007</td><td>76</td><td>1</td></tr><tr><td>Werder Bremen</td><td>2007</td><td>66</td><td>2</td></tr><tr><td>Schalke 04</td><td>2007</td><td>64</td><td>3</td></tr><tr><td>Hamburg</td><td>2007</td><td>54</td><td>4</td></tr><tr><td>Wolfsburg</td><td>2007</td><td>54</td><td>5</td></tr><tr><td>Stuttgart</td><td>2007</td><td>52</td><td>6</td></tr><tr><td>Leverkusen</td><td>2007</td><td>51</td><td>7</td></tr><tr><td>Hannover</td><td>2007</td><td>49</td><td>8</td></tr><tr><td>Ein Frankfurt</td><td>2007</td><td>46</td><td>9</td></tr><tr><td>Hertha</td><td>2007</td><td>44</td><td>10</td></tr><tr><td>Karlsruhe</td><td>2007</td><td>43</td><td>11</td></tr><tr><td>Bochum</td><td>2007</td><td>41</td><td>12</td></tr><tr><td>Dortmund</td><td>2007</td><td>40</td><td>13</td></tr><tr><td>Cottbus</td><td>2007</td><td>36</td><td>14</td></tr><tr><td>Bielefeld</td><td>2007</td><td>34</td><td>15</td></tr><tr><td>Nurnberg</td><td>2007</td><td>31</td><td>16</td></tr><tr><td>Hansa Rostock</td><td>2007</td><td>30</td><td>17</td></tr><tr><td>Duisburg</td><td>2007</td><td>29</td><td>18</td></tr><tr><td>Wolfsburg</td><td>2008</td><td>69</td><td>1</td></tr><tr><td>Bayern Munich</td><td>2008</td><td>67</td><td>2</td></tr><tr><td>Stuttgart</td><td>2008</td><td>64</td><td>3</td></tr><tr><td>Hertha</td><td>2008</td><td>63</td><td>4</td></tr><tr><td>Hamburg</td><td>2008</td><td>61</td><td>5</td></tr><tr><td>Dortmund</td><td>2008</td><td>59</td><td>6</td></tr><tr><td>Hoffenheim</td><td>2008</td><td>55</td><td>7</td></tr><tr><td>Schalke 04</td><td>2008</td><td>50</td><td>8</td></tr><tr><td>Leverkusen</td><td>2008</td><td>49</td><td>9</td></tr><tr><td>Werder Bremen</td><td>2008</td><td>45</td><td>10</td></tr><tr><td>Hannover</td><td>2008</td><td>40</td><td>11</td></tr><tr><td>FC Koln</td><td>2008</td><td>39</td><td>12</td></tr><tr><td>Ein Frankfurt</td><td>2008</td><td>33</td><td>13</td></tr><tr><td>Bochum</td><td>2008</td><td>32</td><td>14</td></tr><tr><td>M'gladbach</td><td>2008</td><td>31</td><td>15</td></tr><tr><td>Cottbus</td><td>2008</td><td>30</td><td>16</td></tr><tr><td>Karlsruhe</td><td>2008</td><td>29</td><td>17</td></tr><tr><td>Bielefeld</td><td>2008</td><td>28</td><td>18</td></tr><tr><td>Bayern Munich</td><td>2009</td><td>70</td><td>1</td></tr><tr><td>Schalke 04</td><td>2009</td><td>65</td><td>2</td></tr><tr><td>Werder Bremen</td><td>2009</td><td>61</td><td>3</td></tr><tr><td>Leverkusen</td><td>2009</td><td>59</td><td>4</td></tr><tr><td>Dortmund</td><td>2009</td><td>57</td><td>5</td></tr><tr><td>Stuttgart</td><td>2009</td><td>55</td><td>6</td></tr><tr><td>Hamburg</td><td>2009</td><td>52</td><td>7</td></tr><tr><td>Wolfsburg</td><td>2009</td><td>50</td><td>8</td></tr><tr><td>Mainz</td><td>2009</td><td>47</td><td>9</td></tr><tr><td>Ein Frankfurt</td><td>2009</td><td>46</td><td>10</td></tr><tr><td>Hoffenheim</td><td>2009</td><td>42</td><td>11</td></tr><tr><td>M'gladbach</td><td>2009</td><td>39</td><td>12</td></tr><tr><td>FC Koln</td><td>2009</td><td>38</td><td>13</td></tr><tr><td>Freiburg</td><td>2009</td><td>35</td><td>14</td></tr><tr><td>Hannover</td><td>2009</td><td>33</td><td>15</td></tr><tr><td>Nurnberg</td><td>2009</td><td>31</td><td>16</td></tr><tr><td>Bochum</td><td>2009</td><td>28</td><td>17</td></tr><tr><td>Hertha</td><td>2009</td><td>24</td><td>18</td></tr><tr><td>Dortmund</td><td>2010</td><td>75</td><td>1</td></tr><tr><td>Leverkusen</td><td>2010</td><td>68</td><td>2</td></tr><tr><td>Bayern Munich</td><td>2010</td><td>65</td><td>3</td></tr><tr><td>Hannover</td><td>2010</td><td>60</td><td>4</td></tr><tr><td>Mainz</td><td>2010</td><td>58</td><td>5</td></tr><tr><td>Nurnberg</td><td>2010</td><td>47</td><td>6</td></tr><tr><td>Kaiserslautern</td><td>2010</td><td>46</td><td>7</td></tr><tr><td>Hamburg</td><td>2010</td><td>45</td><td>8</td></tr><tr><td>FC Koln</td><td>2010</td><td>44</td><td>9</td></tr><tr><td>Freiburg</td><td>2010</td><td>44</td><td>10</td></tr><tr><td>Hoffenheim</td><td>2010</td><td>43</td><td>11</td></tr><tr><td>Stuttgart</td><td>2010</td><td>42</td><td>12</td></tr><tr><td>Werder Bremen</td><td>2010</td><td>41</td><td>13</td></tr><tr><td>Schalke 04</td><td>2010</td><td>40</td><td>14</td></tr><tr><td>Wolfsburg</td><td>2010</td><td>38</td><td>15</td></tr><tr><td>M'gladbach</td><td>2010</td><td>36</td><td>16</td></tr><tr><td>Ein Frankfurt</td><td>2010</td><td>34</td><td>17</td></tr><tr><td>St Pauli</td><td>2010</td><td>29</td><td>18</td></tr><tr><td>Dortmund</td><td>2011</td><td>81</td><td>1</td></tr><tr><td>Bayern Munich</td><td>2011</td><td>73</td><td>2</td></tr><tr><td>Schalke 04</td><td>2011</td><td>64</td><td>3</td></tr><tr><td>M'gladbach</td><td>2011</td><td>60</td><td>4</td></tr><tr><td>Leverkusen</td><td>2011</td><td>54</td><td>5</td></tr><tr><td>Stuttgart</td><td>2011</td><td>53</td><td>6</td></tr><tr><td>Hannover</td><td>2011</td><td>48</td><td>7</td></tr><tr><td>Wolfsburg</td><td>2011</td><td>44</td><td>8</td></tr><tr><td>Werder Bremen</td><td>2011</td><td>42</td><td>9</td></tr><tr><td>Nurnberg</td><td>2011</td><td>42</td><td>10</td></tr><tr><td>Hoffenheim</td><td>2011</td><td>41</td><td>11</td></tr><tr><td>Freiburg</td><td>2011</td><td>40</td><td>12</td></tr><tr><td>Mainz</td><td>2011</td><td>39</td><td>13</td></tr><tr><td>Augsburg</td><td>2011</td><td>38</td><td>14</td></tr><tr><td>Hamburg</td><td>2011</td><td>36</td><td>15</td></tr><tr><td>Hertha</td><td>2011</td><td>31</td><td>16</td></tr><tr><td>FC Koln</td><td>2011</td><td>30</td><td>17</td></tr><tr><td>Kaiserslautern</td><td>2011</td><td>23</td><td>18</td></tr><tr><td>Bayern Munich</td><td>2012</td><td>91</td><td>1</td></tr><tr><td>Dortmund</td><td>2012</td><td>66</td><td>2</td></tr><tr><td>Leverkusen</td><td>2012</td><td>65</td><td>3</td></tr><tr><td>Schalke 04</td><td>2012</td><td>55</td><td>4</td></tr><tr><td>Freiburg</td><td>2012</td><td>51</td><td>5</td></tr><tr><td>Ein Frankfurt</td><td>2012</td><td>51</td><td>6</td></tr><tr><td>Hamburg</td><td>2012</td><td>48</td><td>7</td></tr><tr><td>M'gladbach</td><td>2012</td><td>47</td><td>8</td></tr><tr><td>Hannover</td><td>2012</td><td>45</td><td>9</td></tr><tr><td>Nurnberg</td><td>2012</td><td>44</td><td>10</td></tr><tr><td>Wolfsburg</td><td>2012</td><td>43</td><td>11</td></tr><tr><td>Stuttgart</td><td>2012</td><td>43</td><td>12</td></tr><tr><td>Mainz</td><td>2012</td><td>42</td><td>13</td></tr><tr><td>Werder Bremen</td><td>2012</td><td>34</td><td>14</td></tr><tr><td>Augsburg</td><td>2012</td><td>33</td><td>15</td></tr><tr><td>Hoffenheim</td><td>2012</td><td>31</td><td>16</td></tr><tr><td>Fortuna Dusseldorf</td><td>2012</td><td>30</td><td>17</td></tr><tr><td>Greuther Furth</td><td>2012</td><td>21</td><td>18</td></tr><tr><td>Bayern Munich</td><td>2013</td><td>90</td><td>1</td></tr><tr><td>Dortmund</td><td>2013</td><td>71</td><td>2</td></tr><tr><td>Schalke 04</td><td>2013</td><td>64</td><td>3</td></tr><tr><td>Leverkusen</td><td>2013</td><td>61</td><td>4</td></tr><tr><td>Wolfsburg</td><td>2013</td><td>60</td><td>5</td></tr><tr><td>M'gladbach</td><td>2013</td><td>55</td><td>6</td></tr><tr><td>Mainz</td><td>2013</td><td>53</td><td>7</td></tr><tr><td>Augsburg</td><td>2013</td><td>52</td><td>8</td></tr><tr><td>Hoffenheim</td><td>2013</td><td>44</td><td>9</td></tr><tr><td>Hannover</td><td>2013</td><td>42</td><td>10</td></tr><tr><td>Hertha</td><td>2013</td><td>41</td><td>11</td></tr><tr><td>Werder Bremen</td><td>2013</td><td>39</td><td>12</td></tr><tr><td>Freiburg</td><td>2013</td><td>36</td><td>13</td></tr><tr><td>Ein Frankfurt</td><td>2013</td><td>36</td><td>14</td></tr><tr><td>Stuttgart</td><td>2013</td><td>32</td><td>15</td></tr><tr><td>Hamburg</td><td>2013</td><td>27</td><td>16</td></tr><tr><td>Nurnberg</td><td>2013</td><td>26</td><td>17</td></tr><tr><td>Braunschweig</td><td>2013</td><td>25</td><td>18</td></tr><tr><td>Bayern Munich</td><td>2014</td><td>79</td><td>1</td></tr><tr><td>Wolfsburg</td><td>2014</td><td>69</td><td>2</td></tr><tr><td>M'gladbach</td><td>2014</td><td>66</td><td>3</td></tr><tr><td>Leverkusen</td><td>2014</td><td>61</td><td>4</td></tr><tr><td>Augsburg</td><td>2014</td><td>49</td><td>5</td></tr><tr><td>Schalke 04</td><td>2014</td><td>48</td><td>6</td></tr><tr><td>Dortmund</td><td>2014</td><td>46</td><td>7</td></tr><tr><td>Hoffenheim</td><td>2014</td><td>44</td><td>8</td></tr><tr><td>Ein Frankfurt</td><td>2014</td><td>43</td><td>9</td></tr><tr><td>Werder Bremen</td><td>2014</td><td>43</td><td>10</td></tr><tr><td>Mainz</td><td>2014</td><td>40</td><td>11</td></tr><tr><td>FC Koln</td><td>2014</td><td>40</td><td>12</td></tr><tr><td>Hannover</td><td>2014</td><td>37</td><td>13</td></tr><tr><td>Stuttgart</td><td>2014</td><td>36</td><td>14</td></tr><tr><td>Hertha</td><td>2014</td><td>35</td><td>15</td></tr><tr><td>Hamburg</td><td>2014</td><td>35</td><td>16</td></tr><tr><td>Freiburg</td><td>2014</td><td>34</td><td>17</td></tr><tr><td>Paderborn</td><td>2014</td><td>31</td><td>18</td></tr><tr><td>Bayern Munich</td><td>2015</td><td>88</td><td>1</td></tr><tr><td>Dortmund</td><td>2015</td><td>78</td><td>2</td></tr><tr><td>Leverkusen</td><td>2015</td><td>60</td><td>3</td></tr><tr><td>M'gladbach</td><td>2015</td><td>55</td><td>4</td></tr><tr><td>Schalke 04</td><td>2015</td><td>52</td><td>5</td></tr><tr><td>Mainz</td><td>2015</td><td>50</td><td>6</td></tr><tr><td>Hertha</td><td>2015</td><td>50</td><td>7</td></tr><tr><td>Wolfsburg</td><td>2015</td><td>45</td><td>8</td></tr><tr><td>FC Koln</td><td>2015</td><td>43</td><td>9</td></tr><tr><td>Hamburg</td><td>2015</td><td>41</td><td>10</td></tr><tr><td>Ingolstadt</td><td>2015</td><td>40</td><td>11</td></tr><tr><td>Augsburg</td><td>2015</td><td>38</td><td>12</td></tr><tr><td>Werder Bremen</td><td>2015</td><td>38</td><td>13</td></tr><tr><td>Darmstadt</td><td>2015</td><td>38</td><td>14</td></tr><tr><td>Hoffenheim</td><td>2015</td><td>37</td><td>15</td></tr><tr><td>Ein Frankfurt</td><td>2015</td><td>36</td><td>16</td></tr><tr><td>Stuttgart</td><td>2015</td><td>33</td><td>17</td></tr><tr><td>Hannover</td><td>2015</td><td>25</td><td>18</td></tr><tr><td>Bayern Munich</td><td>2016</td><td>82</td><td>1</td></tr><tr><td>RB Leipzig</td><td>2016</td><td>67</td><td>2</td></tr><tr><td>Dortmund</td><td>2016</td><td>64</td><td>3</td></tr><tr><td>Hoffenheim</td><td>2016</td><td>62</td><td>4</td></tr><tr><td>FC Koln</td><td>2016</td><td>49</td><td>5</td></tr><tr><td>Hertha</td><td>2016</td><td>49</td><td>6</td></tr><tr><td>Freiburg</td><td>2016</td><td>48</td><td>7</td></tr><tr><td>M'gladbach</td><td>2016</td><td>45</td><td>8</td></tr><tr><td>Werder Bremen</td><td>2016</td><td>45</td><td>9</td></tr><tr><td>Schalke 04</td><td>2016</td><td>43</td><td>10</td></tr><tr><td>Ein Frankfurt</td><td>2016</td><td>42</td><td>11</td></tr><tr><td>Leverkusen</td><td>2016</td><td>41</td><td>12</td></tr><tr><td>Augsburg</td><td>2016</td><td>38</td><td>13</td></tr><tr><td>Hamburg</td><td>2016</td><td>38</td><td>14</td></tr><tr><td>Mainz</td><td>2016</td><td>37</td><td>15</td></tr><tr><td>Wolfsburg</td><td>2016</td><td>37</td><td>16</td></tr><tr><td>Ingolstadt</td><td>2016</td><td>32</td><td>17</td></tr><tr><td>Darmstadt</td><td>2016</td><td>25</td><td>18</td></tr></tbody></table></div>"
      ]
     },
     "metadata": {
      "application/vnd.databricks.v1+output": {
       "addedWidgets": {},
       "aggData": [],
       "aggError": "",
       "aggOverflow": false,
       "aggSchema": [],
       "aggSeriesLimitReached": false,
       "aggType": "",
       "arguments": {},
       "columnCustomDisplayInfos": {},
       "data": [
        [
         "Bayern Munich",
         2007,
         76,
         1
        ],
        [
         "Werder Bremen",
         2007,
         66,
         2
        ],
        [
         "Schalke 04",
         2007,
         64,
         3
        ],
        [
         "Hamburg",
         2007,
         54,
         4
        ],
        [
         "Wolfsburg",
         2007,
         54,
         5
        ],
        [
         "Stuttgart",
         2007,
         52,
         6
        ],
        [
         "Leverkusen",
         2007,
         51,
         7
        ],
        [
         "Hannover",
         2007,
         49,
         8
        ],
        [
         "Ein Frankfurt",
         2007,
         46,
         9
        ],
        [
         "Hertha",
         2007,
         44,
         10
        ],
        [
         "Karlsruhe",
         2007,
         43,
         11
        ],
        [
         "Bochum",
         2007,
         41,
         12
        ],
        [
         "Dortmund",
         2007,
         40,
         13
        ],
        [
         "Cottbus",
         2007,
         36,
         14
        ],
        [
         "Bielefeld",
         2007,
         34,
         15
        ],
        [
         "Nurnberg",
         2007,
         31,
         16
        ],
        [
         "Hansa Rostock",
         2007,
         30,
         17
        ],
        [
         "Duisburg",
         2007,
         29,
         18
        ],
        [
         "Wolfsburg",
         2008,
         69,
         1
        ],
        [
         "Bayern Munich",
         2008,
         67,
         2
        ],
        [
         "Stuttgart",
         2008,
         64,
         3
        ],
        [
         "Hertha",
         2008,
         63,
         4
        ],
        [
         "Hamburg",
         2008,
         61,
         5
        ],
        [
         "Dortmund",
         2008,
         59,
         6
        ],
        [
         "Hoffenheim",
         2008,
         55,
         7
        ],
        [
         "Schalke 04",
         2008,
         50,
         8
        ],
        [
         "Leverkusen",
         2008,
         49,
         9
        ],
        [
         "Werder Bremen",
         2008,
         45,
         10
        ],
        [
         "Hannover",
         2008,
         40,
         11
        ],
        [
         "FC Koln",
         2008,
         39,
         12
        ],
        [
         "Ein Frankfurt",
         2008,
         33,
         13
        ],
        [
         "Bochum",
         2008,
         32,
         14
        ],
        [
         "M'gladbach",
         2008,
         31,
         15
        ],
        [
         "Cottbus",
         2008,
         30,
         16
        ],
        [
         "Karlsruhe",
         2008,
         29,
         17
        ],
        [
         "Bielefeld",
         2008,
         28,
         18
        ],
        [
         "Bayern Munich",
         2009,
         70,
         1
        ],
        [
         "Schalke 04",
         2009,
         65,
         2
        ],
        [
         "Werder Bremen",
         2009,
         61,
         3
        ],
        [
         "Leverkusen",
         2009,
         59,
         4
        ],
        [
         "Dortmund",
         2009,
         57,
         5
        ],
        [
         "Stuttgart",
         2009,
         55,
         6
        ],
        [
         "Hamburg",
         2009,
         52,
         7
        ],
        [
         "Wolfsburg",
         2009,
         50,
         8
        ],
        [
         "Mainz",
         2009,
         47,
         9
        ],
        [
         "Ein Frankfurt",
         2009,
         46,
         10
        ],
        [
         "Hoffenheim",
         2009,
         42,
         11
        ],
        [
         "M'gladbach",
         2009,
         39,
         12
        ],
        [
         "FC Koln",
         2009,
         38,
         13
        ],
        [
         "Freiburg",
         2009,
         35,
         14
        ],
        [
         "Hannover",
         2009,
         33,
         15
        ],
        [
         "Nurnberg",
         2009,
         31,
         16
        ],
        [
         "Bochum",
         2009,
         28,
         17
        ],
        [
         "Hertha",
         2009,
         24,
         18
        ],
        [
         "Dortmund",
         2010,
         75,
         1
        ],
        [
         "Leverkusen",
         2010,
         68,
         2
        ],
        [
         "Bayern Munich",
         2010,
         65,
         3
        ],
        [
         "Hannover",
         2010,
         60,
         4
        ],
        [
         "Mainz",
         2010,
         58,
         5
        ],
        [
         "Nurnberg",
         2010,
         47,
         6
        ],
        [
         "Kaiserslautern",
         2010,
         46,
         7
        ],
        [
         "Hamburg",
         2010,
         45,
         8
        ],
        [
         "FC Koln",
         2010,
         44,
         9
        ],
        [
         "Freiburg",
         2010,
         44,
         10
        ],
        [
         "Hoffenheim",
         2010,
         43,
         11
        ],
        [
         "Stuttgart",
         2010,
         42,
         12
        ],
        [
         "Werder Bremen",
         2010,
         41,
         13
        ],
        [
         "Schalke 04",
         2010,
         40,
         14
        ],
        [
         "Wolfsburg",
         2010,
         38,
         15
        ],
        [
         "M'gladbach",
         2010,
         36,
         16
        ],
        [
         "Ein Frankfurt",
         2010,
         34,
         17
        ],
        [
         "St Pauli",
         2010,
         29,
         18
        ],
        [
         "Dortmund",
         2011,
         81,
         1
        ],
        [
         "Bayern Munich",
         2011,
         73,
         2
        ],
        [
         "Schalke 04",
         2011,
         64,
         3
        ],
        [
         "M'gladbach",
         2011,
         60,
         4
        ],
        [
         "Leverkusen",
         2011,
         54,
         5
        ],
        [
         "Stuttgart",
         2011,
         53,
         6
        ],
        [
         "Hannover",
         2011,
         48,
         7
        ],
        [
         "Wolfsburg",
         2011,
         44,
         8
        ],
        [
         "Werder Bremen",
         2011,
         42,
         9
        ],
        [
         "Nurnberg",
         2011,
         42,
         10
        ],
        [
         "Hoffenheim",
         2011,
         41,
         11
        ],
        [
         "Freiburg",
         2011,
         40,
         12
        ],
        [
         "Mainz",
         2011,
         39,
         13
        ],
        [
         "Augsburg",
         2011,
         38,
         14
        ],
        [
         "Hamburg",
         2011,
         36,
         15
        ],
        [
         "Hertha",
         2011,
         31,
         16
        ],
        [
         "FC Koln",
         2011,
         30,
         17
        ],
        [
         "Kaiserslautern",
         2011,
         23,
         18
        ],
        [
         "Bayern Munich",
         2012,
         91,
         1
        ],
        [
         "Dortmund",
         2012,
         66,
         2
        ],
        [
         "Leverkusen",
         2012,
         65,
         3
        ],
        [
         "Schalke 04",
         2012,
         55,
         4
        ],
        [
         "Freiburg",
         2012,
         51,
         5
        ],
        [
         "Ein Frankfurt",
         2012,
         51,
         6
        ],
        [
         "Hamburg",
         2012,
         48,
         7
        ],
        [
         "M'gladbach",
         2012,
         47,
         8
        ],
        [
         "Hannover",
         2012,
         45,
         9
        ],
        [
         "Nurnberg",
         2012,
         44,
         10
        ],
        [
         "Wolfsburg",
         2012,
         43,
         11
        ],
        [
         "Stuttgart",
         2012,
         43,
         12
        ],
        [
         "Mainz",
         2012,
         42,
         13
        ],
        [
         "Werder Bremen",
         2012,
         34,
         14
        ],
        [
         "Augsburg",
         2012,
         33,
         15
        ],
        [
         "Hoffenheim",
         2012,
         31,
         16
        ],
        [
         "Fortuna Dusseldorf",
         2012,
         30,
         17
        ],
        [
         "Greuther Furth",
         2012,
         21,
         18
        ],
        [
         "Bayern Munich",
         2013,
         90,
         1
        ],
        [
         "Dortmund",
         2013,
         71,
         2
        ],
        [
         "Schalke 04",
         2013,
         64,
         3
        ],
        [
         "Leverkusen",
         2013,
         61,
         4
        ],
        [
         "Wolfsburg",
         2013,
         60,
         5
        ],
        [
         "M'gladbach",
         2013,
         55,
         6
        ],
        [
         "Mainz",
         2013,
         53,
         7
        ],
        [
         "Augsburg",
         2013,
         52,
         8
        ],
        [
         "Hoffenheim",
         2013,
         44,
         9
        ],
        [
         "Hannover",
         2013,
         42,
         10
        ],
        [
         "Hertha",
         2013,
         41,
         11
        ],
        [
         "Werder Bremen",
         2013,
         39,
         12
        ],
        [
         "Freiburg",
         2013,
         36,
         13
        ],
        [
         "Ein Frankfurt",
         2013,
         36,
         14
        ],
        [
         "Stuttgart",
         2013,
         32,
         15
        ],
        [
         "Hamburg",
         2013,
         27,
         16
        ],
        [
         "Nurnberg",
         2013,
         26,
         17
        ],
        [
         "Braunschweig",
         2013,
         25,
         18
        ],
        [
         "Bayern Munich",
         2014,
         79,
         1
        ],
        [
         "Wolfsburg",
         2014,
         69,
         2
        ],
        [
         "M'gladbach",
         2014,
         66,
         3
        ],
        [
         "Leverkusen",
         2014,
         61,
         4
        ],
        [
         "Augsburg",
         2014,
         49,
         5
        ],
        [
         "Schalke 04",
         2014,
         48,
         6
        ],
        [
         "Dortmund",
         2014,
         46,
         7
        ],
        [
         "Hoffenheim",
         2014,
         44,
         8
        ],
        [
         "Ein Frankfurt",
         2014,
         43,
         9
        ],
        [
         "Werder Bremen",
         2014,
         43,
         10
        ],
        [
         "Mainz",
         2014,
         40,
         11
        ],
        [
         "FC Koln",
         2014,
         40,
         12
        ],
        [
         "Hannover",
         2014,
         37,
         13
        ],
        [
         "Stuttgart",
         2014,
         36,
         14
        ],
        [
         "Hertha",
         2014,
         35,
         15
        ],
        [
         "Hamburg",
         2014,
         35,
         16
        ],
        [
         "Freiburg",
         2014,
         34,
         17
        ],
        [
         "Paderborn",
         2014,
         31,
         18
        ],
        [
         "Bayern Munich",
         2015,
         88,
         1
        ],
        [
         "Dortmund",
         2015,
         78,
         2
        ],
        [
         "Leverkusen",
         2015,
         60,
         3
        ],
        [
         "M'gladbach",
         2015,
         55,
         4
        ],
        [
         "Schalke 04",
         2015,
         52,
         5
        ],
        [
         "Mainz",
         2015,
         50,
         6
        ],
        [
         "Hertha",
         2015,
         50,
         7
        ],
        [
         "Wolfsburg",
         2015,
         45,
         8
        ],
        [
         "FC Koln",
         2015,
         43,
         9
        ],
        [
         "Hamburg",
         2015,
         41,
         10
        ],
        [
         "Ingolstadt",
         2015,
         40,
         11
        ],
        [
         "Augsburg",
         2015,
         38,
         12
        ],
        [
         "Werder Bremen",
         2015,
         38,
         13
        ],
        [
         "Darmstadt",
         2015,
         38,
         14
        ],
        [
         "Hoffenheim",
         2015,
         37,
         15
        ],
        [
         "Ein Frankfurt",
         2015,
         36,
         16
        ],
        [
         "Stuttgart",
         2015,
         33,
         17
        ],
        [
         "Hannover",
         2015,
         25,
         18
        ],
        [
         "Bayern Munich",
         2016,
         82,
         1
        ],
        [
         "RB Leipzig",
         2016,
         67,
         2
        ],
        [
         "Dortmund",
         2016,
         64,
         3
        ],
        [
         "Hoffenheim",
         2016,
         62,
         4
        ],
        [
         "FC Koln",
         2016,
         49,
         5
        ],
        [
         "Hertha",
         2016,
         49,
         6
        ],
        [
         "Freiburg",
         2016,
         48,
         7
        ],
        [
         "M'gladbach",
         2016,
         45,
         8
        ],
        [
         "Werder Bremen",
         2016,
         45,
         9
        ],
        [
         "Schalke 04",
         2016,
         43,
         10
        ],
        [
         "Ein Frankfurt",
         2016,
         42,
         11
        ],
        [
         "Leverkusen",
         2016,
         41,
         12
        ],
        [
         "Augsburg",
         2016,
         38,
         13
        ],
        [
         "Hamburg",
         2016,
         38,
         14
        ],
        [
         "Mainz",
         2016,
         37,
         15
        ],
        [
         "Wolfsburg",
         2016,
         37,
         16
        ],
        [
         "Ingolstadt",
         2016,
         32,
         17
        ],
        [
         "Darmstadt",
         2016,
         25,
         18
        ]
       ],
       "datasetInfos": [],
       "dbfsResultPath": null,
       "isJsonSchema": true,
       "metadata": {},
       "overflow": false,
       "plotOptions": {
        "customPlotOptions": {},
        "displayType": "table",
        "pivotAggregation": null,
        "pivotColumns": null,
        "xColumns": null,
        "yColumns": null
       },
       "removedWidgets": [],
       "schema": [
        {
         "metadata": "{}",
         "name": "Team",
         "type": "\"string\""
        },
        {
         "metadata": "{}",
         "name": "Season",
         "type": "\"long\""
        },
        {
         "metadata": "{}",
         "name": "Total Points",
         "type": "\"long\""
        },
        {
         "metadata": "{}",
         "name": "Position",
         "type": "\"integer\""
        }
       ],
       "type": "table"
      }
     },
     "output_type": "display_data"
    },
    {
     "output_type": "display_data",
     "data": {
      "text/html": [
       "<style scoped>\n",
       "  .table-result-container {\n",
       "    max-height: 300px;\n",
       "    overflow: auto;\n",
       "  }\n",
       "  table, th, td {\n",
       "    border: 1px solid black;\n",
       "    border-collapse: collapse;\n",
       "  }\n",
       "  th, td {\n",
       "    padding: 5px;\n",
       "  }\n",
       "  th {\n",
       "    text-align: left;\n",
       "  }\n",
       "</style><div class='table-result-container'><table class='table-result'><thead style='background-color: white'><tr><th>Position</th><th>Team</th><th>Season</th><th>Home Goals</th><th>Away Goals</th><th>Total Goals</th><th>Total Points</th></tr></thead><tbody><tr><td>1</td><td>Bayern Munich</td><td>2007</td><td>41</td><td>27</td><td>68</td><td>76</td></tr><tr><td>2</td><td>Werder Bremen</td><td>2007</td><td>48</td><td>27</td><td>75</td><td>66</td></tr><tr><td>3</td><td>Schalke 04</td><td>2007</td><td>29</td><td>26</td><td>55</td><td>64</td></tr><tr><td>4</td><td>Hamburg</td><td>2007</td><td>30</td><td>17</td><td>47</td><td>54</td></tr><tr><td>5</td><td>Wolfsburg</td><td>2007</td><td>28</td><td>30</td><td>58</td><td>54</td></tr><tr><td>6</td><td>Stuttgart</td><td>2007</td><td>39</td><td>18</td><td>57</td><td>52</td></tr><tr><td>7</td><td>Leverkusen</td><td>2007</td><td>32</td><td>25</td><td>57</td><td>51</td></tr><tr><td>8</td><td>Hannover</td><td>2007</td><td>32</td><td>22</td><td>54</td><td>49</td></tr><tr><td>9</td><td>Ein Frankfurt</td><td>2007</td><td>24</td><td>19</td><td>43</td><td>46</td></tr><tr><td>10</td><td>Hertha</td><td>2007</td><td>21</td><td>18</td><td>39</td><td>44</td></tr><tr><td>11</td><td>Karlsruhe</td><td>2007</td><td>23</td><td>15</td><td>38</td><td>43</td></tr><tr><td>12</td><td>Bochum</td><td>2007</td><td>32</td><td>16</td><td>48</td><td>41</td></tr><tr><td>13</td><td>Dortmund</td><td>2007</td><td>29</td><td>21</td><td>50</td><td>40</td></tr><tr><td>14</td><td>Cottbus</td><td>2007</td><td>25</td><td>10</td><td>35</td><td>36</td></tr><tr><td>15</td><td>Bielefeld</td><td>2007</td><td>21</td><td>14</td><td>35</td><td>34</td></tr><tr><td>16</td><td>Nurnberg</td><td>2007</td><td>21</td><td>14</td><td>35</td><td>31</td></tr><tr><td>17</td><td>Hansa Rostock</td><td>2007</td><td>17</td><td>13</td><td>30</td><td>30</td></tr><tr><td>18</td><td>Duisburg</td><td>2007</td><td>19</td><td>17</td><td>36</td><td>29</td></tr><tr><td>1</td><td>Wolfsburg</td><td>2008</td><td>51</td><td>29</td><td>80</td><td>69</td></tr><tr><td>2</td><td>Bayern Munich</td><td>2008</td><td>45</td><td>26</td><td>71</td><td>67</td></tr><tr><td>3</td><td>Stuttgart</td><td>2008</td><td>34</td><td>29</td><td>63</td><td>64</td></tr><tr><td>4</td><td>Hertha</td><td>2008</td><td>29</td><td>19</td><td>48</td><td>63</td></tr><tr><td>5</td><td>Hamburg</td><td>2008</td><td>27</td><td>22</td><td>49</td><td>61</td></tr><tr><td>6</td><td>Dortmund</td><td>2008</td><td>34</td><td>26</td><td>60</td><td>59</td></tr><tr><td>7</td><td>Hoffenheim</td><td>2008</td><td>30</td><td>33</td><td>63</td><td>55</td></tr><tr><td>8</td><td>Schalke 04</td><td>2008</td><td>26</td><td>21</td><td>47</td><td>50</td></tr><tr><td>9</td><td>Leverkusen</td><td>2008</td><td>31</td><td>28</td><td>59</td><td>49</td></tr><tr><td>10</td><td>Werder Bremen</td><td>2008</td><td>43</td><td>21</td><td>64</td><td>45</td></tr><tr><td>11</td><td>Hannover</td><td>2008</td><td>31</td><td>18</td><td>49</td><td>40</td></tr><tr><td>12</td><td>FC Koln</td><td>2008</td><td>14</td><td>21</td><td>35</td><td>39</td></tr><tr><td>13</td><td>Ein Frankfurt</td><td>2008</td><td>26</td><td>13</td><td>39</td><td>33</td></tr><tr><td>14</td><td>Bochum</td><td>2008</td><td>23</td><td>16</td><td>39</td><td>32</td></tr><tr><td>15</td><td>M'gladbach</td><td>2008</td><td>23</td><td>16</td><td>39</td><td>31</td></tr><tr><td>16</td><td>Cottbus</td><td>2008</td><td>19</td><td>11</td><td>30</td><td>30</td></tr><tr><td>17</td><td>Karlsruhe</td><td>2008</td><td>18</td><td>12</td><td>30</td><td>29</td></tr><tr><td>18</td><td>Bielefeld</td><td>2008</td><td>16</td><td>13</td><td>29</td><td>28</td></tr><tr><td>1</td><td>Bayern Munich</td><td>2009</td><td>39</td><td>33</td><td>72</td><td>70</td></tr><tr><td>2</td><td>Schalke 04</td><td>2009</td><td>29</td><td>24</td><td>53</td><td>65</td></tr><tr><td>3</td><td>Werder Bremen</td><td>2009</td><td>34</td><td>37</td><td>71</td><td>61</td></tr><tr><td>4</td><td>Leverkusen</td><td>2009</td><td>37</td><td>28</td><td>65</td><td>59</td></tr><tr><td>5</td><td>Dortmund</td><td>2009</td><td>29</td><td>25</td><td>54</td><td>57</td></tr><tr><td>6</td><td>Stuttgart</td><td>2009</td><td>28</td><td>23</td><td>51</td><td>55</td></tr><tr><td>7</td><td>Hamburg</td><td>2009</td><td>25</td><td>31</td><td>56</td><td>52</td></tr><tr><td>8</td><td>Wolfsburg</td><td>2009</td><td>39</td><td>25</td><td>64</td><td>50</td></tr><tr><td>9</td><td>Mainz</td><td>2009</td><td>22</td><td>14</td><td>36</td><td>47</td></tr><tr><td>10</td><td>Ein Frankfurt</td><td>2009</td><td>25</td><td>22</td><td>47</td><td>46</td></tr><tr><td>11</td><td>Hoffenheim</td><td>2009</td><td>26</td><td>18</td><td>44</td><td>42</td></tr><tr><td>12</td><td>M'gladbach</td><td>2009</td><td>25</td><td>18</td><td>43</td><td>39</td></tr><tr><td>13</td><td>FC Koln</td><td>2009</td><td>18</td><td>15</td><td>33</td><td>38</td></tr><tr><td>14</td><td>Freiburg</td><td>2009</td><td>14</td><td>21</td><td>35</td><td>35</td></tr><tr><td>15</td><td>Hannover</td><td>2009</td><td>27</td><td>16</td><td>43</td><td>33</td></tr><tr><td>16</td><td>Nurnberg</td><td>2009</td><td>18</td><td>14</td><td>32</td><td>31</td></tr><tr><td>17</td><td>Bochum</td><td>2009</td><td>18</td><td>15</td><td>33</td><td>28</td></tr><tr><td>18</td><td>Hertha</td><td>2009</td><td>10</td><td>24</td><td>34</td><td>24</td></tr><tr><td>1</td><td>Dortmund</td><td>2010</td><td>35</td><td>32</td><td>67</td><td>75</td></tr><tr><td>2</td><td>Leverkusen</td><td>2010</td><td>33</td><td>31</td><td>64</td><td>68</td></tr><tr><td>3</td><td>Bayern Munich</td><td>2010</td><td>48</td><td>33</td><td>81</td><td>65</td></tr><tr><td>4</td><td>Hannover</td><td>2010</td><td>32</td><td>17</td><td>49</td><td>60</td></tr><tr><td>5</td><td>Mainz</td><td>2010</td><td>22</td><td>30</td><td>52</td><td>58</td></tr><tr><td>6</td><td>Nurnberg</td><td>2010</td><td>28</td><td>19</td><td>47</td><td>47</td></tr><tr><td>7</td><td>Kaiserslautern</td><td>2010</td><td>25</td><td>23</td><td>48</td><td>46</td></tr><tr><td>8</td><td>Hamburg</td><td>2010</td><td>29</td><td>17</td><td>46</td><td>45</td></tr><tr><td>9</td><td>FC Koln</td><td>2010</td><td>30</td><td>17</td><td>47</td><td>44</td></tr><tr><td>10</td><td>Freiburg</td><td>2010</td><td>24</td><td>17</td><td>41</td><td>44</td></tr><tr><td>11</td><td>Hoffenheim</td><td>2010</td><td>28</td><td>22</td><td>50</td><td>43</td></tr><tr><td>12</td><td>Stuttgart</td><td>2010</td><td>33</td><td>27</td><td>60</td><td>42</td></tr><tr><td>13</td><td>Werder Bremen</td><td>2010</td><td>26</td><td>21</td><td>47</td><td>41</td></tr><tr><td>14</td><td>Schalke 04</td><td>2010</td><td>24</td><td>14</td><td>38</td><td>40</td></tr><tr><td>15</td><td>Wolfsburg</td><td>2010</td><td>27</td><td>16</td><td>43</td><td>38</td></tr><tr><td>16</td><td>M'gladbach</td><td>2010</td><td>26</td><td>22</td><td>48</td><td>36</td></tr><tr><td>17</td><td>Ein Frankfurt</td><td>2010</td><td>13</td><td>18</td><td>31</td><td>34</td></tr><tr><td>18</td><td>St Pauli</td><td>2010</td><td>21</td><td>14</td><td>35</td><td>29</td></tr><tr><td>1</td><td>Dortmund</td><td>2011</td><td>44</td><td>36</td><td>80</td><td>81</td></tr><tr><td>2</td><td>Bayern Munich</td><td>2011</td><td>49</td><td>28</td><td>77</td><td>73</td></tr><tr><td>3</td><td>Schalke 04</td><td>2011</td><td>47</td><td>27</td><td>74</td><td>64</td></tr><tr><td>4</td><td>M'gladbach</td><td>2011</td><td>29</td><td>20</td><td>49</td><td>60</td></tr><tr><td>5</td><td>Leverkusen</td><td>2011</td><td>28</td><td>24</td><td>52</td><td>54</td></tr><tr><td>6</td><td>Stuttgart</td><td>2011</td><td>36</td><td>27</td><td>63</td><td>53</td></tr><tr><td>7</td><td>Hannover</td><td>2011</td><td>31</td><td>10</td><td>41</td><td>48</td></tr><tr><td>8</td><td>Wolfsburg</td><td>2011</td><td>29</td><td>18</td><td>47</td><td>44</td></tr><tr><td>9</td><td>Werder Bremen</td><td>2011</td><td>31</td><td>18</td><td>49</td><td>42</td></tr><tr><td>10</td><td>Nurnberg</td><td>2011</td><td>22</td><td>16</td><td>38</td><td>42</td></tr><tr><td>11</td><td>Hoffenheim</td><td>2011</td><td>21</td><td>20</td><td>41</td><td>41</td></tr><tr><td>12</td><td>Freiburg</td><td>2011</td><td>24</td><td>21</td><td>45</td><td>40</td></tr><tr><td>13</td><td>Mainz</td><td>2011</td><td>27</td><td>20</td><td>47</td><td>39</td></tr><tr><td>14</td><td>Augsburg</td><td>2011</td><td>20</td><td>16</td><td>36</td><td>38</td></tr><tr><td>15</td><td>Hamburg</td><td>2011</td><td>19</td><td>16</td><td>35</td><td>36</td></tr><tr><td>16</td><td>Hertha</td><td>2011</td><td>19</td><td>19</td><td>38</td><td>31</td></tr><tr><td>17</td><td>FC Koln</td><td>2011</td><td>20</td><td>19</td><td>39</td><td>30</td></tr><tr><td>18</td><td>Kaiserslautern</td><td>2011</td><td>12</td><td>12</td><td>24</td><td>23</td></tr><tr><td>1</td><td>Bayern Munich</td><td>2012</td><td>56</td><td>42</td><td>98</td><td>91</td></tr><tr><td>2</td><td>Dortmund</td><td>2012</td><td>40</td><td>41</td><td>81</td><td>66</td></tr><tr><td>3</td><td>Leverkusen</td><td>2012</td><td>36</td><td>29</td><td>65</td><td>65</td></tr><tr><td>4</td><td>Schalke 04</td><td>2012</td><td>35</td><td>23</td><td>58</td><td>55</td></tr><tr><td>5</td><td>Freiburg</td><td>2012</td><td>25</td><td>20</td><td>45</td><td>51</td></tr><tr><td>6</td><td>Ein Frankfurt</td><td>2012</td><td>32</td><td>17</td><td>49</td><td>51</td></tr><tr><td>7</td><td>Hamburg</td><td>2012</td><td>18</td><td>24</td><td>42</td><td>48</td></tr><tr><td>8</td><td>M'gladbach</td><td>2012</td><td>27</td><td>18</td><td>45</td><td>47</td></tr><tr><td>9</td><td>Hannover</td><td>2012</td><td>34</td><td>26</td><td>60</td><td>45</td></tr><tr><td>10</td><td>Nurnberg</td><td>2012</td><td>24</td><td>15</td><td>39</td><td>44</td></tr><tr><td>11</td><td>Wolfsburg</td><td>2012</td><td>21</td><td>26</td><td>47</td><td>43</td></tr><tr><td>12</td><td>Stuttgart</td><td>2012</td><td>20</td><td>17</td><td>37</td><td>43</td></tr><tr><td>13</td><td>Mainz</td><td>2012</td><td>22</td><td>20</td><td>42</td><td>42</td></tr><tr><td>14</td><td>Werder Bremen</td><td>2012</td><td>23</td><td>27</td><td>50</td><td>34</td></tr><tr><td>15</td><td>Augsburg</td><td>2012</td><td>19</td><td>14</td><td>33</td><td>33</td></tr><tr><td>16</td><td>Hoffenheim</td><td>2012</td><td>21</td><td>21</td><td>42</td><td>31</td></tr><tr><td>17</td><td>Fortuna Dusseldorf</td><td>2012</td><td>24</td><td>15</td><td>39</td><td>30</td></tr><tr><td>18</td><td>Greuther Furth</td><td>2012</td><td>10</td><td>16</td><td>26</td><td>21</td></tr><tr><td>1</td><td>Bayern Munich</td><td>2013</td><td>48</td><td>46</td><td>94</td><td>90</td></tr><tr><td>2</td><td>Dortmund</td><td>2013</td><td>41</td><td>39</td><td>80</td><td>71</td></tr><tr><td>3</td><td>Schalke 04</td><td>2013</td><td>37</td><td>26</td><td>63</td><td>64</td></tr><tr><td>4</td><td>Leverkusen</td><td>2013</td><td>35</td><td>25</td><td>60</td><td>61</td></tr><tr><td>5</td><td>Wolfsburg</td><td>2013</td><td>37</td><td>26</td><td>63</td><td>60</td></tr><tr><td>6</td><td>M'gladbach</td><td>2013</td><td>38</td><td>21</td><td>59</td><td>55</td></tr><tr><td>7</td><td>Mainz</td><td>2013</td><td>28</td><td>24</td><td>52</td><td>53</td></tr><tr><td>8</td><td>Augsburg</td><td>2013</td><td>27</td><td>20</td><td>47</td><td>52</td></tr><tr><td>9</td><td>Hoffenheim</td><td>2013</td><td>43</td><td>29</td><td>72</td><td>44</td></tr><tr><td>10</td><td>Hannover</td><td>2013</td><td>27</td><td>19</td><td>46</td><td>42</td></tr><tr><td>11</td><td>Hertha</td><td>2013</td><td>20</td><td>20</td><td>40</td><td>41</td></tr><tr><td>12</td><td>Werder Bremen</td><td>2013</td><td>21</td><td>21</td><td>42</td><td>39</td></tr><tr><td>13</td><td>Freiburg</td><td>2013</td><td>25</td><td>18</td><td>43</td><td>36</td></tr><tr><td>14</td><td>Ein Frankfurt</td><td>2013</td><td>22</td><td>18</td><td>40</td><td>36</td></tr><tr><td>15</td><td>Stuttgart</td><td>2013</td><td>28</td><td>21</td><td>49</td><td>32</td></tr><tr><td>16</td><td>Hamburg</td><td>2013</td><td>24</td><td>27</td><td>51</td><td>27</td></tr><tr><td>17</td><td>Nurnberg</td><td>2013</td><td>16</td><td>21</td><td>37</td><td>26</td></tr><tr><td>18</td><td>Braunschweig</td><td>2013</td><td>18</td><td>11</td><td>29</td><td>25</td></tr><tr><td>1</td><td>Bayern Munich</td><td>2014</td><td>46</td><td>34</td><td>80</td><td>79</td></tr><tr><td>2</td><td>Wolfsburg</td><td>2014</td><td>38</td><td>34</td><td>72</td><td>69</td></tr><tr><td>3</td><td>M'gladbach</td><td>2014</td><td>32</td><td>21</td><td>53</td><td>66</td></tr><tr><td>4</td><td>Leverkusen</td><td>2014</td><td>39</td><td>23</td><td>62</td><td>61</td></tr><tr><td>5</td><td>Augsburg</td><td>2014</td><td>28</td><td>15</td><td>43</td><td>49</td></tr><tr><td>6</td><td>Schalke 04</td><td>2014</td><td>26</td><td>16</td><td>42</td><td>48</td></tr><tr><td>7</td><td>Dortmund</td><td>2014</td><td>26</td><td>21</td><td>47</td><td>46</td></tr><tr><td>8</td><td>Hoffenheim</td><td>2014</td><td>31</td><td>18</td><td>49</td><td>44</td></tr><tr><td>9</td><td>Ein Frankfurt</td><td>2014</td><td>36</td><td>20</td><td>56</td><td>43</td></tr><tr><td>10</td><td>Werder Bremen</td><td>2014</td><td>25</td><td>25</td><td>50</td><td>43</td></tr><tr><td>11</td><td>Mainz</td><td>2014</td><td>27</td><td>18</td><td>45</td><td>40</td></tr><tr><td>12</td><td>FC Koln</td><td>2014</td><td>18</td><td>16</td><td>34</td><td>40</td></tr><tr><td>13</td><td>Hannover</td><td>2014</td><td>21</td><td>19</td><td>40</td><td>37</td></tr><tr><td>14</td><td>Stuttgart</td><td>2014</td><td>18</td><td>24</td><td>42</td><td>36</td></tr><tr><td>15</td><td>Hertha</td><td>2014</td><td>17</td><td>19</td><td>36</td><td>35</td></tr><tr><td>16</td><td>Hamburg</td><td>2014</td><td>16</td><td>9</td><td>25</td><td>35</td></tr><tr><td>17</td><td>Freiburg</td><td>2014</td><td>21</td><td>15</td><td>36</td><td>34</td></tr><tr><td>18</td><td>Paderborn</td><td>2014</td><td>21</td><td>10</td><td>31</td><td>31</td></tr><tr><td>1</td><td>Bayern Munich</td><td>2015</td><td>51</td><td>29</td><td>80</td><td>88</td></tr><tr><td>2</td><td>Dortmund</td><td>2015</td><td>49</td><td>33</td><td>82</td><td>78</td></tr><tr><td>3</td><td>Leverkusen</td><td>2015</td><td>31</td><td>25</td><td>56</td><td>60</td></tr><tr><td>4</td><td>M'gladbach</td><td>2015</td><td>42</td><td>25</td><td>67</td><td>55</td></tr><tr><td>5</td><td>Schalke 04</td><td>2015</td><td>28</td><td>23</td><td>51</td><td>52</td></tr><tr><td>6</td><td>Mainz</td><td>2015</td><td>23</td><td>23</td><td>46</td><td>50</td></tr><tr><td>7</td><td>Hertha</td><td>2015</td><td>24</td><td>18</td><td>42</td><td>50</td></tr><tr><td>8</td><td>Wolfsburg</td><td>2015</td><td>32</td><td>15</td><td>47</td><td>45</td></tr><tr><td>9</td><td>FC Koln</td><td>2015</td><td>16</td><td>22</td><td>38</td><td>43</td></tr><tr><td>10</td><td>Hamburg</td><td>2015</td><td>20</td><td>20</td><td>40</td><td>41</td></tr><tr><td>11</td><td>Ingolstadt</td><td>2015</td><td>22</td><td>11</td><td>33</td><td>40</td></tr><tr><td>12</td><td>Augsburg</td><td>2015</td><td>18</td><td>24</td><td>42</td><td>38</td></tr><tr><td>13</td><td>Werder Bremen</td><td>2015</td><td>27</td><td>23</td><td>50</td><td>38</td></tr><tr><td>14</td><td>Darmstadt</td><td>2015</td><td>15</td><td>23</td><td>38</td><td>38</td></tr><tr><td>15</td><td>Hoffenheim</td><td>2015</td><td>22</td><td>17</td><td>39</td><td>37</td></tr><tr><td>16</td><td>Ein Frankfurt</td><td>2015</td><td>22</td><td>12</td><td>34</td><td>36</td></tr><tr><td>17</td><td>Stuttgart</td><td>2015</td><td>22</td><td>28</td><td>50</td><td>33</td></tr><tr><td>18</td><td>Hannover</td><td>2015</td><td>15</td><td>16</td><td>31</td><td>25</td></tr><tr><td>1</td><td>Bayern Munich</td><td>2016</td><td>55</td><td>34</td><td>89</td><td>82</td></tr><tr><td>2</td><td>RB Leipzig</td><td>2016</td><td>35</td><td>31</td><td>66</td><td>67</td></tr><tr><td>3</td><td>Dortmund</td><td>2016</td><td>41</td><td>31</td><td>72</td><td>64</td></tr><tr><td>4</td><td>Hoffenheim</td><td>2016</td><td>35</td><td>29</td><td>64</td><td>62</td></tr><tr><td>5</td><td>FC Koln</td><td>2016</td><td>29</td><td>22</td><td>51</td><td>49</td></tr><tr><td>6</td><td>Hertha</td><td>2016</td><td>28</td><td>15</td><td>43</td><td>49</td></tr><tr><td>7</td><td>Freiburg</td><td>2016</td><td>23</td><td>19</td><td>42</td><td>48</td></tr><tr><td>8</td><td>M'gladbach</td><td>2016</td><td>26</td><td>19</td><td>45</td><td>45</td></tr><tr><td>9</td><td>Werder Bremen</td><td>2016</td><td>28</td><td>33</td><td>61</td><td>45</td></tr><tr><td>10</td><td>Schalke 04</td><td>2016</td><td>29</td><td>16</td><td>45</td><td>43</td></tr><tr><td>11</td><td>Ein Frankfurt</td><td>2016</td><td>24</td><td>12</td><td>36</td><td>42</td></tr><tr><td>12</td><td>Leverkusen</td><td>2016</td><td>27</td><td>26</td><td>53</td><td>41</td></tr><tr><td>13</td><td>Augsburg</td><td>2016</td><td>22</td><td>13</td><td>35</td><td>38</td></tr><tr><td>14</td><td>Hamburg</td><td>2016</td><td>21</td><td>12</td><td>33</td><td>38</td></tr><tr><td>15</td><td>Mainz</td><td>2016</td><td>30</td><td>14</td><td>44</td><td>37</td></tr><tr><td>16</td><td>Wolfsburg</td><td>2016</td><td>15</td><td>19</td><td>34</td><td>37</td></tr><tr><td>17</td><td>Ingolstadt</td><td>2016</td><td>21</td><td>15</td><td>36</td><td>32</td></tr><tr><td>18</td><td>Darmstadt</td><td>2016</td><td>18</td><td>10</td><td>28</td><td>25</td></tr></tbody></table></div>"
      ]
     },
     "metadata": {
      "application/vnd.databricks.v1+output": {
       "addedWidgets": {},
       "aggData": [],
       "aggError": "",
       "aggOverflow": false,
       "aggSchema": [],
       "aggSeriesLimitReached": false,
       "aggType": "",
       "arguments": {},
       "columnCustomDisplayInfos": {},
       "data": [
        [
         1,
         "Bayern Munich",
         2007,
         41,
         27,
         68,
         76
        ],
        [
         2,
         "Werder Bremen",
         2007,
         48,
         27,
         75,
         66
        ],
        [
         3,
         "Schalke 04",
         2007,
         29,
         26,
         55,
         64
        ],
        [
         4,
         "Hamburg",
         2007,
         30,
         17,
         47,
         54
        ],
        [
         5,
         "Wolfsburg",
         2007,
         28,
         30,
         58,
         54
        ],
        [
         6,
         "Stuttgart",
         2007,
         39,
         18,
         57,
         52
        ],
        [
         7,
         "Leverkusen",
         2007,
         32,
         25,
         57,
         51
        ],
        [
         8,
         "Hannover",
         2007,
         32,
         22,
         54,
         49
        ],
        [
         9,
         "Ein Frankfurt",
         2007,
         24,
         19,
         43,
         46
        ],
        [
         10,
         "Hertha",
         2007,
         21,
         18,
         39,
         44
        ],
        [
         11,
         "Karlsruhe",
         2007,
         23,
         15,
         38,
         43
        ],
        [
         12,
         "Bochum",
         2007,
         32,
         16,
         48,
         41
        ],
        [
         13,
         "Dortmund",
         2007,
         29,
         21,
         50,
         40
        ],
        [
         14,
         "Cottbus",
         2007,
         25,
         10,
         35,
         36
        ],
        [
         15,
         "Bielefeld",
         2007,
         21,
         14,
         35,
         34
        ],
        [
         16,
         "Nurnberg",
         2007,
         21,
         14,
         35,
         31
        ],
        [
         17,
         "Hansa Rostock",
         2007,
         17,
         13,
         30,
         30
        ],
        [
         18,
         "Duisburg",
         2007,
         19,
         17,
         36,
         29
        ],
        [
         1,
         "Wolfsburg",
         2008,
         51,
         29,
         80,
         69
        ],
        [
         2,
         "Bayern Munich",
         2008,
         45,
         26,
         71,
         67
        ],
        [
         3,
         "Stuttgart",
         2008,
         34,
         29,
         63,
         64
        ],
        [
         4,
         "Hertha",
         2008,
         29,
         19,
         48,
         63
        ],
        [
         5,
         "Hamburg",
         2008,
         27,
         22,
         49,
         61
        ],
        [
         6,
         "Dortmund",
         2008,
         34,
         26,
         60,
         59
        ],
        [
         7,
         "Hoffenheim",
         2008,
         30,
         33,
         63,
         55
        ],
        [
         8,
         "Schalke 04",
         2008,
         26,
         21,
         47,
         50
        ],
        [
         9,
         "Leverkusen",
         2008,
         31,
         28,
         59,
         49
        ],
        [
         10,
         "Werder Bremen",
         2008,
         43,
         21,
         64,
         45
        ],
        [
         11,
         "Hannover",
         2008,
         31,
         18,
         49,
         40
        ],
        [
         12,
         "FC Koln",
         2008,
         14,
         21,
         35,
         39
        ],
        [
         13,
         "Ein Frankfurt",
         2008,
         26,
         13,
         39,
         33
        ],
        [
         14,
         "Bochum",
         2008,
         23,
         16,
         39,
         32
        ],
        [
         15,
         "M'gladbach",
         2008,
         23,
         16,
         39,
         31
        ],
        [
         16,
         "Cottbus",
         2008,
         19,
         11,
         30,
         30
        ],
        [
         17,
         "Karlsruhe",
         2008,
         18,
         12,
         30,
         29
        ],
        [
         18,
         "Bielefeld",
         2008,
         16,
         13,
         29,
         28
        ],
        [
         1,
         "Bayern Munich",
         2009,
         39,
         33,
         72,
         70
        ],
        [
         2,
         "Schalke 04",
         2009,
         29,
         24,
         53,
         65
        ],
        [
         3,
         "Werder Bremen",
         2009,
         34,
         37,
         71,
         61
        ],
        [
         4,
         "Leverkusen",
         2009,
         37,
         28,
         65,
         59
        ],
        [
         5,
         "Dortmund",
         2009,
         29,
         25,
         54,
         57
        ],
        [
         6,
         "Stuttgart",
         2009,
         28,
         23,
         51,
         55
        ],
        [
         7,
         "Hamburg",
         2009,
         25,
         31,
         56,
         52
        ],
        [
         8,
         "Wolfsburg",
         2009,
         39,
         25,
         64,
         50
        ],
        [
         9,
         "Mainz",
         2009,
         22,
         14,
         36,
         47
        ],
        [
         10,
         "Ein Frankfurt",
         2009,
         25,
         22,
         47,
         46
        ],
        [
         11,
         "Hoffenheim",
         2009,
         26,
         18,
         44,
         42
        ],
        [
         12,
         "M'gladbach",
         2009,
         25,
         18,
         43,
         39
        ],
        [
         13,
         "FC Koln",
         2009,
         18,
         15,
         33,
         38
        ],
        [
         14,
         "Freiburg",
         2009,
         14,
         21,
         35,
         35
        ],
        [
         15,
         "Hannover",
         2009,
         27,
         16,
         43,
         33
        ],
        [
         16,
         "Nurnberg",
         2009,
         18,
         14,
         32,
         31
        ],
        [
         17,
         "Bochum",
         2009,
         18,
         15,
         33,
         28
        ],
        [
         18,
         "Hertha",
         2009,
         10,
         24,
         34,
         24
        ],
        [
         1,
         "Dortmund",
         2010,
         35,
         32,
         67,
         75
        ],
        [
         2,
         "Leverkusen",
         2010,
         33,
         31,
         64,
         68
        ],
        [
         3,
         "Bayern Munich",
         2010,
         48,
         33,
         81,
         65
        ],
        [
         4,
         "Hannover",
         2010,
         32,
         17,
         49,
         60
        ],
        [
         5,
         "Mainz",
         2010,
         22,
         30,
         52,
         58
        ],
        [
         6,
         "Nurnberg",
         2010,
         28,
         19,
         47,
         47
        ],
        [
         7,
         "Kaiserslautern",
         2010,
         25,
         23,
         48,
         46
        ],
        [
         8,
         "Hamburg",
         2010,
         29,
         17,
         46,
         45
        ],
        [
         9,
         "FC Koln",
         2010,
         30,
         17,
         47,
         44
        ],
        [
         10,
         "Freiburg",
         2010,
         24,
         17,
         41,
         44
        ],
        [
         11,
         "Hoffenheim",
         2010,
         28,
         22,
         50,
         43
        ],
        [
         12,
         "Stuttgart",
         2010,
         33,
         27,
         60,
         42
        ],
        [
         13,
         "Werder Bremen",
         2010,
         26,
         21,
         47,
         41
        ],
        [
         14,
         "Schalke 04",
         2010,
         24,
         14,
         38,
         40
        ],
        [
         15,
         "Wolfsburg",
         2010,
         27,
         16,
         43,
         38
        ],
        [
         16,
         "M'gladbach",
         2010,
         26,
         22,
         48,
         36
        ],
        [
         17,
         "Ein Frankfurt",
         2010,
         13,
         18,
         31,
         34
        ],
        [
         18,
         "St Pauli",
         2010,
         21,
         14,
         35,
         29
        ],
        [
         1,
         "Dortmund",
         2011,
         44,
         36,
         80,
         81
        ],
        [
         2,
         "Bayern Munich",
         2011,
         49,
         28,
         77,
         73
        ],
        [
         3,
         "Schalke 04",
         2011,
         47,
         27,
         74,
         64
        ],
        [
         4,
         "M'gladbach",
         2011,
         29,
         20,
         49,
         60
        ],
        [
         5,
         "Leverkusen",
         2011,
         28,
         24,
         52,
         54
        ],
        [
         6,
         "Stuttgart",
         2011,
         36,
         27,
         63,
         53
        ],
        [
         7,
         "Hannover",
         2011,
         31,
         10,
         41,
         48
        ],
        [
         8,
         "Wolfsburg",
         2011,
         29,
         18,
         47,
         44
        ],
        [
         9,
         "Werder Bremen",
         2011,
         31,
         18,
         49,
         42
        ],
        [
         10,
         "Nurnberg",
         2011,
         22,
         16,
         38,
         42
        ],
        [
         11,
         "Hoffenheim",
         2011,
         21,
         20,
         41,
         41
        ],
        [
         12,
         "Freiburg",
         2011,
         24,
         21,
         45,
         40
        ],
        [
         13,
         "Mainz",
         2011,
         27,
         20,
         47,
         39
        ],
        [
         14,
         "Augsburg",
         2011,
         20,
         16,
         36,
         38
        ],
        [
         15,
         "Hamburg",
         2011,
         19,
         16,
         35,
         36
        ],
        [
         16,
         "Hertha",
         2011,
         19,
         19,
         38,
         31
        ],
        [
         17,
         "FC Koln",
         2011,
         20,
         19,
         39,
         30
        ],
        [
         18,
         "Kaiserslautern",
         2011,
         12,
         12,
         24,
         23
        ],
        [
         1,
         "Bayern Munich",
         2012,
         56,
         42,
         98,
         91
        ],
        [
         2,
         "Dortmund",
         2012,
         40,
         41,
         81,
         66
        ],
        [
         3,
         "Leverkusen",
         2012,
         36,
         29,
         65,
         65
        ],
        [
         4,
         "Schalke 04",
         2012,
         35,
         23,
         58,
         55
        ],
        [
         5,
         "Freiburg",
         2012,
         25,
         20,
         45,
         51
        ],
        [
         6,
         "Ein Frankfurt",
         2012,
         32,
         17,
         49,
         51
        ],
        [
         7,
         "Hamburg",
         2012,
         18,
         24,
         42,
         48
        ],
        [
         8,
         "M'gladbach",
         2012,
         27,
         18,
         45,
         47
        ],
        [
         9,
         "Hannover",
         2012,
         34,
         26,
         60,
         45
        ],
        [
         10,
         "Nurnberg",
         2012,
         24,
         15,
         39,
         44
        ],
        [
         11,
         "Wolfsburg",
         2012,
         21,
         26,
         47,
         43
        ],
        [
         12,
         "Stuttgart",
         2012,
         20,
         17,
         37,
         43
        ],
        [
         13,
         "Mainz",
         2012,
         22,
         20,
         42,
         42
        ],
        [
         14,
         "Werder Bremen",
         2012,
         23,
         27,
         50,
         34
        ],
        [
         15,
         "Augsburg",
         2012,
         19,
         14,
         33,
         33
        ],
        [
         16,
         "Hoffenheim",
         2012,
         21,
         21,
         42,
         31
        ],
        [
         17,
         "Fortuna Dusseldorf",
         2012,
         24,
         15,
         39,
         30
        ],
        [
         18,
         "Greuther Furth",
         2012,
         10,
         16,
         26,
         21
        ],
        [
         1,
         "Bayern Munich",
         2013,
         48,
         46,
         94,
         90
        ],
        [
         2,
         "Dortmund",
         2013,
         41,
         39,
         80,
         71
        ],
        [
         3,
         "Schalke 04",
         2013,
         37,
         26,
         63,
         64
        ],
        [
         4,
         "Leverkusen",
         2013,
         35,
         25,
         60,
         61
        ],
        [
         5,
         "Wolfsburg",
         2013,
         37,
         26,
         63,
         60
        ],
        [
         6,
         "M'gladbach",
         2013,
         38,
         21,
         59,
         55
        ],
        [
         7,
         "Mainz",
         2013,
         28,
         24,
         52,
         53
        ],
        [
         8,
         "Augsburg",
         2013,
         27,
         20,
         47,
         52
        ],
        [
         9,
         "Hoffenheim",
         2013,
         43,
         29,
         72,
         44
        ],
        [
         10,
         "Hannover",
         2013,
         27,
         19,
         46,
         42
        ],
        [
         11,
         "Hertha",
         2013,
         20,
         20,
         40,
         41
        ],
        [
         12,
         "Werder Bremen",
         2013,
         21,
         21,
         42,
         39
        ],
        [
         13,
         "Freiburg",
         2013,
         25,
         18,
         43,
         36
        ],
        [
         14,
         "Ein Frankfurt",
         2013,
         22,
         18,
         40,
         36
        ],
        [
         15,
         "Stuttgart",
         2013,
         28,
         21,
         49,
         32
        ],
        [
         16,
         "Hamburg",
         2013,
         24,
         27,
         51,
         27
        ],
        [
         17,
         "Nurnberg",
         2013,
         16,
         21,
         37,
         26
        ],
        [
         18,
         "Braunschweig",
         2013,
         18,
         11,
         29,
         25
        ],
        [
         1,
         "Bayern Munich",
         2014,
         46,
         34,
         80,
         79
        ],
        [
         2,
         "Wolfsburg",
         2014,
         38,
         34,
         72,
         69
        ],
        [
         3,
         "M'gladbach",
         2014,
         32,
         21,
         53,
         66
        ],
        [
         4,
         "Leverkusen",
         2014,
         39,
         23,
         62,
         61
        ],
        [
         5,
         "Augsburg",
         2014,
         28,
         15,
         43,
         49
        ],
        [
         6,
         "Schalke 04",
         2014,
         26,
         16,
         42,
         48
        ],
        [
         7,
         "Dortmund",
         2014,
         26,
         21,
         47,
         46
        ],
        [
         8,
         "Hoffenheim",
         2014,
         31,
         18,
         49,
         44
        ],
        [
         9,
         "Ein Frankfurt",
         2014,
         36,
         20,
         56,
         43
        ],
        [
         10,
         "Werder Bremen",
         2014,
         25,
         25,
         50,
         43
        ],
        [
         11,
         "Mainz",
         2014,
         27,
         18,
         45,
         40
        ],
        [
         12,
         "FC Koln",
         2014,
         18,
         16,
         34,
         40
        ],
        [
         13,
         "Hannover",
         2014,
         21,
         19,
         40,
         37
        ],
        [
         14,
         "Stuttgart",
         2014,
         18,
         24,
         42,
         36
        ],
        [
         15,
         "Hertha",
         2014,
         17,
         19,
         36,
         35
        ],
        [
         16,
         "Hamburg",
         2014,
         16,
         9,
         25,
         35
        ],
        [
         17,
         "Freiburg",
         2014,
         21,
         15,
         36,
         34
        ],
        [
         18,
         "Paderborn",
         2014,
         21,
         10,
         31,
         31
        ],
        [
         1,
         "Bayern Munich",
         2015,
         51,
         29,
         80,
         88
        ],
        [
         2,
         "Dortmund",
         2015,
         49,
         33,
         82,
         78
        ],
        [
         3,
         "Leverkusen",
         2015,
         31,
         25,
         56,
         60
        ],
        [
         4,
         "M'gladbach",
         2015,
         42,
         25,
         67,
         55
        ],
        [
         5,
         "Schalke 04",
         2015,
         28,
         23,
         51,
         52
        ],
        [
         6,
         "Mainz",
         2015,
         23,
         23,
         46,
         50
        ],
        [
         7,
         "Hertha",
         2015,
         24,
         18,
         42,
         50
        ],
        [
         8,
         "Wolfsburg",
         2015,
         32,
         15,
         47,
         45
        ],
        [
         9,
         "FC Koln",
         2015,
         16,
         22,
         38,
         43
        ],
        [
         10,
         "Hamburg",
         2015,
         20,
         20,
         40,
         41
        ],
        [
         11,
         "Ingolstadt",
         2015,
         22,
         11,
         33,
         40
        ],
        [
         12,
         "Augsburg",
         2015,
         18,
         24,
         42,
         38
        ],
        [
         13,
         "Werder Bremen",
         2015,
         27,
         23,
         50,
         38
        ],
        [
         14,
         "Darmstadt",
         2015,
         15,
         23,
         38,
         38
        ],
        [
         15,
         "Hoffenheim",
         2015,
         22,
         17,
         39,
         37
        ],
        [
         16,
         "Ein Frankfurt",
         2015,
         22,
         12,
         34,
         36
        ],
        [
         17,
         "Stuttgart",
         2015,
         22,
         28,
         50,
         33
        ],
        [
         18,
         "Hannover",
         2015,
         15,
         16,
         31,
         25
        ],
        [
         1,
         "Bayern Munich",
         2016,
         55,
         34,
         89,
         82
        ],
        [
         2,
         "RB Leipzig",
         2016,
         35,
         31,
         66,
         67
        ],
        [
         3,
         "Dortmund",
         2016,
         41,
         31,
         72,
         64
        ],
        [
         4,
         "Hoffenheim",
         2016,
         35,
         29,
         64,
         62
        ],
        [
         5,
         "FC Koln",
         2016,
         29,
         22,
         51,
         49
        ],
        [
         6,
         "Hertha",
         2016,
         28,
         15,
         43,
         49
        ],
        [
         7,
         "Freiburg",
         2016,
         23,
         19,
         42,
         48
        ],
        [
         8,
         "M'gladbach",
         2016,
         26,
         19,
         45,
         45
        ],
        [
         9,
         "Werder Bremen",
         2016,
         28,
         33,
         61,
         45
        ],
        [
         10,
         "Schalke 04",
         2016,
         29,
         16,
         45,
         43
        ],
        [
         11,
         "Ein Frankfurt",
         2016,
         24,
         12,
         36,
         42
        ],
        [
         12,
         "Leverkusen",
         2016,
         27,
         26,
         53,
         41
        ],
        [
         13,
         "Augsburg",
         2016,
         22,
         13,
         35,
         38
        ],
        [
         14,
         "Hamburg",
         2016,
         21,
         12,
         33,
         38
        ],
        [
         15,
         "Mainz",
         2016,
         30,
         14,
         44,
         37
        ],
        [
         16,
         "Wolfsburg",
         2016,
         15,
         19,
         34,
         37
        ],
        [
         17,
         "Ingolstadt",
         2016,
         21,
         15,
         36,
         32
        ],
        [
         18,
         "Darmstadt",
         2016,
         18,
         10,
         28,
         25
        ]
       ],
       "datasetInfos": [],
       "dbfsResultPath": null,
       "isJsonSchema": true,
       "metadata": {},
       "overflow": false,
       "plotOptions": {
        "customPlotOptions": {},
        "displayType": "table",
        "pivotAggregation": null,
        "pivotColumns": null,
        "xColumns": null,
        "yColumns": null
       },
       "removedWidgets": [],
       "schema": [
        {
         "metadata": "{}",
         "name": "Position",
         "type": "\"integer\""
        },
        {
         "metadata": "{}",
         "name": "Team",
         "type": "\"string\""
        },
        {
         "metadata": "{}",
         "name": "Season",
         "type": "\"long\""
        },
        {
         "metadata": "{}",
         "name": "Home Goals",
         "type": "\"long\""
        },
        {
         "metadata": "{}",
         "name": "Away Goals",
         "type": "\"long\""
        },
        {
         "metadata": "{}",
         "name": "Total Goals",
         "type": "\"long\""
        },
        {
         "metadata": "{}",
         "name": "Total Points",
         "type": "\"long\""
        }
       ],
       "type": "table"
      }
     },
     "output_type": "display_data"
    }
   ],
   "source": [
    "# Defines and orders the partition window by the Total Points and Season\n",
    "window = Window.partitionBy(\"Season\").orderBy(col(\"Total Points\").desc())\n",
    "\n",
    "# Adds the Column \"Position\" to dtClassification\n",
    "dtClassification = dtClassification.withColumn(\"Position\", row_number().over(window))\n",
    "\n",
    "# Show the Position column\n",
    "dtClassification.display(truncate=True)\n",
    "\n",
    "# Joins dtScoredGoals with dtClassification and orders by Season and Total Points in descending order\n",
    "dtFinalTable = dtScoredGoals.join(dtClassification, [\"Team\", \"Season\"]).orderBy(\"Season\", desc(\"Total Points\"))\n",
    "\n",
    "# Selects all columns from dtFinalTable except 'Position'\n",
    "columns = [c for c in dtFinalTable.columns if c != 'Position']\n",
    "\n",
    "# Reorders the columns with 'Position' as the first column\n",
    "dtFinalTable = dtFinalTable.select(col('Position'), *columns)\n",
    "\n",
    "# Displays the final table\n",
    "dtFinalTable.display()\n"
   ]
  }
 ],
 "metadata": {
  "application/vnd.databricks.v1+notebook": {
   "dashboards": [],
   "language": "python",
   "notebookMetadata": {
    "mostRecentlyExecutedCommandWithImplicitDF": {
     "commandId": 1611676617070739,
     "dataframes": [
      "_sqldf"
     ]
    },
    "pythonIndentUnit": 4
   },
   "notebookName": "Germany Football",
   "widgets": {}
  }
 },
 "nbformat": 4,
 "nbformat_minor": 0
}

{
 "cells": [
  {
   "cell_type": "markdown",
   "metadata": {
    "application/vnd.databricks.v1+cell": {
     "cellMetadata": {
      "byteLimit": 2048000,
      "rowLimit": 10000
     },
     "inputWidgets": {},
     "nuid": "206e21a3-e4a3-4dd6-9c70-b047ec2209f8",
     "showTitle": false,
     "title": ""
    }
   },
   "source": [
    "# Football Data Analysis Project\n",
    "\n",
    "This project involves analyzing football data to gain insights into team performance and scoring patterns. The data includes information about matches, teams, goals, and season details.\n",
    "\n",
    "## Data Description\n",
    "\n",
    "The dataset consists of the following columns:\n",
    "\n",
    "- **Match_ID**: Unique identifier of the match.\n",
    "- **Div**: Division of the league in which the match took place.\n",
    "- **Season**: Season in which the match was played.\n",
    "- **Date**: Date of the match.\n",
    "- **HomeTeam**: Home team.\n",
    "- **AwayTeam**: Away team.\n",
    "- **FTHG**: Number of goals scored by the home team at the end of the match.\n",
    "- **FTAG**: Number of goals scored by the away team at the end of the match.\n",
    "- **FTR**: Final result of the match: 'H' (home team victory), 'A' (away team victory), or 'D' (draw).\n",
    "\n",
    "## Data Analysis Steps\n",
    "\n",
    "The analysis is performed using PySpark, a powerful data processing framework. Here are the key steps involved in the analysis:\n",
    "\n",
    "1. **Calculating Home Team Points**: \n",
    "   - Filter the matches to select those from Division \"D1\" and seasons between 2007 and 2016.\n",
    "   - Group the matches by HomeTeam and Season.\n",
    "   - Calculate the sum of points based on the match result (H, D, or A).\n",
    "   - Order the results by Season and points.\n",
    "\n",
    "2. **Calculating Away Team Points**: \n",
    "   - Filter the matches to select those from Division \"D1\" and seasons between 2007 and 2016.\n",
    "   - Group the matches by AwayTeam and Season.\n",
    "   - Calculate the sum of points based on the match result (H, D, or A).\n",
    "   - Order the results by Season and points.\n",
    "\n",
    "3. **Total Points Calculation**: \n",
    "   - Combine the home team points and away team points using the union operation to create a unified points table.\n",
    "\n",
    "4. **Classification of Teams**: \n",
    "   - Group the total points table by HomeTeam and Season.\n",
    "   - Calculate the sum of points for each team in each season.\n",
    "   - Order the results by Season and total points.\n",
    "\n",
    "5. **Adding Position Column**: \n",
    "   - Define a window partitioned by Season and ordered by total points.\n",
    "   - Add the \"Position\" column to the classification table using the row_number function over the window.\n",
    "   - Display the classification table, showing the team, season, total points, and position.\n",
    "\n",
    "6. **Selecting Winner Teams**: \n",
    "   - Add the \"row_number\" column to the classification table using the row_number function over the window.\n",
    "   - Filter the classification table to select the teams with the highest total points in each season (where row_number is equal to 1).\n",
    "   - Select the team, season, and total points columns.\n",
    "   - Drop the \"row_number\" column.\n",
    "   - Display the winners' table, showing the team, season, and total points.\n",
    "\n",
    "7. **Scoring Goals Analysis**:\n",
    "   - Calculate the home goals scored by each team in each season.\n",
    "   - Group the matches by HomeTeam and Season.\n",
    "   - Calculate the sum of FTHG (home goals).\n",
    "   - Order the results by home goals in descending order.\n",
    "   - Calculate the away goals scored by each team in each season.\n",
    "   - Group the matches by AwayTeam and Season.\n",
    "   - Calculate the sum of FTAG (away goals).\n",
    "   - Order the results by away goals in descending order.\n",
    "\n",
    "8. **Total Goals Calculation**:\n",
    "   - Join the home goals and away goals tables on the team and season columns using an inner join.\n",
    "   - Add the \"Total Goals\" column by summing the home goals and away goals.\n",
    "   - Display the\n",
    "\n",
    " results, showing the team, home goals, away goals, season, and total goals.\n",
    "\n",
    "Ps. All the outputs are limited to 40 rows, except for the dtClassification table, to facilitate visualization."
   ]
  },
  {
   "cell_type": "code",
   "execution_count": 0,
   "metadata": {
    "application/vnd.databricks.v1+cell": {
     "cellMetadata": {
      "byteLimit": 2048000,
      "rowLimit": 10000
     },
     "inputWidgets": {},
     "nuid": "efe6ad34-0f5e-4ede-bc29-27ede74f3636",
     "showTitle": false,
     "title": ""
    }
   },
   "outputs": [],
   "source": [
    "from pyspark.sql.functions import *\n",
    "from pyspark.sql import Window"
   ]
  },
  {
   "cell_type": "code",
   "execution_count": 0,
   "metadata": {
    "application/vnd.databricks.v1+cell": {
     "cellMetadata": {
      "byteLimit": 2048000,
      "rowLimit": 10000
     },
     "inputWidgets": {},
     "nuid": "76aa2293-6d98-429c-b2ab-ace2c8dff5a0",
     "showTitle": false,
     "title": ""
    }
   },
   "outputs": [],
   "source": [
    "# Load Data Function\n",
    "def loadDf(fileName):\n",
    "    dt = spark.read.format('delta').options(header='true').load(fileName)\n",
    "    return dt\n"
   ]
  },
  {
   "cell_type": "code",
   "execution_count": 0,
   "metadata": {
    "application/vnd.databricks.v1+cell": {
     "cellMetadata": {
      "byteLimit": 2048000,
      "rowLimit": 10000
     },
     "inputWidgets": {},
     "nuid": "9e6e2437-66b4-43bf-94ca-88390b4eabd3",
     "showTitle": false,
     "title": ""
    }
   },
   "outputs": [],
   "source": [
    "# Matches\n",
    "\n",
    "dtMatches = loadDf(\"dbfs:/user/hive/warehouse/matches\")\n",
    "\n",
    "# dtMatches.display()\n",
    "\n",
    "# Match_ID: Unique identifier of the match.\n",
    "# Div: Division of the league in which the game took place.\n",
    "# Season: Season in which the game was held.\n",
    "# Date: Date of the game.\n",
    "# HomeTeam: Home team.\n",
    "# AwayTeam: Away team.\n",
    "# FTHG: Number of goals scored by the home team (HomeTeam) at the end of the match.\n",
    "# FTAG: Number of goals scored by the away team (AwayTeam) at the end of the match.\n",
    "# FTR: Final result of the match. It can be 'H' (home team victory), 'A' (away team victory), or 'D' (draw).\n",
    "\n"
   ]
  },
  {
   "cell_type": "code",
   "execution_count": 0,
   "metadata": {
    "application/vnd.databricks.v1+cell": {
     "cellMetadata": {
      "byteLimit": 2048000,
      "implicitDf": true,
      "rowLimit": 10000
     },
     "inputWidgets": {},
     "nuid": "9ed4778c-bcdd-401c-a0af-db57101374aa",
     "showTitle": false,
     "title": ""
    }
   },
   "outputs": [
    {
     "output_type": "stream",
     "name": "stdout",
     "output_type": "stream",
     "text": [
      "+-------------+------+------+\n|     HomeTeam|Season|Points|\n+-------------+------+------+\n|Bayern Munich|  2007|    41|\n|Werder Bremen|  2007|    39|\n|    Stuttgart|  2007|    38|\n|   Schalke 04|  2007|    34|\n|      Hamburg|  2007|    32|\n|   Leverkusen|  2007|    31|\n|       Hertha|  2007|    30|\n|     Hannover|  2007|    29|\n|Ein Frankfurt|  2007|    28|\n|    Wolfsburg|  2007|    27|\n|      Cottbus|  2007|    26|\n|     Dortmund|  2007|    26|\n|    Bielefeld|  2007|    25|\n|       Bochum|  2007|    24|\n|    Karlsruhe|  2007|    24|\n|     Nurnberg|  2007|    22|\n|Hansa Rostock|  2007|    19|\n|     Duisburg|  2007|    12|\n|    Wolfsburg|  2008|    49|\n|      Hamburg|  2008|    41|\n|    Stuttgart|  2008|    39|\n|       Hertha|  2008|    39|\n|Bayern Munich|  2008|    38|\n|Werder Bremen|  2008|    34|\n|     Dortmund|  2008|    33|\n|   Hoffenheim|  2008|    32|\n|     Hannover|  2008|    31|\n|   Schalke 04|  2008|    30|\n|   Leverkusen|  2008|    23|\n|    Karlsruhe|  2008|    19|\n|   M'gladbach|  2008|    19|\n|       Bochum|  2008|    19|\n|      Cottbus|  2008|    19|\n|Ein Frankfurt|  2008|    19|\n|      FC Koln|  2008|    17|\n|    Bielefeld|  2008|    14|\n|Bayern Munich|  2009|    40|\n|   Leverkusen|  2009|    38|\n|   Schalke 04|  2009|    35|\n|     Dortmund|  2009|    34|\n+-------------+------+------+\nonly showing top 40 rows\n\n"
     ]
    }
   ],
   "source": [
    "# Filter matches where \"Div\" is \"D1\" and \"Season\" is between 2007 and 2016\n",
    "dtHomePoints = (\n",
    "    dtMatches\n",
    "    .filter((col(\"Div\") == \"D1\") & col(\"Season\").between(2007, 2016))\n",
    "    .groupBy(\"HomeTeam\", \"Season\")\n",
    "    .agg(\n",
    "        sum(when(col(\"FTR\") == \"H\", 3).when(col(\"FTR\") == \"D\", 1).otherwise(0)).alias(\"Points\")\n",
    "    )\n",
    "    .orderBy(\"Season\", desc(\"Points\"))\n",
    "    .select(\"HomeTeam\", \"Season\", \"Points\")\n",
    ")\n",
    "\n",
    "# Display dtHomePoints table\n",
    "dtHomePoints.show(n=40)\n",
    "\n"
   ]
  },
  {
   "cell_type": "code",
   "execution_count": 0,
   "metadata": {
    "application/vnd.databricks.v1+cell": {
     "cellMetadata": {
      "byteLimit": 2048000,
      "implicitDf": true,
      "rowLimit": 10000
     },
     "inputWidgets": {},
     "nuid": "57c8aba8-39c8-49c7-874a-a00367eff21f",
     "showTitle": false,
     "title": ""
    }
   },
   "outputs": [
    {
     "output_type": "stream",
     "name": "stdout",
     "output_type": "stream",
     "text": [
      "+-------------+------+------+\n|     AwayTeam|Season|Points|\n+-------------+------+------+\n|Bayern Munich|  2007|    35|\n|   Schalke 04|  2007|    30|\n|Werder Bremen|  2007|    27|\n|    Wolfsburg|  2007|    27|\n|      Hamburg|  2007|    22|\n|   Leverkusen|  2007|    20|\n|     Hannover|  2007|    20|\n|    Karlsruhe|  2007|    19|\n|Ein Frankfurt|  2007|    18|\n|       Bochum|  2007|    17|\n|     Duisburg|  2007|    17|\n|     Dortmund|  2007|    14|\n|    Stuttgart|  2007|    14|\n|       Hertha|  2007|    14|\n|Hansa Rostock|  2007|    11|\n|      Cottbus|  2007|    10|\n|    Bielefeld|  2007|     9|\n|     Nurnberg|  2007|     9|\n|Bayern Munich|  2008|    29|\n|     Dortmund|  2008|    26|\n|   Leverkusen|  2008|    26|\n|    Stuttgart|  2008|    25|\n|       Hertha|  2008|    24|\n|   Hoffenheim|  2008|    23|\n|      FC Koln|  2008|    22|\n|      Hamburg|  2008|    20|\n|   Schalke 04|  2008|    20|\n|    Wolfsburg|  2008|    20|\n|    Bielefeld|  2008|    14|\n|Ein Frankfurt|  2008|    14|\n|       Bochum|  2008|    13|\n|   M'gladbach|  2008|    12|\n|      Cottbus|  2008|    11|\n|Werder Bremen|  2008|    11|\n|    Karlsruhe|  2008|    10|\n|     Hannover|  2008|     9|\n|Werder Bremen|  2009|    31|\n|Bayern Munich|  2009|    30|\n|   Schalke 04|  2009|    30|\n|    Wolfsburg|  2009|    27|\n+-------------+------+------+\nonly showing top 40 rows\n\n"
     ]
    }
   ],
   "source": [
    "# Filter matches where \"Div\" is \"D1\" and \"Season\" is between 2007 and 2016\n",
    "dtAwayPoints = (\n",
    "    dtMatches\n",
    "    .filter((col(\"Div\") == \"D1\") & col(\"Season\").between(2007, 2016))\n",
    "    .groupBy(\"AwayTeam\", \"Season\")\n",
    "    .agg(\n",
    "        sum(when(col(\"FTR\") == \"A\", 3).when(col(\"FTR\") == \"D\", 1).otherwise(0)).alias(\"Points\")\n",
    "    )\n",
    "    .orderBy(\"Season\", desc(\"Points\"))\n",
    "    .select(\"AwayTeam\", \"Season\", \"Points\")\n",
    ")\n",
    "\n",
    "# Display dtAwayPoints table\n",
    "dtAwayPoints.show(n=40)\n",
    "\n"
   ]
  },
  {
   "cell_type": "code",
   "execution_count": 0,
   "metadata": {
    "application/vnd.databricks.v1+cell": {
     "cellMetadata": {
      "byteLimit": 2048000,
      "rowLimit": 10000
     },
     "inputWidgets": {},
     "nuid": "475e967c-c148-477a-bfdb-a9ae397809b5",
     "showTitle": false,
     "title": ""
    }
   },
   "outputs": [
    {
     "output_type": "stream",
     "name": "stdout",
     "output_type": "stream",
     "text": [
      "+-------------+------+------------+\n|         Team|Season|Total Points|\n+-------------+------+------------+\n|Bayern Munich|  2007|          76|\n|Werder Bremen|  2007|          66|\n|   Schalke 04|  2007|          64|\n|      Hamburg|  2007|          54|\n|    Wolfsburg|  2007|          54|\n|    Stuttgart|  2007|          52|\n|   Leverkusen|  2007|          51|\n|     Hannover|  2007|          49|\n|Ein Frankfurt|  2007|          46|\n|       Hertha|  2007|          44|\n|    Karlsruhe|  2007|          43|\n|       Bochum|  2007|          41|\n|     Dortmund|  2007|          40|\n|      Cottbus|  2007|          36|\n|    Bielefeld|  2007|          34|\n|     Nurnberg|  2007|          31|\n|Hansa Rostock|  2007|          30|\n|     Duisburg|  2007|          29|\n|    Wolfsburg|  2008|          69|\n|Bayern Munich|  2008|          67|\n|    Stuttgart|  2008|          64|\n|       Hertha|  2008|          63|\n|      Hamburg|  2008|          61|\n|     Dortmund|  2008|          59|\n|   Hoffenheim|  2008|          55|\n|   Schalke 04|  2008|          50|\n|   Leverkusen|  2008|          49|\n|Werder Bremen|  2008|          45|\n|     Hannover|  2008|          40|\n|      FC Koln|  2008|          39|\n|Ein Frankfurt|  2008|          33|\n|       Bochum|  2008|          32|\n|   M'gladbach|  2008|          31|\n|      Cottbus|  2008|          30|\n|    Karlsruhe|  2008|          29|\n|    Bielefeld|  2008|          28|\n|Bayern Munich|  2009|          70|\n|   Schalke 04|  2009|          65|\n|Werder Bremen|  2009|          61|\n|   Leverkusen|  2009|          59|\n+-------------+------+------------+\nonly showing top 40 rows\n\n"
     ]
    },
    {
     "output_type": "display_data",
     "data": {
      "text/html": [
       "<style scoped>\n",
       "  .table-result-container {\n",
       "    max-height: 300px;\n",
       "    overflow: auto;\n",
       "  }\n",
       "  table, th, td {\n",
       "    border: 1px solid black;\n",
       "    border-collapse: collapse;\n",
       "  }\n",
       "  th, td {\n",
       "    padding: 5px;\n",
       "  }\n",
       "  th {\n",
       "    text-align: left;\n",
       "  }\n",
       "</style><div class='table-result-container'><table class='table-result'><thead style='background-color: white'><tr><th>Team</th><th>Season</th><th>Total Points</th></tr></thead><tbody><tr><td>Bayern Munich</td><td>2007</td><td>76</td></tr><tr><td>Wolfsburg</td><td>2008</td><td>69</td></tr><tr><td>Bayern Munich</td><td>2009</td><td>70</td></tr><tr><td>Dortmund</td><td>2010</td><td>75</td></tr><tr><td>Dortmund</td><td>2011</td><td>81</td></tr><tr><td>Bayern Munich</td><td>2012</td><td>91</td></tr><tr><td>Bayern Munich</td><td>2013</td><td>90</td></tr><tr><td>Bayern Munich</td><td>2014</td><td>79</td></tr><tr><td>Bayern Munich</td><td>2015</td><td>88</td></tr><tr><td>Bayern Munich</td><td>2016</td><td>82</td></tr></tbody></table></div>"
      ]
     },
     "metadata": {
      "application/vnd.databricks.v1+output": {
       "addedWidgets": {},
       "aggData": [],
       "aggError": "",
       "aggOverflow": false,
       "aggSchema": [],
       "aggSeriesLimitReached": false,
       "aggType": "",
       "arguments": {},
       "columnCustomDisplayInfos": {},
       "data": [
        [
         "Bayern Munich",
         2007,
         76
        ],
        [
         "Wolfsburg",
         2008,
         69
        ],
        [
         "Bayern Munich",
         2009,
         70
        ],
        [
         "Dortmund",
         2010,
         75
        ],
        [
         "Dortmund",
         2011,
         81
        ],
        [
         "Bayern Munich",
         2012,
         91
        ],
        [
         "Bayern Munich",
         2013,
         90
        ],
        [
         "Bayern Munich",
         2014,
         79
        ],
        [
         "Bayern Munich",
         2015,
         88
        ],
        [
         "Bayern Munich",
         2016,
         82
        ]
       ],
       "datasetInfos": [],
       "dbfsResultPath": null,
       "isJsonSchema": true,
       "metadata": {},
       "overflow": false,
       "plotOptions": {
        "customPlotOptions": {},
        "displayType": "table",
        "pivotAggregation": null,
        "pivotColumns": null,
        "xColumns": null,
        "yColumns": null
       },
       "removedWidgets": [],
       "schema": [
        {
         "metadata": "{}",
         "name": "Team",
         "type": "\"string\""
        },
        {
         "metadata": "{}",
         "name": "Season",
         "type": "\"long\""
        },
        {
         "metadata": "{}",
         "name": "Total Points",
         "type": "\"long\""
        }
       ],
       "type": "table"
      }
     },
     "output_type": "display_data"
    }
   ],
   "source": [
    "# Union of the all points made by HomeTeam and AwayTeam\n",
    "dtTotalPoints = dtHomePoints.unionAll(dtAwayPoints)\n",
    "\n",
    "# Group by \"HomeTeam\" and \"Season\", aggregate sum of \"Points\" as \"Total Points\"\n",
    "# Order by \"Season\" and \"Total Points\" in descending order\n",
    "# Select columns \"HomeTeam\" as \"Team\", \"Season\", and \"Total Points\"\n",
    "\n",
    "dtClassification = (\n",
    "    dtTotalPoints\n",
    "    .groupBy(\"HomeTeam\", \"Season\")\n",
    "    .agg(sum(\"Points\").alias(\"Total Points\"))\n",
    "    .orderBy(\"Season\", desc(\"Total Points\"))\n",
    "    .select(col(\"HomeTeam\").alias(\"Team\"), \"Season\", \"Total Points\")\n",
    ")\n",
    "\n",
    "# Display dtClassification table\n",
    "dtClassification.show(n=40)\n",
    "\n",
    "# Defines and order the partition window by \"Total Points\" and \"Season\"\n",
    "window = Window.partitionBy(\"Season\").orderBy(col(\"Total Points\").desc())\n",
    "\n",
    "# Adds the column \"row_number\" to dtClassification\n",
    "winnerDt = dtClassification.withColumn(\"row_number\", row_number().over(window))\n",
    "\n",
    "# Filters the Winners (where the registry of the line is equal to one)\n",
    "# Selects columns \"Team\", \"Season\", and \"Total Points\"\n",
    "# Drops the column \"row_number\"\n",
    "\n",
    "winnerDt = (\n",
    "    dtClassification\n",
    "    .withColumn(\"row_number\", row_number().over(window))\n",
    "    .filter(col(\"row_number\") == 1)\n",
    "    .select(\"Team\", \"Season\", \"Total Points\")\n",
    "    .drop(\"row_number\")\n",
    ")\n",
    "\n",
    "# Display winnerDt table without truncating column values\n",
    "winnerDt.display(truncate=False)\n"
   ]
  },
  {
   "cell_type": "code",
   "execution_count": 0,
   "metadata": {
    "application/vnd.databricks.v1+cell": {
     "cellMetadata": {
      "byteLimit": 2048000,
      "rowLimit": 10000
     },
     "inputWidgets": {},
     "nuid": "abdbfcef-8237-4727-a3ec-e8a8d7a3b322",
     "showTitle": false,
     "title": ""
    }
   },
   "outputs": [
    {
     "output_type": "stream",
     "name": "stdout",
     "output_type": "stream",
     "text": [
      "+-------------+----------+------+\n|         Team|Home Goals|Season|\n+-------------+----------+------+\n|Bayern Munich|        56|  2012|\n|Bayern Munich|        55|  2016|\n|    Wolfsburg|        51|  2008|\n|Bayern Munich|        51|  2015|\n|Werder Bremen|        50|  2005|\n|Bayern Munich|        50|  1999|\n|Bayern Munich|        49|  2011|\n|     Dortmund|        49|  2015|\n|Werder Bremen|        48|  2007|\n|Bayern Munich|        48|  2010|\n|Bayern Munich|        48|  2013|\n|Bayern Munich|        48|  1998|\n|   Schalke 04|        47|  2011|\n|   Leverkusen|        47|  1996|\n|   Leverkusen|        46|  2001|\n|    Stuttgart|        46|  1996|\n|Bayern Munich|        46|  2014|\n|Bayern Munich|        45|  2008|\n|     Dortmund|        45|  1995|\n|Werder Bremen|        44|  1994|\n|   Leverkusen|        44|  1999|\n|Bayern Munich|        44|  1993|\n|     Dortmund|        44|  2011|\n|Bayern Munich|        44|  2004|\n|   Hoffenheim|        43|  2013|\n|Bayern Munich|        43|  2003|\n|Werder Bremen|        43|  2008|\n|   Leverkusen|        43|  1997|\n|   Leverkusen|        43|  2003|\n|Werder Bremen|        42|  2003|\n|   Leverkusen|        42|  2004|\n|   M'gladbach|        42|  2015|\n|Bayern Munich|        42|  2001|\n|Bayern Munich|        42|  2005|\n|     Dortmund|        41|  2016|\n|Werder Bremen|        41|  1999|\n|     Dortmund|        41|  2013|\n|Bayern Munich|        41|  2007|\n|     Dortmund|        40|  2012|\n|       Hertha|        40|  2001|\n+-------------+----------+------+\nonly showing top 40 rows\n\n"
     ]
    }
   ],
   "source": [
    "# Filter dtMatches for Div \"D1\", group by HomeTeam and Season, and calculate the sum of FTHG as \"Home Goals\"\n",
    "\n",
    "dtScoredGoalsHome = (\n",
    "    dtMatches\n",
    "    .filter(col(\"Div\") == \"D1\")\n",
    "    .groupBy(\"HomeTeam\", \"Season\")\n",
    "    .agg(\n",
    "        sum(col(\"FTHG\")).alias(\"Home Goals\"),\n",
    "    )\n",
    "    .select(\n",
    "        col(\"HomeTeam\").alias(\"Team\"),  # Rename HomeTeam column to Team\n",
    "        col(\"Home Goals\"),\n",
    "        col(\"Season\")\n",
    "    )\n",
    "    .orderBy(desc(\"Home Goals\"))  # Order by Home Goals in descending order\n",
    ")\n",
    "\n",
    "# Display dtScoredGoalsHome table\n",
    "dtScoredGoalsHome.show(n=40)\n"
   ]
  },
  {
   "cell_type": "code",
   "execution_count": 0,
   "metadata": {
    "application/vnd.databricks.v1+cell": {
     "cellMetadata": {
      "byteLimit": 2048000,
      "rowLimit": 10000
     },
     "inputWidgets": {},
     "nuid": "994d15ce-e960-451c-acc3-52969900fc02",
     "showTitle": false,
     "title": ""
    }
   },
   "outputs": [
    {
     "output_type": "stream",
     "name": "stdout",
     "output_type": "stream",
     "text": [
      "+-------------+----------+------+\n|         Team|Away Goals|Season|\n+-------------+----------+------+\n|Bayern Munich|        46|  2013|\n|Werder Bremen|        43|  2006|\n|Bayern Munich|        42|  2012|\n|     Dortmund|        41|  2012|\n|     Dortmund|        39|  2013|\n|Werder Bremen|        37|  2003|\n|Werder Bremen|        37|  2009|\n|     Dortmund|        36|  2011|\n|Werder Bremen|        35|  2004|\n|Bayern Munich|        34|  2016|\n|Bayern Munich|        34|  2014|\n|   Leverkusen|        34|  2005|\n|    Wolfsburg|        34|  2014|\n|Bayern Munich|        33|  2010|\n|   Hoffenheim|        33|  2008|\n|Bayern Munich|        33|  2009|\n|Bayern Munich|        33|  1997|\n|     Dortmund|        33|  2015|\n|Bayern Munich|        33|  2002|\n|Werder Bremen|        33|  2016|\n|     Dortmund|        32|  1994|\n|    Stuttgart|        32|  1996|\n|     Dortmund|        32|  2010|\n|     Dortmund|        31|  2016|\n|   Leverkusen|        31|  2001|\n|   Leverkusen|        31|  2010|\n|Bayern Munich|        31|  1996|\n|    Stuttgart|        31|  2006|\n|Bayern Munich|        31|  1995|\n|   RB Leipzig|        31|  2016|\n|   Leverkusen|        31|  1994|\n|     Dortmund|        31|  2001|\n|     Dortmund|        31|  1995|\n|      Hamburg|        31|  2009|\n|Bayern Munich|        31|  2004|\n|   Leverkusen|        30|  1999|\n|    Wolfsburg|        30|  2007|\n|     Nurnberg|        30|  2004|\n|        Mainz|        30|  2010|\n|    Stuttgart|        30|  1995|\n+-------------+----------+------+\nonly showing top 40 rows\n\n"
     ]
    }
   ],
   "source": [
    "# Filter dtMatches for Div equal to \"D1\", group by \"AwayTeam\" and \"Season\", aggregate sum of \"FTAG\" as \"Away Goals\"\n",
    "# Select columns \"AwayTeam\" as \"Team\", \"Away Goals\", and alias \"Season\" as \"Season\"\n",
    "# Order by \"Away Goals\" in descending order\n",
    "\n",
    "dtScoredGoalsAway = (\n",
    "    dtMatches\n",
    "    .filter(col(\"Div\") == \"D1\")\n",
    "    .groupBy(\"AwayTeam\", \"Season\")\n",
    "    .agg(\n",
    "        sum(col(\"FTAG\")).alias(\"Away Goals\"),\n",
    "    )\n",
    "    .select(\n",
    "        col(\"AwayTeam\").alias(\"Team\"),\n",
    "        col(\"Away Goals\"),\n",
    "        col(\"Season\").alias(\"Season\")\n",
    "    )\n",
    "    .orderBy(desc(\"Away Goals\"))\n",
    ")\n",
    "\n",
    "# Display dtScoredGoalsAway table\n",
    "dtScoredGoalsAway.show(n=40)\n"
   ]
  },
  {
   "cell_type": "code",
   "execution_count": 0,
   "metadata": {
    "application/vnd.databricks.v1+cell": {
     "cellMetadata": {
      "byteLimit": 2048000,
      "rowLimit": 10000
     },
     "inputWidgets": {},
     "nuid": "09d8d651-4d88-445c-a8d7-382a5aede1eb",
     "showTitle": false,
     "title": ""
    }
   },
   "outputs": [
    {
     "output_type": "stream",
     "name": "stdout",
     "output_type": "stream",
     "text": [
      "+--------------+------+----------+----------+-----------+\n|          Team|Season|Home Goals|Away Goals|Total Goals|\n+--------------+------+----------+----------+-----------+\n|    M'gladbach|  1996|        34|        12|         46|\n| Bayern Munich|  2011|        49|        28|         77|\n| Ein Frankfurt|  1995|        29|        14|         43|\n|    M'gladbach|  2013|        38|        21|         59|\n|       FC Koln|  1994|        31|        23|         54|\n| Werder Bremen|  2003|        42|        37|         79|\n|      Augsburg|  2015|        18|        24|         42|\n|    M'gladbach|  1994|        37|        29|         66|\n|    M'gladbach|  2012|        27|        18|         45|\n|     Bielefeld|  2007|        21|        14|         35|\n|       Dresden|  1994|        17|        16|         33|\n| Bayern Munich|  1994|        32|        23|         55|\n|    Leverkusen|  2001|        46|        31|         77|\n| Ein Frankfurt|  2003|        25|        11|         36|\n| Werder Bremen|  2007|        48|        27|         75|\n|Kaiserslautern|  1994|        32|        26|         58|\n| Ein Frankfurt|  1998|        26|        18|         44|\n| Werder Bremen|  2011|        31|        18|         49|\n|      Freiburg|  2014|        21|        15|         36|\n|       Hamburg|  2007|        30|        17|         47|\n| Werder Bremen|  1994|        44|        26|         70|\n|    Schalke 04|  1995|        28|        17|         45|\n|      Freiburg|  2011|        24|        21|         45|\n|       FC Koln|  1997|        34|        15|         49|\n|       FC Koln|  2016|        29|        22|         51|\n|  Wattenscheid|  1993|        31|        17|         48|\n|      Hannover|  2003|        27|        22|         49|\n|      Nurnberg|  2013|        16|        21|         37|\n| Bayern Munich|  1996|        37|        31|         68|\n|      Dortmund|  2002|        31|        20|         51|\n|    Leverkusen|  2013|        35|        25|         60|\n|    Hoffenheim|  2013|        43|        29|         72|\n| Bayern Munich|  2016|        55|        34|         89|\n|     Bielefeld|  2004|        21|        16|         37|\n| Ein Frankfurt|  2014|        36|        20|         56|\n|      Freiburg|  1994|        38|        28|         66|\n|     Wolfsburg|  1997|        17|        21|         38|\n|      Dortmund|  2000|        34|        28|         62|\n|      Nurnberg|  2009|        18|        14|         32|\n|         Mainz|  2016|        30|        14|         44|\n+--------------+------+----------+----------+-----------+\nonly showing top 40 rows\n\n"
     ]
    }
   ],
   "source": [
    "# Filter dtScoredGoalsHome for Season not equal to 2017, select columns \"Team\", \"Home Goals\", \"Season\"\n",
    "# Join with dtScoredGoalsAway on columns \"Team\" and \"Season\" using inner join\n",
    "# Add a new column \"Total Goals\" by summing \"Home Goals\" and \"Away Goals\"\n",
    "\n",
    "dtScoredGoals = (\n",
    "    dtScoredGoalsHome\n",
    "    .filter(col(\"Season\") != 2017)\n",
    "    .select(\"Team\", \"Home Goals\", \"Season\")\n",
    "    .join(dtScoredGoalsAway, [\"Team\", \"Season\"], \"inner\")\n",
    "    .withColumn(\"Total Goals\", col(\"Home Goals\") + col(\"Away Goals\"))\n",
    ")\n",
    "\n",
    "# Display dtScoredGoals table\n",
    "dtScoredGoals.show(n=40)\n"
   ]
  },
  {
   "cell_type": "code",
   "execution_count": 0,
   "metadata": {
    "application/vnd.databricks.v1+cell": {
     "cellMetadata": {
      "byteLimit": 2048000,
      "rowLimit": 10000
     },
     "inputWidgets": {},
     "nuid": "f18a4810-bcd7-431c-8d52-761533d9d638",
     "showTitle": false,
     "title": ""
    }
   },
   "outputs": [
    {
     "output_type": "display_data",
     "data": {
      "text/html": [
       "<style scoped>\n",
       "  .table-result-container {\n",
       "    max-height: 300px;\n",
       "    overflow: auto;\n",
       "  }\n",
       "  table, th, td {\n",
       "    border: 1px solid black;\n",
       "    border-collapse: collapse;\n",
       "  }\n",
       "  th, td {\n",
       "    padding: 5px;\n",
       "  }\n",
       "  th {\n",
       "    text-align: left;\n",
       "  }\n",
       "</style><div class='table-result-container'><table class='table-result'><thead style='background-color: white'><tr><th>Team</th><th>Season</th><th>Total Points</th><th>Position</th></tr></thead><tbody><tr><td>Bayern Munich</td><td>2007</td><td>76</td><td>1</td></tr><tr><td>Werder Bremen</td><td>2007</td><td>66</td><td>2</td></tr><tr><td>Schalke 04</td><td>2007</td><td>64</td><td>3</td></tr><tr><td>Hamburg</td><td>2007</td><td>54</td><td>4</td></tr><tr><td>Wolfsburg</td><td>2007</td><td>54</td><td>5</td></tr><tr><td>Stuttgart</td><td>2007</td><td>52</td><td>6</td></tr><tr><td>Leverkusen</td><td>2007</td><td>51</td><td>7</td></tr><tr><td>Hannover</td><td>2007</td><td>49</td><td>8</td></tr><tr><td>Ein Frankfurt</td><td>2007</td><td>46</td><td>9</td></tr><tr><td>Hertha</td><td>2007</td><td>44</td><td>10</td></tr><tr><td>Karlsruhe</td><td>2007</td><td>43</td><td>11</td></tr><tr><td>Bochum</td><td>2007</td><td>41</td><td>12</td></tr><tr><td>Dortmund</td><td>2007</td><td>40</td><td>13</td></tr><tr><td>Cottbus</td><td>2007</td><td>36</td><td>14</td></tr><tr><td>Bielefeld</td><td>2007</td><td>34</td><td>15</td></tr><tr><td>Nurnberg</td><td>2007</td><td>31</td><td>16</td></tr><tr><td>Hansa Rostock</td><td>2007</td><td>30</td><td>17</td></tr><tr><td>Duisburg</td><td>2007</td><td>29</td><td>18</td></tr><tr><td>Wolfsburg</td><td>2008</td><td>69</td><td>1</td></tr><tr><td>Bayern Munich</td><td>2008</td><td>67</td><td>2</td></tr><tr><td>Stuttgart</td><td>2008</td><td>64</td><td>3</td></tr><tr><td>Hertha</td><td>2008</td><td>63</td><td>4</td></tr><tr><td>Hamburg</td><td>2008</td><td>61</td><td>5</td></tr><tr><td>Dortmund</td><td>2008</td><td>59</td><td>6</td></tr><tr><td>Hoffenheim</td><td>2008</td><td>55</td><td>7</td></tr><tr><td>Schalke 04</td><td>2008</td><td>50</td><td>8</td></tr><tr><td>Leverkusen</td><td>2008</td><td>49</td><td>9</td></tr><tr><td>Werder Bremen</td><td>2008</td><td>45</td><td>10</td></tr><tr><td>Hannover</td><td>2008</td><td>40</td><td>11</td></tr><tr><td>FC Koln</td><td>2008</td><td>39</td><td>12</td></tr><tr><td>Ein Frankfurt</td><td>2008</td><td>33</td><td>13</td></tr><tr><td>Bochum</td><td>2008</td><td>32</td><td>14</td></tr><tr><td>M'gladbach</td><td>2008</td><td>31</td><td>15</td></tr><tr><td>Cottbus</td><td>2008</td><td>30</td><td>16</td></tr><tr><td>Karlsruhe</td><td>2008</td><td>29</td><td>17</td></tr><tr><td>Bielefeld</td><td>2008</td><td>28</td><td>18</td></tr><tr><td>Bayern Munich</td><td>2009</td><td>70</td><td>1</td></tr><tr><td>Schalke 04</td><td>2009</td><td>65</td><td>2</td></tr><tr><td>Werder Bremen</td><td>2009</td><td>61</td><td>3</td></tr><tr><td>Leverkusen</td><td>2009</td><td>59</td><td>4</td></tr><tr><td>Dortmund</td><td>2009</td><td>57</td><td>5</td></tr><tr><td>Stuttgart</td><td>2009</td><td>55</td><td>6</td></tr><tr><td>Hamburg</td><td>2009</td><td>52</td><td>7</td></tr><tr><td>Wolfsburg</td><td>2009</td><td>50</td><td>8</td></tr><tr><td>Mainz</td><td>2009</td><td>47</td><td>9</td></tr><tr><td>Ein Frankfurt</td><td>2009</td><td>46</td><td>10</td></tr><tr><td>Hoffenheim</td><td>2009</td><td>42</td><td>11</td></tr><tr><td>M'gladbach</td><td>2009</td><td>39</td><td>12</td></tr><tr><td>FC Koln</td><td>2009</td><td>38</td><td>13</td></tr><tr><td>Freiburg</td><td>2009</td><td>35</td><td>14</td></tr><tr><td>Hannover</td><td>2009</td><td>33</td><td>15</td></tr><tr><td>Nurnberg</td><td>2009</td><td>31</td><td>16</td></tr><tr><td>Bochum</td><td>2009</td><td>28</td><td>17</td></tr><tr><td>Hertha</td><td>2009</td><td>24</td><td>18</td></tr><tr><td>Dortmund</td><td>2010</td><td>75</td><td>1</td></tr><tr><td>Leverkusen</td><td>2010</td><td>68</td><td>2</td></tr><tr><td>Bayern Munich</td><td>2010</td><td>65</td><td>3</td></tr><tr><td>Hannover</td><td>2010</td><td>60</td><td>4</td></tr><tr><td>Mainz</td><td>2010</td><td>58</td><td>5</td></tr><tr><td>Nurnberg</td><td>2010</td><td>47</td><td>6</td></tr><tr><td>Kaiserslautern</td><td>2010</td><td>46</td><td>7</td></tr><tr><td>Hamburg</td><td>2010</td><td>45</td><td>8</td></tr><tr><td>FC Koln</td><td>2010</td><td>44</td><td>9</td></tr><tr><td>Freiburg</td><td>2010</td><td>44</td><td>10</td></tr><tr><td>Hoffenheim</td><td>2010</td><td>43</td><td>11</td></tr><tr><td>Stuttgart</td><td>2010</td><td>42</td><td>12</td></tr><tr><td>Werder Bremen</td><td>2010</td><td>41</td><td>13</td></tr><tr><td>Schalke 04</td><td>2010</td><td>40</td><td>14</td></tr><tr><td>Wolfsburg</td><td>2010</td><td>38</td><td>15</td></tr><tr><td>M'gladbach</td><td>2010</td><td>36</td><td>16</td></tr><tr><td>Ein Frankfurt</td><td>2010</td><td>34</td><td>17</td></tr><tr><td>St Pauli</td><td>2010</td><td>29</td><td>18</td></tr><tr><td>Dortmund</td><td>2011</td><td>81</td><td>1</td></tr><tr><td>Bayern Munich</td><td>2011</td><td>73</td><td>2</td></tr><tr><td>Schalke 04</td><td>2011</td><td>64</td><td>3</td></tr><tr><td>M'gladbach</td><td>2011</td><td>60</td><td>4</td></tr><tr><td>Leverkusen</td><td>2011</td><td>54</td><td>5</td></tr><tr><td>Stuttgart</td><td>2011</td><td>53</td><td>6</td></tr><tr><td>Hannover</td><td>2011</td><td>48</td><td>7</td></tr><tr><td>Wolfsburg</td><td>2011</td><td>44</td><td>8</td></tr><tr><td>Werder Bremen</td><td>2011</td><td>42</td><td>9</td></tr><tr><td>Nurnberg</td><td>2011</td><td>42</td><td>10</td></tr><tr><td>Hoffenheim</td><td>2011</td><td>41</td><td>11</td></tr><tr><td>Freiburg</td><td>2011</td><td>40</td><td>12</td></tr><tr><td>Mainz</td><td>2011</td><td>39</td><td>13</td></tr><tr><td>Augsburg</td><td>2011</td><td>38</td><td>14</td></tr><tr><td>Hamburg</td><td>2011</td><td>36</td><td>15</td></tr><tr><td>Hertha</td><td>2011</td><td>31</td><td>16</td></tr><tr><td>FC Koln</td><td>2011</td><td>30</td><td>17</td></tr><tr><td>Kaiserslautern</td><td>2011</td><td>23</td><td>18</td></tr><tr><td>Bayern Munich</td><td>2012</td><td>91</td><td>1</td></tr><tr><td>Dortmund</td><td>2012</td><td>66</td><td>2</td></tr><tr><td>Leverkusen</td><td>2012</td><td>65</td><td>3</td></tr><tr><td>Schalke 04</td><td>2012</td><td>55</td><td>4</td></tr><tr><td>Freiburg</td><td>2012</td><td>51</td><td>5</td></tr><tr><td>Ein Frankfurt</td><td>2012</td><td>51</td><td>6</td></tr><tr><td>Hamburg</td><td>2012</td><td>48</td><td>7</td></tr><tr><td>M'gladbach</td><td>2012</td><td>47</td><td>8</td></tr><tr><td>Hannover</td><td>2012</td><td>45</td><td>9</td></tr><tr><td>Nurnberg</td><td>2012</td><td>44</td><td>10</td></tr><tr><td>Wolfsburg</td><td>2012</td><td>43</td><td>11</td></tr><tr><td>Stuttgart</td><td>2012</td><td>43</td><td>12</td></tr><tr><td>Mainz</td><td>2012</td><td>42</td><td>13</td></tr><tr><td>Werder Bremen</td><td>2012</td><td>34</td><td>14</td></tr><tr><td>Augsburg</td><td>2012</td><td>33</td><td>15</td></tr><tr><td>Hoffenheim</td><td>2012</td><td>31</td><td>16</td></tr><tr><td>Fortuna Dusseldorf</td><td>2012</td><td>30</td><td>17</td></tr><tr><td>Greuther Furth</td><td>2012</td><td>21</td><td>18</td></tr><tr><td>Bayern Munich</td><td>2013</td><td>90</td><td>1</td></tr><tr><td>Dortmund</td><td>2013</td><td>71</td><td>2</td></tr><tr><td>Schalke 04</td><td>2013</td><td>64</td><td>3</td></tr><tr><td>Leverkusen</td><td>2013</td><td>61</td><td>4</td></tr><tr><td>Wolfsburg</td><td>2013</td><td>60</td><td>5</td></tr><tr><td>M'gladbach</td><td>2013</td><td>55</td><td>6</td></tr><tr><td>Mainz</td><td>2013</td><td>53</td><td>7</td></tr><tr><td>Augsburg</td><td>2013</td><td>52</td><td>8</td></tr><tr><td>Hoffenheim</td><td>2013</td><td>44</td><td>9</td></tr><tr><td>Hannover</td><td>2013</td><td>42</td><td>10</td></tr><tr><td>Hertha</td><td>2013</td><td>41</td><td>11</td></tr><tr><td>Werder Bremen</td><td>2013</td><td>39</td><td>12</td></tr><tr><td>Freiburg</td><td>2013</td><td>36</td><td>13</td></tr><tr><td>Ein Frankfurt</td><td>2013</td><td>36</td><td>14</td></tr><tr><td>Stuttgart</td><td>2013</td><td>32</td><td>15</td></tr><tr><td>Hamburg</td><td>2013</td><td>27</td><td>16</td></tr><tr><td>Nurnberg</td><td>2013</td><td>26</td><td>17</td></tr><tr><td>Braunschweig</td><td>2013</td><td>25</td><td>18</td></tr><tr><td>Bayern Munich</td><td>2014</td><td>79</td><td>1</td></tr><tr><td>Wolfsburg</td><td>2014</td><td>69</td><td>2</td></tr><tr><td>M'gladbach</td><td>2014</td><td>66</td><td>3</td></tr><tr><td>Leverkusen</td><td>2014</td><td>61</td><td>4</td></tr><tr><td>Augsburg</td><td>2014</td><td>49</td><td>5</td></tr><tr><td>Schalke 04</td><td>2014</td><td>48</td><td>6</td></tr><tr><td>Dortmund</td><td>2014</td><td>46</td><td>7</td></tr><tr><td>Hoffenheim</td><td>2014</td><td>44</td><td>8</td></tr><tr><td>Ein Frankfurt</td><td>2014</td><td>43</td><td>9</td></tr><tr><td>Werder Bremen</td><td>2014</td><td>43</td><td>10</td></tr><tr><td>Mainz</td><td>2014</td><td>40</td><td>11</td></tr><tr><td>FC Koln</td><td>2014</td><td>40</td><td>12</td></tr><tr><td>Hannover</td><td>2014</td><td>37</td><td>13</td></tr><tr><td>Stuttgart</td><td>2014</td><td>36</td><td>14</td></tr><tr><td>Hertha</td><td>2014</td><td>35</td><td>15</td></tr><tr><td>Hamburg</td><td>2014</td><td>35</td><td>16</td></tr><tr><td>Freiburg</td><td>2014</td><td>34</td><td>17</td></tr><tr><td>Paderborn</td><td>2014</td><td>31</td><td>18</td></tr><tr><td>Bayern Munich</td><td>2015</td><td>88</td><td>1</td></tr><tr><td>Dortmund</td><td>2015</td><td>78</td><td>2</td></tr><tr><td>Leverkusen</td><td>2015</td><td>60</td><td>3</td></tr><tr><td>M'gladbach</td><td>2015</td><td>55</td><td>4</td></tr><tr><td>Schalke 04</td><td>2015</td><td>52</td><td>5</td></tr><tr><td>Mainz</td><td>2015</td><td>50</td><td>6</td></tr><tr><td>Hertha</td><td>2015</td><td>50</td><td>7</td></tr><tr><td>Wolfsburg</td><td>2015</td><td>45</td><td>8</td></tr><tr><td>FC Koln</td><td>2015</td><td>43</td><td>9</td></tr><tr><td>Hamburg</td><td>2015</td><td>41</td><td>10</td></tr><tr><td>Ingolstadt</td><td>2015</td><td>40</td><td>11</td></tr><tr><td>Augsburg</td><td>2015</td><td>38</td><td>12</td></tr><tr><td>Werder Bremen</td><td>2015</td><td>38</td><td>13</td></tr><tr><td>Darmstadt</td><td>2015</td><td>38</td><td>14</td></tr><tr><td>Hoffenheim</td><td>2015</td><td>37</td><td>15</td></tr><tr><td>Ein Frankfurt</td><td>2015</td><td>36</td><td>16</td></tr><tr><td>Stuttgart</td><td>2015</td><td>33</td><td>17</td></tr><tr><td>Hannover</td><td>2015</td><td>25</td><td>18</td></tr><tr><td>Bayern Munich</td><td>2016</td><td>82</td><td>1</td></tr><tr><td>RB Leipzig</td><td>2016</td><td>67</td><td>2</td></tr><tr><td>Dortmund</td><td>2016</td><td>64</td><td>3</td></tr><tr><td>Hoffenheim</td><td>2016</td><td>62</td><td>4</td></tr><tr><td>FC Koln</td><td>2016</td><td>49</td><td>5</td></tr><tr><td>Hertha</td><td>2016</td><td>49</td><td>6</td></tr><tr><td>Freiburg</td><td>2016</td><td>48</td><td>7</td></tr><tr><td>M'gladbach</td><td>2016</td><td>45</td><td>8</td></tr><tr><td>Werder Bremen</td><td>2016</td><td>45</td><td>9</td></tr><tr><td>Schalke 04</td><td>2016</td><td>43</td><td>10</td></tr><tr><td>Ein Frankfurt</td><td>2016</td><td>42</td><td>11</td></tr><tr><td>Leverkusen</td><td>2016</td><td>41</td><td>12</td></tr><tr><td>Augsburg</td><td>2016</td><td>38</td><td>13</td></tr><tr><td>Hamburg</td><td>2016</td><td>38</td><td>14</td></tr><tr><td>Mainz</td><td>2016</td><td>37</td><td>15</td></tr><tr><td>Wolfsburg</td><td>2016</td><td>37</td><td>16</td></tr><tr><td>Ingolstadt</td><td>2016</td><td>32</td><td>17</td></tr><tr><td>Darmstadt</td><td>2016</td><td>25</td><td>18</td></tr></tbody></table></div>"
      ]
     },
     "metadata": {
      "application/vnd.databricks.v1+output": {
       "addedWidgets": {},
       "aggData": [],
       "aggError": "",
       "aggOverflow": false,
       "aggSchema": [],
       "aggSeriesLimitReached": false,
       "aggType": "",
       "arguments": {},
       "columnCustomDisplayInfos": {},
       "data": [
        [
         "Bayern Munich",
         2007,
         76,
         1
        ],
        [
         "Werder Bremen",
         2007,
         66,
         2
        ],
        [
         "Schalke 04",
         2007,
         64,
         3
        ],
        [
         "Hamburg",
         2007,
         54,
         4
        ],
        [
         "Wolfsburg",
         2007,
         54,
         5
        ],
        [
         "Stuttgart",
         2007,
         52,
         6
        ],
        [
         "Leverkusen",
         2007,
         51,
         7
        ],
        [
         "Hannover",
         2007,
         49,
         8
        ],
        [
         "Ein Frankfurt",
         2007,
         46,
         9
        ],
        [
         "Hertha",
         2007,
         44,
         10
        ],
        [
         "Karlsruhe",
         2007,
         43,
         11
        ],
        [
         "Bochum",
         2007,
         41,
         12
        ],
        [
         "Dortmund",
         2007,
         40,
         13
        ],
        [
         "Cottbus",
         2007,
         36,
         14
        ],
        [
         "Bielefeld",
         2007,
         34,
         15
        ],
        [
         "Nurnberg",
         2007,
         31,
         16
        ],
        [
         "Hansa Rostock",
         2007,
         30,
         17
        ],
        [
         "Duisburg",
         2007,
         29,
         18
        ],
        [
         "Wolfsburg",
         2008,
         69,
         1
        ],
        [
         "Bayern Munich",
         2008,
         67,
         2
        ],
        [
         "Stuttgart",
         2008,
         64,
         3
        ],
        [
         "Hertha",
         2008,
         63,
         4
        ],
        [
         "Hamburg",
         2008,
         61,
         5
        ],
        [
         "Dortmund",
         2008,
         59,
         6
        ],
        [
         "Hoffenheim",
         2008,
         55,
         7
        ],
        [
         "Schalke 04",
         2008,
         50,
         8
        ],
        [
         "Leverkusen",
         2008,
         49,
         9
        ],
        [
         "Werder Bremen",
         2008,
         45,
         10
        ],
        [
         "Hannover",
         2008,
         40,
         11
        ],
        [
         "FC Koln",
         2008,
         39,
         12
        ],
        [
         "Ein Frankfurt",
         2008,
         33,
         13
        ],
        [
         "Bochum",
         2008,
         32,
         14
        ],
        [
         "M'gladbach",
         2008,
         31,
         15
        ],
        [
         "Cottbus",
         2008,
         30,
         16
        ],
        [
         "Karlsruhe",
         2008,
         29,
         17
        ],
        [
         "Bielefeld",
         2008,
         28,
         18
        ],
        [
         "Bayern Munich",
         2009,
         70,
         1
        ],
        [
         "Schalke 04",
         2009,
         65,
         2
        ],
        [
         "Werder Bremen",
         2009,
         61,
         3
        ],
        [
         "Leverkusen",
         2009,
         59,
         4
        ],
        [
         "Dortmund",
         2009,
         57,
         5
        ],
        [
         "Stuttgart",
         2009,
         55,
         6
        ],
        [
         "Hamburg",
         2009,
         52,
         7
        ],
        [
         "Wolfsburg",
         2009,
         50,
         8
        ],
        [
         "Mainz",
         2009,
         47,
         9
        ],
        [
         "Ein Frankfurt",
         2009,
         46,
         10
        ],
        [
         "Hoffenheim",
         2009,
         42,
         11
        ],
        [
         "M'gladbach",
         2009,
         39,
         12
        ],
        [
         "FC Koln",
         2009,
         38,
         13
        ],
        [
         "Freiburg",
         2009,
         35,
         14
        ],
        [
         "Hannover",
         2009,
         33,
         15
        ],
        [
         "Nurnberg",
         2009,
         31,
         16
        ],
        [
         "Bochum",
         2009,
         28,
         17
        ],
        [
         "Hertha",
         2009,
         24,
         18
        ],
        [
         "Dortmund",
         2010,
         75,
         1
        ],
        [
         "Leverkusen",
         2010,
         68,
         2
        ],
        [
         "Bayern Munich",
         2010,
         65,
         3
        ],
        [
         "Hannover",
         2010,
         60,
         4
        ],
        [
         "Mainz",
         2010,
         58,
         5
        ],
        [
         "Nurnberg",
         2010,
         47,
         6
        ],
        [
         "Kaiserslautern",
         2010,
         46,
         7
        ],
        [
         "Hamburg",
         2010,
         45,
         8
        ],
        [
         "FC Koln",
         2010,
         44,
         9
        ],
        [
         "Freiburg",
         2010,
         44,
         10
        ],
        [
         "Hoffenheim",
         2010,
         43,
         11
        ],
        [
         "Stuttgart",
         2010,
         42,
         12
        ],
        [
         "Werder Bremen",
         2010,
         41,
         13
        ],
        [
         "Schalke 04",
         2010,
         40,
         14
        ],
        [
         "Wolfsburg",
         2010,
         38,
         15
        ],
        [
         "M'gladbach",
         2010,
         36,
         16
        ],
        [
         "Ein Frankfurt",
         2010,
         34,
         17
        ],
        [
         "St Pauli",
         2010,
         29,
         18
        ],
        [
         "Dortmund",
         2011,
         81,
         1
        ],
        [
         "Bayern Munich",
         2011,
         73,
         2
        ],
        [
         "Schalke 04",
         2011,
         64,
         3
        ],
        [
         "M'gladbach",
         2011,
         60,
         4
        ],
        [
         "Leverkusen",
         2011,
         54,
         5
        ],
        [
         "Stuttgart",
         2011,
         53,
         6
        ],
        [
         "Hannover",
         2011,
         48,
         7
        ],
        [
         "Wolfsburg",
         2011,
         44,
         8
        ],
        [
         "Werder Bremen",
         2011,
         42,
         9
        ],
        [
         "Nurnberg",
         2011,
         42,
         10
        ],
        [
         "Hoffenheim",
         2011,
         41,
         11
        ],
        [
         "Freiburg",
         2011,
         40,
         12
        ],
        [
         "Mainz",
         2011,
         39,
         13
        ],
        [
         "Augsburg",
         2011,
         38,
         14
        ],
        [
         "Hamburg",
         2011,
         36,
         15
        ],
        [
         "Hertha",
         2011,
         31,
         16
        ],
        [
         "FC Koln",
         2011,
         30,
         17
        ],
        [
         "Kaiserslautern",
         2011,
         23,
         18
        ],
        [
         "Bayern Munich",
         2012,
         91,
         1
        ],
        [
         "Dortmund",
         2012,
         66,
         2
        ],
        [
         "Leverkusen",
         2012,
         65,
         3
        ],
        [
         "Schalke 04",
         2012,
         55,
         4
        ],
        [
         "Freiburg",
         2012,
         51,
         5
        ],
        [
         "Ein Frankfurt",
         2012,
         51,
         6
        ],
        [
         "Hamburg",
         2012,
         48,
         7
        ],
        [
         "M'gladbach",
         2012,
         47,
         8
        ],
        [
         "Hannover",
         2012,
         45,
         9
        ],
        [
         "Nurnberg",
         2012,
         44,
         10
        ],
        [
         "Wolfsburg",
         2012,
         43,
         11
        ],
        [
         "Stuttgart",
         2012,
         43,
         12
        ],
        [
         "Mainz",
         2012,
         42,
         13
        ],
        [
         "Werder Bremen",
         2012,
         34,
         14
        ],
        [
         "Augsburg",
         2012,
         33,
         15
        ],
        [
         "Hoffenheim",
         2012,
         31,
         16
        ],
        [
         "Fortuna Dusseldorf",
         2012,
         30,
         17
        ],
        [
         "Greuther Furth",
         2012,
         21,
         18
        ],
        [
         "Bayern Munich",
         2013,
         90,
         1
        ],
        [
         "Dortmund",
         2013,
         71,
         2
        ],
        [
         "Schalke 04",
         2013,
         64,
         3
        ],
        [
         "Leverkusen",
         2013,
         61,
         4
        ],
        [
         "Wolfsburg",
         2013,
         60,
         5
        ],
        [
         "M'gladbach",
         2013,
         55,
         6
        ],
        [
         "Mainz",
         2013,
         53,
         7
        ],
        [
         "Augsburg",
         2013,
         52,
         8
        ],
        [
         "Hoffenheim",
         2013,
         44,
         9
        ],
        [
         "Hannover",
         2013,
         42,
         10
        ],
        [
         "Hertha",
         2013,
         41,
         11
        ],
        [
         "Werder Bremen",
         2013,
         39,
         12
        ],
        [
         "Freiburg",
         2013,
         36,
         13
        ],
        [
         "Ein Frankfurt",
         2013,
         36,
         14
        ],
        [
         "Stuttgart",
         2013,
         32,
         15
        ],
        [
         "Hamburg",
         2013,
         27,
         16
        ],
        [
         "Nurnberg",
         2013,
         26,
         17
        ],
        [
         "Braunschweig",
         2013,
         25,
         18
        ],
        [
         "Bayern Munich",
         2014,
         79,
         1
        ],
        [
         "Wolfsburg",
         2014,
         69,
         2
        ],
        [
         "M'gladbach",
         2014,
         66,
         3
        ],
        [
         "Leverkusen",
         2014,
         61,
         4
        ],
        [
         "Augsburg",
         2014,
         49,
         5
        ],
        [
         "Schalke 04",
         2014,
         48,
         6
        ],
        [
         "Dortmund",
         2014,
         46,
         7
        ],
        [
         "Hoffenheim",
         2014,
         44,
         8
        ],
        [
         "Ein Frankfurt",
         2014,
         43,
         9
        ],
        [
         "Werder Bremen",
         2014,
         43,
         10
        ],
        [
         "Mainz",
         2014,
         40,
         11
        ],
        [
         "FC Koln",
         2014,
         40,
         12
        ],
        [
         "Hannover",
         2014,
         37,
         13
        ],
        [
         "Stuttgart",
         2014,
         36,
         14
        ],
        [
         "Hertha",
         2014,
         35,
         15
        ],
        [
         "Hamburg",
         2014,
         35,
         16
        ],
        [
         "Freiburg",
         2014,
         34,
         17
        ],
        [
         "Paderborn",
         2014,
         31,
         18
        ],
        [
         "Bayern Munich",
         2015,
         88,
         1
        ],
        [
         "Dortmund",
         2015,
         78,
         2
        ],
        [
         "Leverkusen",
         2015,
         60,
         3
        ],
        [
         "M'gladbach",
         2015,
         55,
         4
        ],
        [
         "Schalke 04",
         2015,
         52,
         5
        ],
        [
         "Mainz",
         2015,
         50,
         6
        ],
        [
         "Hertha",
         2015,
         50,
         7
        ],
        [
         "Wolfsburg",
         2015,
         45,
         8
        ],
        [
         "FC Koln",
         2015,
         43,
         9
        ],
        [
         "Hamburg",
         2015,
         41,
         10
        ],
        [
         "Ingolstadt",
         2015,
         40,
         11
        ],
        [
         "Augsburg",
         2015,
         38,
         12
        ],
        [
         "Werder Bremen",
         2015,
         38,
         13
        ],
        [
         "Darmstadt",
         2015,
         38,
         14
        ],
        [
         "Hoffenheim",
         2015,
         37,
         15
        ],
        [
         "Ein Frankfurt",
         2015,
         36,
         16
        ],
        [
         "Stuttgart",
         2015,
         33,
         17
        ],
        [
         "Hannover",
         2015,
         25,
         18
        ],
        [
         "Bayern Munich",
         2016,
         82,
         1
        ],
        [
         "RB Leipzig",
         2016,
         67,
         2
        ],
        [
         "Dortmund",
         2016,
         64,
         3
        ],
        [
         "Hoffenheim",
         2016,
         62,
         4
        ],
        [
         "FC Koln",
         2016,
         49,
         5
        ],
        [
         "Hertha",
         2016,
         49,
         6
        ],
        [
         "Freiburg",
         2016,
         48,
         7
        ],
        [
         "M'gladbach",
         2016,
         45,
         8
        ],
        [
         "Werder Bremen",
         2016,
         45,
         9
        ],
        [
         "Schalke 04",
         2016,
         43,
         10
        ],
        [
         "Ein Frankfurt",
         2016,
         42,
         11
        ],
        [
         "Leverkusen",
         2016,
         41,
         12
        ],
        [
         "Augsburg",
         2016,
         38,
         13
        ],
        [
         "Hamburg",
         2016,
         38,
         14
        ],
        [
         "Mainz",
         2016,
         37,
         15
        ],
        [
         "Wolfsburg",
         2016,
         37,
         16
        ],
        [
         "Ingolstadt",
         2016,
         32,
         17
        ],
        [
         "Darmstadt",
         2016,
         25,
         18
        ]
       ],
       "datasetInfos": [],
       "dbfsResultPath": null,
       "isJsonSchema": true,
       "metadata": {},
       "overflow": false,
       "plotOptions": {
        "customPlotOptions": {},
        "displayType": "table",
        "pivotAggregation": null,
        "pivotColumns": null,
        "xColumns": null,
        "yColumns": null
       },
       "removedWidgets": [],
       "schema": [
        {
         "metadata": "{}",
         "name": "Team",
         "type": "\"string\""
        },
        {
         "metadata": "{}",
         "name": "Season",
         "type": "\"long\""
        },
        {
         "metadata": "{}",
         "name": "Total Points",
         "type": "\"long\""
        },
        {
         "metadata": "{}",
         "name": "Position",
         "type": "\"integer\""
        }
       ],
       "type": "table"
      }
     },
     "output_type": "display_data"
    },
    {
     "output_type": "stream",
     "name": "stdout",
     "output_type": "stream",
     "text": [
      "+--------+-------------+------+----------+----------+-----------+------------+\n|Position|         Team|Season|Home Goals|Away Goals|Total Goals|Total Points|\n+--------+-------------+------+----------+----------+-----------+------------+\n|       1|Bayern Munich|  2007|        41|        27|         68|          76|\n|       2|Werder Bremen|  2007|        48|        27|         75|          66|\n|       3|   Schalke 04|  2007|        29|        26|         55|          64|\n|       4|      Hamburg|  2007|        30|        17|         47|          54|\n|       5|    Wolfsburg|  2007|        28|        30|         58|          54|\n|       6|    Stuttgart|  2007|        39|        18|         57|          52|\n|       7|   Leverkusen|  2007|        32|        25|         57|          51|\n|       8|     Hannover|  2007|        32|        22|         54|          49|\n|       9|Ein Frankfurt|  2007|        24|        19|         43|          46|\n|      10|       Hertha|  2007|        21|        18|         39|          44|\n|      11|    Karlsruhe|  2007|        23|        15|         38|          43|\n|      12|       Bochum|  2007|        32|        16|         48|          41|\n|      13|     Dortmund|  2007|        29|        21|         50|          40|\n|      14|      Cottbus|  2007|        25|        10|         35|          36|\n|      15|    Bielefeld|  2007|        21|        14|         35|          34|\n|      16|     Nurnberg|  2007|        21|        14|         35|          31|\n|      17|Hansa Rostock|  2007|        17|        13|         30|          30|\n|      18|     Duisburg|  2007|        19|        17|         36|          29|\n|       1|    Wolfsburg|  2008|        51|        29|         80|          69|\n|       2|Bayern Munich|  2008|        45|        26|         71|          67|\n|       3|    Stuttgart|  2008|        34|        29|         63|          64|\n|       4|       Hertha|  2008|        29|        19|         48|          63|\n|       5|      Hamburg|  2008|        27|        22|         49|          61|\n|       6|     Dortmund|  2008|        34|        26|         60|          59|\n|       7|   Hoffenheim|  2008|        30|        33|         63|          55|\n|       8|   Schalke 04|  2008|        26|        21|         47|          50|\n|       9|   Leverkusen|  2008|        31|        28|         59|          49|\n|      10|Werder Bremen|  2008|        43|        21|         64|          45|\n|      11|     Hannover|  2008|        31|        18|         49|          40|\n|      12|      FC Koln|  2008|        14|        21|         35|          39|\n|      13|Ein Frankfurt|  2008|        26|        13|         39|          33|\n|      14|       Bochum|  2008|        23|        16|         39|          32|\n|      15|   M'gladbach|  2008|        23|        16|         39|          31|\n|      16|      Cottbus|  2008|        19|        11|         30|          30|\n|      17|    Karlsruhe|  2008|        18|        12|         30|          29|\n|      18|    Bielefeld|  2008|        16|        13|         29|          28|\n|       1|Bayern Munich|  2009|        39|        33|         72|          70|\n|       2|   Schalke 04|  2009|        29|        24|         53|          65|\n|       3|Werder Bremen|  2009|        34|        37|         71|          61|\n|       4|   Leverkusen|  2009|        37|        28|         65|          59|\n+--------+-------------+------+----------+----------+-----------+------------+\nonly showing top 40 rows\n\n"
     ]
    }
   ],
   "source": [
    "# Defines and orders the partition window by the Total Points and Season\n",
    "window = Window.partitionBy(\"Season\").orderBy(col(\"Total Points\").desc())\n",
    "\n",
    "# Adds the Column \"Position\" to dtClassification\n",
    "dtClassification = dtClassification.withColumn(\"Position\", row_number().over(window))\n",
    "\n",
    "# Show the Position column\n",
    "dtClassification.display(truncate=True)\n",
    "\n",
    "# Joins dtScoredGoals with dtClassification and orders by Season and Total Points in descending order\n",
    "dtFinalTable = dtScoredGoals.join(dtClassification, [\"Team\", \"Season\"]).orderBy(\"Season\", desc(\"Total Points\"))\n",
    "\n",
    "# Selects all columns from dtFinalTable except 'Position'\n",
    "columns = [c for c in dtFinalTable.columns if c != 'Position']\n",
    "\n",
    "# Reorders the columns with 'Position' as the first column\n",
    "dtFinalTable = dtFinalTable.select(col('Position'), *columns)\n",
    "\n",
    "# Displays the final table\n",
    "dtFinalTable.show(n=40)\n"
   ]
  }
 ],
 "metadata": {
  "application/vnd.databricks.v1+notebook": {
   "dashboards": [],
   "language": "python",
   "notebookMetadata": {
    "mostRecentlyExecutedCommandWithImplicitDF": {
     "commandId": 1611676617070739,
     "dataframes": [
      "_sqldf"
     ]
    },
    "pythonIndentUnit": 4
   },
   "notebookName": "Germany Football",
   "widgets": {}
  }
 },
 "nbformat": 4,
 "nbformat_minor": 0
}
